{
 "cells": [
  {
   "cell_type": "markdown",
   "metadata": {},
   "source": [
    "## Mini Project III"
   ]
  },
  {
   "cell_type": "markdown",
   "metadata": {},
   "source": [
    "### Import Libraries"
   ]
  },
  {
   "cell_type": "code",
   "execution_count": 187,
   "metadata": {},
   "outputs": [],
   "source": [
    "import numpy as np\n",
    "import pandas as pd\n",
    "import matplotlib.pyplot as plt\n",
    "import seaborn as sns"
   ]
  },
  {
   "cell_type": "code",
   "execution_count": 214,
   "metadata": {},
   "outputs": [],
   "source": [
    "#Read files:\n",
    "df = pd.read_csv(\"twm_customer.csv\")\n",
    "test = pd.read_csv(\"twm_customer.csv\",sep=',')"
   ]
  },
  {
   "cell_type": "code",
   "execution_count": 215,
   "metadata": {},
   "outputs": [
    {
     "data": {
      "text/html": [
       "<div>\n",
       "<style scoped>\n",
       "    .dataframe tbody tr th:only-of-type {\n",
       "        vertical-align: middle;\n",
       "    }\n",
       "\n",
       "    .dataframe tbody tr th {\n",
       "        vertical-align: top;\n",
       "    }\n",
       "\n",
       "    .dataframe thead th {\n",
       "        text-align: right;\n",
       "    }\n",
       "</style>\n",
       "<table border=\"1\" class=\"dataframe\">\n",
       "  <thead>\n",
       "    <tr style=\"text-align: right;\">\n",
       "      <th></th>\n",
       "      <th>cust_id;income;age;years_with_bank;nbr_children;gender;marital_status;name_prefix;first_name;last_name;street_nbr;street_name;postal_code;city_name;state_code</th>\n",
       "    </tr>\n",
       "  </thead>\n",
       "  <tbody>\n",
       "    <tr>\n",
       "      <th>0</th>\n",
       "      <td>1362691;26150;46;5;1;M ;2;        ;Donald     ...</td>\n",
       "    </tr>\n",
       "    <tr>\n",
       "      <th>1</th>\n",
       "      <td>1362487;6605;71;1;0;M ;2;        ;ChingDyi    ...</td>\n",
       "    </tr>\n",
       "    <tr>\n",
       "      <th>2</th>\n",
       "      <td>1363160;18548;38;8;0;F ;1;        ;Rosa       ...</td>\n",
       "    </tr>\n",
       "    <tr>\n",
       "      <th>3</th>\n",
       "      <td>1362752;47668;54;3;0;F ;1;        ;Lisa       ...</td>\n",
       "    </tr>\n",
       "    <tr>\n",
       "      <th>4</th>\n",
       "      <td>1362548;44554;59;9;2;F ;4;        ;Barbara    ...</td>\n",
       "    </tr>\n",
       "    <tr>\n",
       "      <th>...</th>\n",
       "      <td>...</td>\n",
       "    </tr>\n",
       "    <tr>\n",
       "      <th>742</th>\n",
       "      <td>1363324;14795;36;6;1;F ;4;        ;Lillian    ...</td>\n",
       "    </tr>\n",
       "    <tr>\n",
       "      <th>743</th>\n",
       "      <td>1362895;26387;56;6;1;M ;2;        ;Marty      ...</td>\n",
       "    </tr>\n",
       "    <tr>\n",
       "      <th>744</th>\n",
       "      <td>1362569;61300;50;0;2;M ;2;        ;Ken        ...</td>\n",
       "    </tr>\n",
       "    <tr>\n",
       "      <th>745</th>\n",
       "      <td>1363364;15100;37;7;0;F ;2;        ;Debbie     ...</td>\n",
       "    </tr>\n",
       "    <tr>\n",
       "      <th>746</th>\n",
       "      <td>1363303;17875;18;3;0;F ;1;        ;Molly      ...</td>\n",
       "    </tr>\n",
       "  </tbody>\n",
       "</table>\n",
       "<p>747 rows × 1 columns</p>\n",
       "</div>"
      ],
      "text/plain": [
       "    cust_id;income;age;years_with_bank;nbr_children;gender;marital_status;name_prefix;first_name;last_name;street_nbr;street_name;postal_code;city_name;state_code\n",
       "0    1362691;26150;46;5;1;M ;2;        ;Donald     ...                                                                                                            \n",
       "1    1362487;6605;71;1;0;M ;2;        ;ChingDyi    ...                                                                                                            \n",
       "2    1363160;18548;38;8;0;F ;1;        ;Rosa       ...                                                                                                            \n",
       "3    1362752;47668;54;3;0;F ;1;        ;Lisa       ...                                                                                                            \n",
       "4    1362548;44554;59;9;2;F ;4;        ;Barbara    ...                                                                                                            \n",
       "..                                                 ...                                                                                                            \n",
       "742  1363324;14795;36;6;1;F ;4;        ;Lillian    ...                                                                                                            \n",
       "743  1362895;26387;56;6;1;M ;2;        ;Marty      ...                                                                                                            \n",
       "744  1362569;61300;50;0;2;M ;2;        ;Ken        ...                                                                                                            \n",
       "745  1363364;15100;37;7;0;F ;2;        ;Debbie     ...                                                                                                            \n",
       "746  1363303;17875;18;3;0;F ;1;        ;Molly      ...                                                                                                            \n",
       "\n",
       "[747 rows x 1 columns]"
      ]
     },
     "execution_count": 215,
     "metadata": {},
     "output_type": "execute_result"
    }
   ],
   "source": [
    "test"
   ]
  },
  {
   "cell_type": "code",
   "execution_count": 216,
   "metadata": {},
   "outputs": [],
   "source": [
    "d2 = df.rename(columns={ df.columns[0]: \"whatever\" })"
   ]
  },
  {
   "cell_type": "code",
   "execution_count": 217,
   "metadata": {},
   "outputs": [
    {
     "data": {
      "text/html": [
       "<div>\n",
       "<style scoped>\n",
       "    .dataframe tbody tr th:only-of-type {\n",
       "        vertical-align: middle;\n",
       "    }\n",
       "\n",
       "    .dataframe tbody tr th {\n",
       "        vertical-align: top;\n",
       "    }\n",
       "\n",
       "    .dataframe thead th {\n",
       "        text-align: right;\n",
       "    }\n",
       "</style>\n",
       "<table border=\"1\" class=\"dataframe\">\n",
       "  <thead>\n",
       "    <tr style=\"text-align: right;\">\n",
       "      <th></th>\n",
       "      <th>whatever</th>\n",
       "    </tr>\n",
       "  </thead>\n",
       "  <tbody>\n",
       "    <tr>\n",
       "      <th>0</th>\n",
       "      <td>1362691;26150;46;5;1;M ;2;        ;Donald     ...</td>\n",
       "    </tr>\n",
       "    <tr>\n",
       "      <th>1</th>\n",
       "      <td>1362487;6605;71;1;0;M ;2;        ;ChingDyi    ...</td>\n",
       "    </tr>\n",
       "    <tr>\n",
       "      <th>2</th>\n",
       "      <td>1363160;18548;38;8;0;F ;1;        ;Rosa       ...</td>\n",
       "    </tr>\n",
       "    <tr>\n",
       "      <th>3</th>\n",
       "      <td>1362752;47668;54;3;0;F ;1;        ;Lisa       ...</td>\n",
       "    </tr>\n",
       "    <tr>\n",
       "      <th>4</th>\n",
       "      <td>1362548;44554;59;9;2;F ;4;        ;Barbara    ...</td>\n",
       "    </tr>\n",
       "    <tr>\n",
       "      <th>...</th>\n",
       "      <td>...</td>\n",
       "    </tr>\n",
       "    <tr>\n",
       "      <th>742</th>\n",
       "      <td>1363324;14795;36;6;1;F ;4;        ;Lillian    ...</td>\n",
       "    </tr>\n",
       "    <tr>\n",
       "      <th>743</th>\n",
       "      <td>1362895;26387;56;6;1;M ;2;        ;Marty      ...</td>\n",
       "    </tr>\n",
       "    <tr>\n",
       "      <th>744</th>\n",
       "      <td>1362569;61300;50;0;2;M ;2;        ;Ken        ...</td>\n",
       "    </tr>\n",
       "    <tr>\n",
       "      <th>745</th>\n",
       "      <td>1363364;15100;37;7;0;F ;2;        ;Debbie     ...</td>\n",
       "    </tr>\n",
       "    <tr>\n",
       "      <th>746</th>\n",
       "      <td>1363303;17875;18;3;0;F ;1;        ;Molly      ...</td>\n",
       "    </tr>\n",
       "  </tbody>\n",
       "</table>\n",
       "<p>747 rows × 1 columns</p>\n",
       "</div>"
      ],
      "text/plain": [
       "                                              whatever\n",
       "0    1362691;26150;46;5;1;M ;2;        ;Donald     ...\n",
       "1    1362487;6605;71;1;0;M ;2;        ;ChingDyi    ...\n",
       "2    1363160;18548;38;8;0;F ;1;        ;Rosa       ...\n",
       "3    1362752;47668;54;3;0;F ;1;        ;Lisa       ...\n",
       "4    1362548;44554;59;9;2;F ;4;        ;Barbara    ...\n",
       "..                                                 ...\n",
       "742  1363324;14795;36;6;1;F ;4;        ;Lillian    ...\n",
       "743  1362895;26387;56;6;1;M ;2;        ;Marty      ...\n",
       "744  1362569;61300;50;0;2;M ;2;        ;Ken        ...\n",
       "745  1363364;15100;37;7;0;F ;2;        ;Debbie     ...\n",
       "746  1363303;17875;18;3;0;F ;1;        ;Molly      ...\n",
       "\n",
       "[747 rows x 1 columns]"
      ]
     },
     "execution_count": 217,
     "metadata": {},
     "output_type": "execute_result"
    }
   ],
   "source": [
    "d2"
   ]
  },
  {
   "cell_type": "code",
   "execution_count": null,
   "metadata": {},
   "outputs": [],
   "source": []
  },
  {
   "cell_type": "code",
   "execution_count": 218,
   "metadata": {},
   "outputs": [
    {
     "data": {
      "text/plain": [
       "0      [1362691, 26150, 46, 5, 1, M , 2,         , Do...\n",
       "1      [1362487, 6605, 71, 1, 0, M , 2,         , Chi...\n",
       "2      [1363160, 18548, 38, 8, 0, F , 1,         , Ro...\n",
       "3      [1362752, 47668, 54, 3, 0, F , 1,         , Li...\n",
       "4      [1362548, 44554, 59, 9, 2, F , 4,         , Ba...\n",
       "                             ...                        \n",
       "742    [1363324, 14795, 36, 6, 1, F , 4,         , Li...\n",
       "743    [1362895, 26387, 56, 6, 1, M , 2,         , Ma...\n",
       "744    [1362569, 61300, 50, 0, 2, M , 2,         , Ke...\n",
       "745    [1363364, 15100, 37, 7, 0, F , 2,         , De...\n",
       "746    [1363303, 17875, 18, 3, 0, F , 1,         , Mo...\n",
       "Name: whatever, Length: 747, dtype: object"
      ]
     },
     "execution_count": 218,
     "metadata": {},
     "output_type": "execute_result"
    }
   ],
   "source": [
    "d2[\"whatever\"].str.split(\";\")"
   ]
  },
  {
   "cell_type": "code",
   "execution_count": 219,
   "metadata": {},
   "outputs": [],
   "source": [
    "d3 = d2[\"whatever\"].str.split(\";\", expand=True)\n"
   ]
  },
  {
   "cell_type": "code",
   "execution_count": 220,
   "metadata": {},
   "outputs": [
    {
     "data": {
      "text/html": [
       "<div>\n",
       "<style scoped>\n",
       "    .dataframe tbody tr th:only-of-type {\n",
       "        vertical-align: middle;\n",
       "    }\n",
       "\n",
       "    .dataframe tbody tr th {\n",
       "        vertical-align: top;\n",
       "    }\n",
       "\n",
       "    .dataframe thead th {\n",
       "        text-align: right;\n",
       "    }\n",
       "</style>\n",
       "<table border=\"1\" class=\"dataframe\">\n",
       "  <thead>\n",
       "    <tr style=\"text-align: right;\">\n",
       "      <th></th>\n",
       "      <th>0</th>\n",
       "      <th>1</th>\n",
       "      <th>2</th>\n",
       "      <th>3</th>\n",
       "      <th>4</th>\n",
       "      <th>5</th>\n",
       "      <th>6</th>\n",
       "      <th>7</th>\n",
       "      <th>8</th>\n",
       "      <th>9</th>\n",
       "      <th>10</th>\n",
       "      <th>11</th>\n",
       "      <th>12</th>\n",
       "      <th>13</th>\n",
       "      <th>14</th>\n",
       "    </tr>\n",
       "  </thead>\n",
       "  <tbody>\n",
       "    <tr>\n",
       "      <th>0</th>\n",
       "      <td>1362691</td>\n",
       "      <td>26150</td>\n",
       "      <td>46</td>\n",
       "      <td>5</td>\n",
       "      <td>1</td>\n",
       "      <td>M</td>\n",
       "      <td>2</td>\n",
       "      <td></td>\n",
       "      <td>Donald                                        ...</td>\n",
       "      <td>Marek                                         ...</td>\n",
       "      <td>8298</td>\n",
       "      <td>Second                                        ...</td>\n",
       "      <td>89194</td>\n",
       "      <td>Las Vegas</td>\n",
       "      <td>NV</td>\n",
       "    </tr>\n",
       "    <tr>\n",
       "      <th>1</th>\n",
       "      <td>1362487</td>\n",
       "      <td>6605</td>\n",
       "      <td>71</td>\n",
       "      <td>1</td>\n",
       "      <td>0</td>\n",
       "      <td>M</td>\n",
       "      <td>2</td>\n",
       "      <td></td>\n",
       "      <td>ChingDyi                                      ...</td>\n",
       "      <td>Moussavi                                      ...</td>\n",
       "      <td>10603</td>\n",
       "      <td>Daffodil                                      ...</td>\n",
       "      <td>90159</td>\n",
       "      <td>Los Angeles</td>\n",
       "      <td>CA</td>\n",
       "    </tr>\n",
       "    <tr>\n",
       "      <th>2</th>\n",
       "      <td>1363160</td>\n",
       "      <td>18548</td>\n",
       "      <td>38</td>\n",
       "      <td>8</td>\n",
       "      <td>0</td>\n",
       "      <td>F</td>\n",
       "      <td>1</td>\n",
       "      <td></td>\n",
       "      <td>Rosa                                          ...</td>\n",
       "      <td>Johnston                                      ...</td>\n",
       "      <td>8817</td>\n",
       "      <td>Figueroa                                      ...</td>\n",
       "      <td>90024</td>\n",
       "      <td>Los Angeles</td>\n",
       "      <td>CA</td>\n",
       "    </tr>\n",
       "    <tr>\n",
       "      <th>3</th>\n",
       "      <td>1362752</td>\n",
       "      <td>47668</td>\n",
       "      <td>54</td>\n",
       "      <td>3</td>\n",
       "      <td>0</td>\n",
       "      <td>F</td>\n",
       "      <td>1</td>\n",
       "      <td></td>\n",
       "      <td>Lisa                                          ...</td>\n",
       "      <td>Martin                                        ...</td>\n",
       "      <td>676</td>\n",
       "      <td>Humble                                        ...</td>\n",
       "      <td>90172</td>\n",
       "      <td>Los Angeles</td>\n",
       "      <td>CA</td>\n",
       "    </tr>\n",
       "    <tr>\n",
       "      <th>4</th>\n",
       "      <td>1362548</td>\n",
       "      <td>44554</td>\n",
       "      <td>59</td>\n",
       "      <td>9</td>\n",
       "      <td>2</td>\n",
       "      <td>F</td>\n",
       "      <td>4</td>\n",
       "      <td></td>\n",
       "      <td>Barbara                                       ...</td>\n",
       "      <td>O'Malley                                      ...</td>\n",
       "      <td>6578</td>\n",
       "      <td>C                                             ...</td>\n",
       "      <td>10138</td>\n",
       "      <td>New York City</td>\n",
       "      <td>NY</td>\n",
       "    </tr>\n",
       "    <tr>\n",
       "      <th>...</th>\n",
       "      <td>...</td>\n",
       "      <td>...</td>\n",
       "      <td>...</td>\n",
       "      <td>...</td>\n",
       "      <td>...</td>\n",
       "      <td>...</td>\n",
       "      <td>...</td>\n",
       "      <td>...</td>\n",
       "      <td>...</td>\n",
       "      <td>...</td>\n",
       "      <td>...</td>\n",
       "      <td>...</td>\n",
       "      <td>...</td>\n",
       "      <td>...</td>\n",
       "      <td>...</td>\n",
       "    </tr>\n",
       "    <tr>\n",
       "      <th>742</th>\n",
       "      <td>1363324</td>\n",
       "      <td>14795</td>\n",
       "      <td>36</td>\n",
       "      <td>6</td>\n",
       "      <td>1</td>\n",
       "      <td>F</td>\n",
       "      <td>4</td>\n",
       "      <td></td>\n",
       "      <td>Lillian                                       ...</td>\n",
       "      <td>Kaufman                                       ...</td>\n",
       "      <td>9677</td>\n",
       "      <td>B                                             ...</td>\n",
       "      <td>90016</td>\n",
       "      <td>Los Angeles</td>\n",
       "      <td>CA</td>\n",
       "    </tr>\n",
       "    <tr>\n",
       "      <th>743</th>\n",
       "      <td>1362895</td>\n",
       "      <td>26387</td>\n",
       "      <td>56</td>\n",
       "      <td>6</td>\n",
       "      <td>1</td>\n",
       "      <td>M</td>\n",
       "      <td>2</td>\n",
       "      <td></td>\n",
       "      <td>Marty                                         ...</td>\n",
       "      <td>McSherry                                      ...</td>\n",
       "      <td>3227</td>\n",
       "      <td>Inspiration                                   ...</td>\n",
       "      <td>10126</td>\n",
       "      <td>New York City</td>\n",
       "      <td>NY</td>\n",
       "    </tr>\n",
       "    <tr>\n",
       "      <th>744</th>\n",
       "      <td>1362569</td>\n",
       "      <td>61300</td>\n",
       "      <td>50</td>\n",
       "      <td>0</td>\n",
       "      <td>2</td>\n",
       "      <td>M</td>\n",
       "      <td>2</td>\n",
       "      <td></td>\n",
       "      <td>Ken                                           ...</td>\n",
       "      <td>Lawrence                                      ...</td>\n",
       "      <td>6082</td>\n",
       "      <td>23rd                                          ...</td>\n",
       "      <td>87194</td>\n",
       "      <td>Albuquerque</td>\n",
       "      <td>NM</td>\n",
       "    </tr>\n",
       "    <tr>\n",
       "      <th>745</th>\n",
       "      <td>1363364</td>\n",
       "      <td>15100</td>\n",
       "      <td>37</td>\n",
       "      <td>7</td>\n",
       "      <td>0</td>\n",
       "      <td>F</td>\n",
       "      <td>2</td>\n",
       "      <td></td>\n",
       "      <td>Debbie                                        ...</td>\n",
       "      <td>Runner                                        ...</td>\n",
       "      <td>7851</td>\n",
       "      <td>H                                             ...</td>\n",
       "      <td>35241</td>\n",
       "      <td>Birmingham</td>\n",
       "      <td>AL</td>\n",
       "    </tr>\n",
       "    <tr>\n",
       "      <th>746</th>\n",
       "      <td>1363303</td>\n",
       "      <td>17875</td>\n",
       "      <td>18</td>\n",
       "      <td>3</td>\n",
       "      <td>0</td>\n",
       "      <td>F</td>\n",
       "      <td>1</td>\n",
       "      <td></td>\n",
       "      <td>Molly                                         ...</td>\n",
       "      <td>Potter                                        ...</td>\n",
       "      <td>7824</td>\n",
       "      <td>E                                             ...</td>\n",
       "      <td>90029</td>\n",
       "      <td>Los Angeles</td>\n",
       "      <td>CA</td>\n",
       "    </tr>\n",
       "  </tbody>\n",
       "</table>\n",
       "<p>747 rows × 15 columns</p>\n",
       "</div>"
      ],
      "text/plain": [
       "           0      1   2  3  4   5  6         7  \\\n",
       "0    1362691  26150  46  5  1  M   2             \n",
       "1    1362487   6605  71  1  0  M   2             \n",
       "2    1363160  18548  38  8  0  F   1             \n",
       "3    1362752  47668  54  3  0  F   1             \n",
       "4    1362548  44554  59  9  2  F   4             \n",
       "..       ...    ...  .. .. ..  .. ..       ...   \n",
       "742  1363324  14795  36  6  1  F   4             \n",
       "743  1362895  26387  56  6  1  M   2             \n",
       "744  1362569  61300  50  0  2  M   2             \n",
       "745  1363364  15100  37  7  0  F   2             \n",
       "746  1363303  17875  18  3  0  F   1             \n",
       "\n",
       "                                                     8  \\\n",
       "0    Donald                                        ...   \n",
       "1    ChingDyi                                      ...   \n",
       "2    Rosa                                          ...   \n",
       "3    Lisa                                          ...   \n",
       "4    Barbara                                       ...   \n",
       "..                                                 ...   \n",
       "742  Lillian                                       ...   \n",
       "743  Marty                                         ...   \n",
       "744  Ken                                           ...   \n",
       "745  Debbie                                        ...   \n",
       "746  Molly                                         ...   \n",
       "\n",
       "                                                     9     10  \\\n",
       "0    Marek                                         ...   8298   \n",
       "1    Moussavi                                      ...  10603   \n",
       "2    Johnston                                      ...   8817   \n",
       "3    Martin                                        ...    676   \n",
       "4    O'Malley                                      ...   6578   \n",
       "..                                                 ...    ...   \n",
       "742  Kaufman                                       ...   9677   \n",
       "743  McSherry                                      ...   3227   \n",
       "744  Lawrence                                      ...   6082   \n",
       "745  Runner                                        ...   7851   \n",
       "746  Potter                                        ...   7824   \n",
       "\n",
       "                                                    11     12  \\\n",
       "0    Second                                        ...  89194   \n",
       "1    Daffodil                                      ...  90159   \n",
       "2    Figueroa                                      ...  90024   \n",
       "3    Humble                                        ...  90172   \n",
       "4    C                                             ...  10138   \n",
       "..                                                 ...    ...   \n",
       "742  B                                             ...  90016   \n",
       "743  Inspiration                                   ...  10126   \n",
       "744  23rd                                          ...  87194   \n",
       "745  H                                             ...  35241   \n",
       "746  E                                             ...  90029   \n",
       "\n",
       "                                           13    14  \n",
       "0    Las Vegas                                 NV    \n",
       "1    Los Angeles                               CA    \n",
       "2    Los Angeles                               CA    \n",
       "3    Los Angeles                               CA    \n",
       "4    New York City                             NY    \n",
       "..                                        ...   ...  \n",
       "742  Los Angeles                               CA    \n",
       "743  New York City                             NY    \n",
       "744  Albuquerque                               NM    \n",
       "745  Birmingham                                AL    \n",
       "746  Los Angeles                               CA    \n",
       "\n",
       "[747 rows x 15 columns]"
      ]
     },
     "execution_count": 220,
     "metadata": {},
     "output_type": "execute_result"
    }
   ],
   "source": [
    "d3"
   ]
  },
  {
   "cell_type": "code",
   "execution_count": 221,
   "metadata": {},
   "outputs": [],
   "source": [
    "#######Rename columns \n",
    "d3.rename(columns={0: 'cust_id', 1: 'income'}, inplace=True)\n",
    "d3.rename(columns={2: 'age', 3: 'years_with_bank'}, inplace=True)\n",
    "d3.rename(columns={4: 'nbr_children', 5: 'gender'}, inplace=True)\n",
    "d3.rename(columns={6: 'marital_status', 7: 'name_prefix'}, inplace=True)\n",
    "d3.rename(columns={8: 'first_name', 9: 'last_name'}, inplace=True)\n",
    "d3.rename(columns={10: 'street_nbr', 11: 'street_name'}, inplace=True)\n",
    "d3.rename(columns={12: 'postal_code', 13: 'city_name'}, inplace=True)\n",
    "d3.rename(columns={14: 'state_code'}, inplace=True)\n",
    "\n",
    "\n"
   ]
  },
  {
   "cell_type": "code",
   "execution_count": 224,
   "metadata": {},
   "outputs": [],
   "source": []
  },
  {
   "cell_type": "code",
   "execution_count": 234,
   "metadata": {},
   "outputs": [
    {
     "name": "stderr",
     "output_type": "stream",
     "text": [
      "<ipython-input-234-219717f242df>:1: SettingWithCopyWarning:\n",
      "\n",
      "\n",
      "A value is trying to be set on a copy of a slice from a DataFrame.\n",
      "Try using .loc[row_indexer,col_indexer] = value instead\n",
      "\n",
      "See the caveats in the documentation: https://pandas.pydata.org/pandas-docs/stable/user_guide/indexing.html#returning-a-view-versus-a-copy\n",
      "\n"
     ]
    }
   ],
   "source": [
    "\n"
   ]
  },
  {
   "cell_type": "code",
   "execution_count": 235,
   "metadata": {},
   "outputs": [
    {
     "data": {
      "text/html": [
       "<div>\n",
       "<style scoped>\n",
       "    .dataframe tbody tr th:only-of-type {\n",
       "        vertical-align: middle;\n",
       "    }\n",
       "\n",
       "    .dataframe tbody tr th {\n",
       "        vertical-align: top;\n",
       "    }\n",
       "\n",
       "    .dataframe thead th {\n",
       "        text-align: right;\n",
       "    }\n",
       "</style>\n",
       "<table border=\"1\" class=\"dataframe\">\n",
       "  <thead>\n",
       "    <tr style=\"text-align: right;\">\n",
       "      <th></th>\n",
       "      <th>income</th>\n",
       "      <th>age</th>\n",
       "      <th>years_with_bank</th>\n",
       "      <th>nbr_children</th>\n",
       "      <th>marital_status</th>\n",
       "      <th>gender</th>\n",
       "      <th>GenderDummy_F</th>\n",
       "    </tr>\n",
       "  </thead>\n",
       "  <tbody>\n",
       "    <tr>\n",
       "      <th>0</th>\n",
       "      <td>26150</td>\n",
       "      <td>46</td>\n",
       "      <td>5</td>\n",
       "      <td>1</td>\n",
       "      <td>2</td>\n",
       "      <td>M</td>\n",
       "      <td>0</td>\n",
       "    </tr>\n",
       "    <tr>\n",
       "      <th>1</th>\n",
       "      <td>6605</td>\n",
       "      <td>71</td>\n",
       "      <td>1</td>\n",
       "      <td>0</td>\n",
       "      <td>2</td>\n",
       "      <td>M</td>\n",
       "      <td>0</td>\n",
       "    </tr>\n",
       "    <tr>\n",
       "      <th>2</th>\n",
       "      <td>18548</td>\n",
       "      <td>38</td>\n",
       "      <td>8</td>\n",
       "      <td>0</td>\n",
       "      <td>1</td>\n",
       "      <td>F</td>\n",
       "      <td>0</td>\n",
       "    </tr>\n",
       "    <tr>\n",
       "      <th>3</th>\n",
       "      <td>47668</td>\n",
       "      <td>54</td>\n",
       "      <td>3</td>\n",
       "      <td>0</td>\n",
       "      <td>1</td>\n",
       "      <td>F</td>\n",
       "      <td>0</td>\n",
       "    </tr>\n",
       "    <tr>\n",
       "      <th>4</th>\n",
       "      <td>44554</td>\n",
       "      <td>59</td>\n",
       "      <td>9</td>\n",
       "      <td>2</td>\n",
       "      <td>4</td>\n",
       "      <td>F</td>\n",
       "      <td>0</td>\n",
       "    </tr>\n",
       "    <tr>\n",
       "      <th>...</th>\n",
       "      <td>...</td>\n",
       "      <td>...</td>\n",
       "      <td>...</td>\n",
       "      <td>...</td>\n",
       "      <td>...</td>\n",
       "      <td>...</td>\n",
       "      <td>...</td>\n",
       "    </tr>\n",
       "    <tr>\n",
       "      <th>742</th>\n",
       "      <td>14795</td>\n",
       "      <td>36</td>\n",
       "      <td>6</td>\n",
       "      <td>1</td>\n",
       "      <td>4</td>\n",
       "      <td>F</td>\n",
       "      <td>0</td>\n",
       "    </tr>\n",
       "    <tr>\n",
       "      <th>743</th>\n",
       "      <td>26387</td>\n",
       "      <td>56</td>\n",
       "      <td>6</td>\n",
       "      <td>1</td>\n",
       "      <td>2</td>\n",
       "      <td>M</td>\n",
       "      <td>0</td>\n",
       "    </tr>\n",
       "    <tr>\n",
       "      <th>744</th>\n",
       "      <td>61300</td>\n",
       "      <td>50</td>\n",
       "      <td>0</td>\n",
       "      <td>2</td>\n",
       "      <td>2</td>\n",
       "      <td>M</td>\n",
       "      <td>0</td>\n",
       "    </tr>\n",
       "    <tr>\n",
       "      <th>745</th>\n",
       "      <td>15100</td>\n",
       "      <td>37</td>\n",
       "      <td>7</td>\n",
       "      <td>0</td>\n",
       "      <td>2</td>\n",
       "      <td>F</td>\n",
       "      <td>0</td>\n",
       "    </tr>\n",
       "    <tr>\n",
       "      <th>746</th>\n",
       "      <td>17875</td>\n",
       "      <td>18</td>\n",
       "      <td>3</td>\n",
       "      <td>0</td>\n",
       "      <td>1</td>\n",
       "      <td>F</td>\n",
       "      <td>0</td>\n",
       "    </tr>\n",
       "  </tbody>\n",
       "</table>\n",
       "<p>747 rows × 7 columns</p>\n",
       "</div>"
      ],
      "text/plain": [
       "    income age years_with_bank nbr_children marital_status gender  \\\n",
       "0    26150  46               5            1              2     M    \n",
       "1     6605  71               1            0              2     M    \n",
       "2    18548  38               8            0              1     F    \n",
       "3    47668  54               3            0              1     F    \n",
       "4    44554  59               9            2              4     F    \n",
       "..     ...  ..             ...          ...            ...    ...   \n",
       "742  14795  36               6            1              4     F    \n",
       "743  26387  56               6            1              2     M    \n",
       "744  61300  50               0            2              2     M    \n",
       "745  15100  37               7            0              2     F    \n",
       "746  17875  18               3            0              1     F    \n",
       "\n",
       "     GenderDummy_F  \n",
       "0                0  \n",
       "1                0  \n",
       "2                0  \n",
       "3                0  \n",
       "4                0  \n",
       "..             ...  \n",
       "742              0  \n",
       "743              0  \n",
       "744              0  \n",
       "745              0  \n",
       "746              0  \n",
       "\n",
       "[747 rows x 7 columns]"
      ]
     },
     "execution_count": 235,
     "metadata": {},
     "output_type": "execute_result"
    }
   ],
   "source": [
    "data_demos"
   ]
  },
  {
   "cell_type": "code",
   "execution_count": 231,
   "metadata": {},
   "outputs": [
    {
     "name": "stderr",
     "output_type": "stream",
     "text": [
      "<ipython-input-231-02b3017adc28>:1: SettingWithCopyWarning:\n",
      "\n",
      "\n",
      "A value is trying to be set on a copy of a slice from a DataFrame\n",
      "\n",
      "See the caveats in the documentation: https://pandas.pydata.org/pandas-docs/stable/user_guide/indexing.html#returning-a-view-versus-a-copy\n",
      "\n"
     ]
    },
    {
     "ename": "ValueError",
     "evalue": "Cannot setitem on a Categorical with a new category, set the categories first",
     "output_type": "error",
     "traceback": [
      "\u001b[1;31m---------------------------------------------------------------------------\u001b[0m",
      "\u001b[1;31mTypeError\u001b[0m                                 Traceback (most recent call last)",
      "\u001b[1;32m~\\anaconda3\\lib\\site-packages\\pandas\\core\\series.py\u001b[0m in \u001b[0;36m__setitem__\u001b[1;34m(self, key, value)\u001b[0m\n\u001b[0;32m   1013\u001b[0m         \u001b[1;32mtry\u001b[0m\u001b[1;33m:\u001b[0m\u001b[1;33m\u001b[0m\u001b[1;33m\u001b[0m\u001b[0m\n\u001b[1;32m-> 1014\u001b[1;33m             \u001b[0mself\u001b[0m\u001b[1;33m.\u001b[0m\u001b[0m_set_with_engine\u001b[0m\u001b[1;33m(\u001b[0m\u001b[0mkey\u001b[0m\u001b[1;33m,\u001b[0m \u001b[0mvalue\u001b[0m\u001b[1;33m)\u001b[0m\u001b[1;33m\u001b[0m\u001b[1;33m\u001b[0m\u001b[0m\n\u001b[0m\u001b[0;32m   1015\u001b[0m         \u001b[1;32mexcept\u001b[0m \u001b[0mcom\u001b[0m\u001b[1;33m.\u001b[0m\u001b[0mSettingWithCopyError\u001b[0m\u001b[1;33m:\u001b[0m\u001b[1;33m\u001b[0m\u001b[1;33m\u001b[0m\u001b[0m\n",
      "\u001b[1;32m~\\anaconda3\\lib\\site-packages\\pandas\\core\\series.py\u001b[0m in \u001b[0;36m_set_with_engine\u001b[1;34m(self, key, value)\u001b[0m\n\u001b[0;32m   1050\u001b[0m             \u001b[1;31m# The cython indexing engine does not support ExtensionArrays.\u001b[0m\u001b[1;33m\u001b[0m\u001b[1;33m\u001b[0m\u001b[1;33m\u001b[0m\u001b[0m\n\u001b[1;32m-> 1051\u001b[1;33m             \u001b[0mvalues\u001b[0m\u001b[1;33m[\u001b[0m\u001b[0mself\u001b[0m\u001b[1;33m.\u001b[0m\u001b[0mindex\u001b[0m\u001b[1;33m.\u001b[0m\u001b[0mget_loc\u001b[0m\u001b[1;33m(\u001b[0m\u001b[0mkey\u001b[0m\u001b[1;33m)\u001b[0m\u001b[1;33m]\u001b[0m \u001b[1;33m=\u001b[0m \u001b[0mvalue\u001b[0m\u001b[1;33m\u001b[0m\u001b[1;33m\u001b[0m\u001b[0m\n\u001b[0m\u001b[0;32m   1052\u001b[0m             \u001b[1;32mreturn\u001b[0m\u001b[1;33m\u001b[0m\u001b[1;33m\u001b[0m\u001b[0m\n",
      "\u001b[1;32m~\\anaconda3\\lib\\site-packages\\pandas\\core\\indexes\\range.py\u001b[0m in \u001b[0;36mget_loc\u001b[1;34m(self, key, method, tolerance)\u001b[0m\n\u001b[0;32m    352\u001b[0m                 \u001b[1;32mraise\u001b[0m \u001b[0mKeyError\u001b[0m\u001b[1;33m(\u001b[0m\u001b[0mkey\u001b[0m\u001b[1;33m)\u001b[0m\u001b[1;33m\u001b[0m\u001b[1;33m\u001b[0m\u001b[0m\n\u001b[1;32m--> 353\u001b[1;33m         \u001b[1;32mreturn\u001b[0m \u001b[0msuper\u001b[0m\u001b[1;33m(\u001b[0m\u001b[1;33m)\u001b[0m\u001b[1;33m.\u001b[0m\u001b[0mget_loc\u001b[0m\u001b[1;33m(\u001b[0m\u001b[0mkey\u001b[0m\u001b[1;33m,\u001b[0m \u001b[0mmethod\u001b[0m\u001b[1;33m=\u001b[0m\u001b[0mmethod\u001b[0m\u001b[1;33m,\u001b[0m \u001b[0mtolerance\u001b[0m\u001b[1;33m=\u001b[0m\u001b[0mtolerance\u001b[0m\u001b[1;33m)\u001b[0m\u001b[1;33m\u001b[0m\u001b[1;33m\u001b[0m\u001b[0m\n\u001b[0m\u001b[0;32m    354\u001b[0m \u001b[1;33m\u001b[0m\u001b[0m\n",
      "\u001b[1;32m~\\anaconda3\\lib\\site-packages\\pandas\\core\\indexes\\base.py\u001b[0m in \u001b[0;36mget_loc\u001b[1;34m(self, key, method, tolerance)\u001b[0m\n\u001b[0;32m   2645\u001b[0m             \u001b[1;32mtry\u001b[0m\u001b[1;33m:\u001b[0m\u001b[1;33m\u001b[0m\u001b[1;33m\u001b[0m\u001b[0m\n\u001b[1;32m-> 2646\u001b[1;33m                 \u001b[1;32mreturn\u001b[0m \u001b[0mself\u001b[0m\u001b[1;33m.\u001b[0m\u001b[0m_engine\u001b[0m\u001b[1;33m.\u001b[0m\u001b[0mget_loc\u001b[0m\u001b[1;33m(\u001b[0m\u001b[0mkey\u001b[0m\u001b[1;33m)\u001b[0m\u001b[1;33m\u001b[0m\u001b[1;33m\u001b[0m\u001b[0m\n\u001b[0m\u001b[0;32m   2647\u001b[0m             \u001b[1;32mexcept\u001b[0m \u001b[0mKeyError\u001b[0m\u001b[1;33m:\u001b[0m\u001b[1;33m\u001b[0m\u001b[1;33m\u001b[0m\u001b[0m\n",
      "\u001b[1;32mpandas\\_libs\\index.pyx\u001b[0m in \u001b[0;36mpandas._libs.index.IndexEngine.get_loc\u001b[1;34m()\u001b[0m\n",
      "\u001b[1;32mpandas\\_libs\\index.pyx\u001b[0m in \u001b[0;36mpandas._libs.index.IndexEngine.get_loc\u001b[1;34m()\u001b[0m\n",
      "\u001b[1;31mTypeError\u001b[0m: '0      False\n1      False\n2      False\n3      False\n4      False\n       ...  \n742    False\n743    False\n744    False\n745    False\n746    False\nName: gender, Length: 747, dtype: bool' is an invalid key",
      "\nDuring handling of the above exception, another exception occurred:\n",
      "\u001b[1;31mValueError\u001b[0m                                Traceback (most recent call last)",
      "\u001b[1;32m<ipython-input-231-02b3017adc28>\u001b[0m in \u001b[0;36m<module>\u001b[1;34m\u001b[0m\n\u001b[1;32m----> 1\u001b[1;33m \u001b[0mdata_demos\u001b[0m\u001b[1;33m.\u001b[0m\u001b[0mgender\u001b[0m\u001b[1;33m[\u001b[0m\u001b[0mdata_demos\u001b[0m\u001b[1;33m.\u001b[0m\u001b[0mgender\u001b[0m \u001b[1;33m==\u001b[0m \u001b[1;34m'M'\u001b[0m\u001b[1;33m]\u001b[0m \u001b[1;33m=\u001b[0m \u001b[1;36m1\u001b[0m\u001b[1;33m\u001b[0m\u001b[1;33m\u001b[0m\u001b[0m\n\u001b[0m\u001b[0;32m      2\u001b[0m \u001b[0mdata_demos\u001b[0m\u001b[1;33m.\u001b[0m\u001b[0mgender\u001b[0m\u001b[1;33m[\u001b[0m\u001b[0mdata_demos\u001b[0m\u001b[1;33m.\u001b[0m\u001b[0mgender\u001b[0m \u001b[1;33m==\u001b[0m \u001b[1;34m'F'\u001b[0m\u001b[1;33m]\u001b[0m \u001b[1;33m=\u001b[0m \u001b[1;36m2\u001b[0m\u001b[1;33m\u001b[0m\u001b[1;33m\u001b[0m\u001b[0m\n",
      "\u001b[1;32m~\\anaconda3\\lib\\site-packages\\pandas\\core\\series.py\u001b[0m in \u001b[0;36m__setitem__\u001b[1;34m(self, key, value)\u001b[0m\n\u001b[0;32m   1035\u001b[0m                 \u001b[0mkey\u001b[0m \u001b[1;33m=\u001b[0m \u001b[0mcheck_bool_indexer\u001b[0m\u001b[1;33m(\u001b[0m\u001b[0mself\u001b[0m\u001b[1;33m.\u001b[0m\u001b[0mindex\u001b[0m\u001b[1;33m,\u001b[0m \u001b[0mkey\u001b[0m\u001b[1;33m)\u001b[0m\u001b[1;33m\u001b[0m\u001b[1;33m\u001b[0m\u001b[0m\n\u001b[0;32m   1036\u001b[0m                 \u001b[1;32mtry\u001b[0m\u001b[1;33m:\u001b[0m\u001b[1;33m\u001b[0m\u001b[1;33m\u001b[0m\u001b[0m\n\u001b[1;32m-> 1037\u001b[1;33m                     \u001b[0mself\u001b[0m\u001b[1;33m.\u001b[0m\u001b[0m_where\u001b[0m\u001b[1;33m(\u001b[0m\u001b[1;33m~\u001b[0m\u001b[0mkey\u001b[0m\u001b[1;33m,\u001b[0m \u001b[0mvalue\u001b[0m\u001b[1;33m,\u001b[0m \u001b[0minplace\u001b[0m\u001b[1;33m=\u001b[0m\u001b[1;32mTrue\u001b[0m\u001b[1;33m)\u001b[0m\u001b[1;33m\u001b[0m\u001b[1;33m\u001b[0m\u001b[0m\n\u001b[0m\u001b[0;32m   1038\u001b[0m                     \u001b[1;32mreturn\u001b[0m\u001b[1;33m\u001b[0m\u001b[1;33m\u001b[0m\u001b[0m\n\u001b[0;32m   1039\u001b[0m                 \u001b[1;32mexcept\u001b[0m \u001b[0mInvalidIndexError\u001b[0m\u001b[1;33m:\u001b[0m\u001b[1;33m\u001b[0m\u001b[1;33m\u001b[0m\u001b[0m\n",
      "\u001b[1;32m~\\anaconda3\\lib\\site-packages\\pandas\\core\\generic.py\u001b[0m in \u001b[0;36m_where\u001b[1;34m(self, cond, other, inplace, axis, level, errors, try_cast)\u001b[0m\n\u001b[0;32m   8757\u001b[0m \u001b[1;33m\u001b[0m\u001b[0m\n\u001b[0;32m   8758\u001b[0m             \u001b[0mself\u001b[0m\u001b[1;33m.\u001b[0m\u001b[0m_check_inplace_setting\u001b[0m\u001b[1;33m(\u001b[0m\u001b[0mother\u001b[0m\u001b[1;33m)\u001b[0m\u001b[1;33m\u001b[0m\u001b[1;33m\u001b[0m\u001b[0m\n\u001b[1;32m-> 8759\u001b[1;33m             new_data = self._data.putmask(\n\u001b[0m\u001b[0;32m   8760\u001b[0m                 \u001b[0mmask\u001b[0m\u001b[1;33m=\u001b[0m\u001b[0mcond\u001b[0m\u001b[1;33m,\u001b[0m\u001b[1;33m\u001b[0m\u001b[1;33m\u001b[0m\u001b[0m\n\u001b[0;32m   8761\u001b[0m                 \u001b[0mnew\u001b[0m\u001b[1;33m=\u001b[0m\u001b[0mother\u001b[0m\u001b[1;33m,\u001b[0m\u001b[1;33m\u001b[0m\u001b[1;33m\u001b[0m\u001b[0m\n",
      "\u001b[1;32m~\\anaconda3\\lib\\site-packages\\pandas\\core\\internals\\managers.py\u001b[0m in \u001b[0;36mputmask\u001b[1;34m(self, **kwargs)\u001b[0m\n\u001b[0;32m    562\u001b[0m \u001b[1;33m\u001b[0m\u001b[0m\n\u001b[0;32m    563\u001b[0m     \u001b[1;32mdef\u001b[0m \u001b[0mputmask\u001b[0m\u001b[1;33m(\u001b[0m\u001b[0mself\u001b[0m\u001b[1;33m,\u001b[0m \u001b[1;33m**\u001b[0m\u001b[0mkwargs\u001b[0m\u001b[1;33m)\u001b[0m\u001b[1;33m:\u001b[0m\u001b[1;33m\u001b[0m\u001b[1;33m\u001b[0m\u001b[0m\n\u001b[1;32m--> 564\u001b[1;33m         \u001b[1;32mreturn\u001b[0m \u001b[0mself\u001b[0m\u001b[1;33m.\u001b[0m\u001b[0mapply\u001b[0m\u001b[1;33m(\u001b[0m\u001b[1;34m\"putmask\"\u001b[0m\u001b[1;33m,\u001b[0m \u001b[1;33m**\u001b[0m\u001b[0mkwargs\u001b[0m\u001b[1;33m)\u001b[0m\u001b[1;33m\u001b[0m\u001b[1;33m\u001b[0m\u001b[0m\n\u001b[0m\u001b[0;32m    565\u001b[0m \u001b[1;33m\u001b[0m\u001b[0m\n\u001b[0;32m    566\u001b[0m     \u001b[1;32mdef\u001b[0m \u001b[0mdiff\u001b[0m\u001b[1;33m(\u001b[0m\u001b[0mself\u001b[0m\u001b[1;33m,\u001b[0m \u001b[1;33m**\u001b[0m\u001b[0mkwargs\u001b[0m\u001b[1;33m)\u001b[0m\u001b[1;33m:\u001b[0m\u001b[1;33m\u001b[0m\u001b[1;33m\u001b[0m\u001b[0m\n",
      "\u001b[1;32m~\\anaconda3\\lib\\site-packages\\pandas\\core\\internals\\managers.py\u001b[0m in \u001b[0;36mapply\u001b[1;34m(self, f, filter, **kwargs)\u001b[0m\n\u001b[0;32m    440\u001b[0m                 \u001b[0mapplied\u001b[0m \u001b[1;33m=\u001b[0m \u001b[0mb\u001b[0m\u001b[1;33m.\u001b[0m\u001b[0mapply\u001b[0m\u001b[1;33m(\u001b[0m\u001b[0mf\u001b[0m\u001b[1;33m,\u001b[0m \u001b[1;33m**\u001b[0m\u001b[0mkwargs\u001b[0m\u001b[1;33m)\u001b[0m\u001b[1;33m\u001b[0m\u001b[1;33m\u001b[0m\u001b[0m\n\u001b[0;32m    441\u001b[0m             \u001b[1;32melse\u001b[0m\u001b[1;33m:\u001b[0m\u001b[1;33m\u001b[0m\u001b[1;33m\u001b[0m\u001b[0m\n\u001b[1;32m--> 442\u001b[1;33m                 \u001b[0mapplied\u001b[0m \u001b[1;33m=\u001b[0m \u001b[0mgetattr\u001b[0m\u001b[1;33m(\u001b[0m\u001b[0mb\u001b[0m\u001b[1;33m,\u001b[0m \u001b[0mf\u001b[0m\u001b[1;33m)\u001b[0m\u001b[1;33m(\u001b[0m\u001b[1;33m**\u001b[0m\u001b[0mkwargs\u001b[0m\u001b[1;33m)\u001b[0m\u001b[1;33m\u001b[0m\u001b[1;33m\u001b[0m\u001b[0m\n\u001b[0m\u001b[0;32m    443\u001b[0m             \u001b[0mresult_blocks\u001b[0m \u001b[1;33m=\u001b[0m \u001b[0m_extend_blocks\u001b[0m\u001b[1;33m(\u001b[0m\u001b[0mapplied\u001b[0m\u001b[1;33m,\u001b[0m \u001b[0mresult_blocks\u001b[0m\u001b[1;33m)\u001b[0m\u001b[1;33m\u001b[0m\u001b[1;33m\u001b[0m\u001b[0m\n\u001b[0;32m    444\u001b[0m \u001b[1;33m\u001b[0m\u001b[0m\n",
      "\u001b[1;32m~\\anaconda3\\lib\\site-packages\\pandas\\core\\internals\\blocks.py\u001b[0m in \u001b[0;36mputmask\u001b[1;34m(self, mask, new, align, inplace, axis, transpose)\u001b[0m\n\u001b[0;32m   1674\u001b[0m         \u001b[0mmask\u001b[0m \u001b[1;33m=\u001b[0m \u001b[0m_safe_reshape\u001b[0m\u001b[1;33m(\u001b[0m\u001b[0mmask\u001b[0m\u001b[1;33m,\u001b[0m \u001b[0mnew_values\u001b[0m\u001b[1;33m.\u001b[0m\u001b[0mshape\u001b[0m\u001b[1;33m)\u001b[0m\u001b[1;33m\u001b[0m\u001b[1;33m\u001b[0m\u001b[0m\n\u001b[0;32m   1675\u001b[0m \u001b[1;33m\u001b[0m\u001b[0m\n\u001b[1;32m-> 1676\u001b[1;33m         \u001b[0mnew_values\u001b[0m\u001b[1;33m[\u001b[0m\u001b[0mmask\u001b[0m\u001b[1;33m]\u001b[0m \u001b[1;33m=\u001b[0m \u001b[0mnew\u001b[0m\u001b[1;33m\u001b[0m\u001b[1;33m\u001b[0m\u001b[0m\n\u001b[0m\u001b[0;32m   1677\u001b[0m         \u001b[1;32mreturn\u001b[0m \u001b[1;33m[\u001b[0m\u001b[0mself\u001b[0m\u001b[1;33m.\u001b[0m\u001b[0mmake_block\u001b[0m\u001b[1;33m(\u001b[0m\u001b[0mvalues\u001b[0m\u001b[1;33m=\u001b[0m\u001b[0mnew_values\u001b[0m\u001b[1;33m)\u001b[0m\u001b[1;33m]\u001b[0m\u001b[1;33m\u001b[0m\u001b[1;33m\u001b[0m\u001b[0m\n\u001b[0;32m   1678\u001b[0m \u001b[1;33m\u001b[0m\u001b[0m\n",
      "\u001b[1;32m~\\anaconda3\\lib\\site-packages\\pandas\\core\\arrays\\categorical.py\u001b[0m in \u001b[0;36m__setitem__\u001b[1;34m(self, key, value)\u001b[0m\n\u001b[0;32m   2044\u001b[0m         \u001b[1;31m# something to np.nan\u001b[0m\u001b[1;33m\u001b[0m\u001b[1;33m\u001b[0m\u001b[1;33m\u001b[0m\u001b[0m\n\u001b[0;32m   2045\u001b[0m         \u001b[1;32mif\u001b[0m \u001b[0mlen\u001b[0m\u001b[1;33m(\u001b[0m\u001b[0mto_add\u001b[0m\u001b[1;33m)\u001b[0m \u001b[1;32mand\u001b[0m \u001b[1;32mnot\u001b[0m \u001b[0misna\u001b[0m\u001b[1;33m(\u001b[0m\u001b[0mto_add\u001b[0m\u001b[1;33m)\u001b[0m\u001b[1;33m.\u001b[0m\u001b[0mall\u001b[0m\u001b[1;33m(\u001b[0m\u001b[1;33m)\u001b[0m\u001b[1;33m:\u001b[0m\u001b[1;33m\u001b[0m\u001b[1;33m\u001b[0m\u001b[0m\n\u001b[1;32m-> 2046\u001b[1;33m             raise ValueError(\n\u001b[0m\u001b[0;32m   2047\u001b[0m                 \u001b[1;34m\"Cannot setitem on a Categorical with a new \"\u001b[0m\u001b[1;33m\u001b[0m\u001b[1;33m\u001b[0m\u001b[0m\n\u001b[0;32m   2048\u001b[0m                 \u001b[1;34m\"category, set the categories first\"\u001b[0m\u001b[1;33m\u001b[0m\u001b[1;33m\u001b[0m\u001b[0m\n",
      "\u001b[1;31mValueError\u001b[0m: Cannot setitem on a Categorical with a new category, set the categories first"
     ]
    }
   ],
   "source": [
    "\n",
    "\n"
   ]
  },
  {
   "cell_type": "code",
   "execution_count": 230,
   "metadata": {},
   "outputs": [
    {
     "data": {
      "text/html": [
       "<div>\n",
       "<style scoped>\n",
       "    .dataframe tbody tr th:only-of-type {\n",
       "        vertical-align: middle;\n",
       "    }\n",
       "\n",
       "    .dataframe tbody tr th {\n",
       "        vertical-align: top;\n",
       "    }\n",
       "\n",
       "    .dataframe thead th {\n",
       "        text-align: right;\n",
       "    }\n",
       "</style>\n",
       "<table border=\"1\" class=\"dataframe\">\n",
       "  <thead>\n",
       "    <tr style=\"text-align: right;\">\n",
       "      <th></th>\n",
       "      <th>income</th>\n",
       "      <th>age</th>\n",
       "      <th>years_with_bank</th>\n",
       "      <th>nbr_children</th>\n",
       "      <th>marital_status</th>\n",
       "      <th>gender</th>\n",
       "    </tr>\n",
       "  </thead>\n",
       "  <tbody>\n",
       "    <tr>\n",
       "      <th>0</th>\n",
       "      <td>26150</td>\n",
       "      <td>46</td>\n",
       "      <td>5</td>\n",
       "      <td>1</td>\n",
       "      <td>2</td>\n",
       "      <td>M</td>\n",
       "    </tr>\n",
       "    <tr>\n",
       "      <th>1</th>\n",
       "      <td>6605</td>\n",
       "      <td>71</td>\n",
       "      <td>1</td>\n",
       "      <td>0</td>\n",
       "      <td>2</td>\n",
       "      <td>M</td>\n",
       "    </tr>\n",
       "    <tr>\n",
       "      <th>2</th>\n",
       "      <td>18548</td>\n",
       "      <td>38</td>\n",
       "      <td>8</td>\n",
       "      <td>0</td>\n",
       "      <td>1</td>\n",
       "      <td>F</td>\n",
       "    </tr>\n",
       "    <tr>\n",
       "      <th>3</th>\n",
       "      <td>47668</td>\n",
       "      <td>54</td>\n",
       "      <td>3</td>\n",
       "      <td>0</td>\n",
       "      <td>1</td>\n",
       "      <td>F</td>\n",
       "    </tr>\n",
       "    <tr>\n",
       "      <th>4</th>\n",
       "      <td>44554</td>\n",
       "      <td>59</td>\n",
       "      <td>9</td>\n",
       "      <td>2</td>\n",
       "      <td>4</td>\n",
       "      <td>F</td>\n",
       "    </tr>\n",
       "    <tr>\n",
       "      <th>...</th>\n",
       "      <td>...</td>\n",
       "      <td>...</td>\n",
       "      <td>...</td>\n",
       "      <td>...</td>\n",
       "      <td>...</td>\n",
       "      <td>...</td>\n",
       "    </tr>\n",
       "    <tr>\n",
       "      <th>742</th>\n",
       "      <td>14795</td>\n",
       "      <td>36</td>\n",
       "      <td>6</td>\n",
       "      <td>1</td>\n",
       "      <td>4</td>\n",
       "      <td>F</td>\n",
       "    </tr>\n",
       "    <tr>\n",
       "      <th>743</th>\n",
       "      <td>26387</td>\n",
       "      <td>56</td>\n",
       "      <td>6</td>\n",
       "      <td>1</td>\n",
       "      <td>2</td>\n",
       "      <td>M</td>\n",
       "    </tr>\n",
       "    <tr>\n",
       "      <th>744</th>\n",
       "      <td>61300</td>\n",
       "      <td>50</td>\n",
       "      <td>0</td>\n",
       "      <td>2</td>\n",
       "      <td>2</td>\n",
       "      <td>M</td>\n",
       "    </tr>\n",
       "    <tr>\n",
       "      <th>745</th>\n",
       "      <td>15100</td>\n",
       "      <td>37</td>\n",
       "      <td>7</td>\n",
       "      <td>0</td>\n",
       "      <td>2</td>\n",
       "      <td>F</td>\n",
       "    </tr>\n",
       "    <tr>\n",
       "      <th>746</th>\n",
       "      <td>17875</td>\n",
       "      <td>18</td>\n",
       "      <td>3</td>\n",
       "      <td>0</td>\n",
       "      <td>1</td>\n",
       "      <td>F</td>\n",
       "    </tr>\n",
       "  </tbody>\n",
       "</table>\n",
       "<p>747 rows × 6 columns</p>\n",
       "</div>"
      ],
      "text/plain": [
       "    income age years_with_bank nbr_children marital_status gender\n",
       "0    26150  46               5            1              2     M \n",
       "1     6605  71               1            0              2     M \n",
       "2    18548  38               8            0              1     F \n",
       "3    47668  54               3            0              1     F \n",
       "4    44554  59               9            2              4     F \n",
       "..     ...  ..             ...          ...            ...    ...\n",
       "742  14795  36               6            1              4     F \n",
       "743  26387  56               6            1              2     M \n",
       "744  61300  50               0            2              2     M \n",
       "745  15100  37               7            0              2     F \n",
       "746  17875  18               3            0              1     F \n",
       "\n",
       "[747 rows x 6 columns]"
      ]
     },
     "execution_count": 230,
     "metadata": {},
     "output_type": "execute_result"
    }
   ],
   "source": [
    "data_demos"
   ]
  },
  {
   "cell_type": "markdown",
   "metadata": {},
   "source": [
    "# Data Exploration"
   ]
  },
  {
   "cell_type": "markdown",
   "metadata": {},
   "source": [
    "#### Transform datatype to their actual value"
   ]
  },
  {
   "cell_type": "code",
   "execution_count": 10,
   "metadata": {},
   "outputs": [],
   "source": [
    "d3['gender'] = d3['gender'].astype('string')\n",
    "d3['first_name'] = d3['first_name'].astype('string')\n",
    "d3['last_name'] = d3['first_name'].astype('string')\n",
    "d3['street_nbr'] = d3['street_nbr'].astype('int')\n",
    "d3['street_name'] = d3['street_name'].astype('string')\n",
    "d3['postal_code'] = d3['postal_code'].astype('int')\n",
    "d3['city_name'] = d3['city_name'].astype('string')\n",
    "d3['state_code'] = d3['state_code'].astype('string')\n",
    "d3['cust_id'] = d3['cust_id'].astype('int')\n",
    "d3['name_prefix'] = d3['name_prefix'].astype('string')\n",
    "d3['income'] = d3['income'].astype(int, errors = 'raise')\n",
    "d3['age'] = d3['age'].astype(int, errors = 'raise')\n",
    "d3['years_with_bank'] = d3['years_with_bank'].astype(int, errors = 'raise')\n",
    "d3['nbr_children'] = d3['nbr_children'].astype(int, errors = 'raise')\n"
   ]
  },
  {
   "cell_type": "code",
   "execution_count": 11,
   "metadata": {},
   "outputs": [
    {
     "name": "stdout",
     "output_type": "stream",
     "text": [
      "69\n"
     ]
    }
   ],
   "source": [
    "print(len(d3['city_name'].unique()))"
   ]
  },
  {
   "cell_type": "code",
   "execution_count": 12,
   "metadata": {},
   "outputs": [
    {
     "data": {
      "text/plain": [
       "cust_id             int32\n",
       "income              int32\n",
       "age                 int32\n",
       "years_with_bank     int32\n",
       "nbr_children        int32\n",
       "gender             string\n",
       "marital_status     object\n",
       "name_prefix        string\n",
       "first_name         string\n",
       "last_name          string\n",
       "street_nbr          int32\n",
       "street_name        string\n",
       "postal_code         int32\n",
       "city_name          string\n",
       "state_code         string\n",
       "dtype: object"
      ]
     },
     "execution_count": 12,
     "metadata": {},
     "output_type": "execute_result"
    }
   ],
   "source": [
    "d3.dtypes"
   ]
  },
  {
   "cell_type": "code",
   "execution_count": 237,
   "metadata": {
    "tags": []
   },
   "outputs": [
    {
     "data": {
      "text/html": [
       "<div>\n",
       "<style scoped>\n",
       "    .dataframe tbody tr th:only-of-type {\n",
       "        vertical-align: middle;\n",
       "    }\n",
       "\n",
       "    .dataframe tbody tr th {\n",
       "        vertical-align: top;\n",
       "    }\n",
       "\n",
       "    .dataframe thead th {\n",
       "        text-align: right;\n",
       "    }\n",
       "</style>\n",
       "<table border=\"1\" class=\"dataframe\">\n",
       "  <thead>\n",
       "    <tr style=\"text-align: right;\">\n",
       "      <th></th>\n",
       "      <th>cust_id</th>\n",
       "      <th>income</th>\n",
       "      <th>age</th>\n",
       "      <th>years_with_bank</th>\n",
       "      <th>nbr_children</th>\n",
       "      <th>gender</th>\n",
       "      <th>marital_status</th>\n",
       "      <th>name_prefix</th>\n",
       "      <th>first_name</th>\n",
       "      <th>last_name</th>\n",
       "      <th>street_nbr</th>\n",
       "      <th>street_name</th>\n",
       "      <th>postal_code</th>\n",
       "      <th>city_name</th>\n",
       "      <th>state_code</th>\n",
       "    </tr>\n",
       "  </thead>\n",
       "  <tbody>\n",
       "    <tr>\n",
       "      <th>0</th>\n",
       "      <td>1362691</td>\n",
       "      <td>26150</td>\n",
       "      <td>46</td>\n",
       "      <td>5</td>\n",
       "      <td>1</td>\n",
       "      <td>M</td>\n",
       "      <td>2</td>\n",
       "      <td></td>\n",
       "      <td>Donald                                        ...</td>\n",
       "      <td>Marek                                         ...</td>\n",
       "      <td>8298</td>\n",
       "      <td>Second                                        ...</td>\n",
       "      <td>89194</td>\n",
       "      <td>Las Vegas</td>\n",
       "      <td>NV</td>\n",
       "    </tr>\n",
       "    <tr>\n",
       "      <th>1</th>\n",
       "      <td>1362487</td>\n",
       "      <td>6605</td>\n",
       "      <td>71</td>\n",
       "      <td>1</td>\n",
       "      <td>0</td>\n",
       "      <td>M</td>\n",
       "      <td>2</td>\n",
       "      <td></td>\n",
       "      <td>ChingDyi                                      ...</td>\n",
       "      <td>Moussavi                                      ...</td>\n",
       "      <td>10603</td>\n",
       "      <td>Daffodil                                      ...</td>\n",
       "      <td>90159</td>\n",
       "      <td>Los Angeles</td>\n",
       "      <td>CA</td>\n",
       "    </tr>\n",
       "    <tr>\n",
       "      <th>2</th>\n",
       "      <td>1363160</td>\n",
       "      <td>18548</td>\n",
       "      <td>38</td>\n",
       "      <td>8</td>\n",
       "      <td>0</td>\n",
       "      <td>F</td>\n",
       "      <td>1</td>\n",
       "      <td></td>\n",
       "      <td>Rosa                                          ...</td>\n",
       "      <td>Johnston                                      ...</td>\n",
       "      <td>8817</td>\n",
       "      <td>Figueroa                                      ...</td>\n",
       "      <td>90024</td>\n",
       "      <td>Los Angeles</td>\n",
       "      <td>CA</td>\n",
       "    </tr>\n",
       "    <tr>\n",
       "      <th>3</th>\n",
       "      <td>1362752</td>\n",
       "      <td>47668</td>\n",
       "      <td>54</td>\n",
       "      <td>3</td>\n",
       "      <td>0</td>\n",
       "      <td>F</td>\n",
       "      <td>1</td>\n",
       "      <td></td>\n",
       "      <td>Lisa                                          ...</td>\n",
       "      <td>Martin                                        ...</td>\n",
       "      <td>676</td>\n",
       "      <td>Humble                                        ...</td>\n",
       "      <td>90172</td>\n",
       "      <td>Los Angeles</td>\n",
       "      <td>CA</td>\n",
       "    </tr>\n",
       "    <tr>\n",
       "      <th>4</th>\n",
       "      <td>1362548</td>\n",
       "      <td>44554</td>\n",
       "      <td>59</td>\n",
       "      <td>9</td>\n",
       "      <td>2</td>\n",
       "      <td>F</td>\n",
       "      <td>4</td>\n",
       "      <td></td>\n",
       "      <td>Barbara                                       ...</td>\n",
       "      <td>O'Malley                                      ...</td>\n",
       "      <td>6578</td>\n",
       "      <td>C                                             ...</td>\n",
       "      <td>10138</td>\n",
       "      <td>New York City</td>\n",
       "      <td>NY</td>\n",
       "    </tr>\n",
       "  </tbody>\n",
       "</table>\n",
       "</div>"
      ],
      "text/plain": [
       "   cust_id income age years_with_bank nbr_children gender marital_status  \\\n",
       "0  1362691  26150  46               5            1     M               2   \n",
       "1  1362487   6605  71               1            0     M               2   \n",
       "2  1363160  18548  38               8            0     F               1   \n",
       "3  1362752  47668  54               3            0     F               1   \n",
       "4  1362548  44554  59               9            2     F               4   \n",
       "\n",
       "  name_prefix                                         first_name  \\\n",
       "0              Donald                                        ...   \n",
       "1              ChingDyi                                      ...   \n",
       "2              Rosa                                          ...   \n",
       "3              Lisa                                          ...   \n",
       "4              Barbara                                       ...   \n",
       "\n",
       "                                           last_name street_nbr  \\\n",
       "0  Marek                                         ...       8298   \n",
       "1  Moussavi                                      ...      10603   \n",
       "2  Johnston                                      ...       8817   \n",
       "3  Martin                                        ...        676   \n",
       "4  O'Malley                                      ...       6578   \n",
       "\n",
       "                                         street_name postal_code  \\\n",
       "0  Second                                        ...       89194   \n",
       "1  Daffodil                                      ...       90159   \n",
       "2  Figueroa                                      ...       90024   \n",
       "3  Humble                                        ...       90172   \n",
       "4  C                                             ...       10138   \n",
       "\n",
       "                                  city_name state_code  \n",
       "0  Las Vegas                                      NV    \n",
       "1  Los Angeles                                    CA    \n",
       "2  Los Angeles                                    CA    \n",
       "3  Los Angeles                                    CA    \n",
       "4  New York City                                  NY    "
      ]
     },
     "execution_count": 237,
     "metadata": {},
     "output_type": "execute_result"
    }
   ],
   "source": [
    "d3.head()"
   ]
  },
  {
   "cell_type": "markdown",
   "metadata": {},
   "source": [
    "### Group by the data you would like to analize"
   ]
  },
  {
   "cell_type": "code",
   "execution_count": 14,
   "metadata": {},
   "outputs": [],
   "source": [
    "new_data = d3[['income','age','years_with_bank','nbr_children','marital_status','gender']]"
   ]
  },
  {
   "cell_type": "code",
   "execution_count": 15,
   "metadata": {},
   "outputs": [],
   "source": [
    "original_data = d3[['income','age','years_with_bank','nbr_children','marital_status']] "
   ]
  },
  {
   "cell_type": "code",
   "execution_count": 16,
   "metadata": {},
   "outputs": [],
   "source": [
    "data_state_code_included =  d3[['income','age','years_with_bank','nbr_children','marital_status','gender','state_code']]"
   ]
  },
  {
   "cell_type": "code",
   "execution_count": 139,
   "metadata": {},
   "outputs": [],
   "source": [
    "data_with_marital_dummi = pd.get_dummies(new_data,columns =[ 'gender', 'marital_status'])"
   ]
  },
  {
   "cell_type": "code",
   "execution_count": 17,
   "metadata": {},
   "outputs": [],
   "source": [
    "new_data2 = pd.get_dummies(new_data,columns =[ 'gender', 'nbr_children'])"
   ]
  },
  {
   "cell_type": "code",
   "execution_count": 18,
   "metadata": {},
   "outputs": [],
   "source": [
    "new_data3 =  pd.get_dummies(new_data,columns =[ 'gender'])"
   ]
  },
  {
   "cell_type": "code",
   "execution_count": 19,
   "metadata": {},
   "outputs": [],
   "source": [
    "new_data4 = pd.get_dummies(data_state_code_included,columns =[ 'state_code', 'gender'])"
   ]
  },
  {
   "cell_type": "code",
   "execution_count": 141,
   "metadata": {},
   "outputs": [],
   "source": [
    "from sklearn.preprocessing import MinMaxScaler\n",
    "scaler = MinMaxScaler()\n",
    "original_data_scaled = scaler.fit_transform(original_data) ###########only numeric values\n",
    "new_data_scaled = scaler.fit_transform(new_data2)############### include gender and nb children with dummy\n",
    "new_data_scaled2 = scaler.fit_transform(new_data3)######### only gender with dummy\n",
    "new_data_scaled3 = scaler.fit_transform(new_data4)######## with state code include\n",
    "data_with_marital = scaler.fit_transform(data_with_marital_dummi)#######gender and dummy"
   ]
  },
  {
   "cell_type": "code",
   "execution_count": 144,
   "metadata": {},
   "outputs": [
    {
     "data": {
      "text/plain": [
       "Index(['income', 'age', 'years_with_bank', 'nbr_children', 'gender_F ',\n",
       "       'gender_M ', 'marital_status_1', 'marital_status_2', 'marital_status_3',\n",
       "       'marital_status_4'],\n",
       "      dtype='object')"
      ]
     },
     "execution_count": 144,
     "metadata": {},
     "output_type": "execute_result"
    }
   ],
   "source": [
    "data_with_marital_dummi.columns"
   ]
  },
  {
   "cell_type": "code",
   "execution_count": 22,
   "metadata": {},
   "outputs": [
    {
     "data": {
      "text/plain": [
       "Index(['income', 'age', 'years_with_bank', 'nbr_children', 'marital_status'], dtype='object')"
      ]
     },
     "execution_count": 22,
     "metadata": {},
     "output_type": "execute_result"
    }
   ],
   "source": [
    "original_data.columns"
   ]
  },
  {
   "cell_type": "code",
   "execution_count": 23,
   "metadata": {},
   "outputs": [
    {
     "data": {
      "text/plain": [
       "Index(['income', 'age', 'years_with_bank', 'marital_status', 'gender_F ',\n",
       "       'gender_M ', 'nbr_children_0', 'nbr_children_1', 'nbr_children_2',\n",
       "       'nbr_children_3', 'nbr_children_4', 'nbr_children_5'],\n",
       "      dtype='object')"
      ]
     },
     "execution_count": 23,
     "metadata": {},
     "output_type": "execute_result"
    }
   ],
   "source": [
    "new_data2.columns"
   ]
  },
  {
   "cell_type": "code",
   "execution_count": 24,
   "metadata": {},
   "outputs": [
    {
     "data": {
      "text/plain": [
       "Index(['income', 'age', 'years_with_bank', 'nbr_children', 'marital_status',\n",
       "       'gender_F ', 'gender_M '],\n",
       "      dtype='object')"
      ]
     },
     "execution_count": 24,
     "metadata": {},
     "output_type": "execute_result"
    }
   ],
   "source": [
    "new_data3.columns"
   ]
  },
  {
   "cell_type": "code",
   "execution_count": 25,
   "metadata": {
    "tags": []
   },
   "outputs": [
    {
     "data": {
      "text/plain": [
       "Index(['income', 'age', 'years_with_bank', 'nbr_children', 'marital_status',\n",
       "       'state_code_AL  ', 'state_code_AZ  ', 'state_code_CA  ',\n",
       "       'state_code_CO  ', 'state_code_DC  ', 'state_code_FL  ',\n",
       "       'state_code_GA  ', 'state_code_HI  ', 'state_code_IL  ',\n",
       "       'state_code_IN  ', 'state_code_KS  ', 'state_code_KY  ',\n",
       "       'state_code_LA  ', 'state_code_MA  ', 'state_code_MD  ',\n",
       "       'state_code_MI  ', 'state_code_MN  ', 'state_code_MO  ',\n",
       "       'state_code_NB  ', 'state_code_NC  ', 'state_code_NJ  ',\n",
       "       'state_code_NM  ', 'state_code_NV  ', 'state_code_NY  ',\n",
       "       'state_code_OH  ', 'state_code_OK  ', 'state_code_OR  ',\n",
       "       'state_code_PA  ', 'state_code_TN  ', 'state_code_TX  ',\n",
       "       'state_code_VA  ', 'state_code_WA  ', 'state_code_WI  ', 'gender_F ',\n",
       "       'gender_M '],\n",
       "      dtype='object')"
      ]
     },
     "execution_count": 25,
     "metadata": {},
     "output_type": "execute_result"
    }
   ],
   "source": [
    "new_data4.columns"
   ]
  },
  {
   "cell_type": "code",
   "execution_count": 26,
   "metadata": {},
   "outputs": [],
   "source": [
    "final_original_data = pd.DataFrame(original_data_scaled,columns = original_data.columns)"
   ]
  },
  {
   "cell_type": "code",
   "execution_count": 27,
   "metadata": {},
   "outputs": [],
   "source": [
    "final_data = pd.DataFrame(new_data_scaled,columns = new_data2.columns)"
   ]
  },
  {
   "cell_type": "code",
   "execution_count": 143,
   "metadata": {},
   "outputs": [],
   "source": [
    "final_data2 = pd.DataFrame(new_data_scaled2,columns = new_data3.columns)"
   ]
  },
  {
   "cell_type": "code",
   "execution_count": 145,
   "metadata": {},
   "outputs": [],
   "source": [
    "final_data_marital = pd.DataFrame(data_with_marital,columns = data_with_marital_dummi.columns)"
   ]
  },
  {
   "cell_type": "code",
   "execution_count": 146,
   "metadata": {},
   "outputs": [
    {
     "data": {
      "text/html": [
       "<div>\n",
       "<style scoped>\n",
       "    .dataframe tbody tr th:only-of-type {\n",
       "        vertical-align: middle;\n",
       "    }\n",
       "\n",
       "    .dataframe tbody tr th {\n",
       "        vertical-align: top;\n",
       "    }\n",
       "\n",
       "    .dataframe thead th {\n",
       "        text-align: right;\n",
       "    }\n",
       "</style>\n",
       "<table border=\"1\" class=\"dataframe\">\n",
       "  <thead>\n",
       "    <tr style=\"text-align: right;\">\n",
       "      <th></th>\n",
       "      <th>income</th>\n",
       "      <th>age</th>\n",
       "      <th>years_with_bank</th>\n",
       "      <th>nbr_children</th>\n",
       "      <th>gender_F</th>\n",
       "      <th>gender_M</th>\n",
       "      <th>marital_status_1</th>\n",
       "      <th>marital_status_2</th>\n",
       "      <th>marital_status_3</th>\n",
       "      <th>marital_status_4</th>\n",
       "    </tr>\n",
       "  </thead>\n",
       "  <tbody>\n",
       "    <tr>\n",
       "      <th>0</th>\n",
       "      <td>0.181399</td>\n",
       "      <td>0.434211</td>\n",
       "      <td>0.555556</td>\n",
       "      <td>0.2</td>\n",
       "      <td>0.0</td>\n",
       "      <td>1.0</td>\n",
       "      <td>0.0</td>\n",
       "      <td>1.0</td>\n",
       "      <td>0.0</td>\n",
       "      <td>0.0</td>\n",
       "    </tr>\n",
       "    <tr>\n",
       "      <th>1</th>\n",
       "      <td>0.045818</td>\n",
       "      <td>0.763158</td>\n",
       "      <td>0.111111</td>\n",
       "      <td>0.0</td>\n",
       "      <td>0.0</td>\n",
       "      <td>1.0</td>\n",
       "      <td>0.0</td>\n",
       "      <td>1.0</td>\n",
       "      <td>0.0</td>\n",
       "      <td>0.0</td>\n",
       "    </tr>\n",
       "    <tr>\n",
       "      <th>2</th>\n",
       "      <td>0.128665</td>\n",
       "      <td>0.328947</td>\n",
       "      <td>0.888889</td>\n",
       "      <td>0.0</td>\n",
       "      <td>1.0</td>\n",
       "      <td>0.0</td>\n",
       "      <td>1.0</td>\n",
       "      <td>0.0</td>\n",
       "      <td>0.0</td>\n",
       "      <td>0.0</td>\n",
       "    </tr>\n",
       "    <tr>\n",
       "      <th>3</th>\n",
       "      <td>0.330667</td>\n",
       "      <td>0.539474</td>\n",
       "      <td>0.333333</td>\n",
       "      <td>0.0</td>\n",
       "      <td>1.0</td>\n",
       "      <td>0.0</td>\n",
       "      <td>1.0</td>\n",
       "      <td>0.0</td>\n",
       "      <td>0.0</td>\n",
       "      <td>0.0</td>\n",
       "    </tr>\n",
       "    <tr>\n",
       "      <th>4</th>\n",
       "      <td>0.309066</td>\n",
       "      <td>0.605263</td>\n",
       "      <td>1.000000</td>\n",
       "      <td>0.4</td>\n",
       "      <td>1.0</td>\n",
       "      <td>0.0</td>\n",
       "      <td>0.0</td>\n",
       "      <td>0.0</td>\n",
       "      <td>0.0</td>\n",
       "      <td>1.0</td>\n",
       "    </tr>\n",
       "    <tr>\n",
       "      <th>...</th>\n",
       "      <td>...</td>\n",
       "      <td>...</td>\n",
       "      <td>...</td>\n",
       "      <td>...</td>\n",
       "      <td>...</td>\n",
       "      <td>...</td>\n",
       "      <td>...</td>\n",
       "      <td>...</td>\n",
       "      <td>...</td>\n",
       "      <td>...</td>\n",
       "    </tr>\n",
       "    <tr>\n",
       "      <th>742</th>\n",
       "      <td>0.102631</td>\n",
       "      <td>0.302632</td>\n",
       "      <td>0.666667</td>\n",
       "      <td>0.2</td>\n",
       "      <td>1.0</td>\n",
       "      <td>0.0</td>\n",
       "      <td>0.0</td>\n",
       "      <td>0.0</td>\n",
       "      <td>0.0</td>\n",
       "      <td>1.0</td>\n",
       "    </tr>\n",
       "    <tr>\n",
       "      <th>743</th>\n",
       "      <td>0.183043</td>\n",
       "      <td>0.565789</td>\n",
       "      <td>0.666667</td>\n",
       "      <td>0.2</td>\n",
       "      <td>0.0</td>\n",
       "      <td>1.0</td>\n",
       "      <td>0.0</td>\n",
       "      <td>1.0</td>\n",
       "      <td>0.0</td>\n",
       "      <td>0.0</td>\n",
       "    </tr>\n",
       "    <tr>\n",
       "      <th>744</th>\n",
       "      <td>0.425231</td>\n",
       "      <td>0.486842</td>\n",
       "      <td>0.000000</td>\n",
       "      <td>0.4</td>\n",
       "      <td>0.0</td>\n",
       "      <td>1.0</td>\n",
       "      <td>0.0</td>\n",
       "      <td>1.0</td>\n",
       "      <td>0.0</td>\n",
       "      <td>0.0</td>\n",
       "    </tr>\n",
       "    <tr>\n",
       "      <th>745</th>\n",
       "      <td>0.104747</td>\n",
       "      <td>0.315789</td>\n",
       "      <td>0.777778</td>\n",
       "      <td>0.0</td>\n",
       "      <td>1.0</td>\n",
       "      <td>0.0</td>\n",
       "      <td>0.0</td>\n",
       "      <td>1.0</td>\n",
       "      <td>0.0</td>\n",
       "      <td>0.0</td>\n",
       "    </tr>\n",
       "    <tr>\n",
       "      <th>746</th>\n",
       "      <td>0.123997</td>\n",
       "      <td>0.065789</td>\n",
       "      <td>0.333333</td>\n",
       "      <td>0.0</td>\n",
       "      <td>1.0</td>\n",
       "      <td>0.0</td>\n",
       "      <td>1.0</td>\n",
       "      <td>0.0</td>\n",
       "      <td>0.0</td>\n",
       "      <td>0.0</td>\n",
       "    </tr>\n",
       "  </tbody>\n",
       "</table>\n",
       "<p>747 rows × 10 columns</p>\n",
       "</div>"
      ],
      "text/plain": [
       "       income       age  years_with_bank  nbr_children  gender_F   gender_M   \\\n",
       "0    0.181399  0.434211         0.555556           0.2        0.0        1.0   \n",
       "1    0.045818  0.763158         0.111111           0.0        0.0        1.0   \n",
       "2    0.128665  0.328947         0.888889           0.0        1.0        0.0   \n",
       "3    0.330667  0.539474         0.333333           0.0        1.0        0.0   \n",
       "4    0.309066  0.605263         1.000000           0.4        1.0        0.0   \n",
       "..        ...       ...              ...           ...        ...        ...   \n",
       "742  0.102631  0.302632         0.666667           0.2        1.0        0.0   \n",
       "743  0.183043  0.565789         0.666667           0.2        0.0        1.0   \n",
       "744  0.425231  0.486842         0.000000           0.4        0.0        1.0   \n",
       "745  0.104747  0.315789         0.777778           0.0        1.0        0.0   \n",
       "746  0.123997  0.065789         0.333333           0.0        1.0        0.0   \n",
       "\n",
       "     marital_status_1  marital_status_2  marital_status_3  marital_status_4  \n",
       "0                 0.0               1.0               0.0               0.0  \n",
       "1                 0.0               1.0               0.0               0.0  \n",
       "2                 1.0               0.0               0.0               0.0  \n",
       "3                 1.0               0.0               0.0               0.0  \n",
       "4                 0.0               0.0               0.0               1.0  \n",
       "..                ...               ...               ...               ...  \n",
       "742               0.0               0.0               0.0               1.0  \n",
       "743               0.0               1.0               0.0               0.0  \n",
       "744               0.0               1.0               0.0               0.0  \n",
       "745               0.0               1.0               0.0               0.0  \n",
       "746               1.0               0.0               0.0               0.0  \n",
       "\n",
       "[747 rows x 10 columns]"
      ]
     },
     "execution_count": 146,
     "metadata": {},
     "output_type": "execute_result"
    }
   ],
   "source": [
    "final_data_marital "
   ]
  },
  {
   "cell_type": "code",
   "execution_count": 116,
   "metadata": {},
   "outputs": [
    {
     "data": {
      "text/html": [
       "<div>\n",
       "<style scoped>\n",
       "    .dataframe tbody tr th:only-of-type {\n",
       "        vertical-align: middle;\n",
       "    }\n",
       "\n",
       "    .dataframe tbody tr th {\n",
       "        vertical-align: top;\n",
       "    }\n",
       "\n",
       "    .dataframe thead th {\n",
       "        text-align: right;\n",
       "    }\n",
       "</style>\n",
       "<table border=\"1\" class=\"dataframe\">\n",
       "  <thead>\n",
       "    <tr style=\"text-align: right;\">\n",
       "      <th></th>\n",
       "      <th>income</th>\n",
       "      <th>age</th>\n",
       "      <th>years_with_bank</th>\n",
       "      <th>nbr_children</th>\n",
       "      <th>marital_status</th>\n",
       "      <th>gender_F</th>\n",
       "      <th>gender_M</th>\n",
       "      <th>cluster</th>\n",
       "    </tr>\n",
       "  </thead>\n",
       "  <tbody>\n",
       "    <tr>\n",
       "      <th>0</th>\n",
       "      <td>0.181399</td>\n",
       "      <td>0.434211</td>\n",
       "      <td>0.555556</td>\n",
       "      <td>0.2</td>\n",
       "      <td>0.333333</td>\n",
       "      <td>0.0</td>\n",
       "      <td>1.0</td>\n",
       "      <td>0</td>\n",
       "    </tr>\n",
       "    <tr>\n",
       "      <th>1</th>\n",
       "      <td>0.045818</td>\n",
       "      <td>0.763158</td>\n",
       "      <td>0.111111</td>\n",
       "      <td>0.0</td>\n",
       "      <td>0.333333</td>\n",
       "      <td>0.0</td>\n",
       "      <td>1.0</td>\n",
       "      <td>0</td>\n",
       "    </tr>\n",
       "    <tr>\n",
       "      <th>2</th>\n",
       "      <td>0.128665</td>\n",
       "      <td>0.328947</td>\n",
       "      <td>0.888889</td>\n",
       "      <td>0.0</td>\n",
       "      <td>0.000000</td>\n",
       "      <td>1.0</td>\n",
       "      <td>0.0</td>\n",
       "      <td>2</td>\n",
       "    </tr>\n",
       "    <tr>\n",
       "      <th>3</th>\n",
       "      <td>0.330667</td>\n",
       "      <td>0.539474</td>\n",
       "      <td>0.333333</td>\n",
       "      <td>0.0</td>\n",
       "      <td>0.000000</td>\n",
       "      <td>1.0</td>\n",
       "      <td>0.0</td>\n",
       "      <td>2</td>\n",
       "    </tr>\n",
       "    <tr>\n",
       "      <th>4</th>\n",
       "      <td>0.309066</td>\n",
       "      <td>0.605263</td>\n",
       "      <td>1.000000</td>\n",
       "      <td>0.4</td>\n",
       "      <td>1.000000</td>\n",
       "      <td>1.0</td>\n",
       "      <td>0.0</td>\n",
       "      <td>1</td>\n",
       "    </tr>\n",
       "    <tr>\n",
       "      <th>...</th>\n",
       "      <td>...</td>\n",
       "      <td>...</td>\n",
       "      <td>...</td>\n",
       "      <td>...</td>\n",
       "      <td>...</td>\n",
       "      <td>...</td>\n",
       "      <td>...</td>\n",
       "      <td>...</td>\n",
       "    </tr>\n",
       "    <tr>\n",
       "      <th>742</th>\n",
       "      <td>0.102631</td>\n",
       "      <td>0.302632</td>\n",
       "      <td>0.666667</td>\n",
       "      <td>0.2</td>\n",
       "      <td>1.000000</td>\n",
       "      <td>1.0</td>\n",
       "      <td>0.0</td>\n",
       "      <td>1</td>\n",
       "    </tr>\n",
       "    <tr>\n",
       "      <th>743</th>\n",
       "      <td>0.183043</td>\n",
       "      <td>0.565789</td>\n",
       "      <td>0.666667</td>\n",
       "      <td>0.2</td>\n",
       "      <td>0.333333</td>\n",
       "      <td>0.0</td>\n",
       "      <td>1.0</td>\n",
       "      <td>0</td>\n",
       "    </tr>\n",
       "    <tr>\n",
       "      <th>744</th>\n",
       "      <td>0.425231</td>\n",
       "      <td>0.486842</td>\n",
       "      <td>0.000000</td>\n",
       "      <td>0.4</td>\n",
       "      <td>0.333333</td>\n",
       "      <td>0.0</td>\n",
       "      <td>1.0</td>\n",
       "      <td>0</td>\n",
       "    </tr>\n",
       "    <tr>\n",
       "      <th>745</th>\n",
       "      <td>0.104747</td>\n",
       "      <td>0.315789</td>\n",
       "      <td>0.777778</td>\n",
       "      <td>0.0</td>\n",
       "      <td>0.333333</td>\n",
       "      <td>1.0</td>\n",
       "      <td>0.0</td>\n",
       "      <td>2</td>\n",
       "    </tr>\n",
       "    <tr>\n",
       "      <th>746</th>\n",
       "      <td>0.123997</td>\n",
       "      <td>0.065789</td>\n",
       "      <td>0.333333</td>\n",
       "      <td>0.0</td>\n",
       "      <td>0.000000</td>\n",
       "      <td>1.0</td>\n",
       "      <td>0.0</td>\n",
       "      <td>2</td>\n",
       "    </tr>\n",
       "  </tbody>\n",
       "</table>\n",
       "<p>747 rows × 8 columns</p>\n",
       "</div>"
      ],
      "text/plain": [
       "       income       age  years_with_bank  nbr_children  marital_status  \\\n",
       "0    0.181399  0.434211         0.555556           0.2        0.333333   \n",
       "1    0.045818  0.763158         0.111111           0.0        0.333333   \n",
       "2    0.128665  0.328947         0.888889           0.0        0.000000   \n",
       "3    0.330667  0.539474         0.333333           0.0        0.000000   \n",
       "4    0.309066  0.605263         1.000000           0.4        1.000000   \n",
       "..        ...       ...              ...           ...             ...   \n",
       "742  0.102631  0.302632         0.666667           0.2        1.000000   \n",
       "743  0.183043  0.565789         0.666667           0.2        0.333333   \n",
       "744  0.425231  0.486842         0.000000           0.4        0.333333   \n",
       "745  0.104747  0.315789         0.777778           0.0        0.333333   \n",
       "746  0.123997  0.065789         0.333333           0.0        0.000000   \n",
       "\n",
       "     gender_F   gender_M   cluster  \n",
       "0          0.0        1.0        0  \n",
       "1          0.0        1.0        0  \n",
       "2          1.0        0.0        2  \n",
       "3          1.0        0.0        2  \n",
       "4          1.0        0.0        1  \n",
       "..         ...        ...      ...  \n",
       "742        1.0        0.0        1  \n",
       "743        0.0        1.0        0  \n",
       "744        0.0        1.0        0  \n",
       "745        1.0        0.0        2  \n",
       "746        1.0        0.0        2  \n",
       "\n",
       "[747 rows x 8 columns]"
      ]
     },
     "execution_count": 116,
     "metadata": {},
     "output_type": "execute_result"
    }
   ],
   "source": [
    "final_data2"
   ]
  },
  {
   "cell_type": "code",
   "execution_count": 140,
   "metadata": {},
   "outputs": [
    {
     "data": {
      "text/html": [
       "<div>\n",
       "<style scoped>\n",
       "    .dataframe tbody tr th:only-of-type {\n",
       "        vertical-align: middle;\n",
       "    }\n",
       "\n",
       "    .dataframe tbody tr th {\n",
       "        vertical-align: top;\n",
       "    }\n",
       "\n",
       "    .dataframe thead th {\n",
       "        text-align: right;\n",
       "    }\n",
       "</style>\n",
       "<table border=\"1\" class=\"dataframe\">\n",
       "  <thead>\n",
       "    <tr style=\"text-align: right;\">\n",
       "      <th></th>\n",
       "      <th>income</th>\n",
       "      <th>age</th>\n",
       "      <th>years_with_bank</th>\n",
       "      <th>nbr_children</th>\n",
       "      <th>gender_F</th>\n",
       "      <th>gender_M</th>\n",
       "      <th>marital_status_1</th>\n",
       "      <th>marital_status_2</th>\n",
       "      <th>marital_status_3</th>\n",
       "      <th>marital_status_4</th>\n",
       "    </tr>\n",
       "  </thead>\n",
       "  <tbody>\n",
       "    <tr>\n",
       "      <th>0</th>\n",
       "      <td>26150</td>\n",
       "      <td>46</td>\n",
       "      <td>5</td>\n",
       "      <td>1</td>\n",
       "      <td>0</td>\n",
       "      <td>1</td>\n",
       "      <td>0</td>\n",
       "      <td>1</td>\n",
       "      <td>0</td>\n",
       "      <td>0</td>\n",
       "    </tr>\n",
       "    <tr>\n",
       "      <th>1</th>\n",
       "      <td>6605</td>\n",
       "      <td>71</td>\n",
       "      <td>1</td>\n",
       "      <td>0</td>\n",
       "      <td>0</td>\n",
       "      <td>1</td>\n",
       "      <td>0</td>\n",
       "      <td>1</td>\n",
       "      <td>0</td>\n",
       "      <td>0</td>\n",
       "    </tr>\n",
       "    <tr>\n",
       "      <th>2</th>\n",
       "      <td>18548</td>\n",
       "      <td>38</td>\n",
       "      <td>8</td>\n",
       "      <td>0</td>\n",
       "      <td>1</td>\n",
       "      <td>0</td>\n",
       "      <td>1</td>\n",
       "      <td>0</td>\n",
       "      <td>0</td>\n",
       "      <td>0</td>\n",
       "    </tr>\n",
       "    <tr>\n",
       "      <th>3</th>\n",
       "      <td>47668</td>\n",
       "      <td>54</td>\n",
       "      <td>3</td>\n",
       "      <td>0</td>\n",
       "      <td>1</td>\n",
       "      <td>0</td>\n",
       "      <td>1</td>\n",
       "      <td>0</td>\n",
       "      <td>0</td>\n",
       "      <td>0</td>\n",
       "    </tr>\n",
       "    <tr>\n",
       "      <th>4</th>\n",
       "      <td>44554</td>\n",
       "      <td>59</td>\n",
       "      <td>9</td>\n",
       "      <td>2</td>\n",
       "      <td>1</td>\n",
       "      <td>0</td>\n",
       "      <td>0</td>\n",
       "      <td>0</td>\n",
       "      <td>0</td>\n",
       "      <td>1</td>\n",
       "    </tr>\n",
       "    <tr>\n",
       "      <th>...</th>\n",
       "      <td>...</td>\n",
       "      <td>...</td>\n",
       "      <td>...</td>\n",
       "      <td>...</td>\n",
       "      <td>...</td>\n",
       "      <td>...</td>\n",
       "      <td>...</td>\n",
       "      <td>...</td>\n",
       "      <td>...</td>\n",
       "      <td>...</td>\n",
       "    </tr>\n",
       "    <tr>\n",
       "      <th>742</th>\n",
       "      <td>14795</td>\n",
       "      <td>36</td>\n",
       "      <td>6</td>\n",
       "      <td>1</td>\n",
       "      <td>1</td>\n",
       "      <td>0</td>\n",
       "      <td>0</td>\n",
       "      <td>0</td>\n",
       "      <td>0</td>\n",
       "      <td>1</td>\n",
       "    </tr>\n",
       "    <tr>\n",
       "      <th>743</th>\n",
       "      <td>26387</td>\n",
       "      <td>56</td>\n",
       "      <td>6</td>\n",
       "      <td>1</td>\n",
       "      <td>0</td>\n",
       "      <td>1</td>\n",
       "      <td>0</td>\n",
       "      <td>1</td>\n",
       "      <td>0</td>\n",
       "      <td>0</td>\n",
       "    </tr>\n",
       "    <tr>\n",
       "      <th>744</th>\n",
       "      <td>61300</td>\n",
       "      <td>50</td>\n",
       "      <td>0</td>\n",
       "      <td>2</td>\n",
       "      <td>0</td>\n",
       "      <td>1</td>\n",
       "      <td>0</td>\n",
       "      <td>1</td>\n",
       "      <td>0</td>\n",
       "      <td>0</td>\n",
       "    </tr>\n",
       "    <tr>\n",
       "      <th>745</th>\n",
       "      <td>15100</td>\n",
       "      <td>37</td>\n",
       "      <td>7</td>\n",
       "      <td>0</td>\n",
       "      <td>1</td>\n",
       "      <td>0</td>\n",
       "      <td>0</td>\n",
       "      <td>1</td>\n",
       "      <td>0</td>\n",
       "      <td>0</td>\n",
       "    </tr>\n",
       "    <tr>\n",
       "      <th>746</th>\n",
       "      <td>17875</td>\n",
       "      <td>18</td>\n",
       "      <td>3</td>\n",
       "      <td>0</td>\n",
       "      <td>1</td>\n",
       "      <td>0</td>\n",
       "      <td>1</td>\n",
       "      <td>0</td>\n",
       "      <td>0</td>\n",
       "      <td>0</td>\n",
       "    </tr>\n",
       "  </tbody>\n",
       "</table>\n",
       "<p>747 rows × 10 columns</p>\n",
       "</div>"
      ],
      "text/plain": [
       "     income  age  years_with_bank  nbr_children  gender_F   gender_M   \\\n",
       "0     26150   46                5             1          0          1   \n",
       "1      6605   71                1             0          0          1   \n",
       "2     18548   38                8             0          1          0   \n",
       "3     47668   54                3             0          1          0   \n",
       "4     44554   59                9             2          1          0   \n",
       "..      ...  ...              ...           ...        ...        ...   \n",
       "742   14795   36                6             1          1          0   \n",
       "743   26387   56                6             1          0          1   \n",
       "744   61300   50                0             2          0          1   \n",
       "745   15100   37                7             0          1          0   \n",
       "746   17875   18                3             0          1          0   \n",
       "\n",
       "     marital_status_1  marital_status_2  marital_status_3  marital_status_4  \n",
       "0                   0                 1                 0                 0  \n",
       "1                   0                 1                 0                 0  \n",
       "2                   1                 0                 0                 0  \n",
       "3                   1                 0                 0                 0  \n",
       "4                   0                 0                 0                 1  \n",
       "..                ...               ...               ...               ...  \n",
       "742                 0                 0                 0                 1  \n",
       "743                 0                 1                 0                 0  \n",
       "744                 0                 1                 0                 0  \n",
       "745                 0                 1                 0                 0  \n",
       "746                 1                 0                 0                 0  \n",
       "\n",
       "[747 rows x 10 columns]"
      ]
     },
     "execution_count": 140,
     "metadata": {},
     "output_type": "execute_result"
    }
   ],
   "source": [
    "data_with_marital_dummi"
   ]
  },
  {
   "cell_type": "code",
   "execution_count": 29,
   "metadata": {},
   "outputs": [],
   "source": [
    "final_data3 = pd.DataFrame(new_data_scaled3, columns = new_data4.columns)"
   ]
  },
  {
   "cell_type": "markdown",
   "metadata": {},
   "source": [
    "### Income graphic"
   ]
  },
  {
   "cell_type": "code",
   "execution_count": 30,
   "metadata": {},
   "outputs": [
    {
     "data": {
      "text/plain": [
       "<seaborn.axisgrid.FacetGrid at 0x1e83fa58ee0>"
      ]
     },
     "execution_count": 30,
     "metadata": {},
     "output_type": "execute_result"
    },
    {
     "data": {
      "image/png": "[encoded data removed]",
      "text/plain": [
       "<Figure size 360x360 with 1 Axes>"
      ]
     },
     "metadata": {
      "needs_background": "light"
     },
     "output_type": "display_data"
    }
   ],
   "source": [
    "##Graphic of income\n",
    "sns.displot(d3.income)"
   ]
  },
  {
   "cell_type": "markdown",
   "metadata": {},
   "source": [
    "### Age graphic"
   ]
  },
  {
   "cell_type": "code",
   "execution_count": 31,
   "metadata": {},
   "outputs": [],
   "source": [
    "d3['age'] = d3['age'].astype(float, errors = 'raise')"
   ]
  },
  {
   "cell_type": "code",
   "execution_count": 32,
   "metadata": {},
   "outputs": [
    {
     "data": {
      "text/plain": [
       "<seaborn.axisgrid.FacetGrid at 0x1e83fa6d190>"
      ]
     },
     "execution_count": 32,
     "metadata": {},
     "output_type": "execute_result"
    },
    {
     "data": {
      "image/png": "[encoded data removed]",
      "text/plain": [
       "<Figure size 360x360 with 1 Axes>"
      ]
     },
     "metadata": {
      "needs_background": "light"
     },
     "output_type": "display_data"
    }
   ],
   "source": [
    "##Graphic of age\n",
    "sns.displot(d3.age)"
   ]
  },
  {
   "cell_type": "markdown",
   "metadata": {},
   "source": [
    "### Years with bank versus Income"
   ]
  },
  {
   "cell_type": "code",
   "execution_count": 33,
   "metadata": {},
   "outputs": [],
   "source": [
    "d3['years_with_bank'] = d3['years_with_bank'].astype(float, errors = 'raise')"
   ]
  },
  {
   "cell_type": "code",
   "execution_count": 34,
   "metadata": {},
   "outputs": [
    {
     "data": {
      "text/plain": [
       "<AxesSubplot:xlabel='years_with_bank', ylabel='income'>"
      ]
     },
     "execution_count": 34,
     "metadata": {},
     "output_type": "execute_result"
    },
    {
     "data": {
      "image/png": "[encoded data removed]",
      "text/plain": [
       "<Figure size 432x288 with 1 Axes>"
      ]
     },
     "metadata": {
      "needs_background": "light"
     },
     "output_type": "display_data"
    }
   ],
   "source": [
    "#scatter plot years with babk vs. income\n",
    "\n",
    "data = d3[['income','years_with_bank']]\n",
    "data.plot.scatter(x='years_with_bank', y='income', ylim=(0,200000))"
   ]
  },
  {
   "cell_type": "markdown",
   "metadata": {},
   "source": [
    "## Years with bank vs age"
   ]
  },
  {
   "cell_type": "code",
   "execution_count": 35,
   "metadata": {},
   "outputs": [
    {
     "data": {
      "text/plain": [
       "<AxesSubplot:xlabel='years_with_bank', ylabel='age'>"
      ]
     },
     "execution_count": 35,
     "metadata": {},
     "output_type": "execute_result"
    },
    {
     "data": {
      "image/png": "[encoded data removed]",
      "text/plain": [
       "<Figure size 432x288 with 1 Axes>"
      ]
     },
     "metadata": {
      "needs_background": "light"
     },
     "output_type": "display_data"
    }
   ],
   "source": [
    "#scatter plot years with babk vs. age\n",
    "data = d3[['age','years_with_bank']]\n",
    "data.plot.scatter(x='years_with_bank', y='age', ylim=(0,90))"
   ]
  },
  {
   "cell_type": "code",
   "execution_count": 36,
   "metadata": {},
   "outputs": [],
   "source": [
    "d3['nbr_children'] = d3['nbr_children'].astype(float, errors = 'raise')"
   ]
  },
  {
   "cell_type": "code",
   "execution_count": 37,
   "metadata": {},
   "outputs": [
    {
     "data": {
      "text/plain": [
       "<AxesSubplot:xlabel='years_with_bank', ylabel='nbr_children'>"
      ]
     },
     "execution_count": 37,
     "metadata": {},
     "output_type": "execute_result"
    },
    {
     "data": {
      "image/png": "[encoded data removed]",
      "text/plain": [
       "<Figure size 432x288 with 1 Axes>"
      ]
     },
     "metadata": {
      "needs_background": "light"
     },
     "output_type": "display_data"
    }
   ],
   "source": [
    "#scatter plot years with babk vs. nbr_children\n",
    "data = d3[['nbr_children','years_with_bank']]\n",
    "data.plot.scatter(x='years_with_bank', y='nbr_children', ylim=(0,8))"
   ]
  },
  {
   "cell_type": "code",
   "execution_count": 38,
   "metadata": {},
   "outputs": [
    {
     "data": {
      "text/plain": [
       "<AxesSubplot:xlabel='years_with_bank', ylabel='income'>"
      ]
     },
     "execution_count": 38,
     "metadata": {},
     "output_type": "execute_result"
    },
    {
     "data": {
      "image/png": "[encoded data removed]",
      "text/plain": [
       "<Figure size 432x288 with 1 Axes>"
      ]
     },
     "metadata": {
      "needs_background": "light"
     },
     "output_type": "display_data"
    }
   ],
   "source": [
    "sns.scatterplot(data=d3, x=\"years_with_bank\", y=\"income\", hue=\"nbr_children\")"
   ]
  },
  {
   "cell_type": "markdown",
   "metadata": {},
   "source": [
    "# K Clusters"
   ]
  },
  {
   "cell_type": "code",
   "execution_count": 149,
   "metadata": {},
   "outputs": [],
   "source": [
    "# import Kmeans from sklearn\n",
    "from sklearn.cluster import KMeans\n",
    "#Select the income and the snumber of years columns X=dataset.iloc[:, [3,4]].values\n",
    "X=final_original_data.values ####### only numeric values\n",
    "Y = final_data.values ######### only gender and nbr children\n",
    "Z = final_data2.values ######### only gender dummy\n",
    "W = final_data3.values ########## gender and state cody dummy\n",
    "A = final_data_marital.values ####### gender and marital dummy"
   ]
  },
  {
   "cell_type": "code",
   "execution_count": 140,
   "metadata": {},
   "outputs": [
    {
     "data": {
      "text/html": [
       "<div>\n",
       "<style scoped>\n",
       "    .dataframe tbody tr th:only-of-type {\n",
       "        vertical-align: middle;\n",
       "    }\n",
       "\n",
       "    .dataframe tbody tr th {\n",
       "        vertical-align: top;\n",
       "    }\n",
       "\n",
       "    .dataframe thead th {\n",
       "        text-align: right;\n",
       "    }\n",
       "</style>\n",
       "<table border=\"1\" class=\"dataframe\">\n",
       "  <thead>\n",
       "    <tr style=\"text-align: right;\">\n",
       "      <th></th>\n",
       "      <th>income</th>\n",
       "      <th>age</th>\n",
       "      <th>years_with_bank</th>\n",
       "      <th>nbr_children</th>\n",
       "      <th>gender_F</th>\n",
       "      <th>gender_M</th>\n",
       "      <th>marital_status_1</th>\n",
       "      <th>marital_status_2</th>\n",
       "      <th>marital_status_3</th>\n",
       "      <th>marital_status_4</th>\n",
       "    </tr>\n",
       "  </thead>\n",
       "  <tbody>\n",
       "    <tr>\n",
       "      <th>0</th>\n",
       "      <td>26150</td>\n",
       "      <td>46</td>\n",
       "      <td>5</td>\n",
       "      <td>1</td>\n",
       "      <td>0</td>\n",
       "      <td>1</td>\n",
       "      <td>0</td>\n",
       "      <td>1</td>\n",
       "      <td>0</td>\n",
       "      <td>0</td>\n",
       "    </tr>\n",
       "    <tr>\n",
       "      <th>1</th>\n",
       "      <td>6605</td>\n",
       "      <td>71</td>\n",
       "      <td>1</td>\n",
       "      <td>0</td>\n",
       "      <td>0</td>\n",
       "      <td>1</td>\n",
       "      <td>0</td>\n",
       "      <td>1</td>\n",
       "      <td>0</td>\n",
       "      <td>0</td>\n",
       "    </tr>\n",
       "    <tr>\n",
       "      <th>2</th>\n",
       "      <td>18548</td>\n",
       "      <td>38</td>\n",
       "      <td>8</td>\n",
       "      <td>0</td>\n",
       "      <td>1</td>\n",
       "      <td>0</td>\n",
       "      <td>1</td>\n",
       "      <td>0</td>\n",
       "      <td>0</td>\n",
       "      <td>0</td>\n",
       "    </tr>\n",
       "    <tr>\n",
       "      <th>3</th>\n",
       "      <td>47668</td>\n",
       "      <td>54</td>\n",
       "      <td>3</td>\n",
       "      <td>0</td>\n",
       "      <td>1</td>\n",
       "      <td>0</td>\n",
       "      <td>1</td>\n",
       "      <td>0</td>\n",
       "      <td>0</td>\n",
       "      <td>0</td>\n",
       "    </tr>\n",
       "    <tr>\n",
       "      <th>4</th>\n",
       "      <td>44554</td>\n",
       "      <td>59</td>\n",
       "      <td>9</td>\n",
       "      <td>2</td>\n",
       "      <td>1</td>\n",
       "      <td>0</td>\n",
       "      <td>0</td>\n",
       "      <td>0</td>\n",
       "      <td>0</td>\n",
       "      <td>1</td>\n",
       "    </tr>\n",
       "    <tr>\n",
       "      <th>...</th>\n",
       "      <td>...</td>\n",
       "      <td>...</td>\n",
       "      <td>...</td>\n",
       "      <td>...</td>\n",
       "      <td>...</td>\n",
       "      <td>...</td>\n",
       "      <td>...</td>\n",
       "      <td>...</td>\n",
       "      <td>...</td>\n",
       "      <td>...</td>\n",
       "    </tr>\n",
       "    <tr>\n",
       "      <th>742</th>\n",
       "      <td>14795</td>\n",
       "      <td>36</td>\n",
       "      <td>6</td>\n",
       "      <td>1</td>\n",
       "      <td>1</td>\n",
       "      <td>0</td>\n",
       "      <td>0</td>\n",
       "      <td>0</td>\n",
       "      <td>0</td>\n",
       "      <td>1</td>\n",
       "    </tr>\n",
       "    <tr>\n",
       "      <th>743</th>\n",
       "      <td>26387</td>\n",
       "      <td>56</td>\n",
       "      <td>6</td>\n",
       "      <td>1</td>\n",
       "      <td>0</td>\n",
       "      <td>1</td>\n",
       "      <td>0</td>\n",
       "      <td>1</td>\n",
       "      <td>0</td>\n",
       "      <td>0</td>\n",
       "    </tr>\n",
       "    <tr>\n",
       "      <th>744</th>\n",
       "      <td>61300</td>\n",
       "      <td>50</td>\n",
       "      <td>0</td>\n",
       "      <td>2</td>\n",
       "      <td>0</td>\n",
       "      <td>1</td>\n",
       "      <td>0</td>\n",
       "      <td>1</td>\n",
       "      <td>0</td>\n",
       "      <td>0</td>\n",
       "    </tr>\n",
       "    <tr>\n",
       "      <th>745</th>\n",
       "      <td>15100</td>\n",
       "      <td>37</td>\n",
       "      <td>7</td>\n",
       "      <td>0</td>\n",
       "      <td>1</td>\n",
       "      <td>0</td>\n",
       "      <td>0</td>\n",
       "      <td>1</td>\n",
       "      <td>0</td>\n",
       "      <td>0</td>\n",
       "    </tr>\n",
       "    <tr>\n",
       "      <th>746</th>\n",
       "      <td>17875</td>\n",
       "      <td>18</td>\n",
       "      <td>3</td>\n",
       "      <td>0</td>\n",
       "      <td>1</td>\n",
       "      <td>0</td>\n",
       "      <td>1</td>\n",
       "      <td>0</td>\n",
       "      <td>0</td>\n",
       "      <td>0</td>\n",
       "    </tr>\n",
       "  </tbody>\n",
       "</table>\n",
       "<p>747 rows × 10 columns</p>\n",
       "</div>"
      ],
      "text/plain": [
       "     income  age  years_with_bank  nbr_children  gender_F   gender_M   \\\n",
       "0     26150   46                5             1          0          1   \n",
       "1      6605   71                1             0          0          1   \n",
       "2     18548   38                8             0          1          0   \n",
       "3     47668   54                3             0          1          0   \n",
       "4     44554   59                9             2          1          0   \n",
       "..      ...  ...              ...           ...        ...        ...   \n",
       "742   14795   36                6             1          1          0   \n",
       "743   26387   56                6             1          0          1   \n",
       "744   61300   50                0             2          0          1   \n",
       "745   15100   37                7             0          1          0   \n",
       "746   17875   18                3             0          1          0   \n",
       "\n",
       "     marital_status_1  marital_status_2  marital_status_3  marital_status_4  \n",
       "0                   0                 1                 0                 0  \n",
       "1                   0                 1                 0                 0  \n",
       "2                   1                 0                 0                 0  \n",
       "3                   1                 0                 0                 0  \n",
       "4                   0                 0                 0                 1  \n",
       "..                ...               ...               ...               ...  \n",
       "742                 0                 0                 0                 1  \n",
       "743                 0                 1                 0                 0  \n",
       "744                 0                 1                 0                 0  \n",
       "745                 0                 1                 0                 0  \n",
       "746                 1                 0                 0                 0  \n",
       "\n",
       "[747 rows x 10 columns]"
      ]
     },
     "execution_count": 140,
     "metadata": {},
     "output_type": "execute_result"
    }
   ],
   "source": [
    "data_with_marital_dummi"
   ]
  },
  {
   "cell_type": "code",
   "execution_count": 140,
   "metadata": {},
   "outputs": [
    {
     "data": {
      "text/html": [
       "<div>\n",
       "<style scoped>\n",
       "    .dataframe tbody tr th:only-of-type {\n",
       "        vertical-align: middle;\n",
       "    }\n",
       "\n",
       "    .dataframe tbody tr th {\n",
       "        vertical-align: top;\n",
       "    }\n",
       "\n",
       "    .dataframe thead th {\n",
       "        text-align: right;\n",
       "    }\n",
       "</style>\n",
       "<table border=\"1\" class=\"dataframe\">\n",
       "  <thead>\n",
       "    <tr style=\"text-align: right;\">\n",
       "      <th></th>\n",
       "      <th>income</th>\n",
       "      <th>age</th>\n",
       "      <th>years_with_bank</th>\n",
       "      <th>nbr_children</th>\n",
       "      <th>gender_F</th>\n",
       "      <th>gender_M</th>\n",
       "      <th>marital_status_1</th>\n",
       "      <th>marital_status_2</th>\n",
       "      <th>marital_status_3</th>\n",
       "      <th>marital_status_4</th>\n",
       "    </tr>\n",
       "  </thead>\n",
       "  <tbody>\n",
       "    <tr>\n",
       "      <th>0</th>\n",
       "      <td>26150</td>\n",
       "      <td>46</td>\n",
       "      <td>5</td>\n",
       "      <td>1</td>\n",
       "      <td>0</td>\n",
       "      <td>1</td>\n",
       "      <td>0</td>\n",
       "      <td>1</td>\n",
       "      <td>0</td>\n",
       "      <td>0</td>\n",
       "    </tr>\n",
       "    <tr>\n",
       "      <th>1</th>\n",
       "      <td>6605</td>\n",
       "      <td>71</td>\n",
       "      <td>1</td>\n",
       "      <td>0</td>\n",
       "      <td>0</td>\n",
       "      <td>1</td>\n",
       "      <td>0</td>\n",
       "      <td>1</td>\n",
       "      <td>0</td>\n",
       "      <td>0</td>\n",
       "    </tr>\n",
       "    <tr>\n",
       "      <th>2</th>\n",
       "      <td>18548</td>\n",
       "      <td>38</td>\n",
       "      <td>8</td>\n",
       "      <td>0</td>\n",
       "      <td>1</td>\n",
       "      <td>0</td>\n",
       "      <td>1</td>\n",
       "      <td>0</td>\n",
       "      <td>0</td>\n",
       "      <td>0</td>\n",
       "    </tr>\n",
       "    <tr>\n",
       "      <th>3</th>\n",
       "      <td>47668</td>\n",
       "      <td>54</td>\n",
       "      <td>3</td>\n",
       "      <td>0</td>\n",
       "      <td>1</td>\n",
       "      <td>0</td>\n",
       "      <td>1</td>\n",
       "      <td>0</td>\n",
       "      <td>0</td>\n",
       "      <td>0</td>\n",
       "    </tr>\n",
       "    <tr>\n",
       "      <th>4</th>\n",
       "      <td>44554</td>\n",
       "      <td>59</td>\n",
       "      <td>9</td>\n",
       "      <td>2</td>\n",
       "      <td>1</td>\n",
       "      <td>0</td>\n",
       "      <td>0</td>\n",
       "      <td>0</td>\n",
       "      <td>0</td>\n",
       "      <td>1</td>\n",
       "    </tr>\n",
       "    <tr>\n",
       "      <th>...</th>\n",
       "      <td>...</td>\n",
       "      <td>...</td>\n",
       "      <td>...</td>\n",
       "      <td>...</td>\n",
       "      <td>...</td>\n",
       "      <td>...</td>\n",
       "      <td>...</td>\n",
       "      <td>...</td>\n",
       "      <td>...</td>\n",
       "      <td>...</td>\n",
       "    </tr>\n",
       "    <tr>\n",
       "      <th>742</th>\n",
       "      <td>14795</td>\n",
       "      <td>36</td>\n",
       "      <td>6</td>\n",
       "      <td>1</td>\n",
       "      <td>1</td>\n",
       "      <td>0</td>\n",
       "      <td>0</td>\n",
       "      <td>0</td>\n",
       "      <td>0</td>\n",
       "      <td>1</td>\n",
       "    </tr>\n",
       "    <tr>\n",
       "      <th>743</th>\n",
       "      <td>26387</td>\n",
       "      <td>56</td>\n",
       "      <td>6</td>\n",
       "      <td>1</td>\n",
       "      <td>0</td>\n",
       "      <td>1</td>\n",
       "      <td>0</td>\n",
       "      <td>1</td>\n",
       "      <td>0</td>\n",
       "      <td>0</td>\n",
       "    </tr>\n",
       "    <tr>\n",
       "      <th>744</th>\n",
       "      <td>61300</td>\n",
       "      <td>50</td>\n",
       "      <td>0</td>\n",
       "      <td>2</td>\n",
       "      <td>0</td>\n",
       "      <td>1</td>\n",
       "      <td>0</td>\n",
       "      <td>1</td>\n",
       "      <td>0</td>\n",
       "      <td>0</td>\n",
       "    </tr>\n",
       "    <tr>\n",
       "      <th>745</th>\n",
       "      <td>15100</td>\n",
       "      <td>37</td>\n",
       "      <td>7</td>\n",
       "      <td>0</td>\n",
       "      <td>1</td>\n",
       "      <td>0</td>\n",
       "      <td>0</td>\n",
       "      <td>1</td>\n",
       "      <td>0</td>\n",
       "      <td>0</td>\n",
       "    </tr>\n",
       "    <tr>\n",
       "      <th>746</th>\n",
       "      <td>17875</td>\n",
       "      <td>18</td>\n",
       "      <td>3</td>\n",
       "      <td>0</td>\n",
       "      <td>1</td>\n",
       "      <td>0</td>\n",
       "      <td>1</td>\n",
       "      <td>0</td>\n",
       "      <td>0</td>\n",
       "      <td>0</td>\n",
       "    </tr>\n",
       "  </tbody>\n",
       "</table>\n",
       "<p>747 rows × 10 columns</p>\n",
       "</div>"
      ],
      "text/plain": [
       "     income  age  years_with_bank  nbr_children  gender_F   gender_M   \\\n",
       "0     26150   46                5             1          0          1   \n",
       "1      6605   71                1             0          0          1   \n",
       "2     18548   38                8             0          1          0   \n",
       "3     47668   54                3             0          1          0   \n",
       "4     44554   59                9             2          1          0   \n",
       "..      ...  ...              ...           ...        ...        ...   \n",
       "742   14795   36                6             1          1          0   \n",
       "743   26387   56                6             1          0          1   \n",
       "744   61300   50                0             2          0          1   \n",
       "745   15100   37                7             0          1          0   \n",
       "746   17875   18                3             0          1          0   \n",
       "\n",
       "     marital_status_1  marital_status_2  marital_status_3  marital_status_4  \n",
       "0                   0                 1                 0                 0  \n",
       "1                   0                 1                 0                 0  \n",
       "2                   1                 0                 0                 0  \n",
       "3                   1                 0                 0                 0  \n",
       "4                   0                 0                 0                 1  \n",
       "..                ...               ...               ...               ...  \n",
       "742                 0                 0                 0                 1  \n",
       "743                 0                 1                 0                 0  \n",
       "744                 0                 1                 0                 0  \n",
       "745                 0                 1                 0                 0  \n",
       "746                 1                 0                 0                 0  \n",
       "\n",
       "[747 rows x 10 columns]"
      ]
     },
     "execution_count": 140,
     "metadata": {},
     "output_type": "execute_result"
    }
   ],
   "source": [
    "data_with_marital_dummi"
   ]
  },
  {
   "cell_type": "code",
   "execution_count": 41,
   "metadata": {},
   "outputs": [],
   "source": [
    "def plot_distortion(X,max_clusters = 10):\n",
    "    distortions = []\n",
    "    for i in range(1, max_clusters +1):\n",
    "        km = KMeans(n_clusters=i,\n",
    "                    init='k-means++',\n",
    "                    n_init=10,\n",
    "                    random_state=0)\n",
    "        km.fit(X)\n",
    "        distortions.append(km.inertia_)\n",
    "\n",
    "    plt.plot(range(1,max_clusters +1), distortions, marker='o')\n",
    "    plt.xlabel('Number of clusters')\n",
    "    plt.ylabel('Distortion')\n",
    "    plt.show() "
   ]
  },
  {
   "cell_type": "code",
   "execution_count": 42,
   "metadata": {},
   "outputs": [
    {
     "name": "stderr",
     "output_type": "stream",
     "text": [
      "C:\\Users\\ivanh\\anaconda3\\lib\\site-packages\\sklearn\\cluster\\_kmeans.py:881: UserWarning: KMeans is known to have a memory leak on Windows with MKL, when there are less chunks than available threads. You can avoid it by setting the environment variable OMP_NUM_THREADS=3.\n",
      "  warnings.warn(\n"
     ]
    },
    {
     "data": {
      "image/png": "[encoded data removed]",
      "text/plain": [
       "<Figure size 432x288 with 1 Axes>"
      ]
     },
     "metadata": {
      "needs_background": "light"
     },
     "output_type": "display_data"
    }
   ],
   "source": [
    "# elbow rule\n",
    "plot_distortion(Z,max_clusters=10)"
   ]
  },
  {
   "cell_type": "code",
   "execution_count": 43,
   "metadata": {},
   "outputs": [],
   "source": [
    "km = KMeans(n_clusters=3, # how many clusters we expected \n",
    "            n_init=10, # how many initial runs\n",
    "            random_state=0)"
   ]
  },
  {
   "cell_type": "code",
   "execution_count": 155,
   "metadata": {},
   "outputs": [],
   "source": [
    "# fit and predict\n",
    "y_km = km.fit_predict(Z)\n",
    "y_km2 = km.fit(Z)"
   ]
  },
  {
   "cell_type": "code",
   "execution_count": 156,
   "metadata": {},
   "outputs": [],
   "source": [
    "def plot_clusters(X,y_res, plt_cluster_centers = False):\n",
    "    X_centroids = []\n",
    "    Y_centroids = []\n",
    "\n",
    "    for cluster in set(y_res):\n",
    "        \n",
    "        x = X[y_res == cluster,0]\n",
    "        y = X[y_res == cluster,1]\n",
    "        X_centroids.append(np.mean(x))\n",
    "        Y_centroids.append(np.mean(y))\n",
    "\n",
    "        plt.scatter(x,\n",
    "                    y,\n",
    "                    s=50,\n",
    "                    marker='s',\n",
    "                    label=f'cluster {cluster}')\n",
    "\n",
    "    if plt_cluster_centers:\n",
    "        plt.scatter(X_centroids,\n",
    "                    Y_centroids,\n",
    "                    marker='*',\n",
    "                    c='red',\n",
    "                    s=250,\n",
    "                    label='centroids')\n",
    "    plt.legend()\n",
    "    plt.grid()\n",
    "    plt.show()"
   ]
  },
  {
   "cell_type": "code",
   "execution_count": 157,
   "metadata": {
    "tags": []
   },
   "outputs": [
    {
     "data": {
      "image/png": "[encoded data removed]",
      "text/plain": [
       "<Figure size 432x288 with 1 Axes>"
      ]
     },
     "metadata": {
      "needs_background": "light"
     },
     "output_type": "display_data"
    }
   ],
   "source": [
    " # plot clustering result\n",
    "plot_clusters(Z, y_km, plt_cluster_centers= True)"
   ]
  },
  {
   "cell_type": "markdown",
   "metadata": {},
   "source": [
    "### Cluster with Marital and gender dummy"
   ]
  },
  {
   "cell_type": "code",
   "execution_count": 158,
   "metadata": {},
   "outputs": [
    {
     "name": "stderr",
     "output_type": "stream",
     "text": [
      "C:\\Users\\ivanh\\anaconda3\\lib\\site-packages\\sklearn\\cluster\\_kmeans.py:881: UserWarning:\n",
      "\n",
      "KMeans is known to have a memory leak on Windows with MKL, when there are less chunks than available threads. You can avoid it by setting the environment variable OMP_NUM_THREADS=3.\n",
      "\n"
     ]
    },
    {
     "data": {
      "image/png": "[encoded data removed]",
      "text/plain": [
       "<Figure size 432x288 with 1 Axes>"
      ]
     },
     "metadata": {
      "needs_background": "light"
     },
     "output_type": "display_data"
    }
   ],
   "source": [
    "# elbow rule\n",
    "plot_distortion(A,max_clusters=10)\n"
   ]
  },
  {
   "cell_type": "code",
   "execution_count": 159,
   "metadata": {
    "tags": []
   },
   "outputs": [],
   "source": [
    "km = KMeans(n_clusters=3, # how many clusters we expected \n",
    "            n_init=10, # how many initial runs\n",
    "            random_state=0)"
   ]
  },
  {
   "cell_type": "code",
   "execution_count": 160,
   "metadata": {
    "tags": []
   },
   "outputs": [],
   "source": [
    "# fit and predict\n",
    "y_km_M = km.fit_predict(A)\n",
    "y_km_marital = km.fit(A)"
   ]
  },
  {
   "cell_type": "code",
   "execution_count": 161,
   "metadata": {
    "tags": []
   },
   "outputs": [
    {
     "data": {
      "image/png": "[encoded data removed]",
      "text/plain": [
       "<Figure size 432x288 with 1 Axes>"
      ]
     },
     "metadata": {
      "needs_background": "light"
     },
     "output_type": "display_data"
    }
   ],
   "source": [
    " # plot clustering result\n",
    "plot_clusters(A, y_km_M, plt_cluster_centers= True)"
   ]
  },
  {
   "cell_type": "code",
   "execution_count": 162,
   "metadata": {},
   "outputs": [],
   "source": [
    "\n",
    "cluster_map_marital =  pd.DataFrame()\n",
    "cluster_map_marital['data_index'] = final_data_marital.index.values\n",
    "cluster_map_marital['cluster'] = y_km_marital.labels_\n"
   ]
  },
  {
   "cell_type": "code",
   "execution_count": 163,
   "metadata": {},
   "outputs": [],
   "source": [
    "cluster_map = pd.DataFrame()\n",
    "cluster_map['data_index'] = final_data2.index.values\n",
    "cluster_map['cluster']= y_km2.labels_"
   ]
  },
  {
   "cell_type": "code",
   "execution_count": 164,
   "metadata": {},
   "outputs": [],
   "source": [
    "final_data_radar =final_data2\n",
    "data_marital_testing =  final_data_marital"
   ]
  },
  {
   "cell_type": "code",
   "execution_count": 165,
   "metadata": {},
   "outputs": [],
   "source": [
    "final_data_radar['cluster'] = cluster_map.cluster\n",
    "data_marital_testing['cluster']= cluster_map_marital.cluster"
   ]
  },
  {
   "cell_type": "code",
   "execution_count": 119,
   "metadata": {},
   "outputs": [
    {
     "data": {
      "text/html": [
       "<div>\n",
       "<style scoped>\n",
       "    .dataframe tbody tr th:only-of-type {\n",
       "        vertical-align: middle;\n",
       "    }\n",
       "\n",
       "    .dataframe tbody tr th {\n",
       "        vertical-align: top;\n",
       "    }\n",
       "\n",
       "    .dataframe thead th {\n",
       "        text-align: right;\n",
       "    }\n",
       "</style>\n",
       "<table border=\"1\" class=\"dataframe\">\n",
       "  <thead>\n",
       "    <tr style=\"text-align: right;\">\n",
       "      <th></th>\n",
       "      <th>income</th>\n",
       "      <th>age</th>\n",
       "      <th>years_with_bank</th>\n",
       "      <th>nbr_children</th>\n",
       "      <th>marital_status</th>\n",
       "      <th>gender_F</th>\n",
       "      <th>gender_M</th>\n",
       "      <th>cluster</th>\n",
       "    </tr>\n",
       "  </thead>\n",
       "  <tbody>\n",
       "    <tr>\n",
       "      <th>0</th>\n",
       "      <td>0.181399</td>\n",
       "      <td>0.434211</td>\n",
       "      <td>0.555556</td>\n",
       "      <td>0.2</td>\n",
       "      <td>0.333333</td>\n",
       "      <td>0.0</td>\n",
       "      <td>1.0</td>\n",
       "      <td>0</td>\n",
       "    </tr>\n",
       "    <tr>\n",
       "      <th>1</th>\n",
       "      <td>0.045818</td>\n",
       "      <td>0.763158</td>\n",
       "      <td>0.111111</td>\n",
       "      <td>0.0</td>\n",
       "      <td>0.333333</td>\n",
       "      <td>0.0</td>\n",
       "      <td>1.0</td>\n",
       "      <td>0</td>\n",
       "    </tr>\n",
       "    <tr>\n",
       "      <th>2</th>\n",
       "      <td>0.128665</td>\n",
       "      <td>0.328947</td>\n",
       "      <td>0.888889</td>\n",
       "      <td>0.0</td>\n",
       "      <td>0.000000</td>\n",
       "      <td>1.0</td>\n",
       "      <td>0.0</td>\n",
       "      <td>2</td>\n",
       "    </tr>\n",
       "    <tr>\n",
       "      <th>3</th>\n",
       "      <td>0.330667</td>\n",
       "      <td>0.539474</td>\n",
       "      <td>0.333333</td>\n",
       "      <td>0.0</td>\n",
       "      <td>0.000000</td>\n",
       "      <td>1.0</td>\n",
       "      <td>0.0</td>\n",
       "      <td>2</td>\n",
       "    </tr>\n",
       "    <tr>\n",
       "      <th>4</th>\n",
       "      <td>0.309066</td>\n",
       "      <td>0.605263</td>\n",
       "      <td>1.000000</td>\n",
       "      <td>0.4</td>\n",
       "      <td>1.000000</td>\n",
       "      <td>1.0</td>\n",
       "      <td>0.0</td>\n",
       "      <td>1</td>\n",
       "    </tr>\n",
       "    <tr>\n",
       "      <th>...</th>\n",
       "      <td>...</td>\n",
       "      <td>...</td>\n",
       "      <td>...</td>\n",
       "      <td>...</td>\n",
       "      <td>...</td>\n",
       "      <td>...</td>\n",
       "      <td>...</td>\n",
       "      <td>...</td>\n",
       "    </tr>\n",
       "    <tr>\n",
       "      <th>742</th>\n",
       "      <td>0.102631</td>\n",
       "      <td>0.302632</td>\n",
       "      <td>0.666667</td>\n",
       "      <td>0.2</td>\n",
       "      <td>1.000000</td>\n",
       "      <td>1.0</td>\n",
       "      <td>0.0</td>\n",
       "      <td>1</td>\n",
       "    </tr>\n",
       "    <tr>\n",
       "      <th>743</th>\n",
       "      <td>0.183043</td>\n",
       "      <td>0.565789</td>\n",
       "      <td>0.666667</td>\n",
       "      <td>0.2</td>\n",
       "      <td>0.333333</td>\n",
       "      <td>0.0</td>\n",
       "      <td>1.0</td>\n",
       "      <td>0</td>\n",
       "    </tr>\n",
       "    <tr>\n",
       "      <th>744</th>\n",
       "      <td>0.425231</td>\n",
       "      <td>0.486842</td>\n",
       "      <td>0.000000</td>\n",
       "      <td>0.4</td>\n",
       "      <td>0.333333</td>\n",
       "      <td>0.0</td>\n",
       "      <td>1.0</td>\n",
       "      <td>0</td>\n",
       "    </tr>\n",
       "    <tr>\n",
       "      <th>745</th>\n",
       "      <td>0.104747</td>\n",
       "      <td>0.315789</td>\n",
       "      <td>0.777778</td>\n",
       "      <td>0.0</td>\n",
       "      <td>0.333333</td>\n",
       "      <td>1.0</td>\n",
       "      <td>0.0</td>\n",
       "      <td>2</td>\n",
       "    </tr>\n",
       "    <tr>\n",
       "      <th>746</th>\n",
       "      <td>0.123997</td>\n",
       "      <td>0.065789</td>\n",
       "      <td>0.333333</td>\n",
       "      <td>0.0</td>\n",
       "      <td>0.000000</td>\n",
       "      <td>1.0</td>\n",
       "      <td>0.0</td>\n",
       "      <td>2</td>\n",
       "    </tr>\n",
       "  </tbody>\n",
       "</table>\n",
       "<p>747 rows × 8 columns</p>\n",
       "</div>"
      ],
      "text/plain": [
       "       income       age  years_with_bank  nbr_children  marital_status  \\\n",
       "0    0.181399  0.434211         0.555556           0.2        0.333333   \n",
       "1    0.045818  0.763158         0.111111           0.0        0.333333   \n",
       "2    0.128665  0.328947         0.888889           0.0        0.000000   \n",
       "3    0.330667  0.539474         0.333333           0.0        0.000000   \n",
       "4    0.309066  0.605263         1.000000           0.4        1.000000   \n",
       "..        ...       ...              ...           ...             ...   \n",
       "742  0.102631  0.302632         0.666667           0.2        1.000000   \n",
       "743  0.183043  0.565789         0.666667           0.2        0.333333   \n",
       "744  0.425231  0.486842         0.000000           0.4        0.333333   \n",
       "745  0.104747  0.315789         0.777778           0.0        0.333333   \n",
       "746  0.123997  0.065789         0.333333           0.0        0.000000   \n",
       "\n",
       "     gender_F   gender_M   cluster  \n",
       "0          0.0        1.0        0  \n",
       "1          0.0        1.0        0  \n",
       "2          1.0        0.0        2  \n",
       "3          1.0        0.0        2  \n",
       "4          1.0        0.0        1  \n",
       "..         ...        ...      ...  \n",
       "742        1.0        0.0        1  \n",
       "743        0.0        1.0        0  \n",
       "744        0.0        1.0        0  \n",
       "745        1.0        0.0        2  \n",
       "746        1.0        0.0        2  \n",
       "\n",
       "[747 rows x 8 columns]"
      ]
     },
     "execution_count": 119,
     "metadata": {},
     "output_type": "execute_result"
    }
   ],
   "source": [
    "final_data_radar"
   ]
  },
  {
   "cell_type": "code",
   "execution_count": 166,
   "metadata": {},
   "outputs": [
    {
     "data": {
      "text/html": [
       "<div>\n",
       "<style scoped>\n",
       "    .dataframe tbody tr th:only-of-type {\n",
       "        vertical-align: middle;\n",
       "    }\n",
       "\n",
       "    .dataframe tbody tr th {\n",
       "        vertical-align: top;\n",
       "    }\n",
       "\n",
       "    .dataframe thead th {\n",
       "        text-align: right;\n",
       "    }\n",
       "</style>\n",
       "<table border=\"1\" class=\"dataframe\">\n",
       "  <thead>\n",
       "    <tr style=\"text-align: right;\">\n",
       "      <th></th>\n",
       "      <th>income</th>\n",
       "      <th>age</th>\n",
       "      <th>years_with_bank</th>\n",
       "      <th>nbr_children</th>\n",
       "      <th>gender_F</th>\n",
       "      <th>gender_M</th>\n",
       "      <th>marital_status_1</th>\n",
       "      <th>marital_status_2</th>\n",
       "      <th>marital_status_3</th>\n",
       "      <th>marital_status_4</th>\n",
       "      <th>cluster</th>\n",
       "    </tr>\n",
       "  </thead>\n",
       "  <tbody>\n",
       "    <tr>\n",
       "      <th>0</th>\n",
       "      <td>0.181399</td>\n",
       "      <td>0.434211</td>\n",
       "      <td>0.555556</td>\n",
       "      <td>0.2</td>\n",
       "      <td>0.0</td>\n",
       "      <td>1.0</td>\n",
       "      <td>0.0</td>\n",
       "      <td>1.0</td>\n",
       "      <td>0.0</td>\n",
       "      <td>0.0</td>\n",
       "      <td>0</td>\n",
       "    </tr>\n",
       "    <tr>\n",
       "      <th>1</th>\n",
       "      <td>0.045818</td>\n",
       "      <td>0.763158</td>\n",
       "      <td>0.111111</td>\n",
       "      <td>0.0</td>\n",
       "      <td>0.0</td>\n",
       "      <td>1.0</td>\n",
       "      <td>0.0</td>\n",
       "      <td>1.0</td>\n",
       "      <td>0.0</td>\n",
       "      <td>0.0</td>\n",
       "      <td>0</td>\n",
       "    </tr>\n",
       "    <tr>\n",
       "      <th>2</th>\n",
       "      <td>0.128665</td>\n",
       "      <td>0.328947</td>\n",
       "      <td>0.888889</td>\n",
       "      <td>0.0</td>\n",
       "      <td>1.0</td>\n",
       "      <td>0.0</td>\n",
       "      <td>1.0</td>\n",
       "      <td>0.0</td>\n",
       "      <td>0.0</td>\n",
       "      <td>0.0</td>\n",
       "      <td>2</td>\n",
       "    </tr>\n",
       "    <tr>\n",
       "      <th>3</th>\n",
       "      <td>0.330667</td>\n",
       "      <td>0.539474</td>\n",
       "      <td>0.333333</td>\n",
       "      <td>0.0</td>\n",
       "      <td>1.0</td>\n",
       "      <td>0.0</td>\n",
       "      <td>1.0</td>\n",
       "      <td>0.0</td>\n",
       "      <td>0.0</td>\n",
       "      <td>0.0</td>\n",
       "      <td>2</td>\n",
       "    </tr>\n",
       "    <tr>\n",
       "      <th>4</th>\n",
       "      <td>0.309066</td>\n",
       "      <td>0.605263</td>\n",
       "      <td>1.000000</td>\n",
       "      <td>0.4</td>\n",
       "      <td>1.0</td>\n",
       "      <td>0.0</td>\n",
       "      <td>0.0</td>\n",
       "      <td>0.0</td>\n",
       "      <td>0.0</td>\n",
       "      <td>1.0</td>\n",
       "      <td>1</td>\n",
       "    </tr>\n",
       "    <tr>\n",
       "      <th>...</th>\n",
       "      <td>...</td>\n",
       "      <td>...</td>\n",
       "      <td>...</td>\n",
       "      <td>...</td>\n",
       "      <td>...</td>\n",
       "      <td>...</td>\n",
       "      <td>...</td>\n",
       "      <td>...</td>\n",
       "      <td>...</td>\n",
       "      <td>...</td>\n",
       "      <td>...</td>\n",
       "    </tr>\n",
       "    <tr>\n",
       "      <th>742</th>\n",
       "      <td>0.102631</td>\n",
       "      <td>0.302632</td>\n",
       "      <td>0.666667</td>\n",
       "      <td>0.2</td>\n",
       "      <td>1.0</td>\n",
       "      <td>0.0</td>\n",
       "      <td>0.0</td>\n",
       "      <td>0.0</td>\n",
       "      <td>0.0</td>\n",
       "      <td>1.0</td>\n",
       "      <td>1</td>\n",
       "    </tr>\n",
       "    <tr>\n",
       "      <th>743</th>\n",
       "      <td>0.183043</td>\n",
       "      <td>0.565789</td>\n",
       "      <td>0.666667</td>\n",
       "      <td>0.2</td>\n",
       "      <td>0.0</td>\n",
       "      <td>1.0</td>\n",
       "      <td>0.0</td>\n",
       "      <td>1.0</td>\n",
       "      <td>0.0</td>\n",
       "      <td>0.0</td>\n",
       "      <td>0</td>\n",
       "    </tr>\n",
       "    <tr>\n",
       "      <th>744</th>\n",
       "      <td>0.425231</td>\n",
       "      <td>0.486842</td>\n",
       "      <td>0.000000</td>\n",
       "      <td>0.4</td>\n",
       "      <td>0.0</td>\n",
       "      <td>1.0</td>\n",
       "      <td>0.0</td>\n",
       "      <td>1.0</td>\n",
       "      <td>0.0</td>\n",
       "      <td>0.0</td>\n",
       "      <td>0</td>\n",
       "    </tr>\n",
       "    <tr>\n",
       "      <th>745</th>\n",
       "      <td>0.104747</td>\n",
       "      <td>0.315789</td>\n",
       "      <td>0.777778</td>\n",
       "      <td>0.0</td>\n",
       "      <td>1.0</td>\n",
       "      <td>0.0</td>\n",
       "      <td>0.0</td>\n",
       "      <td>1.0</td>\n",
       "      <td>0.0</td>\n",
       "      <td>0.0</td>\n",
       "      <td>1</td>\n",
       "    </tr>\n",
       "    <tr>\n",
       "      <th>746</th>\n",
       "      <td>0.123997</td>\n",
       "      <td>0.065789</td>\n",
       "      <td>0.333333</td>\n",
       "      <td>0.0</td>\n",
       "      <td>1.0</td>\n",
       "      <td>0.0</td>\n",
       "      <td>1.0</td>\n",
       "      <td>0.0</td>\n",
       "      <td>0.0</td>\n",
       "      <td>0.0</td>\n",
       "      <td>2</td>\n",
       "    </tr>\n",
       "  </tbody>\n",
       "</table>\n",
       "<p>747 rows × 11 columns</p>\n",
       "</div>"
      ],
      "text/plain": [
       "       income       age  years_with_bank  nbr_children  gender_F   gender_M   \\\n",
       "0    0.181399  0.434211         0.555556           0.2        0.0        1.0   \n",
       "1    0.045818  0.763158         0.111111           0.0        0.0        1.0   \n",
       "2    0.128665  0.328947         0.888889           0.0        1.0        0.0   \n",
       "3    0.330667  0.539474         0.333333           0.0        1.0        0.0   \n",
       "4    0.309066  0.605263         1.000000           0.4        1.0        0.0   \n",
       "..        ...       ...              ...           ...        ...        ...   \n",
       "742  0.102631  0.302632         0.666667           0.2        1.0        0.0   \n",
       "743  0.183043  0.565789         0.666667           0.2        0.0        1.0   \n",
       "744  0.425231  0.486842         0.000000           0.4        0.0        1.0   \n",
       "745  0.104747  0.315789         0.777778           0.0        1.0        0.0   \n",
       "746  0.123997  0.065789         0.333333           0.0        1.0        0.0   \n",
       "\n",
       "     marital_status_1  marital_status_2  marital_status_3  marital_status_4  \\\n",
       "0                 0.0               1.0               0.0               0.0   \n",
       "1                 0.0               1.0               0.0               0.0   \n",
       "2                 1.0               0.0               0.0               0.0   \n",
       "3                 1.0               0.0               0.0               0.0   \n",
       "4                 0.0               0.0               0.0               1.0   \n",
       "..                ...               ...               ...               ...   \n",
       "742               0.0               0.0               0.0               1.0   \n",
       "743               0.0               1.0               0.0               0.0   \n",
       "744               0.0               1.0               0.0               0.0   \n",
       "745               0.0               1.0               0.0               0.0   \n",
       "746               1.0               0.0               0.0               0.0   \n",
       "\n",
       "     cluster  \n",
       "0          0  \n",
       "1          0  \n",
       "2          2  \n",
       "3          2  \n",
       "4          1  \n",
       "..       ...  \n",
       "742        1  \n",
       "743        0  \n",
       "744        0  \n",
       "745        1  \n",
       "746        2  \n",
       "\n",
       "[747 rows x 11 columns]"
      ]
     },
     "execution_count": 166,
     "metadata": {},
     "output_type": "execute_result"
    }
   ],
   "source": [
    "data_marital_testing"
   ]
  },
  {
   "cell_type": "code",
   "execution_count": 135,
   "metadata": {},
   "outputs": [],
   "source": [
    "df_radar = final_data_radar.groupby('cluster').mean()"
   ]
  },
  {
   "cell_type": "code",
   "execution_count": 167,
   "metadata": {},
   "outputs": [],
   "source": [
    "df_radar_marital = data_marital_testing.groupby('cluster').mean() "
   ]
  },
  {
   "cell_type": "code",
   "execution_count": 136,
   "metadata": {},
   "outputs": [
    {
     "data": {
      "text/html": [
       "<div>\n",
       "<style scoped>\n",
       "    .dataframe tbody tr th:only-of-type {\n",
       "        vertical-align: middle;\n",
       "    }\n",
       "\n",
       "    .dataframe tbody tr th {\n",
       "        vertical-align: top;\n",
       "    }\n",
       "\n",
       "    .dataframe thead th {\n",
       "        text-align: right;\n",
       "    }\n",
       "</style>\n",
       "<table border=\"1\" class=\"dataframe\">\n",
       "  <thead>\n",
       "    <tr style=\"text-align: right;\">\n",
       "      <th></th>\n",
       "      <th>income</th>\n",
       "      <th>age</th>\n",
       "      <th>years_with_bank</th>\n",
       "      <th>nbr_children</th>\n",
       "      <th>marital_status</th>\n",
       "      <th>gender_F</th>\n",
       "      <th>gender_M</th>\n",
       "    </tr>\n",
       "    <tr>\n",
       "      <th>cluster</th>\n",
       "      <th></th>\n",
       "      <th></th>\n",
       "      <th></th>\n",
       "      <th></th>\n",
       "      <th></th>\n",
       "      <th></th>\n",
       "      <th></th>\n",
       "    </tr>\n",
       "  </thead>\n",
       "  <tbody>\n",
       "    <tr>\n",
       "      <th>0</th>\n",
       "      <td>0.183173</td>\n",
       "      <td>0.390298</td>\n",
       "      <td>0.435664</td>\n",
       "      <td>0.145289</td>\n",
       "      <td>0.293820</td>\n",
       "      <td>0.0</td>\n",
       "      <td>1.0</td>\n",
       "    </tr>\n",
       "    <tr>\n",
       "      <th>1</th>\n",
       "      <td>0.172217</td>\n",
       "      <td>0.499402</td>\n",
       "      <td>0.435721</td>\n",
       "      <td>0.238017</td>\n",
       "      <td>0.484848</td>\n",
       "      <td>1.0</td>\n",
       "      <td>0.0</td>\n",
       "    </tr>\n",
       "    <tr>\n",
       "      <th>2</th>\n",
       "      <td>0.089966</td>\n",
       "      <td>0.230039</td>\n",
       "      <td>0.429293</td>\n",
       "      <td>0.007955</td>\n",
       "      <td>0.032197</td>\n",
       "      <td>1.0</td>\n",
       "      <td>0.0</td>\n",
       "    </tr>\n",
       "  </tbody>\n",
       "</table>\n",
       "</div>"
      ],
      "text/plain": [
       "           income       age  years_with_bank  nbr_children  marital_status  \\\n",
       "cluster                                                                      \n",
       "0        0.183173  0.390298         0.435664      0.145289        0.293820   \n",
       "1        0.172217  0.499402         0.435721      0.238017        0.484848   \n",
       "2        0.089966  0.230039         0.429293      0.007955        0.032197   \n",
       "\n",
       "         gender_F   gender_M   \n",
       "cluster                        \n",
       "0              0.0        1.0  \n",
       "1              1.0        0.0  \n",
       "2              1.0        0.0  "
      ]
     },
     "execution_count": 136,
     "metadata": {},
     "output_type": "execute_result"
    }
   ],
   "source": [
    "df_radar"
   ]
  },
  {
   "cell_type": "code",
   "execution_count": 168,
   "metadata": {},
   "outputs": [
    {
     "data": {
      "text/html": [
       "<div>\n",
       "<style scoped>\n",
       "    .dataframe tbody tr th:only-of-type {\n",
       "        vertical-align: middle;\n",
       "    }\n",
       "\n",
       "    .dataframe tbody tr th {\n",
       "        vertical-align: top;\n",
       "    }\n",
       "\n",
       "    .dataframe thead th {\n",
       "        text-align: right;\n",
       "    }\n",
       "</style>\n",
       "<table border=\"1\" class=\"dataframe\">\n",
       "  <thead>\n",
       "    <tr style=\"text-align: right;\">\n",
       "      <th></th>\n",
       "      <th>income</th>\n",
       "      <th>age</th>\n",
       "      <th>years_with_bank</th>\n",
       "      <th>nbr_children</th>\n",
       "      <th>gender_F</th>\n",
       "      <th>gender_M</th>\n",
       "      <th>marital_status_1</th>\n",
       "      <th>marital_status_2</th>\n",
       "      <th>marital_status_3</th>\n",
       "      <th>marital_status_4</th>\n",
       "    </tr>\n",
       "    <tr>\n",
       "      <th>cluster</th>\n",
       "      <th></th>\n",
       "      <th></th>\n",
       "      <th></th>\n",
       "      <th></th>\n",
       "      <th></th>\n",
       "      <th></th>\n",
       "      <th></th>\n",
       "      <th></th>\n",
       "      <th></th>\n",
       "      <th></th>\n",
       "    </tr>\n",
       "  </thead>\n",
       "  <tbody>\n",
       "    <tr>\n",
       "      <th>0</th>\n",
       "      <td>0.183173</td>\n",
       "      <td>0.390298</td>\n",
       "      <td>0.435664</td>\n",
       "      <td>0.145289</td>\n",
       "      <td>0.0</td>\n",
       "      <td>1.0</td>\n",
       "      <td>0.355623</td>\n",
       "      <td>0.49848</td>\n",
       "      <td>0.054711</td>\n",
       "      <td>0.091185</td>\n",
       "    </tr>\n",
       "    <tr>\n",
       "      <th>1</th>\n",
       "      <td>0.166264</td>\n",
       "      <td>0.480746</td>\n",
       "      <td>0.437580</td>\n",
       "      <td>0.227799</td>\n",
       "      <td>1.0</td>\n",
       "      <td>0.0</td>\n",
       "      <td>0.000000</td>\n",
       "      <td>0.72973</td>\n",
       "      <td>0.115830</td>\n",
       "      <td>0.154440</td>\n",
       "    </tr>\n",
       "    <tr>\n",
       "      <th>2</th>\n",
       "      <td>0.090869</td>\n",
       "      <td>0.231629</td>\n",
       "      <td>0.425577</td>\n",
       "      <td>0.000000</td>\n",
       "      <td>1.0</td>\n",
       "      <td>0.0</td>\n",
       "      <td>1.000000</td>\n",
       "      <td>0.00000</td>\n",
       "      <td>0.000000</td>\n",
       "      <td>0.000000</td>\n",
       "    </tr>\n",
       "  </tbody>\n",
       "</table>\n",
       "</div>"
      ],
      "text/plain": [
       "           income       age  years_with_bank  nbr_children  gender_F   \\\n",
       "cluster                                                                 \n",
       "0        0.183173  0.390298         0.435664      0.145289        0.0   \n",
       "1        0.166264  0.480746         0.437580      0.227799        1.0   \n",
       "2        0.090869  0.231629         0.425577      0.000000        1.0   \n",
       "\n",
       "         gender_M   marital_status_1  marital_status_2  marital_status_3  \\\n",
       "cluster                                                                    \n",
       "0              1.0          0.355623           0.49848          0.054711   \n",
       "1              0.0          0.000000           0.72973          0.115830   \n",
       "2              0.0          1.000000           0.00000          0.000000   \n",
       "\n",
       "         marital_status_4  \n",
       "cluster                    \n",
       "0                0.091185  \n",
       "1                0.154440  \n",
       "2                0.000000  "
      ]
     },
     "execution_count": 168,
     "metadata": {},
     "output_type": "execute_result"
    }
   ],
   "source": [
    "df_radar_marital"
   ]
  },
  {
   "cell_type": "code",
   "execution_count": 137,
   "metadata": {},
   "outputs": [],
   "source": [
    "# function that plots radar chart\n",
    "def plot_radarchart(df):\n",
    "    data = []\n",
    "    for i in range(0,len(df)):\n",
    "        data.append(go.Scatterpolar(r = df.iloc[i].values,\n",
    "                                    theta = df.iloc[i].index,\n",
    "                                    name = f'cluster{df.index[i]}',\n",
    "                                    fill = 'toself'))\n",
    "\n",
    "    #mean line\n",
    "    data.append(go.Scatterpolar(r = [0,1]* df.shape[1],\n",
    "                                theta= df.columns,\n",
    "                                name = 'mean',\n",
    "                                fill = 'toself'))\n",
    "\n",
    "    layout = go.Layout(polar = dict(radialaxis = dict(visible = True)),\n",
    "                       showlegend = True)\n",
    "    fig = go.Figure(data = data, layout = layout)\n",
    "    fig.show()"
   ]
  },
  {
   "cell_type": "code",
   "execution_count": 138,
   "metadata": {},
   "outputs": [
    {
     "data": {
      "application/vnd.plotly.v1+json": {
       "config": {
        "plotlyServerURL": "https://plot.ly"
       },
       "data": [
        {
         "fill": "toself",
         "name": "cluster0",
         "r": [
          0.1831731584946867,
          0.39029755239161734,
          0.43566362715298906,
          0.14528875379939207,
          0.29381965552178296,
          0,
          1
         ],
         "theta": [
          "income",
          "age",
          "years_with_bank",
          "nbr_children",
          "marital_status",
          "gender_F ",
          "gender_M "
         ],
         "type": "scatterpolar"
        },
        {
         "fill": "toself",
         "name": "cluster1",
         "r": [
          0.17221705077401547,
          0.49940191387559824,
          0.43572084481175405,
          0.23801652892561984,
          0.4848484848484841,
          1,
          0
         ],
         "theta": [
          "income",
          "age",
          "years_with_bank",
          "nbr_children",
          "marital_status",
          "gender_F ",
          "gender_M "
         ],
         "type": "scatterpolar"
        },
        {
         "fill": "toself",
         "name": "cluster2",
         "r": [
          0.0899662268473703,
          0.23003887559808625,
          0.4292929292929293,
          0.007954545454545454,
          0.03219696969696969,
          1,
          0
         ],
         "theta": [
          "income",
          "age",
          "years_with_bank",
          "nbr_children",
          "marital_status",
          "gender_F ",
          "gender_M "
         ],
         "type": "scatterpolar"
        },
        {
         "fill": "toself",
         "name": "mean",
         "r": [
          0,
          1,
          0,
          1,
          0,
          1,
          0,
          1,
          0,
          1,
          0,
          1,
          0,
          1
         ],
         "theta": [
          "income",
          "age",
          "years_with_bank",
          "nbr_children",
          "marital_status",
          "gender_F ",
          "gender_M "
         ],
         "type": "scatterpolar"
        }
       ],
       "layout": {
        "autosize": true,
        "polar": {
         "angularaxis": {
          "type": "category"
         },
         "radialaxis": {
          "autorange": true,
          "range": [
           0,
           1.0434782608695652
          ],
          "type": "linear",
          "visible": true
         }
        },
        "showlegend": true,
        "template": {
         "data": {
          "bar": [
           {
            "error_x": {
             "color": "#2a3f5f"
            },
            "error_y": {
             "color": "#2a3f5f"
            },
            "marker": {
             "line": {
              "color": "#E5ECF6",
              "width": 0.5
             },
             "pattern": {
              "fillmode": "overlay",
              "size": 10,
              "solidity": 0.2
             }
            },
            "type": "bar"
           }
          ],
          "barpolar": [
           {
            "marker": {
             "line": {
              "color": "#E5ECF6",
              "width": 0.5
             },
             "pattern": {
              "fillmode": "overlay",
              "size": 10,
              "solidity": 0.2
             }
            },
            "type": "barpolar"
           }
          ],
          "carpet": [
           {
            "aaxis": {
             "endlinecolor": "#2a3f5f",
             "gridcolor": "white",
             "linecolor": "white",
             "minorgridcolor": "white",
             "startlinecolor": "#2a3f5f"
            },
            "baxis": {
             "endlinecolor": "#2a3f5f",
             "gridcolor": "white",
             "linecolor": "white",
             "minorgridcolor": "white",
             "startlinecolor": "#2a3f5f"
            },
            "type": "carpet"
           }
          ],
          "choropleth": [
           {
            "colorbar": {
             "outlinewidth": 0,
             "ticks": ""
            },
            "type": "choropleth"
           }
          ],
          "contour": [
           {
            "colorbar": {
             "outlinewidth": 0,
             "ticks": ""
            },
            "colorscale": [
             [
              0,
              "#0d0887"
             ],
             [
              0.1111111111111111,
              "#46039f"
             ],
             [
              0.2222222222222222,
              "#7201a8"
             ],
             [
              0.3333333333333333,
              "#9c179e"
             ],
             [
              0.4444444444444444,
              "#bd3786"
             ],
             [
              0.5555555555555556,
              "#d8576b"
             ],
             [
              0.6666666666666666,
              "#ed7953"
             ],
             [
              0.7777777777777778,
              "#fb9f3a"
             ],
             [
              0.8888888888888888,
              "#fdca26"
             ],
             [
              1,
              "#f0f921"
             ]
            ],
            "type": "contour"
           }
          ],
          "contourcarpet": [
           {
            "colorbar": {
             "outlinewidth": 0,
             "ticks": ""
            },
            "type": "contourcarpet"
           }
          ],
          "heatmap": [
           {
            "colorbar": {
             "outlinewidth": 0,
             "ticks": ""
            },
            "colorscale": [
             [
              0,
              "#0d0887"
             ],
             [
              0.1111111111111111,
              "#46039f"
             ],
             [
              0.2222222222222222,
              "#7201a8"
             ],
             [
              0.3333333333333333,
              "#9c179e"
             ],
             [
              0.4444444444444444,
              "#bd3786"
             ],
             [
              0.5555555555555556,
              "#d8576b"
             ],
             [
              0.6666666666666666,
              "#ed7953"
             ],
             [
              0.7777777777777778,
              "#fb9f3a"
             ],
             [
              0.8888888888888888,
              "#fdca26"
             ],
             [
              1,
              "#f0f921"
             ]
            ],
            "type": "heatmap"
           }
          ],
          "heatmapgl": [
           {
            "colorbar": {
             "outlinewidth": 0,
             "ticks": ""
            },
            "colorscale": [
             [
              0,
              "#0d0887"
             ],
             [
              0.1111111111111111,
              "#46039f"
             ],
             [
              0.2222222222222222,
              "#7201a8"
             ],
             [
              0.3333333333333333,
              "#9c179e"
             ],
             [
              0.4444444444444444,
              "#bd3786"
             ],
             [
              0.5555555555555556,
              "#d8576b"
             ],
             [
              0.6666666666666666,
              "#ed7953"
             ],
             [
              0.7777777777777778,
              "#fb9f3a"
             ],
             [
              0.8888888888888888,
              "#fdca26"
             ],
             [
              1,
              "#f0f921"
             ]
            ],
            "type": "heatmapgl"
           }
          ],
          "histogram": [
           {
            "marker": {
             "pattern": {
              "fillmode": "overlay",
              "size": 10,
              "solidity": 0.2
             }
            },
            "type": "histogram"
           }
          ],
          "histogram2d": [
           {
            "colorbar": {
             "outlinewidth": 0,
             "ticks": ""
            },
            "colorscale": [
             [
              0,
              "#0d0887"
             ],
             [
              0.1111111111111111,
              "#46039f"
             ],
             [
              0.2222222222222222,
              "#7201a8"
             ],
             [
              0.3333333333333333,
              "#9c179e"
             ],
             [
              0.4444444444444444,
              "#bd3786"
             ],
             [
              0.5555555555555556,
              "#d8576b"
             ],
             [
              0.6666666666666666,
              "#ed7953"
             ],
             [
              0.7777777777777778,
              "#fb9f3a"
             ],
             [
              0.8888888888888888,
              "#fdca26"
             ],
             [
              1,
              "#f0f921"
             ]
            ],
            "type": "histogram2d"
           }
          ],
          "histogram2dcontour": [
           {
            "colorbar": {
             "outlinewidth": 0,
             "ticks": ""
            },
            "colorscale": [
             [
              0,
              "#0d0887"
             ],
             [
              0.1111111111111111,
              "#46039f"
             ],
             [
              0.2222222222222222,
              "#7201a8"
             ],
             [
              0.3333333333333333,
              "#9c179e"
             ],
             [
              0.4444444444444444,
              "#bd3786"
             ],
             [
              0.5555555555555556,
              "#d8576b"
             ],
             [
              0.6666666666666666,
              "#ed7953"
             ],
             [
              0.7777777777777778,
              "#fb9f3a"
             ],
             [
              0.8888888888888888,
              "#fdca26"
             ],
             [
              1,
              "#f0f921"
             ]
            ],
            "type": "histogram2dcontour"
           }
          ],
          "mesh3d": [
           {
            "colorbar": {
             "outlinewidth": 0,
             "ticks": ""
            },
            "type": "mesh3d"
           }
          ],
          "parcoords": [
           {
            "line": {
             "colorbar": {
              "outlinewidth": 0,
              "ticks": ""
             }
            },
            "type": "parcoords"
           }
          ],
          "pie": [
           {
            "automargin": true,
            "type": "pie"
           }
          ],
          "scatter": [
           {
            "fillpattern": {
             "fillmode": "overlay",
             "size": 10,
             "solidity": 0.2
            },
            "type": "scatter"
           }
          ],
          "scatter3d": [
           {
            "line": {
             "colorbar": {
              "outlinewidth": 0,
              "ticks": ""
             }
            },
            "marker": {
             "colorbar": {
              "outlinewidth": 0,
              "ticks": ""
             }
            },
            "type": "scatter3d"
           }
          ],
          "scattercarpet": [
           {
            "marker": {
             "colorbar": {
              "outlinewidth": 0,
              "ticks": ""
             }
            },
            "type": "scattercarpet"
           }
          ],
          "scattergeo": [
           {
            "marker": {
             "colorbar": {
              "outlinewidth": 0,
              "ticks": ""
             }
            },
            "type": "scattergeo"
           }
          ],
          "scattergl": [
           {
            "marker": {
             "colorbar": {
              "outlinewidth": 0,
              "ticks": ""
             }
            },
            "type": "scattergl"
           }
          ],
          "scattermapbox": [
           {
            "marker": {
             "colorbar": {
              "outlinewidth": 0,
              "ticks": ""
             }
            },
            "type": "scattermapbox"
           }
          ],
          "scatterpolar": [
           {
            "marker": {
             "colorbar": {
              "outlinewidth": 0,
              "ticks": ""
             }
            },
            "type": "scatterpolar"
           }
          ],
          "scatterpolargl": [
           {
            "marker": {
             "colorbar": {
              "outlinewidth": 0,
              "ticks": ""
             }
            },
            "type": "scatterpolargl"
           }
          ],
          "scatterternary": [
           {
            "marker": {
             "colorbar": {
              "outlinewidth": 0,
              "ticks": ""
             }
            },
            "type": "scatterternary"
           }
          ],
          "surface": [
           {
            "colorbar": {
             "outlinewidth": 0,
             "ticks": ""
            },
            "colorscale": [
             [
              0,
              "#0d0887"
             ],
             [
              0.1111111111111111,
              "#46039f"
             ],
             [
              0.2222222222222222,
              "#7201a8"
             ],
             [
              0.3333333333333333,
              "#9c179e"
             ],
             [
              0.4444444444444444,
              "#bd3786"
             ],
             [
              0.5555555555555556,
              "#d8576b"
             ],
             [
              0.6666666666666666,
              "#ed7953"
             ],
             [
              0.7777777777777778,
              "#fb9f3a"
             ],
             [
              0.8888888888888888,
              "#fdca26"
             ],
             [
              1,
              "#f0f921"
             ]
            ],
            "type": "surface"
           }
          ],
          "table": [
           {
            "cells": {
             "fill": {
              "color": "#EBF0F8"
             },
             "line": {
              "color": "white"
             }
            },
            "header": {
             "fill": {
              "color": "#C8D4E3"
             },
             "line": {
              "color": "white"
             }
            },
            "type": "table"
           }
          ]
         },
         "layout": {
          "annotationdefaults": {
           "arrowcolor": "#2a3f5f",
           "arrowhead": 0,
           "arrowwidth": 1
          },
          "autotypenumbers": "strict",
          "coloraxis": {
           "colorbar": {
            "outlinewidth": 0,
            "ticks": ""
           }
          },
          "colorscale": {
           "diverging": [
            [
             0,
             "#8e0152"
            ],
            [
             0.1,
             "#c51b7d"
            ],
            [
             0.2,
             "#de77ae"
            ],
            [
             0.3,
             "#f1b6da"
            ],
            [
             0.4,
             "#fde0ef"
            ],
            [
             0.5,
             "#f7f7f7"
            ],
            [
             0.6,
             "#e6f5d0"
            ],
            [
             0.7,
             "#b8e186"
            ],
            [
             0.8,
             "#7fbc41"
            ],
            [
             0.9,
             "#4d9221"
            ],
            [
             1,
             "#276419"
            ]
           ],
           "sequential": [
            [
             0,
             "#0d0887"
            ],
            [
             0.1111111111111111,
             "#46039f"
            ],
            [
             0.2222222222222222,
             "#7201a8"
            ],
            [
             0.3333333333333333,
             "#9c179e"
            ],
            [
             0.4444444444444444,
             "#bd3786"
            ],
            [
             0.5555555555555556,
             "#d8576b"
            ],
            [
             0.6666666666666666,
             "#ed7953"
            ],
            [
             0.7777777777777778,
             "#fb9f3a"
            ],
            [
             0.8888888888888888,
             "#fdca26"
            ],
            [
             1,
             "#f0f921"
            ]
           ],
           "sequentialminus": [
            [
             0,
             "#0d0887"
            ],
            [
             0.1111111111111111,
             "#46039f"
            ],
            [
             0.2222222222222222,
             "#7201a8"
            ],
            [
             0.3333333333333333,
             "#9c179e"
            ],
            [
             0.4444444444444444,
             "#bd3786"
            ],
            [
             0.5555555555555556,
             "#d8576b"
            ],
            [
             0.6666666666666666,
             "#ed7953"
            ],
            [
             0.7777777777777778,
             "#fb9f3a"
            ],
            [
             0.8888888888888888,
             "#fdca26"
            ],
            [
             1,
             "#f0f921"
            ]
           ]
          },
          "colorway": [
           "#636efa",
           "#EF553B",
           "#00cc96",
           "#ab63fa",
           "#FFA15A",
           "#19d3f3",
           "#FF6692",
           "#B6E880",
           "#FF97FF",
           "#FECB52"
          ],
          "font": {
           "color": "#2a3f5f"
          },
          "geo": {
           "bgcolor": "white",
           "lakecolor": "white",
           "landcolor": "#E5ECF6",
           "showlakes": true,
           "showland": true,
           "subunitcolor": "white"
          },
          "hoverlabel": {
           "align": "left"
          },
          "hovermode": "closest",
          "mapbox": {
           "style": "light"
          },
          "paper_bgcolor": "white",
          "plot_bgcolor": "#E5ECF6",
          "polar": {
           "angularaxis": {
            "gridcolor": "white",
            "linecolor": "white",
            "ticks": ""
           },
           "bgcolor": "#E5ECF6",
           "radialaxis": {
            "gridcolor": "white",
            "linecolor": "white",
            "ticks": ""
           }
          },
          "scene": {
           "xaxis": {
            "backgroundcolor": "#E5ECF6",
            "gridcolor": "white",
            "gridwidth": 2,
            "linecolor": "white",
            "showbackground": true,
            "ticks": "",
            "zerolinecolor": "white"
           },
           "yaxis": {
            "backgroundcolor": "#E5ECF6",
            "gridcolor": "white",
            "gridwidth": 2,
            "linecolor": "white",
            "showbackground": true,
            "ticks": "",
            "zerolinecolor": "white"
           },
           "zaxis": {
            "backgroundcolor": "#E5ECF6",
            "gridcolor": "white",
            "gridwidth": 2,
            "linecolor": "white",
            "showbackground": true,
            "ticks": "",
            "zerolinecolor": "white"
           }
          },
          "shapedefaults": {
           "line": {
            "color": "#2a3f5f"
           }
          },
          "ternary": {
           "aaxis": {
            "gridcolor": "white",
            "linecolor": "white",
            "ticks": ""
           },
           "baxis": {
            "gridcolor": "white",
            "linecolor": "white",
            "ticks": ""
           },
           "bgcolor": "#E5ECF6",
           "caxis": {
            "gridcolor": "white",
            "linecolor": "white",
            "ticks": ""
           }
          },
          "title": {
           "x": 0.05
          },
          "xaxis": {
           "automargin": true,
           "gridcolor": "white",
           "linecolor": "white",
           "ticks": "",
           "title": {
            "standoff": 15
           },
           "zerolinecolor": "white",
           "zerolinewidth": 2
          },
          "yaxis": {
           "automargin": true,
           "gridcolor": "white",
           "linecolor": "white",
           "ticks": "",
           "title": {
            "standoff": 15
           },
           "zerolinecolor": "white",
           "zerolinewidth": 2
          }
         }
        }
       }
      },
      "image/png": "[encoded data removed]",
      "text/html": [
       "<div>                            <div id=\"65e389e5-3f80-42b4-b61f-790fe6a8cfb3\" class=\"plotly-graph-div\" style=\"height:525px; width:100%;\"></div>            <script type=\"text/javascript\">                require([\"plotly\"], function(Plotly) {                    window.PLOTLYENV=window.PLOTLYENV || {};                                    if (document.getElementById(\"65e389e5-3f80-42b4-b61f-790fe6a8cfb3\")) {                    Plotly.newPlot(                        \"65e389e5-3f80-42b4-b61f-790fe6a8cfb3\",                        [{\"fill\":\"toself\",\"name\":\"cluster0\",\"r\":[0.1831731584946867,0.39029755239161734,0.43566362715298906,0.14528875379939207,0.29381965552178296,0.0,1.0],\"theta\":[\"income\",\"age\",\"years_with_bank\",\"nbr_children\",\"marital_status\",\"gender_F \",\"gender_M \"],\"type\":\"scatterpolar\"},{\"fill\":\"toself\",\"name\":\"cluster1\",\"r\":[0.17221705077401547,0.49940191387559824,0.43572084481175405,0.23801652892561984,0.4848484848484841,1.0,0.0],\"theta\":[\"income\",\"age\",\"years_with_bank\",\"nbr_children\",\"marital_status\",\"gender_F \",\"gender_M \"],\"type\":\"scatterpolar\"},{\"fill\":\"toself\",\"name\":\"cluster2\",\"r\":[0.0899662268473703,0.23003887559808625,0.4292929292929293,0.007954545454545454,0.03219696969696969,1.0,0.0],\"theta\":[\"income\",\"age\",\"years_with_bank\",\"nbr_children\",\"marital_status\",\"gender_F \",\"gender_M \"],\"type\":\"scatterpolar\"},{\"fill\":\"toself\",\"name\":\"mean\",\"r\":[0,1,0,1,0,1,0,1,0,1,0,1,0,1],\"theta\":[\"income\",\"age\",\"years_with_bank\",\"nbr_children\",\"marital_status\",\"gender_F \",\"gender_M \"],\"type\":\"scatterpolar\"}],                        {\"polar\":{\"radialaxis\":{\"visible\":true}},\"showlegend\":true,\"template\":{\"data\":{\"histogram2dcontour\":[{\"type\":\"histogram2dcontour\",\"colorbar\":{\"outlinewidth\":0,\"ticks\":\"\"},\"colorscale\":[[0.0,\"#0d0887\"],[0.1111111111111111,\"#46039f\"],[0.2222222222222222,\"#7201a8\"],[0.3333333333333333,\"#9c179e\"],[0.4444444444444444,\"#bd3786\"],[0.5555555555555556,\"#d8576b\"],[0.6666666666666666,\"#ed7953\"],[0.7777777777777778,\"#fb9f3a\"],[0.8888888888888888,\"#fdca26\"],[1.0,\"#f0f921\"]]}],\"choropleth\":[{\"type\":\"choropleth\",\"colorbar\":{\"outlinewidth\":0,\"ticks\":\"\"}}],\"histogram2d\":[{\"type\":\"histogram2d\",\"colorbar\":{\"outlinewidth\":0,\"ticks\":\"\"},\"colorscale\":[[0.0,\"#0d0887\"],[0.1111111111111111,\"#46039f\"],[0.2222222222222222,\"#7201a8\"],[0.3333333333333333,\"#9c179e\"],[0.4444444444444444,\"#bd3786\"],[0.5555555555555556,\"#d8576b\"],[0.6666666666666666,\"#ed7953\"],[0.7777777777777778,\"#fb9f3a\"],[0.8888888888888888,\"#fdca26\"],[1.0,\"#f0f921\"]]}],\"heatmap\":[{\"type\":\"heatmap\",\"colorbar\":{\"outlinewidth\":0,\"ticks\":\"\"},\"colorscale\":[[0.0,\"#0d0887\"],[0.1111111111111111,\"#46039f\"],[0.2222222222222222,\"#7201a8\"],[0.3333333333333333,\"#9c179e\"],[0.4444444444444444,\"#bd3786\"],[0.5555555555555556,\"#d8576b\"],[0.6666666666666666,\"#ed7953\"],[0.7777777777777778,\"#fb9f3a\"],[0.8888888888888888,\"#fdca26\"],[1.0,\"#f0f921\"]]}],\"heatmapgl\":[{\"type\":\"heatmapgl\",\"colorbar\":{\"outlinewidth\":0,\"ticks\":\"\"},\"colorscale\":[[0.0,\"#0d0887\"],[0.1111111111111111,\"#46039f\"],[0.2222222222222222,\"#7201a8\"],[0.3333333333333333,\"#9c179e\"],[0.4444444444444444,\"#bd3786\"],[0.5555555555555556,\"#d8576b\"],[0.6666666666666666,\"#ed7953\"],[0.7777777777777778,\"#fb9f3a\"],[0.8888888888888888,\"#fdca26\"],[1.0,\"#f0f921\"]]}],\"contourcarpet\":[{\"type\":\"contourcarpet\",\"colorbar\":{\"outlinewidth\":0,\"ticks\":\"\"}}],\"contour\":[{\"type\":\"contour\",\"colorbar\":{\"outlinewidth\":0,\"ticks\":\"\"},\"colorscale\":[[0.0,\"#0d0887\"],[0.1111111111111111,\"#46039f\"],[0.2222222222222222,\"#7201a8\"],[0.3333333333333333,\"#9c179e\"],[0.4444444444444444,\"#bd3786\"],[0.5555555555555556,\"#d8576b\"],[0.6666666666666666,\"#ed7953\"],[0.7777777777777778,\"#fb9f3a\"],[0.8888888888888888,\"#fdca26\"],[1.0,\"#f0f921\"]]}],\"surface\":[{\"type\":\"surface\",\"colorbar\":{\"outlinewidth\":0,\"ticks\":\"\"},\"colorscale\":[[0.0,\"#0d0887\"],[0.1111111111111111,\"#46039f\"],[0.2222222222222222,\"#7201a8\"],[0.3333333333333333,\"#9c179e\"],[0.4444444444444444,\"#bd3786\"],[0.5555555555555556,\"#d8576b\"],[0.6666666666666666,\"#ed7953\"],[0.7777777777777778,\"#fb9f3a\"],[0.8888888888888888,\"#fdca26\"],[1.0,\"#f0f921\"]]}],\"mesh3d\":[{\"type\":\"mesh3d\",\"colorbar\":{\"outlinewidth\":0,\"ticks\":\"\"}}],\"scatter\":[{\"fillpattern\":{\"fillmode\":\"overlay\",\"size\":10,\"solidity\":0.2},\"type\":\"scatter\"}],\"parcoords\":[{\"type\":\"parcoords\",\"line\":{\"colorbar\":{\"outlinewidth\":0,\"ticks\":\"\"}}}],\"scatterpolargl\":[{\"type\":\"scatterpolargl\",\"marker\":{\"colorbar\":{\"outlinewidth\":0,\"ticks\":\"\"}}}],\"bar\":[{\"error_x\":{\"color\":\"#2a3f5f\"},\"error_y\":{\"color\":\"#2a3f5f\"},\"marker\":{\"line\":{\"color\":\"#E5ECF6\",\"width\":0.5},\"pattern\":{\"fillmode\":\"overlay\",\"size\":10,\"solidity\":0.2}},\"type\":\"bar\"}],\"scattergeo\":[{\"type\":\"scattergeo\",\"marker\":{\"colorbar\":{\"outlinewidth\":0,\"ticks\":\"\"}}}],\"scatterpolar\":[{\"type\":\"scatterpolar\",\"marker\":{\"colorbar\":{\"outlinewidth\":0,\"ticks\":\"\"}}}],\"histogram\":[{\"marker\":{\"pattern\":{\"fillmode\":\"overlay\",\"size\":10,\"solidity\":0.2}},\"type\":\"histogram\"}],\"scattergl\":[{\"type\":\"scattergl\",\"marker\":{\"colorbar\":{\"outlinewidth\":0,\"ticks\":\"\"}}}],\"scatter3d\":[{\"type\":\"scatter3d\",\"line\":{\"colorbar\":{\"outlinewidth\":0,\"ticks\":\"\"}},\"marker\":{\"colorbar\":{\"outlinewidth\":0,\"ticks\":\"\"}}}],\"scattermapbox\":[{\"type\":\"scattermapbox\",\"marker\":{\"colorbar\":{\"outlinewidth\":0,\"ticks\":\"\"}}}],\"scatterternary\":[{\"type\":\"scatterternary\",\"marker\":{\"colorbar\":{\"outlinewidth\":0,\"ticks\":\"\"}}}],\"scattercarpet\":[{\"type\":\"scattercarpet\",\"marker\":{\"colorbar\":{\"outlinewidth\":0,\"ticks\":\"\"}}}],\"carpet\":[{\"aaxis\":{\"endlinecolor\":\"#2a3f5f\",\"gridcolor\":\"white\",\"linecolor\":\"white\",\"minorgridcolor\":\"white\",\"startlinecolor\":\"#2a3f5f\"},\"baxis\":{\"endlinecolor\":\"#2a3f5f\",\"gridcolor\":\"white\",\"linecolor\":\"white\",\"minorgridcolor\":\"white\",\"startlinecolor\":\"#2a3f5f\"},\"type\":\"carpet\"}],\"table\":[{\"cells\":{\"fill\":{\"color\":\"#EBF0F8\"},\"line\":{\"color\":\"white\"}},\"header\":{\"fill\":{\"color\":\"#C8D4E3\"},\"line\":{\"color\":\"white\"}},\"type\":\"table\"}],\"barpolar\":[{\"marker\":{\"line\":{\"color\":\"#E5ECF6\",\"width\":0.5},\"pattern\":{\"fillmode\":\"overlay\",\"size\":10,\"solidity\":0.2}},\"type\":\"barpolar\"}],\"pie\":[{\"automargin\":true,\"type\":\"pie\"}]},\"layout\":{\"autotypenumbers\":\"strict\",\"colorway\":[\"#636efa\",\"#EF553B\",\"#00cc96\",\"#ab63fa\",\"#FFA15A\",\"#19d3f3\",\"#FF6692\",\"#B6E880\",\"#FF97FF\",\"#FECB52\"],\"font\":{\"color\":\"#2a3f5f\"},\"hovermode\":\"closest\",\"hoverlabel\":{\"align\":\"left\"},\"paper_bgcolor\":\"white\",\"plot_bgcolor\":\"#E5ECF6\",\"polar\":{\"bgcolor\":\"#E5ECF6\",\"angularaxis\":{\"gridcolor\":\"white\",\"linecolor\":\"white\",\"ticks\":\"\"},\"radialaxis\":{\"gridcolor\":\"white\",\"linecolor\":\"white\",\"ticks\":\"\"}},\"ternary\":{\"bgcolor\":\"#E5ECF6\",\"aaxis\":{\"gridcolor\":\"white\",\"linecolor\":\"white\",\"ticks\":\"\"},\"baxis\":{\"gridcolor\":\"white\",\"linecolor\":\"white\",\"ticks\":\"\"},\"caxis\":{\"gridcolor\":\"white\",\"linecolor\":\"white\",\"ticks\":\"\"}},\"coloraxis\":{\"colorbar\":{\"outlinewidth\":0,\"ticks\":\"\"}},\"colorscale\":{\"sequential\":[[0.0,\"#0d0887\"],[0.1111111111111111,\"#46039f\"],[0.2222222222222222,\"#7201a8\"],[0.3333333333333333,\"#9c179e\"],[0.4444444444444444,\"#bd3786\"],[0.5555555555555556,\"#d8576b\"],[0.6666666666666666,\"#ed7953\"],[0.7777777777777778,\"#fb9f3a\"],[0.8888888888888888,\"#fdca26\"],[1.0,\"#f0f921\"]],\"sequentialminus\":[[0.0,\"#0d0887\"],[0.1111111111111111,\"#46039f\"],[0.2222222222222222,\"#7201a8\"],[0.3333333333333333,\"#9c179e\"],[0.4444444444444444,\"#bd3786\"],[0.5555555555555556,\"#d8576b\"],[0.6666666666666666,\"#ed7953\"],[0.7777777777777778,\"#fb9f3a\"],[0.8888888888888888,\"#fdca26\"],[1.0,\"#f0f921\"]],\"diverging\":[[0,\"#8e0152\"],[0.1,\"#c51b7d\"],[0.2,\"#de77ae\"],[0.3,\"#f1b6da\"],[0.4,\"#fde0ef\"],[0.5,\"#f7f7f7\"],[0.6,\"#e6f5d0\"],[0.7,\"#b8e186\"],[0.8,\"#7fbc41\"],[0.9,\"#4d9221\"],[1,\"#276419\"]]},\"xaxis\":{\"gridcolor\":\"white\",\"linecolor\":\"white\",\"ticks\":\"\",\"title\":{\"standoff\":15},\"zerolinecolor\":\"white\",\"automargin\":true,\"zerolinewidth\":2},\"yaxis\":{\"gridcolor\":\"white\",\"linecolor\":\"white\",\"ticks\":\"\",\"title\":{\"standoff\":15},\"zerolinecolor\":\"white\",\"automargin\":true,\"zerolinewidth\":2},\"scene\":{\"xaxis\":{\"backgroundcolor\":\"#E5ECF6\",\"gridcolor\":\"white\",\"linecolor\":\"white\",\"showbackground\":true,\"ticks\":\"\",\"zerolinecolor\":\"white\",\"gridwidth\":2},\"yaxis\":{\"backgroundcolor\":\"#E5ECF6\",\"gridcolor\":\"white\",\"linecolor\":\"white\",\"showbackground\":true,\"ticks\":\"\",\"zerolinecolor\":\"white\",\"gridwidth\":2},\"zaxis\":{\"backgroundcolor\":\"#E5ECF6\",\"gridcolor\":\"white\",\"linecolor\":\"white\",\"showbackground\":true,\"ticks\":\"\",\"zerolinecolor\":\"white\",\"gridwidth\":2}},\"shapedefaults\":{\"line\":{\"color\":\"#2a3f5f\"}},\"annotationdefaults\":{\"arrowcolor\":\"#2a3f5f\",\"arrowhead\":0,\"arrowwidth\":1},\"geo\":{\"bgcolor\":\"white\",\"landcolor\":\"#E5ECF6\",\"subunitcolor\":\"white\",\"showland\":true,\"showlakes\":true,\"lakecolor\":\"white\"},\"title\":{\"x\":0.05},\"mapbox\":{\"style\":\"light\"}}}},                        {\"responsive\": true}                    ).then(function(){\n",
       "                            \n",
       "var gd = document.getElementById('65e389e5-3f80-42b4-b61f-790fe6a8cfb3');\n",
       "var x = new MutationObserver(function (mutations, observer) {{\n",
       "        var display = window.getComputedStyle(gd).display;\n",
       "        if (!display || display === 'none') {{\n",
       "            console.log([gd, 'removed!']);\n",
       "            Plotly.purge(gd);\n",
       "            observer.disconnect();\n",
       "        }}\n",
       "}});\n",
       "\n",
       "// Listen for the removal of the full notebook cells\n",
       "var notebookContainer = gd.closest('#notebook-container');\n",
       "if (notebookContainer) {{\n",
       "    x.observe(notebookContainer, {childList: true});\n",
       "}}\n",
       "\n",
       "// Listen for the clearing of the current output cell\n",
       "var outputEl = gd.closest('.output');\n",
       "if (outputEl) {{\n",
       "    x.observe(outputEl, {childList: true});\n",
       "}}\n",
       "\n",
       "                        })                };                });            </script>        </div>"
      ]
     },
     "metadata": {},
     "output_type": "display_data"
    }
   ],
   "source": [
    "plot_radarchart(df_radar)"
   ]
  },
  {
   "cell_type": "code",
   "execution_count": 169,
   "metadata": {},
   "outputs": [
    {
     "data": {
      "application/vnd.plotly.v1+json": {
       "config": {
        "plotlyServerURL": "https://plot.ly"
       },
       "data": [
        {
         "fill": "toself",
         "name": "cluster0",
         "r": [
          0.1831731584946867,
          0.39029755239161734,
          0.43566362715298906,
          0.14528875379939207,
          0,
          1,
          0.3556231003039514,
          0.49848024316109424,
          0.0547112462006079,
          0.0911854103343465
         ],
         "theta": [
          "income",
          "age",
          "years_with_bank",
          "nbr_children",
          "gender_F ",
          "gender_M ",
          "marital_status_1",
          "marital_status_2",
          "marital_status_3",
          "marital_status_4"
         ],
         "type": "scatterpolar"
        },
        {
         "fill": "toself",
         "name": "cluster1",
         "r": [
          0.16626437665305013,
          0.48074578337736246,
          0.43758043758043774,
          0.22779922779922782,
          1,
          0,
          0,
          0.7297297297297297,
          0.11583011583011583,
          0.15444015444015444
         ],
         "theta": [
          "income",
          "age",
          "years_with_bank",
          "nbr_children",
          "gender_F ",
          "gender_M ",
          "marital_status_1",
          "marital_status_2",
          "marital_status_3",
          "marital_status_4"
         ],
         "type": "scatterpolar"
        },
        {
         "fill": "toself",
         "name": "cluster2",
         "r": [
          0.09086860792018203,
          0.23162859980139033,
          0.4255765199161427,
          0,
          1,
          0,
          1,
          0,
          0,
          0
         ],
         "theta": [
          "income",
          "age",
          "years_with_bank",
          "nbr_children",
          "gender_F ",
          "gender_M ",
          "marital_status_1",
          "marital_status_2",
          "marital_status_3",
          "marital_status_4"
         ],
         "type": "scatterpolar"
        },
        {
         "fill": "toself",
         "name": "mean",
         "r": [
          0,
          1,
          0,
          1,
          0,
          1,
          0,
          1,
          0,
          1,
          0,
          1,
          0,
          1,
          0,
          1,
          0,
          1,
          0,
          1
         ],
         "theta": [
          "income",
          "age",
          "years_with_bank",
          "nbr_children",
          "gender_F ",
          "gender_M ",
          "marital_status_1",
          "marital_status_2",
          "marital_status_3",
          "marital_status_4"
         ],
         "type": "scatterpolar"
        }
       ],
       "layout": {
        "autosize": true,
        "polar": {
         "angularaxis": {
          "type": "category"
         },
         "radialaxis": {
          "autorange": true,
          "range": [
           0,
           1.0434782608695652
          ],
          "type": "linear",
          "visible": true
         }
        },
        "showlegend": true,
        "template": {
         "data": {
          "bar": [
           {
            "error_x": {
             "color": "#2a3f5f"
            },
            "error_y": {
             "color": "#2a3f5f"
            },
            "marker": {
             "line": {
              "color": "#E5ECF6",
              "width": 0.5
             },
             "pattern": {
              "fillmode": "overlay",
              "size": 10,
              "solidity": 0.2
             }
            },
            "type": "bar"
           }
          ],
          "barpolar": [
           {
            "marker": {
             "line": {
              "color": "#E5ECF6",
              "width": 0.5
             },
             "pattern": {
              "fillmode": "overlay",
              "size": 10,
              "solidity": 0.2
             }
            },
            "type": "barpolar"
           }
          ],
          "carpet": [
           {
            "aaxis": {
             "endlinecolor": "#2a3f5f",
             "gridcolor": "white",
             "linecolor": "white",
             "minorgridcolor": "white",
             "startlinecolor": "#2a3f5f"
            },
            "baxis": {
             "endlinecolor": "#2a3f5f",
             "gridcolor": "white",
             "linecolor": "white",
             "minorgridcolor": "white",
             "startlinecolor": "#2a3f5f"
            },
            "type": "carpet"
           }
          ],
          "choropleth": [
           {
            "colorbar": {
             "outlinewidth": 0,
             "ticks": ""
            },
            "type": "choropleth"
           }
          ],
          "contour": [
           {
            "colorbar": {
             "outlinewidth": 0,
             "ticks": ""
            },
            "colorscale": [
             [
              0,
              "#0d0887"
             ],
             [
              0.1111111111111111,
              "#46039f"
             ],
             [
              0.2222222222222222,
              "#7201a8"
             ],
             [
              0.3333333333333333,
              "#9c179e"
             ],
             [
              0.4444444444444444,
              "#bd3786"
             ],
             [
              0.5555555555555556,
              "#d8576b"
             ],
             [
              0.6666666666666666,
              "#ed7953"
             ],
             [
              0.7777777777777778,
              "#fb9f3a"
             ],
             [
              0.8888888888888888,
              "#fdca26"
             ],
             [
              1,
              "#f0f921"
             ]
            ],
            "type": "contour"
           }
          ],
          "contourcarpet": [
           {
            "colorbar": {
             "outlinewidth": 0,
             "ticks": ""
            },
            "type": "contourcarpet"
           }
          ],
          "heatmap": [
           {
            "colorbar": {
             "outlinewidth": 0,
             "ticks": ""
            },
            "colorscale": [
             [
              0,
              "#0d0887"
             ],
             [
              0.1111111111111111,
              "#46039f"
             ],
             [
              0.2222222222222222,
              "#7201a8"
             ],
             [
              0.3333333333333333,
              "#9c179e"
             ],
             [
              0.4444444444444444,
              "#bd3786"
             ],
             [
              0.5555555555555556,
              "#d8576b"
             ],
             [
              0.6666666666666666,
              "#ed7953"
             ],
             [
              0.7777777777777778,
              "#fb9f3a"
             ],
             [
              0.8888888888888888,
              "#fdca26"
             ],
             [
              1,
              "#f0f921"
             ]
            ],
            "type": "heatmap"
           }
          ],
          "heatmapgl": [
           {
            "colorbar": {
             "outlinewidth": 0,
             "ticks": ""
            },
            "colorscale": [
             [
              0,
              "#0d0887"
             ],
             [
              0.1111111111111111,
              "#46039f"
             ],
             [
              0.2222222222222222,
              "#7201a8"
             ],
             [
              0.3333333333333333,
              "#9c179e"
             ],
             [
              0.4444444444444444,
              "#bd3786"
             ],
             [
              0.5555555555555556,
              "#d8576b"
             ],
             [
              0.6666666666666666,
              "#ed7953"
             ],
             [
              0.7777777777777778,
              "#fb9f3a"
             ],
             [
              0.8888888888888888,
              "#fdca26"
             ],
             [
              1,
              "#f0f921"
             ]
            ],
            "type": "heatmapgl"
           }
          ],
          "histogram": [
           {
            "marker": {
             "pattern": {
              "fillmode": "overlay",
              "size": 10,
              "solidity": 0.2
             }
            },
            "type": "histogram"
           }
          ],
          "histogram2d": [
           {
            "colorbar": {
             "outlinewidth": 0,
             "ticks": ""
            },
            "colorscale": [
             [
              0,
              "#0d0887"
             ],
             [
              0.1111111111111111,
              "#46039f"
             ],
             [
              0.2222222222222222,
              "#7201a8"
             ],
             [
              0.3333333333333333,
              "#9c179e"
             ],
             [
              0.4444444444444444,
              "#bd3786"
             ],
             [
              0.5555555555555556,
              "#d8576b"
             ],
             [
              0.6666666666666666,
              "#ed7953"
             ],
             [
              0.7777777777777778,
              "#fb9f3a"
             ],
             [
              0.8888888888888888,
              "#fdca26"
             ],
             [
              1,
              "#f0f921"
             ]
            ],
            "type": "histogram2d"
           }
          ],
          "histogram2dcontour": [
           {
            "colorbar": {
             "outlinewidth": 0,
             "ticks": ""
            },
            "colorscale": [
             [
              0,
              "#0d0887"
             ],
             [
              0.1111111111111111,
              "#46039f"
             ],
             [
              0.2222222222222222,
              "#7201a8"
             ],
             [
              0.3333333333333333,
              "#9c179e"
             ],
             [
              0.4444444444444444,
              "#bd3786"
             ],
             [
              0.5555555555555556,
              "#d8576b"
             ],
             [
              0.6666666666666666,
              "#ed7953"
             ],
             [
              0.7777777777777778,
              "#fb9f3a"
             ],
             [
              0.8888888888888888,
              "#fdca26"
             ],
             [
              1,
              "#f0f921"
             ]
            ],
            "type": "histogram2dcontour"
           }
          ],
          "mesh3d": [
           {
            "colorbar": {
             "outlinewidth": 0,
             "ticks": ""
            },
            "type": "mesh3d"
           }
          ],
          "parcoords": [
           {
            "line": {
             "colorbar": {
              "outlinewidth": 0,
              "ticks": ""
             }
            },
            "type": "parcoords"
           }
          ],
          "pie": [
           {
            "automargin": true,
            "type": "pie"
           }
          ],
          "scatter": [
           {
            "fillpattern": {
             "fillmode": "overlay",
             "size": 10,
             "solidity": 0.2
            },
            "type": "scatter"
           }
          ],
          "scatter3d": [
           {
            "line": {
             "colorbar": {
              "outlinewidth": 0,
              "ticks": ""
             }
            },
            "marker": {
             "colorbar": {
              "outlinewidth": 0,
              "ticks": ""
             }
            },
            "type": "scatter3d"
           }
          ],
          "scattercarpet": [
           {
            "marker": {
             "colorbar": {
              "outlinewidth": 0,
              "ticks": ""
             }
            },
            "type": "scattercarpet"
           }
          ],
          "scattergeo": [
           {
            "marker": {
             "colorbar": {
              "outlinewidth": 0,
              "ticks": ""
             }
            },
            "type": "scattergeo"
           }
          ],
          "scattergl": [
           {
            "marker": {
             "colorbar": {
              "outlinewidth": 0,
              "ticks": ""
             }
            },
            "type": "scattergl"
           }
          ],
          "scattermapbox": [
           {
            "marker": {
             "colorbar": {
              "outlinewidth": 0,
              "ticks": ""
             }
            },
            "type": "scattermapbox"
           }
          ],
          "scatterpolar": [
           {
            "marker": {
             "colorbar": {
              "outlinewidth": 0,
              "ticks": ""
             }
            },
            "type": "scatterpolar"
           }
          ],
          "scatterpolargl": [
           {
            "marker": {
             "colorbar": {
              "outlinewidth": 0,
              "ticks": ""
             }
            },
            "type": "scatterpolargl"
           }
          ],
          "scatterternary": [
           {
            "marker": {
             "colorbar": {
              "outlinewidth": 0,
              "ticks": ""
             }
            },
            "type": "scatterternary"
           }
          ],
          "surface": [
           {
            "colorbar": {
             "outlinewidth": 0,
             "ticks": ""
            },
            "colorscale": [
             [
              0,
              "#0d0887"
             ],
             [
              0.1111111111111111,
              "#46039f"
             ],
             [
              0.2222222222222222,
              "#7201a8"
             ],
             [
              0.3333333333333333,
              "#9c179e"
             ],
             [
              0.4444444444444444,
              "#bd3786"
             ],
             [
              0.5555555555555556,
              "#d8576b"
             ],
             [
              0.6666666666666666,
              "#ed7953"
             ],
             [
              0.7777777777777778,
              "#fb9f3a"
             ],
             [
              0.8888888888888888,
              "#fdca26"
             ],
             [
              1,
              "#f0f921"
             ]
            ],
            "type": "surface"
           }
          ],
          "table": [
           {
            "cells": {
             "fill": {
              "color": "#EBF0F8"
             },
             "line": {
              "color": "white"
             }
            },
            "header": {
             "fill": {
              "color": "#C8D4E3"
             },
             "line": {
              "color": "white"
             }
            },
            "type": "table"
           }
          ]
         },
         "layout": {
          "annotationdefaults": {
           "arrowcolor": "#2a3f5f",
           "arrowhead": 0,
           "arrowwidth": 1
          },
          "autotypenumbers": "strict",
          "coloraxis": {
           "colorbar": {
            "outlinewidth": 0,
            "ticks": ""
           }
          },
          "colorscale": {
           "diverging": [
            [
             0,
             "#8e0152"
            ],
            [
             0.1,
             "#c51b7d"
            ],
            [
             0.2,
             "#de77ae"
            ],
            [
             0.3,
             "#f1b6da"
            ],
            [
             0.4,
             "#fde0ef"
            ],
            [
             0.5,
             "#f7f7f7"
            ],
            [
             0.6,
             "#e6f5d0"
            ],
            [
             0.7,
             "#b8e186"
            ],
            [
             0.8,
             "#7fbc41"
            ],
            [
             0.9,
             "#4d9221"
            ],
            [
             1,
             "#276419"
            ]
           ],
           "sequential": [
            [
             0,
             "#0d0887"
            ],
            [
             0.1111111111111111,
             "#46039f"
            ],
            [
             0.2222222222222222,
             "#7201a8"
            ],
            [
             0.3333333333333333,
             "#9c179e"
            ],
            [
             0.4444444444444444,
             "#bd3786"
            ],
            [
             0.5555555555555556,
             "#d8576b"
            ],
            [
             0.6666666666666666,
             "#ed7953"
            ],
            [
             0.7777777777777778,
             "#fb9f3a"
            ],
            [
             0.8888888888888888,
             "#fdca26"
            ],
            [
             1,
             "#f0f921"
            ]
           ],
           "sequentialminus": [
            [
             0,
             "#0d0887"
            ],
            [
             0.1111111111111111,
             "#46039f"
            ],
            [
             0.2222222222222222,
             "#7201a8"
            ],
            [
             0.3333333333333333,
             "#9c179e"
            ],
            [
             0.4444444444444444,
             "#bd3786"
            ],
            [
             0.5555555555555556,
             "#d8576b"
            ],
            [
             0.6666666666666666,
             "#ed7953"
            ],
            [
             0.7777777777777778,
             "#fb9f3a"
            ],
            [
             0.8888888888888888,
             "#fdca26"
            ],
            [
             1,
             "#f0f921"
            ]
           ]
          },
          "colorway": [
           "#636efa",
           "#EF553B",
           "#00cc96",
           "#ab63fa",
           "#FFA15A",
           "#19d3f3",
           "#FF6692",
           "#B6E880",
           "#FF97FF",
           "#FECB52"
          ],
          "font": {
           "color": "#2a3f5f"
          },
          "geo": {
           "bgcolor": "white",
           "lakecolor": "white",
           "landcolor": "#E5ECF6",
           "showlakes": true,
           "showland": true,
           "subunitcolor": "white"
          },
          "hoverlabel": {
           "align": "left"
          },
          "hovermode": "closest",
          "mapbox": {
           "style": "light"
          },
          "paper_bgcolor": "white",
          "plot_bgcolor": "#E5ECF6",
          "polar": {
           "angularaxis": {
            "gridcolor": "white",
            "linecolor": "white",
            "ticks": ""
           },
           "bgcolor": "#E5ECF6",
           "radialaxis": {
            "gridcolor": "white",
            "linecolor": "white",
            "ticks": ""
           }
          },
          "scene": {
           "xaxis": {
            "backgroundcolor": "#E5ECF6",
            "gridcolor": "white",
            "gridwidth": 2,
            "linecolor": "white",
            "showbackground": true,
            "ticks": "",
            "zerolinecolor": "white"
           },
           "yaxis": {
            "backgroundcolor": "#E5ECF6",
            "gridcolor": "white",
            "gridwidth": 2,
            "linecolor": "white",
            "showbackground": true,
            "ticks": "",
            "zerolinecolor": "white"
           },
           "zaxis": {
            "backgroundcolor": "#E5ECF6",
            "gridcolor": "white",
            "gridwidth": 2,
            "linecolor": "white",
            "showbackground": true,
            "ticks": "",
            "zerolinecolor": "white"
           }
          },
          "shapedefaults": {
           "line": {
            "color": "#2a3f5f"
           }
          },
          "ternary": {
           "aaxis": {
            "gridcolor": "white",
            "linecolor": "white",
            "ticks": ""
           },
           "baxis": {
            "gridcolor": "white",
            "linecolor": "white",
            "ticks": ""
           },
           "bgcolor": "#E5ECF6",
           "caxis": {
            "gridcolor": "white",
            "linecolor": "white",
            "ticks": ""
           }
          },
          "title": {
           "x": 0.05
          },
          "xaxis": {
           "automargin": true,
           "gridcolor": "white",
           "linecolor": "white",
           "ticks": "",
           "title": {
            "standoff": 15
           },
           "zerolinecolor": "white",
           "zerolinewidth": 2
          },
          "yaxis": {
           "automargin": true,
           "gridcolor": "white",
           "linecolor": "white",
           "ticks": "",
           "title": {
            "standoff": 15
           },
           "zerolinecolor": "white",
           "zerolinewidth": 2
          }
         }
        }
       }
      },
      "image/png": "[encoded data removed]",
      "text/html": [
       "<div>                            <div id=\"a61771f3-e8f8-4dbd-a574-3e29b0ecf9ec\" class=\"plotly-graph-div\" style=\"height:525px; width:100%;\"></div>            <script type=\"text/javascript\">                require([\"plotly\"], function(Plotly) {                    window.PLOTLYENV=window.PLOTLYENV || {};                                    if (document.getElementById(\"a61771f3-e8f8-4dbd-a574-3e29b0ecf9ec\")) {                    Plotly.newPlot(                        \"a61771f3-e8f8-4dbd-a574-3e29b0ecf9ec\",                        [{\"fill\":\"toself\",\"name\":\"cluster0\",\"r\":[0.1831731584946867,0.39029755239161734,0.43566362715298906,0.14528875379939207,0.0,1.0,0.3556231003039514,0.49848024316109424,0.0547112462006079,0.0911854103343465],\"theta\":[\"income\",\"age\",\"years_with_bank\",\"nbr_children\",\"gender_F \",\"gender_M \",\"marital_status_1\",\"marital_status_2\",\"marital_status_3\",\"marital_status_4\"],\"type\":\"scatterpolar\"},{\"fill\":\"toself\",\"name\":\"cluster1\",\"r\":[0.16626437665305013,0.48074578337736246,0.43758043758043774,0.22779922779922782,1.0,0.0,0.0,0.7297297297297297,0.11583011583011583,0.15444015444015444],\"theta\":[\"income\",\"age\",\"years_with_bank\",\"nbr_children\",\"gender_F \",\"gender_M \",\"marital_status_1\",\"marital_status_2\",\"marital_status_3\",\"marital_status_4\"],\"type\":\"scatterpolar\"},{\"fill\":\"toself\",\"name\":\"cluster2\",\"r\":[0.09086860792018203,0.23162859980139033,0.4255765199161427,0.0,1.0,0.0,1.0,0.0,0.0,0.0],\"theta\":[\"income\",\"age\",\"years_with_bank\",\"nbr_children\",\"gender_F \",\"gender_M \",\"marital_status_1\",\"marital_status_2\",\"marital_status_3\",\"marital_status_4\"],\"type\":\"scatterpolar\"},{\"fill\":\"toself\",\"name\":\"mean\",\"r\":[0,1,0,1,0,1,0,1,0,1,0,1,0,1,0,1,0,1,0,1],\"theta\":[\"income\",\"age\",\"years_with_bank\",\"nbr_children\",\"gender_F \",\"gender_M \",\"marital_status_1\",\"marital_status_2\",\"marital_status_3\",\"marital_status_4\"],\"type\":\"scatterpolar\"}],                        {\"polar\":{\"radialaxis\":{\"visible\":true}},\"showlegend\":true,\"template\":{\"data\":{\"histogram2dcontour\":[{\"type\":\"histogram2dcontour\",\"colorbar\":{\"outlinewidth\":0,\"ticks\":\"\"},\"colorscale\":[[0.0,\"#0d0887\"],[0.1111111111111111,\"#46039f\"],[0.2222222222222222,\"#7201a8\"],[0.3333333333333333,\"#9c179e\"],[0.4444444444444444,\"#bd3786\"],[0.5555555555555556,\"#d8576b\"],[0.6666666666666666,\"#ed7953\"],[0.7777777777777778,\"#fb9f3a\"],[0.8888888888888888,\"#fdca26\"],[1.0,\"#f0f921\"]]}],\"choropleth\":[{\"type\":\"choropleth\",\"colorbar\":{\"outlinewidth\":0,\"ticks\":\"\"}}],\"histogram2d\":[{\"type\":\"histogram2d\",\"colorbar\":{\"outlinewidth\":0,\"ticks\":\"\"},\"colorscale\":[[0.0,\"#0d0887\"],[0.1111111111111111,\"#46039f\"],[0.2222222222222222,\"#7201a8\"],[0.3333333333333333,\"#9c179e\"],[0.4444444444444444,\"#bd3786\"],[0.5555555555555556,\"#d8576b\"],[0.6666666666666666,\"#ed7953\"],[0.7777777777777778,\"#fb9f3a\"],[0.8888888888888888,\"#fdca26\"],[1.0,\"#f0f921\"]]}],\"heatmap\":[{\"type\":\"heatmap\",\"colorbar\":{\"outlinewidth\":0,\"ticks\":\"\"},\"colorscale\":[[0.0,\"#0d0887\"],[0.1111111111111111,\"#46039f\"],[0.2222222222222222,\"#7201a8\"],[0.3333333333333333,\"#9c179e\"],[0.4444444444444444,\"#bd3786\"],[0.5555555555555556,\"#d8576b\"],[0.6666666666666666,\"#ed7953\"],[0.7777777777777778,\"#fb9f3a\"],[0.8888888888888888,\"#fdca26\"],[1.0,\"#f0f921\"]]}],\"heatmapgl\":[{\"type\":\"heatmapgl\",\"colorbar\":{\"outlinewidth\":0,\"ticks\":\"\"},\"colorscale\":[[0.0,\"#0d0887\"],[0.1111111111111111,\"#46039f\"],[0.2222222222222222,\"#7201a8\"],[0.3333333333333333,\"#9c179e\"],[0.4444444444444444,\"#bd3786\"],[0.5555555555555556,\"#d8576b\"],[0.6666666666666666,\"#ed7953\"],[0.7777777777777778,\"#fb9f3a\"],[0.8888888888888888,\"#fdca26\"],[1.0,\"#f0f921\"]]}],\"contourcarpet\":[{\"type\":\"contourcarpet\",\"colorbar\":{\"outlinewidth\":0,\"ticks\":\"\"}}],\"contour\":[{\"type\":\"contour\",\"colorbar\":{\"outlinewidth\":0,\"ticks\":\"\"},\"colorscale\":[[0.0,\"#0d0887\"],[0.1111111111111111,\"#46039f\"],[0.2222222222222222,\"#7201a8\"],[0.3333333333333333,\"#9c179e\"],[0.4444444444444444,\"#bd3786\"],[0.5555555555555556,\"#d8576b\"],[0.6666666666666666,\"#ed7953\"],[0.7777777777777778,\"#fb9f3a\"],[0.8888888888888888,\"#fdca26\"],[1.0,\"#f0f921\"]]}],\"surface\":[{\"type\":\"surface\",\"colorbar\":{\"outlinewidth\":0,\"ticks\":\"\"},\"colorscale\":[[0.0,\"#0d0887\"],[0.1111111111111111,\"#46039f\"],[0.2222222222222222,\"#7201a8\"],[0.3333333333333333,\"#9c179e\"],[0.4444444444444444,\"#bd3786\"],[0.5555555555555556,\"#d8576b\"],[0.6666666666666666,\"#ed7953\"],[0.7777777777777778,\"#fb9f3a\"],[0.8888888888888888,\"#fdca26\"],[1.0,\"#f0f921\"]]}],\"mesh3d\":[{\"type\":\"mesh3d\",\"colorbar\":{\"outlinewidth\":0,\"ticks\":\"\"}}],\"scatter\":[{\"fillpattern\":{\"fillmode\":\"overlay\",\"size\":10,\"solidity\":0.2},\"type\":\"scatter\"}],\"parcoords\":[{\"type\":\"parcoords\",\"line\":{\"colorbar\":{\"outlinewidth\":0,\"ticks\":\"\"}}}],\"scatterpolargl\":[{\"type\":\"scatterpolargl\",\"marker\":{\"colorbar\":{\"outlinewidth\":0,\"ticks\":\"\"}}}],\"bar\":[{\"error_x\":{\"color\":\"#2a3f5f\"},\"error_y\":{\"color\":\"#2a3f5f\"},\"marker\":{\"line\":{\"color\":\"#E5ECF6\",\"width\":0.5},\"pattern\":{\"fillmode\":\"overlay\",\"size\":10,\"solidity\":0.2}},\"type\":\"bar\"}],\"scattergeo\":[{\"type\":\"scattergeo\",\"marker\":{\"colorbar\":{\"outlinewidth\":0,\"ticks\":\"\"}}}],\"scatterpolar\":[{\"type\":\"scatterpolar\",\"marker\":{\"colorbar\":{\"outlinewidth\":0,\"ticks\":\"\"}}}],\"histogram\":[{\"marker\":{\"pattern\":{\"fillmode\":\"overlay\",\"size\":10,\"solidity\":0.2}},\"type\":\"histogram\"}],\"scattergl\":[{\"type\":\"scattergl\",\"marker\":{\"colorbar\":{\"outlinewidth\":0,\"ticks\":\"\"}}}],\"scatter3d\":[{\"type\":\"scatter3d\",\"line\":{\"colorbar\":{\"outlinewidth\":0,\"ticks\":\"\"}},\"marker\":{\"colorbar\":{\"outlinewidth\":0,\"ticks\":\"\"}}}],\"scattermapbox\":[{\"type\":\"scattermapbox\",\"marker\":{\"colorbar\":{\"outlinewidth\":0,\"ticks\":\"\"}}}],\"scatterternary\":[{\"type\":\"scatterternary\",\"marker\":{\"colorbar\":{\"outlinewidth\":0,\"ticks\":\"\"}}}],\"scattercarpet\":[{\"type\":\"scattercarpet\",\"marker\":{\"colorbar\":{\"outlinewidth\":0,\"ticks\":\"\"}}}],\"carpet\":[{\"aaxis\":{\"endlinecolor\":\"#2a3f5f\",\"gridcolor\":\"white\",\"linecolor\":\"white\",\"minorgridcolor\":\"white\",\"startlinecolor\":\"#2a3f5f\"},\"baxis\":{\"endlinecolor\":\"#2a3f5f\",\"gridcolor\":\"white\",\"linecolor\":\"white\",\"minorgridcolor\":\"white\",\"startlinecolor\":\"#2a3f5f\"},\"type\":\"carpet\"}],\"table\":[{\"cells\":{\"fill\":{\"color\":\"#EBF0F8\"},\"line\":{\"color\":\"white\"}},\"header\":{\"fill\":{\"color\":\"#C8D4E3\"},\"line\":{\"color\":\"white\"}},\"type\":\"table\"}],\"barpolar\":[{\"marker\":{\"line\":{\"color\":\"#E5ECF6\",\"width\":0.5},\"pattern\":{\"fillmode\":\"overlay\",\"size\":10,\"solidity\":0.2}},\"type\":\"barpolar\"}],\"pie\":[{\"automargin\":true,\"type\":\"pie\"}]},\"layout\":{\"autotypenumbers\":\"strict\",\"colorway\":[\"#636efa\",\"#EF553B\",\"#00cc96\",\"#ab63fa\",\"#FFA15A\",\"#19d3f3\",\"#FF6692\",\"#B6E880\",\"#FF97FF\",\"#FECB52\"],\"font\":{\"color\":\"#2a3f5f\"},\"hovermode\":\"closest\",\"hoverlabel\":{\"align\":\"left\"},\"paper_bgcolor\":\"white\",\"plot_bgcolor\":\"#E5ECF6\",\"polar\":{\"bgcolor\":\"#E5ECF6\",\"angularaxis\":{\"gridcolor\":\"white\",\"linecolor\":\"white\",\"ticks\":\"\"},\"radialaxis\":{\"gridcolor\":\"white\",\"linecolor\":\"white\",\"ticks\":\"\"}},\"ternary\":{\"bgcolor\":\"#E5ECF6\",\"aaxis\":{\"gridcolor\":\"white\",\"linecolor\":\"white\",\"ticks\":\"\"},\"baxis\":{\"gridcolor\":\"white\",\"linecolor\":\"white\",\"ticks\":\"\"},\"caxis\":{\"gridcolor\":\"white\",\"linecolor\":\"white\",\"ticks\":\"\"}},\"coloraxis\":{\"colorbar\":{\"outlinewidth\":0,\"ticks\":\"\"}},\"colorscale\":{\"sequential\":[[0.0,\"#0d0887\"],[0.1111111111111111,\"#46039f\"],[0.2222222222222222,\"#7201a8\"],[0.3333333333333333,\"#9c179e\"],[0.4444444444444444,\"#bd3786\"],[0.5555555555555556,\"#d8576b\"],[0.6666666666666666,\"#ed7953\"],[0.7777777777777778,\"#fb9f3a\"],[0.8888888888888888,\"#fdca26\"],[1.0,\"#f0f921\"]],\"sequentialminus\":[[0.0,\"#0d0887\"],[0.1111111111111111,\"#46039f\"],[0.2222222222222222,\"#7201a8\"],[0.3333333333333333,\"#9c179e\"],[0.4444444444444444,\"#bd3786\"],[0.5555555555555556,\"#d8576b\"],[0.6666666666666666,\"#ed7953\"],[0.7777777777777778,\"#fb9f3a\"],[0.8888888888888888,\"#fdca26\"],[1.0,\"#f0f921\"]],\"diverging\":[[0,\"#8e0152\"],[0.1,\"#c51b7d\"],[0.2,\"#de77ae\"],[0.3,\"#f1b6da\"],[0.4,\"#fde0ef\"],[0.5,\"#f7f7f7\"],[0.6,\"#e6f5d0\"],[0.7,\"#b8e186\"],[0.8,\"#7fbc41\"],[0.9,\"#4d9221\"],[1,\"#276419\"]]},\"xaxis\":{\"gridcolor\":\"white\",\"linecolor\":\"white\",\"ticks\":\"\",\"title\":{\"standoff\":15},\"zerolinecolor\":\"white\",\"automargin\":true,\"zerolinewidth\":2},\"yaxis\":{\"gridcolor\":\"white\",\"linecolor\":\"white\",\"ticks\":\"\",\"title\":{\"standoff\":15},\"zerolinecolor\":\"white\",\"automargin\":true,\"zerolinewidth\":2},\"scene\":{\"xaxis\":{\"backgroundcolor\":\"#E5ECF6\",\"gridcolor\":\"white\",\"linecolor\":\"white\",\"showbackground\":true,\"ticks\":\"\",\"zerolinecolor\":\"white\",\"gridwidth\":2},\"yaxis\":{\"backgroundcolor\":\"#E5ECF6\",\"gridcolor\":\"white\",\"linecolor\":\"white\",\"showbackground\":true,\"ticks\":\"\",\"zerolinecolor\":\"white\",\"gridwidth\":2},\"zaxis\":{\"backgroundcolor\":\"#E5ECF6\",\"gridcolor\":\"white\",\"linecolor\":\"white\",\"showbackground\":true,\"ticks\":\"\",\"zerolinecolor\":\"white\",\"gridwidth\":2}},\"shapedefaults\":{\"line\":{\"color\":\"#2a3f5f\"}},\"annotationdefaults\":{\"arrowcolor\":\"#2a3f5f\",\"arrowhead\":0,\"arrowwidth\":1},\"geo\":{\"bgcolor\":\"white\",\"landcolor\":\"#E5ECF6\",\"subunitcolor\":\"white\",\"showland\":true,\"showlakes\":true,\"lakecolor\":\"white\"},\"title\":{\"x\":0.05},\"mapbox\":{\"style\":\"light\"}}}},                        {\"responsive\": true}                    ).then(function(){\n",
       "                            \n",
       "var gd = document.getElementById('a61771f3-e8f8-4dbd-a574-3e29b0ecf9ec');\n",
       "var x = new MutationObserver(function (mutations, observer) {{\n",
       "        var display = window.getComputedStyle(gd).display;\n",
       "        if (!display || display === 'none') {{\n",
       "            console.log([gd, 'removed!']);\n",
       "            Plotly.purge(gd);\n",
       "            observer.disconnect();\n",
       "        }}\n",
       "}});\n",
       "\n",
       "// Listen for the removal of the full notebook cells\n",
       "var notebookContainer = gd.closest('#notebook-container');\n",
       "if (notebookContainer) {{\n",
       "    x.observe(notebookContainer, {childList: true});\n",
       "}}\n",
       "\n",
       "// Listen for the clearing of the current output cell\n",
       "var outputEl = gd.closest('.output');\n",
       "if (outputEl) {{\n",
       "    x.observe(outputEl, {childList: true});\n",
       "}}\n",
       "\n",
       "                        })                };                });            </script>        </div>"
      ]
     },
     "metadata": {},
     "output_type": "display_data"
    }
   ],
   "source": [
    "plot_radarchart(df_radar_marital)"
   ]
  },
  {
   "cell_type": "code",
   "execution_count": 51,
   "metadata": {},
   "outputs": [],
   "source": [
    "cluster_df_zero = final_data2_radar[(final_data2_radar.cluster ==0)]"
   ]
  },
  {
   "cell_type": "code",
   "execution_count": 52,
   "metadata": {},
   "outputs": [],
   "source": [
    "cluster_df_one = final_data2_radar[(final_data2_radar.cluster ==1)]"
   ]
  },
  {
   "cell_type": "code",
   "execution_count": 53,
   "metadata": {},
   "outputs": [],
   "source": [
    "cluster_df_two = final_data2_radar[(final_data2_radar.cluster == 2)]"
   ]
  },
  {
   "cell_type": "code",
   "execution_count": 62,
   "metadata": {},
   "outputs": [],
   "source": [
    "clusterzero = cluster_df_zero.drop('cluster',axis=1)"
   ]
  },
  {
   "cell_type": "code",
   "execution_count": 63,
   "metadata": {},
   "outputs": [],
   "source": [
    "clusterone = cluster_df_one.drop('cluster',axis=1)"
   ]
  },
  {
   "cell_type": "code",
   "execution_count": 64,
   "metadata": {},
   "outputs": [],
   "source": [
    "clustertwo = cluster_df_two.drop('cluster',axis =1)"
   ]
  },
  {
   "cell_type": "code",
   "execution_count": 65,
   "metadata": {},
   "outputs": [
    {
     "data": {
      "application/vnd.plotly.v1+json": {
       "config": {
        "plotlyServerURL": "https://plot.ly"
       },
       "data": [
        {
         "fill": "toself",
         "name": "Product A",
         "r": [
          [
           0.18139944643687092,
           0.4342105263157895,
           0.5555555555555556,
           0.2,
           0.3333333333333333,
           0,
           1
          ],
          [
           0.04581810109810831,
           0.763157894736842,
           0.1111111111111111,
           0,
           0.3333333333333333,
           0,
           1
          ],
          [
           0,
           0.03947368421052633,
           0.1111111111111111,
           0,
           0,
           0,
           1
          ],
          [
           0.06674667203118821,
           0.4342105263157895,
           0.6666666666666666,
           0.2,
           0.3333333333333333,
           0,
           1
          ],
          [
           0,
           0.026315789473684237,
           0,
           0,
           0,
           0,
           1
          ],
          [
           0.12224172256636862,
           0.4078947368421053,
           0.1111111111111111,
           0,
           0.3333333333333333,
           0,
           1
          ],
          [
           0,
           0.026315789473684237,
           0,
           0,
           0,
           0,
           1
          ],
          [
           0.07294824392849462,
           0.368421052631579,
           0.1111111111111111,
           0.2,
           1,
           0,
           1
          ],
          [
           0,
           0.05263157894736842,
           0.2222222222222222,
           0,
           0,
           0,
           1
          ],
          [
           0.04407694388756703,
           0.6973684210526315,
           0.6666666666666666,
           0,
           0.3333333333333333,
           0,
           1
          ],
          [
           0.145778560874602,
           0.06578947368421054,
           0.3333333333333333,
           0,
           0,
           0,
           1
          ],
          [
           0.02190667119876246,
           0.881578947368421,
           0,
           0,
           0.3333333333333333,
           0,
           1
          ],
          [
           0.1508841055238386,
           0.6710526315789473,
           0.4444444444444444,
           0,
           0.3333333333333333,
           0,
           1
          ],
          [
           0.5278064887587838,
           0.513157894736842,
           0.2222222222222222,
           0.2,
           0.3333333333333333,
           0,
           1
          ],
          [
           0.252016898242888,
           0.4342105263157895,
           0.6666666666666666,
           0.2,
           0.3333333333333333,
           0,
           1
          ],
          [
           0,
           0.026315789473684237,
           0.7777777777777777,
           0,
           0,
           0,
           1
          ],
          [
           0.09120611555456898,
           0.4605263157894737,
           0.8888888888888888,
           0,
           0,
           0,
           1
          ],
          [
           0.16960674819814509,
           0.4078947368421053,
           0.4444444444444444,
           0.2,
           0.3333333333333333,
           0,
           1
          ],
          [
           0,
           0,
           0.5555555555555556,
           0,
           0,
           0,
           1
          ],
          [
           0,
           0,
           0.5555555555555556,
           0,
           0,
           0,
           1
          ],
          [
           0.41693431467081027,
           0.5657894736842105,
           0.6666666666666666,
           0.4,
           0.3333333333333333,
           0,
           1
          ],
          [
           0.13750979834486013,
           0.5526315789473684,
           0.5555555555555556,
           0.2,
           0.3333333333333333,
           0,
           1
          ],
          [
           0.23913510963740922,
           0.513157894736842,
           0.2222222222222222,
           0.2,
           0.3333333333333333,
           0,
           1
          ],
          [
           0.3579985710024487,
           0.3421052631578947,
           0.4444444444444444,
           0,
           0,
           0,
           1
          ],
          [
           0.05088202445944352,
           0.19736842105263158,
           0.7777777777777777,
           0.2,
           0.3333333333333333,
           0,
           1
          ],
          [
           0.20161351859431037,
           0.2894736842105263,
           0.5555555555555556,
           0.6000000000000001,
           0.3333333333333333,
           0,
           1
          ],
          [
           0.10575969255742003,
           0.21052631578947367,
           0.4444444444444444,
           0,
           0,
           0,
           1
          ],
          [
           1,
           0.5921052631578947,
           0.5555555555555556,
           0,
           0.3333333333333333,
           0,
           1
          ],
          [
           0.06332678954195772,
           0.6973684210526315,
           0.6666666666666666,
           0,
           0.3333333333333333,
           0,
           1
          ],
          [
           0.013748898770090943,
           0.19736842105263158,
           0.7777777777777777,
           0,
           0,
           0,
           1
          ],
          [
           0.38195162218969597,
           0.22368421052631582,
           0,
           0,
           0,
           0,
           1
          ],
          [
           0.22135588282220078,
           0.4078947368421053,
           0.4444444444444444,
           0,
           0,
           0,
           1
          ],
          [
           0.10204846105287985,
           0.7894736842105263,
           0.3333333333333333,
           0,
           0.3333333333333333,
           0,
           1
          ],
          [
           0.3967479900386384,
           0.2368421052631579,
           0.1111111111111111,
           0.6000000000000001,
           1,
           0,
           1
          ],
          [
           0.10772976685141894,
           0.5789473684210527,
           0.7777777777777777,
           0.4,
           0.3333333333333333,
           0,
           1
          ],
          [
           0.16097726783992453,
           0.6710526315789473,
           0.4444444444444444,
           0,
           0.6666666666666667,
           0,
           1
          ],
          [
           0.40041760025527723,
           0.5789473684210527,
           0.7777777777777777,
           0.2,
           1,
           0,
           1
          ],
          [
           0.02770590397968881,
           0.9736842105263157,
           0.7777777777777777,
           0,
           0.3333333333333333,
           0,
           1
          ],
          [
           0.62603966508737,
           0.5526315789473684,
           0.5555555555555556,
           0,
           1,
           0,
           1
          ],
          [
           0.007207419688256554,
           0.868421052631579,
           1,
           0,
           0.3333333333333333,
           0,
           1
          ],
          [
           0.05199192547014713,
           0.986842105263158,
           0.8888888888888888,
           0,
           0.3333333333333333,
           0,
           1
          ],
          [
           0.5778075292909813,
           0.5921052631578947,
           0.8888888888888888,
           0.2,
           1,
           0,
           1
          ],
          [
           0.47818003981769874,
           0.513157894736842,
           0.2222222222222222,
           0.2,
           0.6666666666666667,
           0,
           1
          ],
          [
           0.11391746498609155,
           0.25,
           0.2222222222222222,
           0.6000000000000001,
           0.3333333333333333,
           0,
           1
          ],
          [
           0.21279577127714921,
           0.4342105263157895,
           0.4444444444444444,
           1,
           1,
           0,
           1
          ],
          [
           0,
           0.013157894736842118,
           0.6666666666666666,
           0,
           0,
           0,
           1
          ],
          [
           0.19179783153090033,
           0.5921052631578947,
           0.8888888888888888,
           0.2,
           0.3333333333333333,
           0,
           1
          ],
          [
           0.08285411044902433,
           0.35526315789473684,
           0,
           0.2,
           0.3333333333333333,
           0,
           1
          ],
          [
           0.0846438258287839,
           0.868421052631579,
           1,
           0,
           0.3333333333333333,
           0,
           1
          ],
          [
           0.24138265918408403,
           0.7368421052631579,
           1,
           0,
           0,
           0,
           1
          ],
          [
           0,
           0.026315789473684237,
           0,
           0,
           0,
           0,
           1
          ],
          [
           0.39337666571862623,
           0.35526315789473684,
           0,
           0,
           0,
           0,
           1
          ],
          [
           0.5484090262699696,
           0.5789473684210527,
           0.6666666666666666,
           0,
           0.6666666666666667,
           0,
           1
          ],
          [
           0.01834111420187712,
           0.13157894736842107,
           0.2222222222222222,
           0.2,
           0.3333333333333333,
           0,
           1
          ],
          [
           0.20022614233093086,
           0.6052631578947368,
           1,
           0.2,
           1,
           0,
           1
          ],
          [
           0.26367085885527586,
           0.618421052631579,
           0,
           0,
           0.3333333333333333,
           0,
           1
          ],
          [
           0.6630618006756522,
           0.5263157894736842,
           0.3333333333333333,
           0.2,
           0.3333333333333333,
           0,
           1
          ],
          [
           0.10956804040039679,
           0.6578947368421052,
           0.3333333333333333,
           0,
           0.3333333333333333,
           0,
           1
          ],
          [
           0.07041628224782702,
           0.2763157894736842,
           0.4444444444444444,
           0,
           1,
           0,
           1
          ],
          [
           0.38623167796222174,
           0.39473684210526316,
           0.3333333333333333,
           1,
           0.3333333333333333,
           0,
           1
          ],
          [
           0.28370457209847594,
           0.3421052631578947,
           0.8888888888888888,
           0.2,
           0.3333333333333333,
           0,
           1
          ],
          [
           0.601732832952961,
           0.5789473684210527,
           0.7777777777777777,
           0,
           0.3333333333333333,
           0,
           1
          ],
          [
           0.2544101222972176,
           0.3026315789473684,
           0.6666666666666666,
           0.4,
           0.3333333333333333,
           0,
           1
          ],
          [
           0.5118377879672856,
           0.39473684210526316,
           0.2222222222222222,
           0.6000000000000001,
           1,
           0,
           1
          ],
          [
           0.07890702497970963,
           0.17105263157894735,
           0.5555555555555556,
           0.2,
           0.3333333333333333,
           0,
           1
          ],
          [
           0.1372739443800856,
           0.3421052631578947,
           1,
           0,
           0,
           0,
           1
          ],
          [
           0.03483701797345949,
           0.9342105263157894,
           0.4444444444444444,
           0,
           0.3333333333333333,
           0,
           1
          ],
          [
           0.20807175510034198,
           0.2368421052631579,
           0.1111111111111111,
           0,
           0.3333333333333333,
           0,
           1
          ],
          [
           0.2096603009219115,
           0.7894736842105263,
           0.3333333333333333,
           0,
           0.3333333333333333,
           0,
           1
          ],
          [
           0.13030931553792047,
           0.19736842105263158,
           0.7777777777777777,
           0,
           0,
           0,
           1
          ],
          [
           0.3996476064291016,
           0.5921052631578947,
           0.8888888888888888,
           0.4,
           0.3333333333333333,
           0,
           1
          ],
          [
           0.1556428061072303,
           0.6710526315789473,
           0.4444444444444444,
           0,
           0.3333333333333333,
           0,
           1
          ],
          [
           0.2051860124725126,
           0.39473684210526316,
           0.3333333333333333,
           0,
           0,
           0,
           1
          ],
          [
           0.1290051818503437,
           0.07894736842105265,
           0.4444444444444444,
           0,
           0,
           0,
           1
          ],
          [
           0.1032970996899214,
           0.39473684210526316,
           0.3333333333333333,
           0.8,
           0.3333333333333333,
           0,
           1
          ],
          [
           0.2889211068487829,
           0.22368421052631582,
           0,
           0.6000000000000001,
           0.6666666666666667,
           0,
           1
          ],
          [
           0.1310446249575116,
           0.7368421052631579,
           1,
           0,
           0.6666666666666667,
           0,
           1
          ],
          [
           0,
           0,
           0.2222222222222222,
           0,
           0,
           0,
           1
          ],
          [
           0.1970213031625242,
           0.8026315789473684,
           0.4444444444444444,
           0,
           0.3333333333333333,
           0,
           1
          ],
          [
           0.09375195099787037,
           0.13157894736842107,
           0.2222222222222222,
           0.2,
           1,
           0,
           1
          ],
          [
           0.0953821181073413,
           0.07894736842105265,
           0.1111111111111111,
           0,
           0,
           0,
           1
          ],
          [
           0.5835304563774218,
           0.5789473684210527,
           0.7777777777777777,
           0,
           0.3333333333333333,
           0,
           1
          ],
          [
           0.2848907788036654,
           0.5789473684210527,
           0.7777777777777777,
           0,
           0,
           0,
           1
          ],
          [
           0.13375694555241854,
           0.35526315789473684,
           0,
           0.8,
           1,
           0,
           1
          ],
          [
           0.040039678961132655,
           0.06578947368421054,
           0.3333333333333333,
           0,
           0,
           0,
           1
          ],
          [
           0.34292472790083034,
           0.4078947368421053,
           0.4444444444444444,
           0.8,
           0.3333333333333333,
           0,
           1
          ],
          [
           0.06344471652434498,
           0.881578947368421,
           0,
           0,
           1,
           0,
           1
          ],
          [
           0.24178499830046407,
           0.35526315789473684,
           0,
           0.4,
           1,
           0,
           1
          ],
          [
           0.0866069632414659,
           0.14473684210526316,
           0.3333333333333333,
           0.4,
           1,
           0,
           1
          ],
          [
           0.0860381389734803,
           0.2368421052631579,
           0.1111111111111111,
           0.6000000000000001,
           0.3333333333333333,
           0,
           1
          ],
          [
           0,
           0.03947368421052633,
           0.1111111111111111,
           0,
           0,
           0,
           1
          ],
          [
           0.2258024237463321,
           0.4473684210526315,
           0.7777777777777777,
           1,
           0.3333333333333333,
           0,
           1
          ],
          [
           0.02247549546674806,
           0.6710526315789473,
           0.1111111111111111,
           0,
           0,
           0,
           1
          ],
          [
           0.018833632775376846,
           0.631578947368421,
           0.1111111111111111,
           0,
           0.3333333333333333,
           0,
           1
          ],
          [
           0,
           0.026315789473684237,
           0.7777777777777777,
           0,
           0,
           0,
           1
          ],
          [
           0.08397788522236173,
           0.07894736842105265,
           0.4444444444444444,
           0,
           0,
           0,
           1
          ],
          [
           0,
           0.026315789473684237,
           0.5555555555555556,
           0,
           0,
           0,
           1
          ],
          [
           0.2154179124149365,
           0.5526315789473684,
           0.5555555555555556,
           0.4,
           0.3333333333333333,
           0,
           1
          ],
          [
           0.08829262540147201,
           0.2894736842105263,
           0.2222222222222222,
           0,
           0,
           0,
           1
          ],
          [
           0.25137176828041646,
           0.368421052631579,
           0.1111111111111111,
           0,
           0,
           0,
           1
          ],
          [
           0.8962173186178958,
           0.5526315789473684,
           0.5555555555555556,
           0.4,
           0.6666666666666667,
           0,
           1
          ],
          [
           0.1338818094161227,
           0.5789473684210527,
           0.7777777777777777,
           0.2,
           0.3333333333333333,
           0,
           1
          ],
          [
           0.17814604909924597,
           0.5657894736842105,
           0.6666666666666666,
           0.4,
           0.3333333333333333,
           0,
           1
          ],
          [
           0.18450716926684102,
           0.5789473684210527,
           0.6666666666666666,
           0,
           0.3333333333333333,
           0,
           1
          ],
          [
           0.08193844211519385,
           0.25,
           0.2222222222222222,
           0.4,
           1,
           0,
           1
          ],
          [
           0.20857814743647551,
           0.7368421052631579,
           0.5555555555555556,
           0,
           0.3333333333333333,
           0,
           1
          ],
          [
           0.11907156780454643,
           0.32894736842105265,
           0.6666666666666666,
           0.4,
           0.3333333333333333,
           0,
           1
          ],
          [
           0.0880290239114299,
           0.5526315789473684,
           0.5555555555555556,
           0,
           0.3333333333333333,
           0,
           1
          ],
          [
           0.12197812107632651,
           0.6710526315789473,
           0.4444444444444444,
           0,
           1,
           0,
           1
          ],
          [
           0.07574380709920434,
           0.7894736842105263,
           0.3333333333333333,
           0,
           0.3333333333333333,
           0,
           1
          ],
          [
           0.0899921613241119,
           0.48684210526315785,
           0,
           0.4,
           0.3333333333333333,
           0,
           1
          ],
          [
           0.05527307033303967,
           0.7236842105263157,
           0.8888888888888888,
           0,
           0.3333333333333333,
           0,
           1
          ],
          [
           0.30047101424141737,
           0.2631578947368421,
           0.3333333333333333,
           0.6000000000000001,
           0.6666666666666667,
           0,
           1
          ],
          [
           0,
           0.026315789473684237,
           0,
           0,
           0,
           0,
           1
          ],
          [
           0.12797852341544289,
           0.3421052631578947,
           1,
           0,
           0.3333333333333333,
           0,
           1
          ],
          [
           0.15732846826723643,
           0.6710526315789473,
           0.4444444444444444,
           0,
           0,
           0,
           1
          ],
          [
           0.14456460664414492,
           0.381578947368421,
           0.2222222222222222,
           0.2,
           0.3333333333333333,
           0,
           1
          ],
          [
           0.18837101216035296,
           0.11842105263157898,
           0.1111111111111111,
           0.2,
           0.3333333333333333,
           0,
           1
          ],
          [
           0.1061412210298494,
           0.7368421052631579,
           0.7777777777777777,
           0,
           0.3333333333333333,
           0,
           1
          ],
          [
           0.182883939038687,
           0.368421052631579,
           0.1111111111111111,
           0.4,
           0.3333333333333333,
           0,
           1
          ],
          [
           0,
           0.013157894736842118,
           0.6666666666666666,
           0,
           0,
           0,
           1
          ],
          [
           0.3911291161719514,
           0.2894736842105263,
           0.2222222222222222,
           0.4,
           1,
           0,
           1
          ],
          [
           0.5298112474593673,
           0.5657894736842105,
           0.6666666666666666,
           0.2,
           0.3333333333333333,
           0,
           1
          ],
          [
           0.01746013027463113,
           0.9210526315789473,
           0.3333333333333333,
           0,
           0,
           0,
           1
          ],
          [
           0.0568893636798768,
           0.06578947368421054,
           0.3333333333333333,
           0,
           0,
           0,
           1
          ],
          [
           0.08133493344062376,
           0.22368421052631582,
           0,
           0,
           0,
           0,
           1
          ],
          [
           0.1548450647557871,
           0.48684210526315785,
           0,
           0,
           0.3333333333333333,
           0,
           1
          ],
          [
           0.18916181663047926,
           0.7236842105263157,
           0.3333333333333333,
           0,
           0.3333333333333333,
           0,
           1
          ],
          [
           0,
           0.05263157894736842,
           0.2222222222222222,
           0,
           0,
           0,
           1
          ],
          [
           0.05758305181156655,
           0.9078947368421053,
           0.2222222222222222,
           0,
           0,
           0,
           1
          ],
          [
           0.08635723551405759,
           0.25,
           0.1111111111111111,
           0.4,
           0.3333333333333333,
           0,
           1
          ],
          [
           0.28212990003954025,
           0.22368421052631582,
           0,
           0.4,
           0.6666666666666667,
           0,
           1
          ],
          [
           0.06576163488418876,
           0.381578947368421,
           0.2222222222222222,
           0.4,
           0.3333333333333333,
           0,
           1
          ],
          [
           0.24443488696351895,
           0.5526315789473684,
           0.5555555555555556,
           0.2,
           0.3333333333333333,
           0,
           1
          ],
          [
           0.20396512136073863,
           0.3026315789473684,
           0.6666666666666666,
           0.4,
           1,
           0,
           1
          ],
          [
           0,
           0.03947368421052633,
           0.1111111111111111,
           0,
           0,
           0,
           1
          ],
          [
           0.5730696393515403,
           0.5657894736842105,
           0.6666666666666666,
           0.2,
           0.3333333333333333,
           0,
           1
          ],
          [
           0,
           0.013157894736842118,
           0.6666666666666666,
           0,
           0,
           0,
           1
          ],
          [
           0.2171035745749426,
           0.35526315789473684,
           0,
           0,
           0.3333333333333333,
           0,
           1
          ],
          [
           0.3362930693618763,
           0.4342105263157895,
           0.6666666666666666,
           1,
           0.3333333333333333,
           0,
           1
          ],
          [
           0.021455773913164118,
           0.9078947368421053,
           0.2222222222222222,
           0,
           0.3333333333333333,
           0,
           1
          ],
          [
           0.14390560291903964,
           0.4342105263157895,
           0.1111111111111111,
           0.4,
           0.3333333333333333,
           0,
           1
          ],
          [
           0.22933329633663296,
           0.368421052631579,
           0.1111111111111111,
           0,
           0,
           0,
           1
          ],
          [
           0.08347149288622821,
           0.9473684210526316,
           0.5555555555555556,
           0,
           0.3333333333333333,
           0,
           1
          ],
          [
           0.0631186831024508,
           0.19736842105263158,
           0.7777777777777777,
           0,
           0,
           0,
           1
          ],
          [
           0.11500655535284447,
           0.2894736842105263,
           0.5555555555555556,
           0.4,
           0.3333333333333333,
           0,
           1
          ],
          [
           0,
           0,
           0.5555555555555556,
           0,
           0,
           0,
           1
          ],
          [
           0.08739776771159222,
           0.3157894736842105,
           0.3333333333333333,
           0,
           0,
           0,
           1
          ],
          [
           0.25795486865015227,
           0.3026315789473684,
           0.6666666666666666,
           0,
           0,
           0,
           1
          ],
          [
           0.28622266001650976,
           0.2763157894736842,
           0.4444444444444444,
           0.6000000000000001,
           0.3333333333333333,
           0,
           1
          ],
          [
           0.3252287436614247,
           0.3026315789473684,
           0.4444444444444444,
           0.4,
           0.3333333333333333,
           0,
           1
          ],
          [
           0,
           0.03947368421052633,
           0.1111111111111111,
           0,
           0,
           0,
           1
          ],
          [
           0.03784762446499303,
           0.6578947368421052,
           0.3333333333333333,
           0,
           1,
           0,
           1
          ],
          [
           0,
           0,
           0.5555555555555556,
           0,
           0,
           0,
           1
          ],
          [
           0.06660793440485027,
           0.868421052631579,
           1,
           0,
           0.3333333333333333,
           0,
           1
          ],
          [
           0.14348245315870892,
           0.4078947368421053,
           0.4444444444444444,
           0,
           0,
           0,
           1
          ],
          [
           0,
           0.026315789473684237,
           0,
           0,
           0,
           0,
           1
          ],
          [
           0.20200198394805663,
           0.3026315789473684,
           0.6666666666666666,
           0.4,
           0.6666666666666667,
           0,
           1
          ],
          [
           0.04408388076888393,
           0.8421052631578947,
           0.7777777777777777,
           0,
           0.3333333333333333,
           0,
           1
          ],
          [
           0,
           0.026315789473684237,
           0.7777777777777777,
           0,
           0,
           0,
           1
          ],
          [
           0.12350423496604397,
           0.10526315789473684,
           0,
           0.2,
           0.3333333333333333,
           0,
           1
          ],
          [
           0.3790797533245004,
           0.4605263157894737,
           0.8888888888888888,
           0,
           0,
           0,
           1
          ],
          [
           0.0410524636333997,
           0.21052631578947367,
           0.8888888888888888,
           0.2,
           0.3333333333333333,
           0,
           1
          ],
          [
           0,
           0.03947368421052633,
           0.1111111111111111,
           0,
           0,
           0,
           1
          ],
          [
           0.08640579368327587,
           0.2368421052631579,
           0.1111111111111111,
           0.4,
           0.3333333333333333,
           0,
           1
          ],
          [
           0.35172763029197335,
           0.5526315789473684,
           0.5555555555555556,
           0.2,
           0.3333333333333333,
           0,
           1
          ],
          [
           0.15198013277190842,
           0.5,
           0.1111111111111111,
           0.2,
           0.3333333333333333,
           0,
           1
          ],
          [
           0.4130357873707139,
           0.5789473684210527,
           0.7777777777777777,
           0,
           0,
           0,
           1
          ],
          [
           0.10922813321586881,
           0.22368421052631582,
           0,
           0.6000000000000001,
           0.3333333333333333,
           0,
           1
          ],
          [
           0.07650686404406307,
           0.4342105263157895,
           0.4444444444444444,
           0,
           0,
           0,
           1
          ],
          [
           0.21097137149080517,
           0.3157894736842105,
           0.3333333333333333,
           0,
           0.3333333333333333,
           0,
           1
          ],
          [
           0.286611125370256,
           0.5394736842105263,
           0.4444444444444444,
           0.2,
           0.3333333333333333,
           0,
           1
          ],
          [
           0,
           0.03947368421052633,
           0.1111111111111111,
           0,
           0,
           0,
           1
          ],
          [
           0.26870703469134344,
           0.4605263157894737,
           0.7777777777777777,
           1,
           1,
           0,
           1
          ],
          [
           0.31351235111718473,
           0.6052631578947368,
           1,
           0.4,
           0.3333333333333333,
           0,
           1
          ],
          [
           0.23381452166734878,
           0.5657894736842105,
           0.6666666666666666,
           0.2,
           0.3333333333333333,
           0,
           1
          ],
          [
           0.08626705605693792,
           0.21052631578947367,
           0.8888888888888888,
           0,
           0,
           0,
           1
          ],
          [
           0.22970095104642854,
           0.5526315789473684,
           0.5555555555555556,
           0,
           0.3333333333333333,
           0,
           1
          ],
          [
           0.7700215737008955,
           0.513157894736842,
           0.2222222222222222,
           0,
           0,
           0,
           1
          ],
          [
           0.21656943471354148,
           0.2763157894736842,
           0.4444444444444444,
           0,
           0,
           0,
           1
          ],
          [
           0.08374203125758721,
           0.7105263157894737,
           0.7777777777777777,
           0,
           0.3333333333333333,
           0,
           1
          ],
          [
           0.8868664026027179,
           0.5394736842105263,
           0.4444444444444444,
           0.2,
           0.3333333333333333,
           0,
           1
          ],
          [
           0.05731251344020755,
           0.618421052631579,
           0,
           0,
           0.3333333333333333,
           0,
           1
          ],
          [
           0.16576371594858383,
           0.2763157894736842,
           0.4444444444444444,
           0.2,
           0.3333333333333333,
           0,
           1
          ],
          [
           0.29503943617028655,
           0.3421052631578947,
           1,
           0.4,
           0.3333333333333333,
           0,
           1
          ],
          [
           0.5008012097921016,
           0.25,
           0.2222222222222222,
           0,
           0,
           0,
           1
          ],
          [
           0.10682103539890536,
           0.618421052631579,
           0,
           0,
           0.3333333333333333,
           0,
           1
          ],
          [
           0.08712722934023322,
           0.4342105263157895,
           0.6666666666666666,
           0.2,
           0.3333333333333333,
           0,
           1
          ],
          [
           0.06431182668895717,
           0.19736842105263158,
           0.6666666666666666,
           0,
           0.3333333333333333,
           0,
           1
          ],
          [
           0.12754843677379524,
           0.06578947368421054,
           0.3333333333333333,
           0,
           0,
           0,
           1
          ],
          [
           0.0693618762876586,
           0.4078947368421053,
           0.4444444444444444,
           0,
           0.3333333333333333,
           0,
           1
          ],
          [
           0,
           0,
           0.5555555555555556,
           0,
           0,
           0,
           1
          ],
          [
           0.22243109942631992,
           0.4605263157894737,
           0.8888888888888888,
           0.2,
           0.3333333333333333,
           0,
           1
          ],
          [
           0.04014373218088612,
           0.06578947368421054,
           0.3333333333333333,
           0,
           0,
           0,
           1
          ],
          [
           0.19487780683560285,
           0.7368421052631579,
           1,
           0,
           0.3333333333333333,
           0,
           1
          ],
          [
           0.4096020311188496,
           0.5526315789473684,
           0.5555555555555556,
           0,
           0,
           0,
           1
          ],
          [
           0.06216139348071894,
           0.9605263157894737,
           0.6666666666666666,
           0,
           1,
           0,
           1
          ],
          [
           0.39695609647814534,
           0.2894736842105263,
           0.5555555555555556,
           0.4,
           0.3333333333333333,
           0,
           1
          ],
          [
           0.3033983781571481,
           0.6973684210526315,
           0.6666666666666666,
           0,
           0.3333333333333333,
           0,
           1
          ],
          [
           0.39051867061606443,
           0.32894736842105265,
           0.8888888888888888,
           0.4,
           0.3333333333333333,
           0,
           1
          ],
          [
           0,
           0.03947368421052633,
           0.1111111111111111,
           0,
           0,
           0,
           1
          ],
          [
           0.20925102492421457,
           0.3157894736842105,
           0.7777777777777777,
           0.6000000000000001,
           0.3333333333333333,
           0,
           1
          ],
          [
           0.16710947092406195,
           0.7105263157894737,
           0.7777777777777777,
           0,
           0.3333333333333333,
           0,
           1
          ],
          [
           0.5363735371851523,
           0.3026315789473684,
           0.6666666666666666,
           0.4,
           0.3333333333333333,
           0,
           1
          ],
          [
           0.5403344964171009,
           0.2894736842105263,
           0.2222222222222222,
           0,
           0,
           0,
           1
          ],
          [
           0.13627503347045236,
           0.3421052631578947,
           0.6666666666666666,
           0.4,
           0.3333333333333333,
           0,
           1
          ],
          [
           0.08200087404704592,
           0.21052631578947367,
           0.8888888888888888,
           0,
           0.3333333333333333,
           0,
           1
          ],
          [
           0.011036578175184001,
           0.15789473684210525,
           0.4444444444444444,
           0,
           0,
           0,
           1
          ],
          [
           0,
           0.05263157894736842,
           0.2222222222222222,
           0,
           0,
           0,
           1
          ],
          [
           0,
           0.013157894736842118,
           0.6666666666666666,
           0,
           0,
           0,
           1
          ],
          [
           0.09809443870224824,
           0.06578947368421054,
           0.3333333333333333,
           0,
           0,
           0,
           1
          ],
          [
           0.6284259522603828,
           0.48684210526315785,
           0,
           0,
           0.3333333333333333,
           0,
           1
          ],
          [
           0,
           0.05263157894736842,
           0.2222222222222222,
           0,
           0,
           0,
           1
          ],
          [
           0.2092371511615808,
           0.32894736842105265,
           0.1111111111111111,
           0.6000000000000001,
           0.3333333333333333,
           0,
           1
          ],
          [
           0.22012111794779304,
           0.2894736842105263,
           0.5555555555555556,
           0.6000000000000001,
           0.3333333333333333,
           0,
           1
          ],
          [
           0.364477618152431,
           0.2894736842105263,
           0.5555555555555556,
           0.6000000000000001,
           1,
           0,
           1
          ],
          [
           0.10789625200302448,
           0.7894736842105263,
           0.3333333333333333,
           0,
           0.3333333333333333,
           0,
           1
          ],
          [
           0.3903105641765575,
           0.4078947368421053,
           0.4444444444444444,
           1,
           0.6666666666666667,
           0,
           1
          ],
          [
           0.13208515715504623,
           0.32894736842105265,
           0.8888888888888888,
           0.6000000000000001,
           0.3333333333333333,
           0,
           1
          ],
          [
           0.35301789021691626,
           0.2631578947368421,
           0.3333333333333333,
           0.4,
           0.3333333333333333,
           0,
           1
          ],
          [
           0.07914981582580104,
           0.9078947368421053,
           0.2222222222222222,
           0,
           0.3333333333333333,
           0,
           1
          ],
          [
           0,
           0.03947368421052633,
           0.1111111111111111,
           0,
           0,
           0,
           1
          ],
          [
           0.15512254000846298,
           0.6578947368421052,
           0.3333333333333333,
           0,
           0.3333333333333333,
           0,
           1
          ],
          [
           0.22703025173942298,
           0.5263157894736842,
           0.3333333333333333,
           0,
           0.6666666666666667,
           0,
           1
          ],
          [
           0.030688762945954757,
           0.06578947368421054,
           0.3333333333333333,
           0,
           0,
           0,
           1
          ],
          [
           0.27318826002205926,
           0.14473684210526316,
           0.3333333333333333,
           0.2,
           0.6666666666666667,
           0,
           1
          ],
          [
           0.2351949610494114,
           0.513157894736842,
           0.2222222222222222,
           0,
           0.3333333333333333,
           0,
           1
          ],
          [
           0.20137766462953585,
           0.4078947368421053,
           0.4444444444444444,
           0,
           0,
           0,
           1
          ],
          [
           0.1435310113279272,
           0.4078947368421053,
           0.4444444444444444,
           0,
           0,
           0,
           1
          ],
          [
           0.16567353649146416,
           0.8157894736842105,
           0.5555555555555556,
           0,
           0.3333333333333333,
           0,
           1
          ],
          [
           0.645546175350486,
           0.48684210526315785,
           0,
           0,
           0.3333333333333333,
           0,
           1
          ],
          [
           0.25791324736225085,
           0.6842105263157895,
           0.5555555555555556,
           0,
           0.3333333333333333,
           0,
           1
          ],
          [
           0.18017161844378005,
           0.5789473684210527,
           0.7777777777777777,
           0.2,
           0.3333333333333333,
           0,
           1
          ],
          [
           0.25970296274201043,
           0.6447368421052632,
           0.2222222222222222,
           0,
           0.3333333333333333,
           0,
           1
          ],
          [
           0,
           0.013157894736842118,
           0.6666666666666666,
           0,
           0,
           0,
           1
          ],
          [
           0.20144703344270481,
           0.25,
           0.2222222222222222,
           0.2,
           0.3333333333333333,
           0,
           1
          ],
          [
           0.09078296579423822,
           0.11842105263157898,
           0.1111111111111111,
           0,
           0.3333333333333333,
           0,
           1
          ],
          [
           0.11264107882378241,
           0.2631578947368421,
           0.3333333333333333,
           0.4,
           1,
           0,
           1
          ],
          [
           0.05582802083839147,
           0.17105263157894735,
           0.5555555555555556,
           0,
           0,
           0,
           1
          ],
          [
           0.12070867179533425,
           0.06578947368421054,
           0.3333333333333333,
           0,
           0,
           0,
           1
          ],
          [
           0.47197846792039233,
           0.4605263157894737,
           0.8888888888888888,
           0,
           0,
           0,
           1
          ],
          [
           0,
           0.05263157894736842,
           0.2222222222222222,
           0,
           0,
           0,
           1
          ],
          [
           0.08046782327601157,
           0.06578947368421054,
           0.3333333333333333,
           0,
           0,
           0,
           1
          ],
          [
           0.13630278099571994,
           0.6973684210526315,
           0.5555555555555556,
           0,
           0.3333333333333333,
           0,
           1
          ],
          [
           0.08537219836705814,
           0.21052631578947367,
           0.8888888888888888,
           0.2,
           0.3333333333333333,
           0,
           1
          ],
          [
           0,
           0.026315789473684237,
           0.7777777777777777,
           0,
           0,
           0,
           1
          ],
          [
           0.1811358449468288,
           0.3026315789473684,
           0.6666666666666666,
           0,
           0.3333333333333333,
           0,
           1
          ],
          [
           0.30092884840833256,
           0.4605263157894737,
           0.8888888888888888,
           0,
           0,
           0,
           1
          ],
          [
           0.11215549713159957,
           0.4736842105263158,
           1,
           0,
           0,
           0,
           1
          ],
          [
           0.06241112120812725,
           0.13157894736842107,
           0.2222222222222222,
           0.4,
           0.3333333333333333,
           0,
           1
          ],
          [
           0.1721387098788127,
           0.25,
           0.2222222222222222,
           0.4,
           0.3333333333333333,
           0,
           1
          ],
          [
           0.04253695623521577,
           0.10526315789473684,
           0,
           0,
           0,
           0,
           1
          ],
          [
           0,
           0.013157894736842118,
           0.6666666666666666,
           0,
           0,
           0,
           1
          ],
          [
           0,
           0.013157894736842118,
           0.6666666666666666,
           0,
           0,
           0,
           1
          ],
          [
           0.13045499004557531,
           0.07894736842105265,
           0.4444444444444444,
           0,
           0,
           0,
           1
          ],
          [
           0.2009961361571065,
           0.5394736842105263,
           0.4444444444444444,
           0.4,
           0.3333333333333333,
           0,
           1
          ],
          [
           0.2763098566146632,
           0.5921052631578947,
           0.6666666666666666,
           0,
           0,
           0,
           1
          ],
          [
           0.5969533217256185,
           0.48684210526315785,
           0,
           0.4,
           0.6666666666666667,
           0,
           1
          ],
          [
           0.13798150627440914,
           0.75,
           0,
           0,
           1,
           0,
           1
          ],
          [
           0.37968326199907043,
           0.48684210526315785,
           0,
           0,
           0.3333333333333333,
           0,
           1
          ],
          [
           0.16285022579548686,
           0.07894736842105265,
           0.4444444444444444,
           0,
           0,
           0,
           1
          ],
          [
           0,
           0.013157894736842118,
           0.6666666666666666,
           0,
           0,
           0,
           1
          ],
          [
           0.652920080190348,
           0.5,
           0.1111111111111111,
           0.4,
           0.3333333333333333,
           0,
           1
          ],
          [
           0.03332477784637582,
           0.8026315789473684,
           0.4444444444444444,
           0,
           0.3333333333333333,
           0,
           1
          ],
          [
           0.04561693153991828,
           0.42105263157894735,
           0.5555555555555556,
           0,
           0,
           0,
           1
          ],
          [
           0.38907579930214975,
           0.4342105263157895,
           0.6666666666666666,
           0,
           0,
           0,
           1
          ],
          [
           0.2040622376991752,
           0.2631578947368421,
           0.3333333333333333,
           0.6000000000000001,
           1,
           0,
           1
          ],
          [
           0.2151335002809437,
           0.2368421052631579,
           0.1111111111111111,
           0,
           0,
           0,
           1
          ],
          [
           0.27576877987194515,
           0.5789473684210527,
           0.7777777777777777,
           0.4,
           0.3333333333333333,
           0,
           1
          ],
          [
           0.30307928161657083,
           0.7236842105263157,
           0.8888888888888888,
           0,
           0.3333333333333333,
           0,
           1
          ],
          [
           0.05342092302142803,
           0.15789473684210525,
           0.4444444444444444,
           0.2,
           0.3333333333333333,
           0,
           1
          ],
          [
           0.13401361016114374,
           0.14473684210526316,
           0.3333333333333333,
           0,
           0.3333333333333333,
           0,
           1
          ],
          [
           0.05428803318604022,
           0.06578947368421054,
           0.3333333333333333,
           0,
           0,
           0,
           1
          ],
          [
           0.35364220953543707,
           0.5,
           0.1111111111111111,
           0.2,
           0.3333333333333333,
           0,
           1
          ],
          [
           0.30735240050777973,
           0.5263157894736842,
           0.3333333333333333,
           0.2,
           0.3333333333333333,
           0,
           1
          ],
          [
           0.14516117843739812,
           0.75,
           0,
           0,
           1,
           0,
           1
          ],
          [
           0,
           0.026315789473684237,
           0.7777777777777777,
           0,
           0,
           0,
           1
          ],
          [
           0.04962644894108507,
           0.6842105263157895,
           0.5555555555555556,
           0,
           0.3333333333333333,
           0,
           1
          ],
          [
           0.07110303349819988,
           0.7368421052631579,
           1,
           0,
           0,
           0,
           1
          ],
          [
           0.04647710482321358,
           0.13157894736842107,
           0.2222222222222222,
           0,
           0,
           0,
           1
          ],
          [
           0.9869378524802819,
           0.5394736842105263,
           0.4444444444444444,
           0,
           0.6666666666666667,
           0,
           1
          ],
          [
           0.019825606803693194,
           0.9210526315789473,
           0.3333333333333333,
           0,
           1,
           0,
           1
          ],
          [
           0,
           0,
           0.5555555555555556,
           0,
           0,
           0,
           1
          ],
          [
           0.10376880761947044,
           0.10526315789473684,
           0,
           0,
           0,
           0,
           1
          ],
          [
           0.05283822499080863,
           0.39473684210526316,
           0.3333333333333333,
           0.4,
           0.3333333333333333,
           0,
           1
          ],
          [
           0.05015365192116928,
           0.6447368421052632,
           0.2222222222222222,
           0,
           0.3333333333333333,
           0,
           1
          ],
          [
           0.20821049272667994,
           0.22368421052631582,
           0,
           0.4,
           0.3333333333333333,
           0,
           1
          ],
          [
           0.04432667161497534,
           0.368421052631579,
           0.1111111111111111,
           0,
           0.3333333333333333,
           0,
           1
          ],
          [
           0.4800668715358949,
           0.5263157894736842,
           0.3333333333333333,
           0.4,
           0.3333333333333333,
           0,
           1
          ],
          [
           0.3093294116830955,
           0.39473684210526316,
           0.3333333333333333,
           0.8,
           0.3333333333333333,
           0,
           1
          ],
          [
           0.19782598139528432,
           0.2368421052631579,
           0.1111111111111111,
           0.4,
           0.6666666666666667,
           0,
           1
          ],
          [
           0.12809645039783013,
           0.2368421052631579,
           0.1111111111111111,
           0.4,
           0.6666666666666667,
           0,
           1
          ],
          [
           0.5839744167817033,
           0.3157894736842105,
           0.7777777777777777,
           0,
           0,
           0,
           1
          ],
          [
           0.25500669409047083,
           0.5526315789473684,
           0.5555555555555556,
           0.2,
           0.3333333333333333,
           0,
           1
          ],
          [
           0.051006888323147676,
           0.07894736842105265,
           0.4444444444444444,
           0,
           0,
           0,
           1
          ],
          [
           0.2830108839667862,
           0.3026315789473684,
           0.6666666666666666,
           0.4,
           0.3333333333333333,
           0,
           1
          ],
          [
           0,
           0.013157894736842118,
           0.6666666666666666,
           0,
           0,
           0,
           1
          ],
          [
           0.16856621600061045,
           0.4473684210526315,
           0.7777777777777777,
           0,
           0,
           0,
           1
          ],
          [
           0.30735240050777973,
           0.2631578947368421,
           0.3333333333333333,
           0.6000000000000001,
           0.3333333333333333,
           0,
           1
          ],
          [
           0.39985571286860855,
           0.6052631578947368,
           1,
           0.2,
           0.3333333333333333,
           0,
           1
          ],
          [
           0.2529464403393522,
           0.25,
           0.2222222222222222,
           0,
           0,
           0,
           1
          ],
          [
           0.05729170279625686,
           0.21052631578947367,
           0.8888888888888888,
           0.4,
           1,
           0,
           1
          ],
          [
           0,
           0.026315789473684237,
           0,
           0,
           0,
           0,
           1
          ],
          [
           0.3278855692057965,
           0.5394736842105263,
           0.4444444444444444,
           0.2,
           1,
           0,
           1
          ],
          [
           0,
           0.03947368421052633,
           0.1111111111111111,
           0,
           0,
           0,
           1
          ],
          [
           0.253910666842401,
           0.6842105263157895,
           0.5555555555555556,
           0,
           0.3333333333333333,
           0,
           1
          ],
          [
           0.12946301601725896,
           0.3421052631578947,
           1,
           0.6000000000000001,
           0.3333333333333333,
           0,
           1
          ],
          [
           0.17233294255568582,
           0.631578947368421,
           0.1111111111111111,
           0,
           0.3333333333333333,
           0,
           1
          ],
          [
           0.5264399231393551,
           0.35526315789473684,
           0,
           0,
           0.6666666666666667,
           0,
           1
          ],
          [
           0.05610549609106738,
           0.9342105263157894,
           0.4444444444444444,
           0,
           0,
           0,
           1
          ],
          [
           0.11913399973639852,
           0.894736842105263,
           0.1111111111111111,
           0,
           0.3333333333333333,
           0,
           1
          ],
          [
           0.3251316273229881,
           0.6052631578947368,
           1,
           0,
           0.3333333333333333,
           0,
           1
          ],
          [
           0.18895371019097235,
           0.5789473684210527,
           0.7777777777777777,
           0,
           0,
           0,
           1
          ],
          [
           0.2691718057395756,
           0.368421052631579,
           0.1111111111111111,
           0.4,
           0.3333333333333333,
           0,
           1
          ],
          [
           0.04237047108361023,
           0.07894736842105265,
           0.4444444444444444,
           0,
           0,
           0,
           1
          ],
          [
           0.3458937131044625,
           0.5526315789473684,
           0.5555555555555556,
           0,
           0.3333333333333333,
           0,
           1
          ],
          [
           0,
           0.05263157894736842,
           0.2222222222222222,
           0,
           0,
           0,
           1
          ],
          [
           0.16461913053129573,
           0.11842105263157898,
           0.1111111111111111,
           0,
           0.3333333333333333,
           0,
           1
          ],
          [
           0.01817462905027158,
           0.11842105263157898,
           0.1111111111111111,
           0,
           0,
           0,
           1
          ],
          [
           0,
           0.026315789473684237,
           0,
           0,
           0,
           0,
           1
          ],
          [
           0,
           0.05263157894736842,
           0.2222222222222222,
           0,
           0,
           0,
           1
          ],
          [
           0.25398697253688685,
           0.32894736842105265,
           0.5555555555555556,
           0.2,
           1,
           0,
           1
          ],
          [
           0.32229444286437703,
           0.513157894736842,
           0.2222222222222222,
           0.2,
           0.3333333333333333,
           0,
           1
          ],
          [
           0.10501744625651199,
           0.6578947368421052,
           0.3333333333333333,
           0,
           0.3333333333333333,
           0,
           1
          ],
          [
           0.017106349327469357,
           0.6447368421052632,
           0.2222222222222222,
           0,
           0,
           0,
           1
          ],
          [
           0.03073732111517304,
           0.6447368421052632,
           0.2222222222222222,
           0,
           0.6666666666666667,
           0,
           1
          ],
          [
           0.09204547819391358,
           0.48684210526315785,
           0,
           0.2,
           0.3333333333333333,
           0,
           1
          ],
          [
           0.18304348730897563,
           0.5657894736842105,
           0.6666666666666666,
           0.2,
           0.3333333333333333,
           0,
           1
          ],
          [
           0.42523082472581974,
           0.48684210526315785,
           0,
           0.4,
           0.3333333333333333,
           0,
           1
          ]
         ],
         "theta": [
          "income",
          "age",
          "years_with_bank",
          "nbr_children",
          "marital_status",
          "gender_F",
          "gender_M"
         ],
         "type": "scatterpolar"
        },
        {
         "fill": "toself",
         "name": "Product B",
         "r": [
          [
           0.3090658101930534,
           0.6052631578947368,
           1,
           0.4,
           1,
           1,
           0
          ],
          [
           0.10879804657422117,
           0.5263157894736842,
           0.3333333333333333,
           0.4,
           0.3333333333333333,
           1,
           0
          ],
          [
           0.013381244060295372,
           0.868421052631579,
           0.8888888888888888,
           0,
           0.3333333333333333,
           1,
           0
          ],
          [
           0.2770729135595219,
           0.368421052631579,
           0.1111111111111111,
           1,
           1,
           1,
           0
          ],
          [
           0.16198311563087467,
           0.5,
           0.1111111111111111,
           0.4,
           0.3333333333333333,
           1,
           0
          ],
          [
           0.18386203930436953,
           0.48684210526315785,
           0,
           0.2,
           0.3333333333333333,
           1,
           0
          ],
          [
           0.46428546653995295,
           0.5921052631578947,
           0.8888888888888888,
           0,
           0.3333333333333333,
           1,
           0
          ],
          [
           0.13411766338089723,
           0.381578947368421,
           0.2222222222222222,
           0.4,
           1,
           1,
           0
          ],
          [
           0.04504117039061579,
           0.8026315789473684,
           0.4444444444444444,
           0,
           0.3333333333333333,
           1,
           0
          ],
          [
           0.062265446700472404,
           0.19736842105263158,
           0.7777777777777777,
           0.2,
           0.3333333333333333,
           1,
           0
          ],
          [
           0.21271252870134644,
           0.5657894736842105,
           0.6666666666666666,
           0.2,
           0.3333333333333333,
           1,
           0
          ],
          [
           0.1687465749148498,
           0.618421052631579,
           0,
           0,
           0.3333333333333333,
           1,
           0
          ],
          [
           0.3926066718924506,
           0.2368421052631579,
           0.1111111111111111,
           0.4,
           0.3333333333333333,
           1,
           0
          ],
          [
           0.16887143877855393,
           0.25,
           0.2222222222222222,
           0.4,
           0.3333333333333333,
           1,
           0
          ],
          [
           0.1502736599679516,
           0.5394736842105263,
           0.4444444444444444,
           0.2,
           0.3333333333333333,
           1,
           0
          ],
          [
           0.30048488800405115,
           0.22368421052631582,
           0,
           0.6000000000000001,
           0.3333333333333333,
           1,
           0
          ],
          [
           0.17026575192325033,
           0.513157894736842,
           0.2222222222222222,
           0.2,
           0.3333333333333333,
           1,
           0
          ],
          [
           0.1251135914315642,
           0.3026315789473684,
           0.6666666666666666,
           0.4,
           0.3333333333333333,
           1,
           0
          ],
          [
           0.05557135622966627,
           0.9078947368421053,
           0.2222222222222222,
           0,
           0.3333333333333333,
           1,
           0
          ],
          [
           0.052519128450231344,
           0.13157894736842107,
           0.2222222222222222,
           0.2,
           1,
           1,
           0
          ],
          [
           0.1186137336376312,
           0.4473684210526315,
           0.7777777777777777,
           0.4,
           0.6666666666666667,
           1,
           0
          ],
          [
           0.3266091830434873,
           0.39473684210526316,
           0.3333333333333333,
           0.2,
           0.3333333333333333,
           1,
           0
          ],
          [
           0.040150669062203014,
           0.2894736842105263,
           0.5555555555555556,
           0.4,
           0.3333333333333333,
           1,
           0
          ],
          [
           0.1109415429011425,
           0.22368421052631582,
           0,
           0.6000000000000001,
           0.3333333333333333,
           1,
           0
          ],
          [
           0.03076506864044063,
           0.6842105263157895,
           0.5555555555555556,
           0,
           0.3333333333333333,
           1,
           0
          ],
          [
           0.08598958080426201,
           0.618421052631579,
           0,
           0,
           0.3333333333333333,
           1,
           0
          ],
          [
           0.05154796506586569,
           0.3157894736842105,
           0.7777777777777777,
           0.2,
           0.3333333333333333,
           1,
           0
          ],
          [
           0.05294921509187899,
           0.5263157894736842,
           0.3333333333333333,
           0,
           0.3333333333333333,
           1,
           0
          ],
          [
           0.5654182592590024,
           0.368421052631579,
           0.1111111111111111,
           0.2,
           0.3333333333333333,
           1,
           0
          ],
          [
           0.1746706715594803,
           0.5657894736842105,
           0.6666666666666666,
           0.2,
           0.6666666666666667,
           1,
           0
          ],
          [
           0.16029745347086857,
           0.7368421052631579,
           1,
           0,
           0.3333333333333333,
           1,
           0
          ],
          [
           0.12729177216507004,
           0.32894736842105265,
           0.5555555555555556,
           0.4,
           0.3333333333333333,
           1,
           0
          ],
          [
           0.08938171576822491,
           0.631578947368421,
           0.1111111111111111,
           0,
           0.3333333333333333,
           1,
           0
          ],
          [
           0.2754219358061003,
           0.5263157894736842,
           0.3333333333333333,
           0.2,
           0.3333333333333333,
           1,
           0
          ],
          [
           0.3416968999077395,
           0.4736842105263158,
           1,
           0,
           0.3333333333333333,
           1,
           0
          ],
          [
           0.053767767087272905,
           0.368421052631579,
           0.1111111111111111,
           0.4,
           1,
           1,
           0
          ],
          [
           0.20024695297488154,
           0.8421052631578947,
           0.7777777777777777,
           0,
           0.3333333333333333,
           1,
           0
          ],
          [
           0.14466865986389837,
           0.3026315789473684,
           0.6666666666666666,
           0.4,
           0.3333333333333333,
           1,
           0
          ],
          [
           0.21532079607649993,
           0.618421052631579,
           0,
           0,
           0.3333333333333333,
           1,
           0
          ],
          [
           0.06111392440186741,
           0.2894736842105263,
           0.5555555555555556,
           0.4,
           0.3333333333333333,
           1,
           0
          ],
          [
           0.10319998335148484,
           0.2631578947368421,
           0.3333333333333333,
           0.6000000000000001,
           0.3333333333333333,
           1,
           0
          ],
          [
           0.02029037785192533,
           0.21052631578947367,
           0.8888888888888888,
           0.4,
           1,
           1,
           0
          ],
          [
           0.5850218858605548,
           0.39473684210526316,
           0.3333333333333333,
           0.8,
           1,
           1,
           0
          ],
          [
           0.08279167851717224,
           0.618421052631579,
           0,
           0,
           0.3333333333333333,
           1,
           0
          ],
          [
           0.30452908981180243,
           0.3026315789473684,
           0.6666666666666666,
           0.4,
           0.3333333333333333,
           1,
           0
          ],
          [
           0.168392793967688,
           0.5526315789473684,
           0.5555555555555556,
           0.2,
           0.6666666666666667,
           1,
           0
          ],
          [
           0.09580526786767204,
           0.48684210526315785,
           0,
           0,
           0.6666666666666667,
           1,
           0
          ],
          [
           0.03806960466713375,
           0.2631578947368421,
           0.3333333333333333,
           0.6000000000000001,
           0.3333333333333333,
           1,
           0
          ],
          [
           0.12180469904340406,
           0.5,
           0.1111111111111111,
           0,
           0.3333333333333333,
           1,
           0
          ],
          [
           0.09222583710815292,
           0.32894736842105265,
           0.8888888888888888,
           0.6000000000000001,
           0.3333333333333333,
           1,
           0
          ],
          [
           0.5211054614066608,
           0.5921052631578947,
           0.8888888888888888,
           0,
           1,
           1,
           0
          ],
          [
           0.08503229118253015,
           0.3421052631578947,
           1,
           0.6000000000000001,
           0.3333333333333333,
           1,
           0
          ],
          [
           0.025097636604535335,
           1,
           1,
           0,
           0.3333333333333333,
           1,
           0
          ],
          [
           0.03045984586249714,
           0.6973684210526315,
           0.6666666666666666,
           0,
           1,
           1,
           0
          ],
          [
           0.3072205997627587,
           0.2763157894736842,
           0.4444444444444444,
           0.2,
           0.3333333333333333,
           1,
           0
          ],
          [
           0.34497804477063204,
           0.6447368421052632,
           0.2222222222222222,
           0,
           0.3333333333333333,
           1,
           0
          ],
          [
           0.01947182585653142,
           0.5394736842105263,
           0.2222222222222222,
           0,
           0.3333333333333333,
           1,
           0
          ],
          [
           0.03209001297196806,
           0.8552631578947367,
           0.8888888888888888,
           0,
           0.6666666666666667,
           1,
           0
          ],
          [
           0.031937401582996315,
           0.6842105263157895,
           0.5555555555555556,
           0,
           0.3333333333333333,
           1,
           0
          ],
          [
           0.2725570038222216,
           0.5921052631578947,
           0.8888888888888888,
           0.2,
           1,
           1,
           0
          ],
          [
           0.20368764610806273,
           0.3026315789473684,
           0.6666666666666666,
           0.6000000000000001,
           1,
           1,
           0
          ],
          [
           0.07633344201114063,
           0.7763157894736842,
           0.2222222222222222,
           0,
           0.3333333333333333,
           1,
           0
          ],
          [
           0.06832134409012396,
           0.618421052631579,
           0,
           0,
           0.3333333333333333,
           1,
           0
          ],
          [
           0.14704801015559424,
           0.48684210526315785,
           0,
           0.2,
           0.3333333333333333,
           1,
           0
          ],
          [
           0.25578362479796335,
           0.6052631578947368,
           1,
           0,
           0.3333333333333333,
           1,
           0
          ],
          [
           0.06669117698065304,
           0.6842105263157895,
           0.5555555555555556,
           0,
           0.3333333333333333,
           1,
           0
          ],
          [
           0.21157488016537526,
           0.5789473684210527,
           0.7777777777777777,
           0.4,
           0.3333333333333333,
           1,
           0
          ],
          [
           0.48164154359483063,
           0.5921052631578947,
           0.8888888888888888,
           0.4,
           0.3333333333333333,
           1,
           0
          ],
          [
           0.08755037910056397,
           0.6973684210526315,
           0.6666666666666666,
           0,
           1,
           1,
           0
          ],
          [
           0.10458735961486434,
           0.8026315789473684,
           0.4444444444444444,
           0,
           0.3333333333333333,
           1,
           0
          ],
          [
           0.0687861151383561,
           0.2631578947368421,
           0.3333333333333333,
           0.4,
           0.3333333333333333,
           1,
           0
          ],
          [
           0.15786954500995443,
           0.22368421052631582,
           0,
           0.4,
           0.3333333333333333,
           1,
           0
          ],
          [
           0.12217235375319964,
           0.22368421052631582,
           0,
           0.6000000000000001,
           1,
           1,
           0
          ],
          [
           0.19294241694818842,
           0.14473684210526316,
           0.3333333333333333,
           0.4,
           0.3333333333333333,
           1,
           0
          ],
          [
           0.25993187982546806,
           0.5526315789473684,
           0.5555555555555556,
           0.2,
           0.3333333333333333,
           1,
           0
          ],
          [
           0.18939767059525378,
           0.6052631578947368,
           1,
           0.2,
           0.6666666666666667,
           1,
           0
          ],
          [
           0.2034934134311896,
           0.48684210526315785,
           0,
           0,
           0.3333333333333333,
           1,
           0
          ],
          [
           0.04297397975818032,
           0.8157894736842105,
           0.5555555555555556,
           0,
           1,
           1,
           0
          ],
          [
           0.13623341218255097,
           0.3026315789473684,
           0.3333333333333333,
           0.6000000000000001,
           0.6666666666666667,
           1,
           0
          ],
          [
           0.3165229576087183,
           0.4078947368421053,
           0.4444444444444444,
           0.4,
           0.6666666666666667,
           1,
           0
          ],
          [
           0.4292889002962048,
           0.513157894736842,
           0.2222222222222222,
           0.4,
           0.3333333333333333,
           1,
           0
          ],
          [
           0.16539606123878828,
           0.6052631578947368,
           1,
           0.2,
           0.3333333333333333,
           1,
           0
          ],
          [
           0.0246328655563032,
           0.1842105263157895,
           0.4444444444444444,
           0.4,
           0.3333333333333333,
           1,
           0
          ],
          [
           0.3442288615884071,
           0.5526315789473684,
           0.5555555555555556,
           0.2,
           1,
           1,
           0
          ],
          [
           0.1890855109359934,
           0.7368421052631579,
           1,
           0,
           0.3333333333333333,
           1,
           0
          ],
          [
           0.24631478180039817,
           0.5657894736842105,
           0.6666666666666666,
           0.2,
           0.3333333333333333,
           1,
           0
          ],
          [
           0.05813800231691836,
           0.4078947368421053,
           0.4444444444444444,
           0,
           0.3333333333333333,
           1,
           0
          ],
          [
           0.19463501598951144,
           0.25,
           0.2222222222222222,
           0.4,
           1,
           1,
           0
          ],
          [
           0.20284134658740124,
           0.5921052631578947,
           0.5555555555555556,
           0.4,
           0.3333333333333333,
           1,
           0
          ],
          [
           0.13655944560444516,
           0.6710526315789473,
           0.4444444444444444,
           0,
           0.3333333333333333,
           1,
           0
          ],
          [
           0.1386474468808313,
           0.42105263157894735,
           0.5555555555555556,
           0.4,
           0.6666666666666667,
           1,
           0
          ],
          [
           0.27922334676776017,
           0.35526315789473684,
           0,
           1,
           0.6666666666666667,
           1,
           0
          ],
          [
           0.18565175468412912,
           0.2368421052631579,
           0.1111111111111111,
           0.4,
           0.3333333333333333,
           1,
           0
          ],
          [
           0.0735864370096492,
           0.6578947368421052,
           0.3333333333333333,
           0,
           0.3333333333333333,
           1,
           0
          ],
          [
           0.06506100987118212,
           0.7368421052631579,
           1,
           0,
           0.3333333333333333,
           1,
           0
          ],
          [
           0.1242534181482689,
           0.25,
           0.2222222222222222,
           0.6000000000000001,
           0.3333333333333333,
           1,
           0
          ],
          [
           0.1449045138286729,
           0.13157894736842107,
           0.2222222222222222,
           0,
           0.6666666666666667,
           1,
           0
          ],
          [
           0.1251413389568318,
           0.1842105263157895,
           0.6666666666666666,
           0.4,
           0.3333333333333333,
           1,
           0
          ],
          [
           0.41789160429254213,
           0.368421052631579,
           0.1111111111111111,
           0.8,
           0.3333333333333333,
           1,
           0
          ],
          [
           0.25152437966938823,
           0.42105263157894735,
           0.5555555555555556,
           0.4,
           0.3333333333333333,
           1,
           0
          ],
          [
           0.12756924741774592,
           0.32894736842105265,
           0.8888888888888888,
           0.4,
           0.3333333333333333,
           1,
           0
          ],
          [
           0.1231296433749315,
           0.5657894736842105,
           0.6666666666666666,
           0.2,
           0.3333333333333333,
           1,
           0
          ],
          [
           0.12613331298514813,
           0.2631578947368421,
           0.3333333333333333,
           0.6000000000000001,
           0.3333333333333333,
           1,
           0
          ],
          [
           0.13762772532724737,
           0.48684210526315785,
           0,
           0.4,
           1,
           1,
           0
          ],
          [
           0.20698266473358906,
           0.3026315789473684,
           0.6666666666666666,
           0.4,
           0.3333333333333333,
           1,
           0
          ],
          [
           0.5391829741184958,
           0.5789473684210527,
           0.7777777777777777,
           0.2,
           0.3333333333333333,
           1,
           0
          ],
          [
           0.07504318208619769,
           0.19736842105263158,
           0.4444444444444444,
           0.4,
           0.3333333333333333,
           1,
           0
          ],
          [
           0.2561304688638082,
           0.5263157894736842,
           0.2222222222222222,
           0.2,
           0.6666666666666667,
           1,
           0
          ],
          [
           0.2289864522707881,
           0.5526315789473684,
           0.5555555555555556,
           0,
           0.3333333333333333,
           1,
           0
          ],
          [
           0.31537837219143017,
           0.5789473684210527,
           0.7777777777777777,
           0,
           0.3333333333333333,
           1,
           0
          ],
          [
           0.1426361536380474,
           0.48684210526315785,
           0,
           0.4,
           0.3333333333333333,
           1,
           0
          ],
          [
           0.7018528409997433,
           0.48684210526315785,
           0,
           0,
           0.3333333333333333,
           1,
           0
          ],
          [
           0.10252710586374578,
           0.986842105263158,
           0.8888888888888888,
           0,
           1,
           1,
           0
          ],
          [
           0.2385870960133743,
           0.5394736842105263,
           0.4444444444444444,
           0,
           0.3333333333333333,
           1,
           0
          ],
          [
           0.08712722934023322,
           0.2368421052631579,
           0.1111111111111111,
           0.4,
           0.3333333333333333,
           1,
           0
          ],
          [
           0.3104809339817005,
           0.5263157894736842,
           0.2222222222222222,
           0.2,
           0.3333333333333333,
           1,
           0
          ],
          [
           0.04913393036758534,
           0.8421052631578947,
           0.7777777777777777,
           0,
           0.3333333333333333,
           1,
           0
          ],
          [
           0.06021906671198762,
           0.7236842105263157,
           0.8888888888888888,
           0,
           0.3333333333333333,
           1,
           0
          ],
          [
           0.17637714436343707,
           0.4342105263157895,
           0.6666666666666666,
           0.2,
           0.3333333333333333,
           1,
           0
          ],
          [
           0.09103963040296344,
           0.6973684210526315,
           0.6666666666666666,
           0,
           0.3333333333333333,
           1,
           0
          ],
          [
           0.05948375729239649,
           0.513157894736842,
           0.2222222222222222,
           0.2,
           0.3333333333333333,
           1,
           0
          ],
          [
           0.18440311604708756,
           0.13157894736842107,
           0.2222222222222222,
           0.4,
           0.3333333333333333,
           1,
           0
          ],
          [
           0.21278189751451543,
           0.6710526315789473,
           0.4444444444444444,
           0,
           0.3333333333333333,
           1,
           0
          ],
          [
           0.0557586520252225,
           0.881578947368421,
           0,
           0,
           0.3333333333333333,
           1,
           0
          ],
          [
           0.34428435663894225,
           0.5394736842105263,
           0.4444444444444444,
           0.2,
           0.3333333333333333,
           1,
           0
          ],
          [
           0.09013783583176675,
           0.17105263157894735,
           0.5555555555555556,
           0.2,
           1,
           1,
           0
          ],
          [
           0.13997932809367564,
           0.4736842105263158,
           1,
           0.2,
           0.3333333333333333,
           1,
           0
          ],
          [
           0.07423156697212067,
           0.8289473684210527,
           0.6666666666666666,
           0,
           0.6666666666666667,
           1,
           0
          ],
          [
           0.16739388305805475,
           0.4473684210526315,
           0.7777777777777777,
           0.2,
           0.3333333333333333,
           1,
           0
          ],
          [
           0.07681902370332346,
           0.513157894736842,
           0.2222222222222222,
           0.2,
           0.3333333333333333,
           1,
           0
          ],
          [
           0.25918963352456004,
           0.513157894736842,
           0.2222222222222222,
           0.2,
           1,
           1,
           0
          ],
          [
           0.22683601906254985,
           0.5263157894736842,
           0.3333333333333333,
           0.2,
           1,
           1,
           0
          ],
          [
           0.3043348571349293,
           0.368421052631579,
           0.1111111111111111,
           0,
           0.3333333333333333,
           1,
           0
          ],
          [
           0.09112980986008311,
           0.7763157894736842,
           0.2222222222222222,
           0,
           0.3333333333333333,
           1,
           0
          ],
          [
           0.0548984787419272,
           0.894736842105263,
           0.1111111111111111,
           0,
           0.3333333333333333,
           1,
           0
          ],
          [
           0.09009621454386536,
           0.3157894736842105,
           0.7777777777777777,
           0.6000000000000001,
           1,
           1,
           0
          ],
          [
           0.09362708713416622,
           0.631578947368421,
           0.1111111111111111,
           0,
           0.3333333333333333,
           1,
           0
          ],
          [
           0.05365677698620254,
           0.5263157894736842,
           0.3333333333333333,
           0.2,
           0.3333333333333333,
           1,
           0
          ],
          [
           0.04148948715636424,
           0.8026315789473684,
           0.4444444444444444,
           0,
           0.3333333333333333,
           1,
           0
          ],
          [
           0.18041440928987146,
           0.2763157894736842,
           0.4444444444444444,
           0.4,
           1,
           1,
           0
          ],
          [
           0.12078497748982013,
           0.2631578947368421,
           0.2222222222222222,
           0.4,
           0.6666666666666667,
           1,
           0
          ],
          [
           0.14360731702241306,
           0.22368421052631582,
           0,
           0.2,
           0.6666666666666667,
           1,
           0
          ],
          [
           0.13241119057694042,
           0.513157894736842,
           0.2222222222222222,
           0.4,
           0.3333333333333333,
           1,
           0
          ],
          [
           0.06586568810394224,
           0.15789473684210525,
           0.4444444444444444,
           0.4,
           0.6666666666666667,
           1,
           0
          ],
          [
           0.06755135026394833,
           0.5657894736842105,
           0.6666666666666666,
           0.2,
           0.3333333333333333,
           1,
           0
          ],
          [
           0.3437432798962243,
           0.5263157894736842,
           0.3333333333333333,
           0.2,
           0.3333333333333333,
           1,
           0
          ],
          [
           0.019229035010440005,
           0.11842105263157898,
           0.1111111111111111,
           0.2,
           1,
           1,
           0
          ],
          [
           0.07799829352719605,
           0.7763157894736842,
           0.2222222222222222,
           0,
           0.3333333333333333,
           1,
           0
          ],
          [
           0.09959280506669811,
           0.8421052631578947,
           0.7777777777777777,
           0,
           0.3333333333333333,
           1,
           0
          ],
          [
           0.1319325457660745,
           0.75,
           0,
           0,
           1,
           1,
           0
          ],
          [
           0.05301164702373107,
           0.6973684210526315,
           0.6666666666666666,
           0,
           0.3333333333333333,
           1,
           0
          ],
          [
           0.12608475481592984,
           0.7236842105263157,
           0.8888888888888888,
           0,
           1,
           1,
           0
          ],
          [
           0.6837406438813238,
           0.39473684210526316,
           0.3333333333333333,
           0.2,
           0.6666666666666667,
           1,
           0
          ],
          [
           0.19170071519246376,
           0.35526315789473684,
           0,
           0.4,
           1,
           1,
           0
          ],
          [
           0.14833827008053718,
           0.5921052631578947,
           0.7777777777777777,
           0.2,
           0.3333333333333333,
           1,
           0
          ],
          [
           0.45330438341530416,
           0.5921052631578947,
           0.8888888888888888,
           0.4,
           0.3333333333333333,
           1,
           0
          ],
          [
           0.7095458423801827,
           0.5657894736842105,
           0.6666666666666666,
           0.4,
           0.6666666666666667,
           1,
           0
          ],
          [
           0.179158833771513,
           0.8157894736842105,
           0.5555555555555556,
           0,
           0.3333333333333333,
           1,
           0
          ],
          [
           0.04320289684163794,
           0.9342105263157894,
           0.4444444444444444,
           0,
           0.3333333333333333,
           1,
           0
          ],
          [
           0.2184840139570052,
           0.15789473684210525,
           0.4444444444444444,
           0.2,
           0.6666666666666667,
           1,
           0
          ],
          [
           0.010856219260944664,
           0.9078947368421053,
           0.2222222222222222,
           0,
           0.3333333333333333,
           1,
           0
          ],
          [
           0.12328919164522015,
           0.3157894736842105,
           0.7777777777777777,
           0.6000000000000001,
           0.3333333333333333,
           1,
           0
          ],
          [
           0.40495432063652825,
           0.4736842105263158,
           0.2222222222222222,
           0.8,
           1,
           1,
           0
          ],
          [
           0.1527848110046685,
           0.4078947368421053,
           0.3333333333333333,
           0.2,
           0.3333333333333333,
           1,
           0
          ],
          [
           0.30232316155302896,
           0.381578947368421,
           0.2222222222222222,
           1,
           0.3333333333333333,
           1,
           0
          ],
          [
           0.04792691301844517,
           0.5394736842105263,
           0.2222222222222222,
           0.4,
           0.6666666666666667,
           1,
           0
          ],
          [
           0.20488772657588603,
           0.39473684210526316,
           0.3333333333333333,
           0,
           0.3333333333333333,
           1,
           0
          ],
          [
           0.022912518989712603,
           0.631578947368421,
           0.1111111111111111,
           0,
           0.6666666666666667,
           1,
           0
          ],
          [
           0.1024508001692599,
           0.2368421052631579,
           0.1111111111111111,
           0.6000000000000001,
           0.3333333333333333,
           1,
           0
          ],
          [
           0.24360246120549123,
           0.5789473684210527,
           0.7777777777777777,
           0.2,
           0.3333333333333333,
           1,
           0
          ],
          [
           0.3065824066816041,
           0.22368421052631582,
           0,
           0.2,
           0.3333333333333333,
           1,
           0
          ],
          [
           0.08286798421165813,
           0.618421052631579,
           0,
           0,
           1,
           1,
           0
          ],
          [
           0.06277877591792282,
           0.6842105263157895,
           0.5555555555555556,
           0,
           0.3333333333333333,
           1,
           0
          ],
          [
           0.2699626102097019,
           0.5,
           0.1111111111111111,
           0,
           0.3333333333333333,
           1,
           0
          ],
          [
           0.04494405405217922,
           0.6842105263157895,
           0.5555555555555556,
           0,
           0.3333333333333333,
           1,
           0
          ],
          [
           0.09719264413105157,
           0.21052631578947367,
           0.8888888888888888,
           0.4,
           0.6666666666666667,
           1,
           0
          ],
          [
           0.0574512510665455,
           0.7894736842105263,
           0.3333333333333333,
           0,
           0.3333333333333333,
           1,
           0
          ],
          [
           0.05226246384150614,
           0.631578947368421,
           0.1111111111111111,
           0,
           0.3333333333333333,
           1,
           0
          ],
          [
           0.3011161442038888,
           0.35526315789473684,
           0,
           0.8,
           0.3333333333333333,
           1,
           0
          ],
          [
           0.025846819786760268,
           0.763157894736842,
           0.1111111111111111,
           0,
           0.3333333333333333,
           1,
           0
          ],
          [
           0.0302864238295747,
           0.631578947368421,
           0.1111111111111111,
           0,
           0.3333333333333333,
           1,
           0
          ],
          [
           0.08055800273313124,
           0.3421052631578947,
           0.5555555555555556,
           0.4,
           0.3333333333333333,
           1,
           0
          ],
          [
           0.3429386016634641,
           0.4473684210526315,
           0.7777777777777777,
           0.4,
           0.3333333333333333,
           1,
           0
          ],
          [
           0.4038444196258246,
           0.5526315789473684,
           0.3333333333333333,
           0.4,
           0.3333333333333333,
           1,
           0
          ],
          [
           0.07659010661986584,
           0.9210526315789473,
           0.3333333333333333,
           0,
           0.3333333333333333,
           1,
           0
          ],
          [
           0.07967008192456836,
           0.75,
           0,
           0,
           0.3333333333333333,
           1,
           0
          ],
          [
           0.0563274762932081,
           0.6842105263157895,
           0.5555555555555556,
           0,
           1,
           1,
           0
          ],
          [
           0.09642958718619284,
           0.8289473684210527,
           0.6666666666666666,
           0,
           0.3333333333333333,
           1,
           0
          ],
          [
           0.1794501827868227,
           0.5394736842105263,
           0.4444444444444444,
           0.2,
           1,
           1,
           0
          ],
          [
           0.15761288040122923,
           0.5263157894736842,
           0.2222222222222222,
           0.4,
           0.3333333333333333,
           1,
           0
          ],
          [
           0.1862413895960654,
           0.7105263157894737,
           0.1111111111111111,
           0,
           0.3333333333333333,
           1,
           0
          ],
          [
           0.048613664268818024,
           0.35526315789473684,
           0,
           0.2,
           1,
           1,
           0
          ],
          [
           0.30571529651699186,
           0.3421052631578947,
           1,
           0.6000000000000001,
           0.3333333333333333,
           1,
           0
          ],
          [
           0.04008823713035094,
           0.868421052631579,
           1,
           0,
           0.3333333333333333,
           1,
           0
          ],
          [
           0.14477271308365186,
           0.4605263157894737,
           0.8888888888888888,
           1,
           0.3333333333333333,
           1,
           0
          ],
          [
           0.01873651643694028,
           0.75,
           0,
           0,
           0.3333333333333333,
           1,
           0
          ],
          [
           0.09559716142816513,
           0.48684210526315785,
           0,
           0,
           0.3333333333333333,
           1,
           0
          ],
          [
           0.18416032520099612,
           0.4342105263157895,
           0.5555555555555556,
           0.8,
           1,
           1,
           0
          ],
          [
           0.32403560007491833,
           0.4473684210526315,
           0.7777777777777777,
           0.6000000000000001,
           0.6666666666666667,
           1,
           0
          ],
          [
           0.11026172853208654,
           0.4342105263157895,
           0.6666666666666666,
           0.2,
           0.3333333333333333,
           1,
           0
          ],
          [
           0.40753484048641414,
           0.48684210526315785,
           0,
           0.4,
           0.3333333333333333,
           1,
           0
          ],
          [
           0.10921425945323501,
           0.48684210526315785,
           0,
           0.4,
           0.3333333333333333,
           1,
           0
          ],
          [
           0.18131620386106814,
           0.6842105263157895,
           0.5555555555555556,
           0,
           0.3333333333333333,
           1,
           0
          ],
          [
           0.2176723988429282,
           0.368421052631579,
           0.1111111111111111,
           0.4,
           0.3333333333333333,
           1,
           0
          ],
          [
           0.284856094397081,
           0.5526315789473684,
           0.5555555555555556,
           0.2,
           0.3333333333333333,
           1,
           0
          ],
          [
           0.3032110823615919,
           0.2368421052631579,
           0.1111111111111111,
           0.4,
           0.6666666666666667,
           1,
           0
          ],
          [
           0.24134103789618264,
           0.513157894736842,
           0.2222222222222222,
           0.4,
           0.3333333333333333,
           1,
           0
          ],
          [
           0.12747906796062627,
           0.3026315789473684,
           0.6666666666666666,
           0.4,
           0.3333333333333333,
           1,
           0
          ],
          [
           0.28299007332283554,
           0.6973684210526315,
           0.6666666666666666,
           0,
           0.3333333333333333,
           1,
           0
          ],
          [
           0.1508494211172541,
           0.22368421052631582,
           0,
           0.6000000000000001,
           1,
           1,
           0
          ],
          [
           0.11290468031382452,
           0.35526315789473684,
           0,
           0.6000000000000001,
           1,
           1,
           0
          ],
          [
           0.03370630631880519,
           0.21052631578947367,
           0.8888888888888888,
           0.2,
           1,
           1,
           0
          ],
          [
           0.1488654730606214,
           0.5263157894736842,
           0.2222222222222222,
           0,
           0.3333333333333333,
           1,
           0
          ],
          [
           0.3032457667681764,
           0.2631578947368421,
           0.3333333333333333,
           0.4,
           0.3333333333333333,
           1,
           0
          ],
          [
           0.04859285362486733,
           0.8421052631578947,
           0.7777777777777777,
           0,
           0.6666666666666667,
           1,
           0
          ],
          [
           0.0905817962360482,
           0.1842105263157895,
           0.6666666666666666,
           0.4,
           0.3333333333333333,
           1,
           0
          ],
          [
           0.05552973494176488,
           0.2631578947368421,
           0.3333333333333333,
           0.4,
           0.6666666666666667,
           1,
           0
          ],
          [
           0.06831440720880706,
           0.381578947368421,
           0.2222222222222222,
           0.4,
           0.3333333333333333,
           1,
           0
          ],
          [
           0.16158771339581152,
           0.5,
           0.1111111111111111,
           0.2,
           0.3333333333333333,
           1,
           0
          ],
          [
           0.31036994388063016,
           0.2368421052631579,
           0.1111111111111111,
           0.4,
           0.3333333333333333,
           1,
           0
          ],
          [
           0.45106377074994625,
           0.39473684210526316,
           0.3333333333333333,
           0,
           0.3333333333333333,
           1,
           0
          ],
          [
           0.21948986174795534,
           0.4473684210526315,
           0.7777777777777777,
           0.4,
           0.3333333333333333,
           1,
           0
          ],
          [
           0.02946093495286389,
           0.5526315789473684,
           0.5555555555555556,
           0.2,
           0.3333333333333333,
           1,
           0
          ],
          [
           0.10029343007970476,
           0.4736842105263158,
           1,
           0,
           0.3333333333333333,
           1,
           0
          ],
          [
           0.07491831822249354,
           1,
           1,
           0,
           0.3333333333333333,
           1,
           0
          ],
          [
           0.08374203125758721,
           0.7368421052631579,
           1,
           0,
           0.3333333333333333,
           1,
           0
          ],
          [
           0.08784866499719056,
           0.5526315789473684,
           0.5555555555555556,
           0.2,
           1,
           1,
           0
          ],
          [
           0.14024986646503465,
           0.2763157894736842,
           0.4444444444444444,
           0.4,
           0.3333333333333333,
           1,
           0
          ],
          [
           0.04106633739603349,
           0.6973684210526315,
           0.6666666666666666,
           0,
           0.6666666666666667,
           1,
           0
          ],
          [
           0.43170987187580206,
           0.22368421052631582,
           0,
           0.6000000000000001,
           0.3333333333333333,
           1,
           0
          ],
          [
           0.36698183230783105,
           0.35526315789473684,
           0,
           0,
           0.6666666666666667,
           1,
           0
          ],
          [
           0.3876884230387702,
           0.2894736842105263,
           0.5555555555555556,
           0.4,
           0.6666666666666667,
           1,
           0
          ],
          [
           0.0843386030508404,
           0.2894736842105263,
           0.5555555555555556,
           0.6000000000000001,
           1,
           1,
           0
          ],
          [
           0.16903792393015948,
           0.2631578947368421,
           0.3333333333333333,
           0.6000000000000001,
           0.3333333333333333,
           1,
           0
          ],
          [
           0.1672828929569844,
           0.4605263157894737,
           0.8888888888888888,
           0.2,
           0.3333333333333333,
           1,
           0
          ],
          [
           0.22601053018583905,
           0.2631578947368421,
           0.3333333333333333,
           0.4,
           0.3333333333333333,
           1,
           0
          ],
          [
           0.3795375874914156,
           0.5526315789473684,
           0.5555555555555556,
           0.2,
           0.3333333333333333,
           1,
           0
          ],
          [
           0.1132029662104511,
           0.48684210526315785,
           0,
           0.2,
           0.3333333333333333,
           1,
           0
          ],
          [
           0.01605194336730093,
           0.986842105263158,
           0.8888888888888888,
           0,
           0.3333333333333333,
           1,
           0
          ],
          [
           0.06799531066822978,
           0.6973684210526315,
           0.6666666666666666,
           0,
           0.6666666666666667,
           1,
           0
          ],
          [
           0.2539245406050348,
           0.35526315789473684,
           0,
           0.2,
           1,
           1,
           0
          ],
          [
           0.10263115908349923,
           0.3026315789473684,
           0.6666666666666666,
           0.2,
           1,
           1,
           0
          ]
         ],
         "theta": [
          "income",
          "age",
          "years_with_bank",
          "nbr_children",
          "marital_status",
          "gender_F",
          "gender_M"
         ],
         "type": "scatterpolar"
        }
       ],
       "layout": {
        "autosize": true,
        "polar": {
         "angularaxis": {
          "type": "category"
         },
         "radialaxis": {
          "autorange": false,
          "range": [
           0,
           1
          ],
          "type": "linear",
          "visible": true
         }
        },
        "showlegend": false,
        "template": {
         "data": {
          "bar": [
           {
            "error_x": {
             "color": "#2a3f5f"
            },
            "error_y": {
             "color": "#2a3f5f"
            },
            "marker": {
             "line": {
              "color": "#E5ECF6",
              "width": 0.5
             },
             "pattern": {
              "fillmode": "overlay",
              "size": 10,
              "solidity": 0.2
             }
            },
            "type": "bar"
           }
          ],
          "barpolar": [
           {
            "marker": {
             "line": {
              "color": "#E5ECF6",
              "width": 0.5
             },
             "pattern": {
              "fillmode": "overlay",
              "size": 10,
              "solidity": 0.2
             }
            },
            "type": "barpolar"
           }
          ],
          "carpet": [
           {
            "aaxis": {
             "endlinecolor": "#2a3f5f",
             "gridcolor": "white",
             "linecolor": "white",
             "minorgridcolor": "white",
             "startlinecolor": "#2a3f5f"
            },
            "baxis": {
             "endlinecolor": "#2a3f5f",
             "gridcolor": "white",
             "linecolor": "white",
             "minorgridcolor": "white",
             "startlinecolor": "#2a3f5f"
            },
            "type": "carpet"
           }
          ],
          "choropleth": [
           {
            "colorbar": {
             "outlinewidth": 0,
             "ticks": ""
            },
            "type": "choropleth"
           }
          ],
          "contour": [
           {
            "colorbar": {
             "outlinewidth": 0,
             "ticks": ""
            },
            "colorscale": [
             [
              0,
              "#0d0887"
             ],
             [
              0.1111111111111111,
              "#46039f"
             ],
             [
              0.2222222222222222,
              "#7201a8"
             ],
             [
              0.3333333333333333,
              "#9c179e"
             ],
             [
              0.4444444444444444,
              "#bd3786"
             ],
             [
              0.5555555555555556,
              "#d8576b"
             ],
             [
              0.6666666666666666,
              "#ed7953"
             ],
             [
              0.7777777777777778,
              "#fb9f3a"
             ],
             [
              0.8888888888888888,
              "#fdca26"
             ],
             [
              1,
              "#f0f921"
             ]
            ],
            "type": "contour"
           }
          ],
          "contourcarpet": [
           {
            "colorbar": {
             "outlinewidth": 0,
             "ticks": ""
            },
            "type": "contourcarpet"
           }
          ],
          "heatmap": [
           {
            "colorbar": {
             "outlinewidth": 0,
             "ticks": ""
            },
            "colorscale": [
             [
              0,
              "#0d0887"
             ],
             [
              0.1111111111111111,
              "#46039f"
             ],
             [
              0.2222222222222222,
              "#7201a8"
             ],
             [
              0.3333333333333333,
              "#9c179e"
             ],
             [
              0.4444444444444444,
              "#bd3786"
             ],
             [
              0.5555555555555556,
              "#d8576b"
             ],
             [
              0.6666666666666666,
              "#ed7953"
             ],
             [
              0.7777777777777778,
              "#fb9f3a"
             ],
             [
              0.8888888888888888,
              "#fdca26"
             ],
             [
              1,
              "#f0f921"
             ]
            ],
            "type": "heatmap"
           }
          ],
          "heatmapgl": [
           {
            "colorbar": {
             "outlinewidth": 0,
             "ticks": ""
            },
            "colorscale": [
             [
              0,
              "#0d0887"
             ],
             [
              0.1111111111111111,
              "#46039f"
             ],
             [
              0.2222222222222222,
              "#7201a8"
             ],
             [
              0.3333333333333333,
              "#9c179e"
             ],
             [
              0.4444444444444444,
              "#bd3786"
             ],
             [
              0.5555555555555556,
              "#d8576b"
             ],
             [
              0.6666666666666666,
              "#ed7953"
             ],
             [
              0.7777777777777778,
              "#fb9f3a"
             ],
             [
              0.8888888888888888,
              "#fdca26"
             ],
             [
              1,
              "#f0f921"
             ]
            ],
            "type": "heatmapgl"
           }
          ],
          "histogram": [
           {
            "marker": {
             "pattern": {
              "fillmode": "overlay",
              "size": 10,
              "solidity": 0.2
             }
            },
            "type": "histogram"
           }
          ],
          "histogram2d": [
           {
            "colorbar": {
             "outlinewidth": 0,
             "ticks": ""
            },
            "colorscale": [
             [
              0,
              "#0d0887"
             ],
             [
              0.1111111111111111,
              "#46039f"
             ],
             [
              0.2222222222222222,
              "#7201a8"
             ],
             [
              0.3333333333333333,
              "#9c179e"
             ],
             [
              0.4444444444444444,
              "#bd3786"
             ],
             [
              0.5555555555555556,
              "#d8576b"
             ],
             [
              0.6666666666666666,
              "#ed7953"
             ],
             [
              0.7777777777777778,
              "#fb9f3a"
             ],
             [
              0.8888888888888888,
              "#fdca26"
             ],
             [
              1,
              "#f0f921"
             ]
            ],
            "type": "histogram2d"
           }
          ],
          "histogram2dcontour": [
           {
            "colorbar": {
             "outlinewidth": 0,
             "ticks": ""
            },
            "colorscale": [
             [
              0,
              "#0d0887"
             ],
             [
              0.1111111111111111,
              "#46039f"
             ],
             [
              0.2222222222222222,
              "#7201a8"
             ],
             [
              0.3333333333333333,
              "#9c179e"
             ],
             [
              0.4444444444444444,
              "#bd3786"
             ],
             [
              0.5555555555555556,
              "#d8576b"
             ],
             [
              0.6666666666666666,
              "#ed7953"
             ],
             [
              0.7777777777777778,
              "#fb9f3a"
             ],
             [
              0.8888888888888888,
              "#fdca26"
             ],
             [
              1,
              "#f0f921"
             ]
            ],
            "type": "histogram2dcontour"
           }
          ],
          "mesh3d": [
           {
            "colorbar": {
             "outlinewidth": 0,
             "ticks": ""
            },
            "type": "mesh3d"
           }
          ],
          "parcoords": [
           {
            "line": {
             "colorbar": {
              "outlinewidth": 0,
              "ticks": ""
             }
            },
            "type": "parcoords"
           }
          ],
          "pie": [
           {
            "automargin": true,
            "type": "pie"
           }
          ],
          "scatter": [
           {
            "fillpattern": {
             "fillmode": "overlay",
             "size": 10,
             "solidity": 0.2
            },
            "type": "scatter"
           }
          ],
          "scatter3d": [
           {
            "line": {
             "colorbar": {
              "outlinewidth": 0,
              "ticks": ""
             }
            },
            "marker": {
             "colorbar": {
              "outlinewidth": 0,
              "ticks": ""
             }
            },
            "type": "scatter3d"
           }
          ],
          "scattercarpet": [
           {
            "marker": {
             "colorbar": {
              "outlinewidth": 0,
              "ticks": ""
             }
            },
            "type": "scattercarpet"
           }
          ],
          "scattergeo": [
           {
            "marker": {
             "colorbar": {
              "outlinewidth": 0,
              "ticks": ""
             }
            },
            "type": "scattergeo"
           }
          ],
          "scattergl": [
           {
            "marker": {
             "colorbar": {
              "outlinewidth": 0,
              "ticks": ""
             }
            },
            "type": "scattergl"
           }
          ],
          "scattermapbox": [
           {
            "marker": {
             "colorbar": {
              "outlinewidth": 0,
              "ticks": ""
             }
            },
            "type": "scattermapbox"
           }
          ],
          "scatterpolar": [
           {
            "marker": {
             "colorbar": {
              "outlinewidth": 0,
              "ticks": ""
             }
            },
            "type": "scatterpolar"
           }
          ],
          "scatterpolargl": [
           {
            "marker": {
             "colorbar": {
              "outlinewidth": 0,
              "ticks": ""
             }
            },
            "type": "scatterpolargl"
           }
          ],
          "scatterternary": [
           {
            "marker": {
             "colorbar": {
              "outlinewidth": 0,
              "ticks": ""
             }
            },
            "type": "scatterternary"
           }
          ],
          "surface": [
           {
            "colorbar": {
             "outlinewidth": 0,
             "ticks": ""
            },
            "colorscale": [
             [
              0,
              "#0d0887"
             ],
             [
              0.1111111111111111,
              "#46039f"
             ],
             [
              0.2222222222222222,
              "#7201a8"
             ],
             [
              0.3333333333333333,
              "#9c179e"
             ],
             [
              0.4444444444444444,
              "#bd3786"
             ],
             [
              0.5555555555555556,
              "#d8576b"
             ],
             [
              0.6666666666666666,
              "#ed7953"
             ],
             [
              0.7777777777777778,
              "#fb9f3a"
             ],
             [
              0.8888888888888888,
              "#fdca26"
             ],
             [
              1,
              "#f0f921"
             ]
            ],
            "type": "surface"
           }
          ],
          "table": [
           {
            "cells": {
             "fill": {
              "color": "#EBF0F8"
             },
             "line": {
              "color": "white"
             }
            },
            "header": {
             "fill": {
              "color": "#C8D4E3"
             },
             "line": {
              "color": "white"
             }
            },
            "type": "table"
           }
          ]
         },
         "layout": {
          "annotationdefaults": {
           "arrowcolor": "#2a3f5f",
           "arrowhead": 0,
           "arrowwidth": 1
          },
          "autotypenumbers": "strict",
          "coloraxis": {
           "colorbar": {
            "outlinewidth": 0,
            "ticks": ""
           }
          },
          "colorscale": {
           "diverging": [
            [
             0,
             "#8e0152"
            ],
            [
             0.1,
             "#c51b7d"
            ],
            [
             0.2,
             "#de77ae"
            ],
            [
             0.3,
             "#f1b6da"
            ],
            [
             0.4,
             "#fde0ef"
            ],
            [
             0.5,
             "#f7f7f7"
            ],
            [
             0.6,
             "#e6f5d0"
            ],
            [
             0.7,
             "#b8e186"
            ],
            [
             0.8,
             "#7fbc41"
            ],
            [
             0.9,
             "#4d9221"
            ],
            [
             1,
             "#276419"
            ]
           ],
           "sequential": [
            [
             0,
             "#0d0887"
            ],
            [
             0.1111111111111111,
             "#46039f"
            ],
            [
             0.2222222222222222,
             "#7201a8"
            ],
            [
             0.3333333333333333,
             "#9c179e"
            ],
            [
             0.4444444444444444,
             "#bd3786"
            ],
            [
             0.5555555555555556,
             "#d8576b"
            ],
            [
             0.6666666666666666,
             "#ed7953"
            ],
            [
             0.7777777777777778,
             "#fb9f3a"
            ],
            [
             0.8888888888888888,
             "#fdca26"
            ],
            [
             1,
             "#f0f921"
            ]
           ],
           "sequentialminus": [
            [
             0,
             "#0d0887"
            ],
            [
             0.1111111111111111,
             "#46039f"
            ],
            [
             0.2222222222222222,
             "#7201a8"
            ],
            [
             0.3333333333333333,
             "#9c179e"
            ],
            [
             0.4444444444444444,
             "#bd3786"
            ],
            [
             0.5555555555555556,
             "#d8576b"
            ],
            [
             0.6666666666666666,
             "#ed7953"
            ],
            [
             0.7777777777777778,
             "#fb9f3a"
            ],
            [
             0.8888888888888888,
             "#fdca26"
            ],
            [
             1,
             "#f0f921"
            ]
           ]
          },
          "colorway": [
           "#636efa",
           "#EF553B",
           "#00cc96",
           "#ab63fa",
           "#FFA15A",
           "#19d3f3",
           "#FF6692",
           "#B6E880",
           "#FF97FF",
           "#FECB52"
          ],
          "font": {
           "color": "#2a3f5f"
          },
          "geo": {
           "bgcolor": "white",
           "lakecolor": "white",
           "landcolor": "#E5ECF6",
           "showlakes": true,
           "showland": true,
           "subunitcolor": "white"
          },
          "hoverlabel": {
           "align": "left"
          },
          "hovermode": "closest",
          "mapbox": {
           "style": "light"
          },
          "paper_bgcolor": "white",
          "plot_bgcolor": "#E5ECF6",
          "polar": {
           "angularaxis": {
            "gridcolor": "white",
            "linecolor": "white",
            "ticks": ""
           },
           "bgcolor": "#E5ECF6",
           "radialaxis": {
            "gridcolor": "white",
            "linecolor": "white",
            "ticks": ""
           }
          },
          "scene": {
           "xaxis": {
            "backgroundcolor": "#E5ECF6",
            "gridcolor": "white",
            "gridwidth": 2,
            "linecolor": "white",
            "showbackground": true,
            "ticks": "",
            "zerolinecolor": "white"
           },
           "yaxis": {
            "backgroundcolor": "#E5ECF6",
            "gridcolor": "white",
            "gridwidth": 2,
            "linecolor": "white",
            "showbackground": true,
            "ticks": "",
            "zerolinecolor": "white"
           },
           "zaxis": {
            "backgroundcolor": "#E5ECF6",
            "gridcolor": "white",
            "gridwidth": 2,
            "linecolor": "white",
            "showbackground": true,
            "ticks": "",
            "zerolinecolor": "white"
           }
          },
          "shapedefaults": {
           "line": {
            "color": "#2a3f5f"
           }
          },
          "ternary": {
           "aaxis": {
            "gridcolor": "white",
            "linecolor": "white",
            "ticks": ""
           },
           "baxis": {
            "gridcolor": "white",
            "linecolor": "white",
            "ticks": ""
           },
           "bgcolor": "#E5ECF6",
           "caxis": {
            "gridcolor": "white",
            "linecolor": "white",
            "ticks": ""
           }
          },
          "title": {
           "x": 0.05
          },
          "xaxis": {
           "automargin": true,
           "gridcolor": "white",
           "linecolor": "white",
           "ticks": "",
           "title": {
            "standoff": 15
           },
           "zerolinecolor": "white",
           "zerolinewidth": 2
          },
          "yaxis": {
           "automargin": true,
           "gridcolor": "white",
           "linecolor": "white",
           "ticks": "",
           "title": {
            "standoff": 15
           },
           "zerolinecolor": "white",
           "zerolinewidth": 2
          }
         }
        }
       }
      },
      "image/png": "[encoded data removed]",
      "text/html": [
       "<div>                            <div id=\"20e17b8f-f2d0-4d70-8f72-bb2bd327d7f6\" class=\"plotly-graph-div\" style=\"height:525px; width:100%;\"></div>            <script type=\"text/javascript\">                require([\"plotly\"], function(Plotly) {                    window.PLOTLYENV=window.PLOTLYENV || {};                                    if (document.getElementById(\"20e17b8f-f2d0-4d70-8f72-bb2bd327d7f6\")) {                    Plotly.newPlot(                        \"20e17b8f-f2d0-4d70-8f72-bb2bd327d7f6\",                        [{\"fill\":\"toself\",\"name\":\"Product A\",\"r\":[[0.18139944643687092,0.4342105263157895,0.5555555555555556,0.2,0.3333333333333333,0.0,1.0],[0.04581810109810831,0.763157894736842,0.1111111111111111,0.0,0.3333333333333333,0.0,1.0],[0.0,0.03947368421052633,0.1111111111111111,0.0,0.0,0.0,1.0],[0.06674667203118821,0.4342105263157895,0.6666666666666666,0.2,0.3333333333333333,0.0,1.0],[0.0,0.026315789473684237,0.0,0.0,0.0,0.0,1.0],[0.12224172256636862,0.4078947368421053,0.1111111111111111,0.0,0.3333333333333333,0.0,1.0],[0.0,0.026315789473684237,0.0,0.0,0.0,0.0,1.0],[0.07294824392849462,0.368421052631579,0.1111111111111111,0.2,1.0,0.0,1.0],[0.0,0.05263157894736842,0.2222222222222222,0.0,0.0,0.0,1.0],[0.04407694388756703,0.6973684210526315,0.6666666666666666,0.0,0.3333333333333333,0.0,1.0],[0.145778560874602,0.06578947368421054,0.3333333333333333,0.0,0.0,0.0,1.0],[0.02190667119876246,0.881578947368421,0.0,0.0,0.3333333333333333,0.0,1.0],[0.1508841055238386,0.6710526315789473,0.4444444444444444,0.0,0.3333333333333333,0.0,1.0],[0.5278064887587838,0.513157894736842,0.2222222222222222,0.2,0.3333333333333333,0.0,1.0],[0.252016898242888,0.4342105263157895,0.6666666666666666,0.2,0.3333333333333333,0.0,1.0],[0.0,0.026315789473684237,0.7777777777777777,0.0,0.0,0.0,1.0],[0.09120611555456898,0.4605263157894737,0.8888888888888888,0.0,0.0,0.0,1.0],[0.16960674819814509,0.4078947368421053,0.4444444444444444,0.2,0.3333333333333333,0.0,1.0],[0.0,0.0,0.5555555555555556,0.0,0.0,0.0,1.0],[0.0,0.0,0.5555555555555556,0.0,0.0,0.0,1.0],[0.41693431467081027,0.5657894736842105,0.6666666666666666,0.4,0.3333333333333333,0.0,1.0],[0.13750979834486013,0.5526315789473684,0.5555555555555556,0.2,0.3333333333333333,0.0,1.0],[0.23913510963740922,0.513157894736842,0.2222222222222222,0.2,0.3333333333333333,0.0,1.0],[0.3579985710024487,0.3421052631578947,0.4444444444444444,0.0,0.0,0.0,1.0],[0.05088202445944352,0.19736842105263158,0.7777777777777777,0.2,0.3333333333333333,0.0,1.0],[0.20161351859431037,0.2894736842105263,0.5555555555555556,0.6000000000000001,0.3333333333333333,0.0,1.0],[0.10575969255742003,0.21052631578947367,0.4444444444444444,0.0,0.0,0.0,1.0],[1.0,0.5921052631578947,0.5555555555555556,0.0,0.3333333333333333,0.0,1.0],[0.06332678954195772,0.6973684210526315,0.6666666666666666,0.0,0.3333333333333333,0.0,1.0],[0.013748898770090943,0.19736842105263158,0.7777777777777777,0.0,0.0,0.0,1.0],[0.38195162218969597,0.22368421052631582,0.0,0.0,0.0,0.0,1.0],[0.22135588282220078,0.4078947368421053,0.4444444444444444,0.0,0.0,0.0,1.0],[0.10204846105287985,0.7894736842105263,0.3333333333333333,0.0,0.3333333333333333,0.0,1.0],[0.3967479900386384,0.2368421052631579,0.1111111111111111,0.6000000000000001,1.0,0.0,1.0],[0.10772976685141894,0.5789473684210527,0.7777777777777777,0.4,0.3333333333333333,0.0,1.0],[0.16097726783992453,0.6710526315789473,0.4444444444444444,0.0,0.6666666666666667,0.0,1.0],[0.40041760025527723,0.5789473684210527,0.7777777777777777,0.2,1.0,0.0,1.0],[0.02770590397968881,0.9736842105263157,0.7777777777777777,0.0,0.3333333333333333,0.0,1.0],[0.62603966508737,0.5526315789473684,0.5555555555555556,0.0,1.0,0.0,1.0],[0.007207419688256554,0.868421052631579,1.0,0.0,0.3333333333333333,0.0,1.0],[0.05199192547014713,0.986842105263158,0.8888888888888888,0.0,0.3333333333333333,0.0,1.0],[0.5778075292909813,0.5921052631578947,0.8888888888888888,0.2,1.0,0.0,1.0],[0.47818003981769874,0.513157894736842,0.2222222222222222,0.2,0.6666666666666667,0.0,1.0],[0.11391746498609155,0.25,0.2222222222222222,0.6000000000000001,0.3333333333333333,0.0,1.0],[0.21279577127714921,0.4342105263157895,0.4444444444444444,1.0,1.0,0.0,1.0],[0.0,0.013157894736842118,0.6666666666666666,0.0,0.0,0.0,1.0],[0.19179783153090033,0.5921052631578947,0.8888888888888888,0.2,0.3333333333333333,0.0,1.0],[0.08285411044902433,0.35526315789473684,0.0,0.2,0.3333333333333333,0.0,1.0],[0.0846438258287839,0.868421052631579,1.0,0.0,0.3333333333333333,0.0,1.0],[0.24138265918408403,0.7368421052631579,1.0,0.0,0.0,0.0,1.0],[0.0,0.026315789473684237,0.0,0.0,0.0,0.0,1.0],[0.39337666571862623,0.35526315789473684,0.0,0.0,0.0,0.0,1.0],[0.5484090262699696,0.5789473684210527,0.6666666666666666,0.0,0.6666666666666667,0.0,1.0],[0.01834111420187712,0.13157894736842107,0.2222222222222222,0.2,0.3333333333333333,0.0,1.0],[0.20022614233093086,0.6052631578947368,1.0,0.2,1.0,0.0,1.0],[0.26367085885527586,0.618421052631579,0.0,0.0,0.3333333333333333,0.0,1.0],[0.6630618006756522,0.5263157894736842,0.3333333333333333,0.2,0.3333333333333333,0.0,1.0],[0.10956804040039679,0.6578947368421052,0.3333333333333333,0.0,0.3333333333333333,0.0,1.0],[0.07041628224782702,0.2763157894736842,0.4444444444444444,0.0,1.0,0.0,1.0],[0.38623167796222174,0.39473684210526316,0.3333333333333333,1.0,0.3333333333333333,0.0,1.0],[0.28370457209847594,0.3421052631578947,0.8888888888888888,0.2,0.3333333333333333,0.0,1.0],[0.601732832952961,0.5789473684210527,0.7777777777777777,0.0,0.3333333333333333,0.0,1.0],[0.2544101222972176,0.3026315789473684,0.6666666666666666,0.4,0.3333333333333333,0.0,1.0],[0.5118377879672856,0.39473684210526316,0.2222222222222222,0.6000000000000001,1.0,0.0,1.0],[0.07890702497970963,0.17105263157894735,0.5555555555555556,0.2,0.3333333333333333,0.0,1.0],[0.1372739443800856,0.3421052631578947,1.0,0.0,0.0,0.0,1.0],[0.03483701797345949,0.9342105263157894,0.4444444444444444,0.0,0.3333333333333333,0.0,1.0],[0.20807175510034198,0.2368421052631579,0.1111111111111111,0.0,0.3333333333333333,0.0,1.0],[0.2096603009219115,0.7894736842105263,0.3333333333333333,0.0,0.3333333333333333,0.0,1.0],[0.13030931553792047,0.19736842105263158,0.7777777777777777,0.0,0.0,0.0,1.0],[0.3996476064291016,0.5921052631578947,0.8888888888888888,0.4,0.3333333333333333,0.0,1.0],[0.1556428061072303,0.6710526315789473,0.4444444444444444,0.0,0.3333333333333333,0.0,1.0],[0.2051860124725126,0.39473684210526316,0.3333333333333333,0.0,0.0,0.0,1.0],[0.1290051818503437,0.07894736842105265,0.4444444444444444,0.0,0.0,0.0,1.0],[0.1032970996899214,0.39473684210526316,0.3333333333333333,0.8,0.3333333333333333,0.0,1.0],[0.2889211068487829,0.22368421052631582,0.0,0.6000000000000001,0.6666666666666667,0.0,1.0],[0.1310446249575116,0.7368421052631579,1.0,0.0,0.6666666666666667,0.0,1.0],[0.0,0.0,0.2222222222222222,0.0,0.0,0.0,1.0],[0.1970213031625242,0.8026315789473684,0.4444444444444444,0.0,0.3333333333333333,0.0,1.0],[0.09375195099787037,0.13157894736842107,0.2222222222222222,0.2,1.0,0.0,1.0],[0.0953821181073413,0.07894736842105265,0.1111111111111111,0.0,0.0,0.0,1.0],[0.5835304563774218,0.5789473684210527,0.7777777777777777,0.0,0.3333333333333333,0.0,1.0],[0.2848907788036654,0.5789473684210527,0.7777777777777777,0.0,0.0,0.0,1.0],[0.13375694555241854,0.35526315789473684,0.0,0.8,1.0,0.0,1.0],[0.040039678961132655,0.06578947368421054,0.3333333333333333,0.0,0.0,0.0,1.0],[0.34292472790083034,0.4078947368421053,0.4444444444444444,0.8,0.3333333333333333,0.0,1.0],[0.06344471652434498,0.881578947368421,0.0,0.0,1.0,0.0,1.0],[0.24178499830046407,0.35526315789473684,0.0,0.4,1.0,0.0,1.0],[0.0866069632414659,0.14473684210526316,0.3333333333333333,0.4,1.0,0.0,1.0],[0.0860381389734803,0.2368421052631579,0.1111111111111111,0.6000000000000001,0.3333333333333333,0.0,1.0],[0.0,0.03947368421052633,0.1111111111111111,0.0,0.0,0.0,1.0],[0.2258024237463321,0.4473684210526315,0.7777777777777777,1.0,0.3333333333333333,0.0,1.0],[0.02247549546674806,0.6710526315789473,0.1111111111111111,0.0,0.0,0.0,1.0],[0.018833632775376846,0.631578947368421,0.1111111111111111,0.0,0.3333333333333333,0.0,1.0],[0.0,0.026315789473684237,0.7777777777777777,0.0,0.0,0.0,1.0],[0.08397788522236173,0.07894736842105265,0.4444444444444444,0.0,0.0,0.0,1.0],[0.0,0.026315789473684237,0.5555555555555556,0.0,0.0,0.0,1.0],[0.2154179124149365,0.5526315789473684,0.5555555555555556,0.4,0.3333333333333333,0.0,1.0],[0.08829262540147201,0.2894736842105263,0.2222222222222222,0.0,0.0,0.0,1.0],[0.25137176828041646,0.368421052631579,0.1111111111111111,0.0,0.0,0.0,1.0],[0.8962173186178958,0.5526315789473684,0.5555555555555556,0.4,0.6666666666666667,0.0,1.0],[0.1338818094161227,0.5789473684210527,0.7777777777777777,0.2,0.3333333333333333,0.0,1.0],[0.17814604909924597,0.5657894736842105,0.6666666666666666,0.4,0.3333333333333333,0.0,1.0],[0.18450716926684102,0.5789473684210527,0.6666666666666666,0.0,0.3333333333333333,0.0,1.0],[0.08193844211519385,0.25,0.2222222222222222,0.4,1.0,0.0,1.0],[0.20857814743647551,0.7368421052631579,0.5555555555555556,0.0,0.3333333333333333,0.0,1.0],[0.11907156780454643,0.32894736842105265,0.6666666666666666,0.4,0.3333333333333333,0.0,1.0],[0.0880290239114299,0.5526315789473684,0.5555555555555556,0.0,0.3333333333333333,0.0,1.0],[0.12197812107632651,0.6710526315789473,0.4444444444444444,0.0,1.0,0.0,1.0],[0.07574380709920434,0.7894736842105263,0.3333333333333333,0.0,0.3333333333333333,0.0,1.0],[0.0899921613241119,0.48684210526315785,0.0,0.4,0.3333333333333333,0.0,1.0],[0.05527307033303967,0.7236842105263157,0.8888888888888888,0.0,0.3333333333333333,0.0,1.0],[0.30047101424141737,0.2631578947368421,0.3333333333333333,0.6000000000000001,0.6666666666666667,0.0,1.0],[0.0,0.026315789473684237,0.0,0.0,0.0,0.0,1.0],[0.12797852341544289,0.3421052631578947,1.0,0.0,0.3333333333333333,0.0,1.0],[0.15732846826723643,0.6710526315789473,0.4444444444444444,0.0,0.0,0.0,1.0],[0.14456460664414492,0.381578947368421,0.2222222222222222,0.2,0.3333333333333333,0.0,1.0],[0.18837101216035296,0.11842105263157898,0.1111111111111111,0.2,0.3333333333333333,0.0,1.0],[0.1061412210298494,0.7368421052631579,0.7777777777777777,0.0,0.3333333333333333,0.0,1.0],[0.182883939038687,0.368421052631579,0.1111111111111111,0.4,0.3333333333333333,0.0,1.0],[0.0,0.013157894736842118,0.6666666666666666,0.0,0.0,0.0,1.0],[0.3911291161719514,0.2894736842105263,0.2222222222222222,0.4,1.0,0.0,1.0],[0.5298112474593673,0.5657894736842105,0.6666666666666666,0.2,0.3333333333333333,0.0,1.0],[0.01746013027463113,0.9210526315789473,0.3333333333333333,0.0,0.0,0.0,1.0],[0.0568893636798768,0.06578947368421054,0.3333333333333333,0.0,0.0,0.0,1.0],[0.08133493344062376,0.22368421052631582,0.0,0.0,0.0,0.0,1.0],[0.1548450647557871,0.48684210526315785,0.0,0.0,0.3333333333333333,0.0,1.0],[0.18916181663047926,0.7236842105263157,0.3333333333333333,0.0,0.3333333333333333,0.0,1.0],[0.0,0.05263157894736842,0.2222222222222222,0.0,0.0,0.0,1.0],[0.05758305181156655,0.9078947368421053,0.2222222222222222,0.0,0.0,0.0,1.0],[0.08635723551405759,0.25,0.1111111111111111,0.4,0.3333333333333333,0.0,1.0],[0.28212990003954025,0.22368421052631582,0.0,0.4,0.6666666666666667,0.0,1.0],[0.06576163488418876,0.381578947368421,0.2222222222222222,0.4,0.3333333333333333,0.0,1.0],[0.24443488696351895,0.5526315789473684,0.5555555555555556,0.2,0.3333333333333333,0.0,1.0],[0.20396512136073863,0.3026315789473684,0.6666666666666666,0.4,1.0,0.0,1.0],[0.0,0.03947368421052633,0.1111111111111111,0.0,0.0,0.0,1.0],[0.5730696393515403,0.5657894736842105,0.6666666666666666,0.2,0.3333333333333333,0.0,1.0],[0.0,0.013157894736842118,0.6666666666666666,0.0,0.0,0.0,1.0],[0.2171035745749426,0.35526315789473684,0.0,0.0,0.3333333333333333,0.0,1.0],[0.3362930693618763,0.4342105263157895,0.6666666666666666,1.0,0.3333333333333333,0.0,1.0],[0.021455773913164118,0.9078947368421053,0.2222222222222222,0.0,0.3333333333333333,0.0,1.0],[0.14390560291903964,0.4342105263157895,0.1111111111111111,0.4,0.3333333333333333,0.0,1.0],[0.22933329633663296,0.368421052631579,0.1111111111111111,0.0,0.0,0.0,1.0],[0.08347149288622821,0.9473684210526316,0.5555555555555556,0.0,0.3333333333333333,0.0,1.0],[0.0631186831024508,0.19736842105263158,0.7777777777777777,0.0,0.0,0.0,1.0],[0.11500655535284447,0.2894736842105263,0.5555555555555556,0.4,0.3333333333333333,0.0,1.0],[0.0,0.0,0.5555555555555556,0.0,0.0,0.0,1.0],[0.08739776771159222,0.3157894736842105,0.3333333333333333,0.0,0.0,0.0,1.0],[0.25795486865015227,0.3026315789473684,0.6666666666666666,0.0,0.0,0.0,1.0],[0.28622266001650976,0.2763157894736842,0.4444444444444444,0.6000000000000001,0.3333333333333333,0.0,1.0],[0.3252287436614247,0.3026315789473684,0.4444444444444444,0.4,0.3333333333333333,0.0,1.0],[0.0,0.03947368421052633,0.1111111111111111,0.0,0.0,0.0,1.0],[0.03784762446499303,0.6578947368421052,0.3333333333333333,0.0,1.0,0.0,1.0],[0.0,0.0,0.5555555555555556,0.0,0.0,0.0,1.0],[0.06660793440485027,0.868421052631579,1.0,0.0,0.3333333333333333,0.0,1.0],[0.14348245315870892,0.4078947368421053,0.4444444444444444,0.0,0.0,0.0,1.0],[0.0,0.026315789473684237,0.0,0.0,0.0,0.0,1.0],[0.20200198394805663,0.3026315789473684,0.6666666666666666,0.4,0.6666666666666667,0.0,1.0],[0.04408388076888393,0.8421052631578947,0.7777777777777777,0.0,0.3333333333333333,0.0,1.0],[0.0,0.026315789473684237,0.7777777777777777,0.0,0.0,0.0,1.0],[0.12350423496604397,0.10526315789473684,0.0,0.2,0.3333333333333333,0.0,1.0],[0.3790797533245004,0.4605263157894737,0.8888888888888888,0.0,0.0,0.0,1.0],[0.0410524636333997,0.21052631578947367,0.8888888888888888,0.2,0.3333333333333333,0.0,1.0],[0.0,0.03947368421052633,0.1111111111111111,0.0,0.0,0.0,1.0],[0.08640579368327587,0.2368421052631579,0.1111111111111111,0.4,0.3333333333333333,0.0,1.0],[0.35172763029197335,0.5526315789473684,0.5555555555555556,0.2,0.3333333333333333,0.0,1.0],[0.15198013277190842,0.5,0.1111111111111111,0.2,0.3333333333333333,0.0,1.0],[0.4130357873707139,0.5789473684210527,0.7777777777777777,0.0,0.0,0.0,1.0],[0.10922813321586881,0.22368421052631582,0.0,0.6000000000000001,0.3333333333333333,0.0,1.0],[0.07650686404406307,0.4342105263157895,0.4444444444444444,0.0,0.0,0.0,1.0],[0.21097137149080517,0.3157894736842105,0.3333333333333333,0.0,0.3333333333333333,0.0,1.0],[0.286611125370256,0.5394736842105263,0.4444444444444444,0.2,0.3333333333333333,0.0,1.0],[0.0,0.03947368421052633,0.1111111111111111,0.0,0.0,0.0,1.0],[0.26870703469134344,0.4605263157894737,0.7777777777777777,1.0,1.0,0.0,1.0],[0.31351235111718473,0.6052631578947368,1.0,0.4,0.3333333333333333,0.0,1.0],[0.23381452166734878,0.5657894736842105,0.6666666666666666,0.2,0.3333333333333333,0.0,1.0],[0.08626705605693792,0.21052631578947367,0.8888888888888888,0.0,0.0,0.0,1.0],[0.22970095104642854,0.5526315789473684,0.5555555555555556,0.0,0.3333333333333333,0.0,1.0],[0.7700215737008955,0.513157894736842,0.2222222222222222,0.0,0.0,0.0,1.0],[0.21656943471354148,0.2763157894736842,0.4444444444444444,0.0,0.0,0.0,1.0],[0.08374203125758721,0.7105263157894737,0.7777777777777777,0.0,0.3333333333333333,0.0,1.0],[0.8868664026027179,0.5394736842105263,0.4444444444444444,0.2,0.3333333333333333,0.0,1.0],[0.05731251344020755,0.618421052631579,0.0,0.0,0.3333333333333333,0.0,1.0],[0.16576371594858383,0.2763157894736842,0.4444444444444444,0.2,0.3333333333333333,0.0,1.0],[0.29503943617028655,0.3421052631578947,1.0,0.4,0.3333333333333333,0.0,1.0],[0.5008012097921016,0.25,0.2222222222222222,0.0,0.0,0.0,1.0],[0.10682103539890536,0.618421052631579,0.0,0.0,0.3333333333333333,0.0,1.0],[0.08712722934023322,0.4342105263157895,0.6666666666666666,0.2,0.3333333333333333,0.0,1.0],[0.06431182668895717,0.19736842105263158,0.6666666666666666,0.0,0.3333333333333333,0.0,1.0],[0.12754843677379524,0.06578947368421054,0.3333333333333333,0.0,0.0,0.0,1.0],[0.0693618762876586,0.4078947368421053,0.4444444444444444,0.0,0.3333333333333333,0.0,1.0],[0.0,0.0,0.5555555555555556,0.0,0.0,0.0,1.0],[0.22243109942631992,0.4605263157894737,0.8888888888888888,0.2,0.3333333333333333,0.0,1.0],[0.04014373218088612,0.06578947368421054,0.3333333333333333,0.0,0.0,0.0,1.0],[0.19487780683560285,0.7368421052631579,1.0,0.0,0.3333333333333333,0.0,1.0],[0.4096020311188496,0.5526315789473684,0.5555555555555556,0.0,0.0,0.0,1.0],[0.06216139348071894,0.9605263157894737,0.6666666666666666,0.0,1.0,0.0,1.0],[0.39695609647814534,0.2894736842105263,0.5555555555555556,0.4,0.3333333333333333,0.0,1.0],[0.3033983781571481,0.6973684210526315,0.6666666666666666,0.0,0.3333333333333333,0.0,1.0],[0.39051867061606443,0.32894736842105265,0.8888888888888888,0.4,0.3333333333333333,0.0,1.0],[0.0,0.03947368421052633,0.1111111111111111,0.0,0.0,0.0,1.0],[0.20925102492421457,0.3157894736842105,0.7777777777777777,0.6000000000000001,0.3333333333333333,0.0,1.0],[0.16710947092406195,0.7105263157894737,0.7777777777777777,0.0,0.3333333333333333,0.0,1.0],[0.5363735371851523,0.3026315789473684,0.6666666666666666,0.4,0.3333333333333333,0.0,1.0],[0.5403344964171009,0.2894736842105263,0.2222222222222222,0.0,0.0,0.0,1.0],[0.13627503347045236,0.3421052631578947,0.6666666666666666,0.4,0.3333333333333333,0.0,1.0],[0.08200087404704592,0.21052631578947367,0.8888888888888888,0.0,0.3333333333333333,0.0,1.0],[0.011036578175184001,0.15789473684210525,0.4444444444444444,0.0,0.0,0.0,1.0],[0.0,0.05263157894736842,0.2222222222222222,0.0,0.0,0.0,1.0],[0.0,0.013157894736842118,0.6666666666666666,0.0,0.0,0.0,1.0],[0.09809443870224824,0.06578947368421054,0.3333333333333333,0.0,0.0,0.0,1.0],[0.6284259522603828,0.48684210526315785,0.0,0.0,0.3333333333333333,0.0,1.0],[0.0,0.05263157894736842,0.2222222222222222,0.0,0.0,0.0,1.0],[0.2092371511615808,0.32894736842105265,0.1111111111111111,0.6000000000000001,0.3333333333333333,0.0,1.0],[0.22012111794779304,0.2894736842105263,0.5555555555555556,0.6000000000000001,0.3333333333333333,0.0,1.0],[0.364477618152431,0.2894736842105263,0.5555555555555556,0.6000000000000001,1.0,0.0,1.0],[0.10789625200302448,0.7894736842105263,0.3333333333333333,0.0,0.3333333333333333,0.0,1.0],[0.3903105641765575,0.4078947368421053,0.4444444444444444,1.0,0.6666666666666667,0.0,1.0],[0.13208515715504623,0.32894736842105265,0.8888888888888888,0.6000000000000001,0.3333333333333333,0.0,1.0],[0.35301789021691626,0.2631578947368421,0.3333333333333333,0.4,0.3333333333333333,0.0,1.0],[0.07914981582580104,0.9078947368421053,0.2222222222222222,0.0,0.3333333333333333,0.0,1.0],[0.0,0.03947368421052633,0.1111111111111111,0.0,0.0,0.0,1.0],[0.15512254000846298,0.6578947368421052,0.3333333333333333,0.0,0.3333333333333333,0.0,1.0],[0.22703025173942298,0.5263157894736842,0.3333333333333333,0.0,0.6666666666666667,0.0,1.0],[0.030688762945954757,0.06578947368421054,0.3333333333333333,0.0,0.0,0.0,1.0],[0.27318826002205926,0.14473684210526316,0.3333333333333333,0.2,0.6666666666666667,0.0,1.0],[0.2351949610494114,0.513157894736842,0.2222222222222222,0.0,0.3333333333333333,0.0,1.0],[0.20137766462953585,0.4078947368421053,0.4444444444444444,0.0,0.0,0.0,1.0],[0.1435310113279272,0.4078947368421053,0.4444444444444444,0.0,0.0,0.0,1.0],[0.16567353649146416,0.8157894736842105,0.5555555555555556,0.0,0.3333333333333333,0.0,1.0],[0.645546175350486,0.48684210526315785,0.0,0.0,0.3333333333333333,0.0,1.0],[0.25791324736225085,0.6842105263157895,0.5555555555555556,0.0,0.3333333333333333,0.0,1.0],[0.18017161844378005,0.5789473684210527,0.7777777777777777,0.2,0.3333333333333333,0.0,1.0],[0.25970296274201043,0.6447368421052632,0.2222222222222222,0.0,0.3333333333333333,0.0,1.0],[0.0,0.013157894736842118,0.6666666666666666,0.0,0.0,0.0,1.0],[0.20144703344270481,0.25,0.2222222222222222,0.2,0.3333333333333333,0.0,1.0],[0.09078296579423822,0.11842105263157898,0.1111111111111111,0.0,0.3333333333333333,0.0,1.0],[0.11264107882378241,0.2631578947368421,0.3333333333333333,0.4,1.0,0.0,1.0],[0.05582802083839147,0.17105263157894735,0.5555555555555556,0.0,0.0,0.0,1.0],[0.12070867179533425,0.06578947368421054,0.3333333333333333,0.0,0.0,0.0,1.0],[0.47197846792039233,0.4605263157894737,0.8888888888888888,0.0,0.0,0.0,1.0],[0.0,0.05263157894736842,0.2222222222222222,0.0,0.0,0.0,1.0],[0.08046782327601157,0.06578947368421054,0.3333333333333333,0.0,0.0,0.0,1.0],[0.13630278099571994,0.6973684210526315,0.5555555555555556,0.0,0.3333333333333333,0.0,1.0],[0.08537219836705814,0.21052631578947367,0.8888888888888888,0.2,0.3333333333333333,0.0,1.0],[0.0,0.026315789473684237,0.7777777777777777,0.0,0.0,0.0,1.0],[0.1811358449468288,0.3026315789473684,0.6666666666666666,0.0,0.3333333333333333,0.0,1.0],[0.30092884840833256,0.4605263157894737,0.8888888888888888,0.0,0.0,0.0,1.0],[0.11215549713159957,0.4736842105263158,1.0,0.0,0.0,0.0,1.0],[0.06241112120812725,0.13157894736842107,0.2222222222222222,0.4,0.3333333333333333,0.0,1.0],[0.1721387098788127,0.25,0.2222222222222222,0.4,0.3333333333333333,0.0,1.0],[0.04253695623521577,0.10526315789473684,0.0,0.0,0.0,0.0,1.0],[0.0,0.013157894736842118,0.6666666666666666,0.0,0.0,0.0,1.0],[0.0,0.013157894736842118,0.6666666666666666,0.0,0.0,0.0,1.0],[0.13045499004557531,0.07894736842105265,0.4444444444444444,0.0,0.0,0.0,1.0],[0.2009961361571065,0.5394736842105263,0.4444444444444444,0.4,0.3333333333333333,0.0,1.0],[0.2763098566146632,0.5921052631578947,0.6666666666666666,0.0,0.0,0.0,1.0],[0.5969533217256185,0.48684210526315785,0.0,0.4,0.6666666666666667,0.0,1.0],[0.13798150627440914,0.75,0.0,0.0,1.0,0.0,1.0],[0.37968326199907043,0.48684210526315785,0.0,0.0,0.3333333333333333,0.0,1.0],[0.16285022579548686,0.07894736842105265,0.4444444444444444,0.0,0.0,0.0,1.0],[0.0,0.013157894736842118,0.6666666666666666,0.0,0.0,0.0,1.0],[0.652920080190348,0.5,0.1111111111111111,0.4,0.3333333333333333,0.0,1.0],[0.03332477784637582,0.8026315789473684,0.4444444444444444,0.0,0.3333333333333333,0.0,1.0],[0.04561693153991828,0.42105263157894735,0.5555555555555556,0.0,0.0,0.0,1.0],[0.38907579930214975,0.4342105263157895,0.6666666666666666,0.0,0.0,0.0,1.0],[0.2040622376991752,0.2631578947368421,0.3333333333333333,0.6000000000000001,1.0,0.0,1.0],[0.2151335002809437,0.2368421052631579,0.1111111111111111,0.0,0.0,0.0,1.0],[0.27576877987194515,0.5789473684210527,0.7777777777777777,0.4,0.3333333333333333,0.0,1.0],[0.30307928161657083,0.7236842105263157,0.8888888888888888,0.0,0.3333333333333333,0.0,1.0],[0.05342092302142803,0.15789473684210525,0.4444444444444444,0.2,0.3333333333333333,0.0,1.0],[0.13401361016114374,0.14473684210526316,0.3333333333333333,0.0,0.3333333333333333,0.0,1.0],[0.05428803318604022,0.06578947368421054,0.3333333333333333,0.0,0.0,0.0,1.0],[0.35364220953543707,0.5,0.1111111111111111,0.2,0.3333333333333333,0.0,1.0],[0.30735240050777973,0.5263157894736842,0.3333333333333333,0.2,0.3333333333333333,0.0,1.0],[0.14516117843739812,0.75,0.0,0.0,1.0,0.0,1.0],[0.0,0.026315789473684237,0.7777777777777777,0.0,0.0,0.0,1.0],[0.04962644894108507,0.6842105263157895,0.5555555555555556,0.0,0.3333333333333333,0.0,1.0],[0.07110303349819988,0.7368421052631579,1.0,0.0,0.0,0.0,1.0],[0.04647710482321358,0.13157894736842107,0.2222222222222222,0.0,0.0,0.0,1.0],[0.9869378524802819,0.5394736842105263,0.4444444444444444,0.0,0.6666666666666667,0.0,1.0],[0.019825606803693194,0.9210526315789473,0.3333333333333333,0.0,1.0,0.0,1.0],[0.0,0.0,0.5555555555555556,0.0,0.0,0.0,1.0],[0.10376880761947044,0.10526315789473684,0.0,0.0,0.0,0.0,1.0],[0.05283822499080863,0.39473684210526316,0.3333333333333333,0.4,0.3333333333333333,0.0,1.0],[0.05015365192116928,0.6447368421052632,0.2222222222222222,0.0,0.3333333333333333,0.0,1.0],[0.20821049272667994,0.22368421052631582,0.0,0.4,0.3333333333333333,0.0,1.0],[0.04432667161497534,0.368421052631579,0.1111111111111111,0.0,0.3333333333333333,0.0,1.0],[0.4800668715358949,0.5263157894736842,0.3333333333333333,0.4,0.3333333333333333,0.0,1.0],[0.3093294116830955,0.39473684210526316,0.3333333333333333,0.8,0.3333333333333333,0.0,1.0],[0.19782598139528432,0.2368421052631579,0.1111111111111111,0.4,0.6666666666666667,0.0,1.0],[0.12809645039783013,0.2368421052631579,0.1111111111111111,0.4,0.6666666666666667,0.0,1.0],[0.5839744167817033,0.3157894736842105,0.7777777777777777,0.0,0.0,0.0,1.0],[0.25500669409047083,0.5526315789473684,0.5555555555555556,0.2,0.3333333333333333,0.0,1.0],[0.051006888323147676,0.07894736842105265,0.4444444444444444,0.0,0.0,0.0,1.0],[0.2830108839667862,0.3026315789473684,0.6666666666666666,0.4,0.3333333333333333,0.0,1.0],[0.0,0.013157894736842118,0.6666666666666666,0.0,0.0,0.0,1.0],[0.16856621600061045,0.4473684210526315,0.7777777777777777,0.0,0.0,0.0,1.0],[0.30735240050777973,0.2631578947368421,0.3333333333333333,0.6000000000000001,0.3333333333333333,0.0,1.0],[0.39985571286860855,0.6052631578947368,1.0,0.2,0.3333333333333333,0.0,1.0],[0.2529464403393522,0.25,0.2222222222222222,0.0,0.0,0.0,1.0],[0.05729170279625686,0.21052631578947367,0.8888888888888888,0.4,1.0,0.0,1.0],[0.0,0.026315789473684237,0.0,0.0,0.0,0.0,1.0],[0.3278855692057965,0.5394736842105263,0.4444444444444444,0.2,1.0,0.0,1.0],[0.0,0.03947368421052633,0.1111111111111111,0.0,0.0,0.0,1.0],[0.253910666842401,0.6842105263157895,0.5555555555555556,0.0,0.3333333333333333,0.0,1.0],[0.12946301601725896,0.3421052631578947,1.0,0.6000000000000001,0.3333333333333333,0.0,1.0],[0.17233294255568582,0.631578947368421,0.1111111111111111,0.0,0.3333333333333333,0.0,1.0],[0.5264399231393551,0.35526315789473684,0.0,0.0,0.6666666666666667,0.0,1.0],[0.05610549609106738,0.9342105263157894,0.4444444444444444,0.0,0.0,0.0,1.0],[0.11913399973639852,0.894736842105263,0.1111111111111111,0.0,0.3333333333333333,0.0,1.0],[0.3251316273229881,0.6052631578947368,1.0,0.0,0.3333333333333333,0.0,1.0],[0.18895371019097235,0.5789473684210527,0.7777777777777777,0.0,0.0,0.0,1.0],[0.2691718057395756,0.368421052631579,0.1111111111111111,0.4,0.3333333333333333,0.0,1.0],[0.04237047108361023,0.07894736842105265,0.4444444444444444,0.0,0.0,0.0,1.0],[0.3458937131044625,0.5526315789473684,0.5555555555555556,0.0,0.3333333333333333,0.0,1.0],[0.0,0.05263157894736842,0.2222222222222222,0.0,0.0,0.0,1.0],[0.16461913053129573,0.11842105263157898,0.1111111111111111,0.0,0.3333333333333333,0.0,1.0],[0.01817462905027158,0.11842105263157898,0.1111111111111111,0.0,0.0,0.0,1.0],[0.0,0.026315789473684237,0.0,0.0,0.0,0.0,1.0],[0.0,0.05263157894736842,0.2222222222222222,0.0,0.0,0.0,1.0],[0.25398697253688685,0.32894736842105265,0.5555555555555556,0.2,1.0,0.0,1.0],[0.32229444286437703,0.513157894736842,0.2222222222222222,0.2,0.3333333333333333,0.0,1.0],[0.10501744625651199,0.6578947368421052,0.3333333333333333,0.0,0.3333333333333333,0.0,1.0],[0.017106349327469357,0.6447368421052632,0.2222222222222222,0.0,0.0,0.0,1.0],[0.03073732111517304,0.6447368421052632,0.2222222222222222,0.0,0.6666666666666667,0.0,1.0],[0.09204547819391358,0.48684210526315785,0.0,0.2,0.3333333333333333,0.0,1.0],[0.18304348730897563,0.5657894736842105,0.6666666666666666,0.2,0.3333333333333333,0.0,1.0],[0.42523082472581974,0.48684210526315785,0.0,0.4,0.3333333333333333,0.0,1.0]],\"theta\":[\"income\",\"age\",\"years_with_bank\",\"nbr_children\",\"marital_status\",\"gender_F\",\"gender_M\"],\"type\":\"scatterpolar\"},{\"fill\":\"toself\",\"name\":\"Product B\",\"r\":[[0.3090658101930534,0.6052631578947368,1.0,0.4,1.0,1.0,0.0],[0.10879804657422117,0.5263157894736842,0.3333333333333333,0.4,0.3333333333333333,1.0,0.0],[0.013381244060295372,0.868421052631579,0.8888888888888888,0.0,0.3333333333333333,1.0,0.0],[0.2770729135595219,0.368421052631579,0.1111111111111111,1.0,1.0,1.0,0.0],[0.16198311563087467,0.5,0.1111111111111111,0.4,0.3333333333333333,1.0,0.0],[0.18386203930436953,0.48684210526315785,0.0,0.2,0.3333333333333333,1.0,0.0],[0.46428546653995295,0.5921052631578947,0.8888888888888888,0.0,0.3333333333333333,1.0,0.0],[0.13411766338089723,0.381578947368421,0.2222222222222222,0.4,1.0,1.0,0.0],[0.04504117039061579,0.8026315789473684,0.4444444444444444,0.0,0.3333333333333333,1.0,0.0],[0.062265446700472404,0.19736842105263158,0.7777777777777777,0.2,0.3333333333333333,1.0,0.0],[0.21271252870134644,0.5657894736842105,0.6666666666666666,0.2,0.3333333333333333,1.0,0.0],[0.1687465749148498,0.618421052631579,0.0,0.0,0.3333333333333333,1.0,0.0],[0.3926066718924506,0.2368421052631579,0.1111111111111111,0.4,0.3333333333333333,1.0,0.0],[0.16887143877855393,0.25,0.2222222222222222,0.4,0.3333333333333333,1.0,0.0],[0.1502736599679516,0.5394736842105263,0.4444444444444444,0.2,0.3333333333333333,1.0,0.0],[0.30048488800405115,0.22368421052631582,0.0,0.6000000000000001,0.3333333333333333,1.0,0.0],[0.17026575192325033,0.513157894736842,0.2222222222222222,0.2,0.3333333333333333,1.0,0.0],[0.1251135914315642,0.3026315789473684,0.6666666666666666,0.4,0.3333333333333333,1.0,0.0],[0.05557135622966627,0.9078947368421053,0.2222222222222222,0.0,0.3333333333333333,1.0,0.0],[0.052519128450231344,0.13157894736842107,0.2222222222222222,0.2,1.0,1.0,0.0],[0.1186137336376312,0.4473684210526315,0.7777777777777777,0.4,0.6666666666666667,1.0,0.0],[0.3266091830434873,0.39473684210526316,0.3333333333333333,0.2,0.3333333333333333,1.0,0.0],[0.040150669062203014,0.2894736842105263,0.5555555555555556,0.4,0.3333333333333333,1.0,0.0],[0.1109415429011425,0.22368421052631582,0.0,0.6000000000000001,0.3333333333333333,1.0,0.0],[0.03076506864044063,0.6842105263157895,0.5555555555555556,0.0,0.3333333333333333,1.0,0.0],[0.08598958080426201,0.618421052631579,0.0,0.0,0.3333333333333333,1.0,0.0],[0.05154796506586569,0.3157894736842105,0.7777777777777777,0.2,0.3333333333333333,1.0,0.0],[0.05294921509187899,0.5263157894736842,0.3333333333333333,0.0,0.3333333333333333,1.0,0.0],[0.5654182592590024,0.368421052631579,0.1111111111111111,0.2,0.3333333333333333,1.0,0.0],[0.1746706715594803,0.5657894736842105,0.6666666666666666,0.2,0.6666666666666667,1.0,0.0],[0.16029745347086857,0.7368421052631579,1.0,0.0,0.3333333333333333,1.0,0.0],[0.12729177216507004,0.32894736842105265,0.5555555555555556,0.4,0.3333333333333333,1.0,0.0],[0.08938171576822491,0.631578947368421,0.1111111111111111,0.0,0.3333333333333333,1.0,0.0],[0.2754219358061003,0.5263157894736842,0.3333333333333333,0.2,0.3333333333333333,1.0,0.0],[0.3416968999077395,0.4736842105263158,1.0,0.0,0.3333333333333333,1.0,0.0],[0.053767767087272905,0.368421052631579,0.1111111111111111,0.4,1.0,1.0,0.0],[0.20024695297488154,0.8421052631578947,0.7777777777777777,0.0,0.3333333333333333,1.0,0.0],[0.14466865986389837,0.3026315789473684,0.6666666666666666,0.4,0.3333333333333333,1.0,0.0],[0.21532079607649993,0.618421052631579,0.0,0.0,0.3333333333333333,1.0,0.0],[0.06111392440186741,0.2894736842105263,0.5555555555555556,0.4,0.3333333333333333,1.0,0.0],[0.10319998335148484,0.2631578947368421,0.3333333333333333,0.6000000000000001,0.3333333333333333,1.0,0.0],[0.02029037785192533,0.21052631578947367,0.8888888888888888,0.4,1.0,1.0,0.0],[0.5850218858605548,0.39473684210526316,0.3333333333333333,0.8,1.0,1.0,0.0],[0.08279167851717224,0.618421052631579,0.0,0.0,0.3333333333333333,1.0,0.0],[0.30452908981180243,0.3026315789473684,0.6666666666666666,0.4,0.3333333333333333,1.0,0.0],[0.168392793967688,0.5526315789473684,0.5555555555555556,0.2,0.6666666666666667,1.0,0.0],[0.09580526786767204,0.48684210526315785,0.0,0.0,0.6666666666666667,1.0,0.0],[0.03806960466713375,0.2631578947368421,0.3333333333333333,0.6000000000000001,0.3333333333333333,1.0,0.0],[0.12180469904340406,0.5,0.1111111111111111,0.0,0.3333333333333333,1.0,0.0],[0.09222583710815292,0.32894736842105265,0.8888888888888888,0.6000000000000001,0.3333333333333333,1.0,0.0],[0.5211054614066608,0.5921052631578947,0.8888888888888888,0.0,1.0,1.0,0.0],[0.08503229118253015,0.3421052631578947,1.0,0.6000000000000001,0.3333333333333333,1.0,0.0],[0.025097636604535335,1.0,1.0,0.0,0.3333333333333333,1.0,0.0],[0.03045984586249714,0.6973684210526315,0.6666666666666666,0.0,1.0,1.0,0.0],[0.3072205997627587,0.2763157894736842,0.4444444444444444,0.2,0.3333333333333333,1.0,0.0],[0.34497804477063204,0.6447368421052632,0.2222222222222222,0.0,0.3333333333333333,1.0,0.0],[0.01947182585653142,0.5394736842105263,0.2222222222222222,0.0,0.3333333333333333,1.0,0.0],[0.03209001297196806,0.8552631578947367,0.8888888888888888,0.0,0.6666666666666667,1.0,0.0],[0.031937401582996315,0.6842105263157895,0.5555555555555556,0.0,0.3333333333333333,1.0,0.0],[0.2725570038222216,0.5921052631578947,0.8888888888888888,0.2,1.0,1.0,0.0],[0.20368764610806273,0.3026315789473684,0.6666666666666666,0.6000000000000001,1.0,1.0,0.0],[0.07633344201114063,0.7763157894736842,0.2222222222222222,0.0,0.3333333333333333,1.0,0.0],[0.06832134409012396,0.618421052631579,0.0,0.0,0.3333333333333333,1.0,0.0],[0.14704801015559424,0.48684210526315785,0.0,0.2,0.3333333333333333,1.0,0.0],[0.25578362479796335,0.6052631578947368,1.0,0.0,0.3333333333333333,1.0,0.0],[0.06669117698065304,0.6842105263157895,0.5555555555555556,0.0,0.3333333333333333,1.0,0.0],[0.21157488016537526,0.5789473684210527,0.7777777777777777,0.4,0.3333333333333333,1.0,0.0],[0.48164154359483063,0.5921052631578947,0.8888888888888888,0.4,0.3333333333333333,1.0,0.0],[0.08755037910056397,0.6973684210526315,0.6666666666666666,0.0,1.0,1.0,0.0],[0.10458735961486434,0.8026315789473684,0.4444444444444444,0.0,0.3333333333333333,1.0,0.0],[0.0687861151383561,0.2631578947368421,0.3333333333333333,0.4,0.3333333333333333,1.0,0.0],[0.15786954500995443,0.22368421052631582,0.0,0.4,0.3333333333333333,1.0,0.0],[0.12217235375319964,0.22368421052631582,0.0,0.6000000000000001,1.0,1.0,0.0],[0.19294241694818842,0.14473684210526316,0.3333333333333333,0.4,0.3333333333333333,1.0,0.0],[0.25993187982546806,0.5526315789473684,0.5555555555555556,0.2,0.3333333333333333,1.0,0.0],[0.18939767059525378,0.6052631578947368,1.0,0.2,0.6666666666666667,1.0,0.0],[0.2034934134311896,0.48684210526315785,0.0,0.0,0.3333333333333333,1.0,0.0],[0.04297397975818032,0.8157894736842105,0.5555555555555556,0.0,1.0,1.0,0.0],[0.13623341218255097,0.3026315789473684,0.3333333333333333,0.6000000000000001,0.6666666666666667,1.0,0.0],[0.3165229576087183,0.4078947368421053,0.4444444444444444,0.4,0.6666666666666667,1.0,0.0],[0.4292889002962048,0.513157894736842,0.2222222222222222,0.4,0.3333333333333333,1.0,0.0],[0.16539606123878828,0.6052631578947368,1.0,0.2,0.3333333333333333,1.0,0.0],[0.0246328655563032,0.1842105263157895,0.4444444444444444,0.4,0.3333333333333333,1.0,0.0],[0.3442288615884071,0.5526315789473684,0.5555555555555556,0.2,1.0,1.0,0.0],[0.1890855109359934,0.7368421052631579,1.0,0.0,0.3333333333333333,1.0,0.0],[0.24631478180039817,0.5657894736842105,0.6666666666666666,0.2,0.3333333333333333,1.0,0.0],[0.05813800231691836,0.4078947368421053,0.4444444444444444,0.0,0.3333333333333333,1.0,0.0],[0.19463501598951144,0.25,0.2222222222222222,0.4,1.0,1.0,0.0],[0.20284134658740124,0.5921052631578947,0.5555555555555556,0.4,0.3333333333333333,1.0,0.0],[0.13655944560444516,0.6710526315789473,0.4444444444444444,0.0,0.3333333333333333,1.0,0.0],[0.1386474468808313,0.42105263157894735,0.5555555555555556,0.4,0.6666666666666667,1.0,0.0],[0.27922334676776017,0.35526315789473684,0.0,1.0,0.6666666666666667,1.0,0.0],[0.18565175468412912,0.2368421052631579,0.1111111111111111,0.4,0.3333333333333333,1.0,0.0],[0.0735864370096492,0.6578947368421052,0.3333333333333333,0.0,0.3333333333333333,1.0,0.0],[0.06506100987118212,0.7368421052631579,1.0,0.0,0.3333333333333333,1.0,0.0],[0.1242534181482689,0.25,0.2222222222222222,0.6000000000000001,0.3333333333333333,1.0,0.0],[0.1449045138286729,0.13157894736842107,0.2222222222222222,0.0,0.6666666666666667,1.0,0.0],[0.1251413389568318,0.1842105263157895,0.6666666666666666,0.4,0.3333333333333333,1.0,0.0],[0.41789160429254213,0.368421052631579,0.1111111111111111,0.8,0.3333333333333333,1.0,0.0],[0.25152437966938823,0.42105263157894735,0.5555555555555556,0.4,0.3333333333333333,1.0,0.0],[0.12756924741774592,0.32894736842105265,0.8888888888888888,0.4,0.3333333333333333,1.0,0.0],[0.1231296433749315,0.5657894736842105,0.6666666666666666,0.2,0.3333333333333333,1.0,0.0],[0.12613331298514813,0.2631578947368421,0.3333333333333333,0.6000000000000001,0.3333333333333333,1.0,0.0],[0.13762772532724737,0.48684210526315785,0.0,0.4,1.0,1.0,0.0],[0.20698266473358906,0.3026315789473684,0.6666666666666666,0.4,0.3333333333333333,1.0,0.0],[0.5391829741184958,0.5789473684210527,0.7777777777777777,0.2,0.3333333333333333,1.0,0.0],[0.07504318208619769,0.19736842105263158,0.4444444444444444,0.4,0.3333333333333333,1.0,0.0],[0.2561304688638082,0.5263157894736842,0.2222222222222222,0.2,0.6666666666666667,1.0,0.0],[0.2289864522707881,0.5526315789473684,0.5555555555555556,0.0,0.3333333333333333,1.0,0.0],[0.31537837219143017,0.5789473684210527,0.7777777777777777,0.0,0.3333333333333333,1.0,0.0],[0.1426361536380474,0.48684210526315785,0.0,0.4,0.3333333333333333,1.0,0.0],[0.7018528409997433,0.48684210526315785,0.0,0.0,0.3333333333333333,1.0,0.0],[0.10252710586374578,0.986842105263158,0.8888888888888888,0.0,1.0,1.0,0.0],[0.2385870960133743,0.5394736842105263,0.4444444444444444,0.0,0.3333333333333333,1.0,0.0],[0.08712722934023322,0.2368421052631579,0.1111111111111111,0.4,0.3333333333333333,1.0,0.0],[0.3104809339817005,0.5263157894736842,0.2222222222222222,0.2,0.3333333333333333,1.0,0.0],[0.04913393036758534,0.8421052631578947,0.7777777777777777,0.0,0.3333333333333333,1.0,0.0],[0.06021906671198762,0.7236842105263157,0.8888888888888888,0.0,0.3333333333333333,1.0,0.0],[0.17637714436343707,0.4342105263157895,0.6666666666666666,0.2,0.3333333333333333,1.0,0.0],[0.09103963040296344,0.6973684210526315,0.6666666666666666,0.0,0.3333333333333333,1.0,0.0],[0.05948375729239649,0.513157894736842,0.2222222222222222,0.2,0.3333333333333333,1.0,0.0],[0.18440311604708756,0.13157894736842107,0.2222222222222222,0.4,0.3333333333333333,1.0,0.0],[0.21278189751451543,0.6710526315789473,0.4444444444444444,0.0,0.3333333333333333,1.0,0.0],[0.0557586520252225,0.881578947368421,0.0,0.0,0.3333333333333333,1.0,0.0],[0.34428435663894225,0.5394736842105263,0.4444444444444444,0.2,0.3333333333333333,1.0,0.0],[0.09013783583176675,0.17105263157894735,0.5555555555555556,0.2,1.0,1.0,0.0],[0.13997932809367564,0.4736842105263158,1.0,0.2,0.3333333333333333,1.0,0.0],[0.07423156697212067,0.8289473684210527,0.6666666666666666,0.0,0.6666666666666667,1.0,0.0],[0.16739388305805475,0.4473684210526315,0.7777777777777777,0.2,0.3333333333333333,1.0,0.0],[0.07681902370332346,0.513157894736842,0.2222222222222222,0.2,0.3333333333333333,1.0,0.0],[0.25918963352456004,0.513157894736842,0.2222222222222222,0.2,1.0,1.0,0.0],[0.22683601906254985,0.5263157894736842,0.3333333333333333,0.2,1.0,1.0,0.0],[0.3043348571349293,0.368421052631579,0.1111111111111111,0.0,0.3333333333333333,1.0,0.0],[0.09112980986008311,0.7763157894736842,0.2222222222222222,0.0,0.3333333333333333,1.0,0.0],[0.0548984787419272,0.894736842105263,0.1111111111111111,0.0,0.3333333333333333,1.0,0.0],[0.09009621454386536,0.3157894736842105,0.7777777777777777,0.6000000000000001,1.0,1.0,0.0],[0.09362708713416622,0.631578947368421,0.1111111111111111,0.0,0.3333333333333333,1.0,0.0],[0.05365677698620254,0.5263157894736842,0.3333333333333333,0.2,0.3333333333333333,1.0,0.0],[0.04148948715636424,0.8026315789473684,0.4444444444444444,0.0,0.3333333333333333,1.0,0.0],[0.18041440928987146,0.2763157894736842,0.4444444444444444,0.4,1.0,1.0,0.0],[0.12078497748982013,0.2631578947368421,0.2222222222222222,0.4,0.6666666666666667,1.0,0.0],[0.14360731702241306,0.22368421052631582,0.0,0.2,0.6666666666666667,1.0,0.0],[0.13241119057694042,0.513157894736842,0.2222222222222222,0.4,0.3333333333333333,1.0,0.0],[0.06586568810394224,0.15789473684210525,0.4444444444444444,0.4,0.6666666666666667,1.0,0.0],[0.06755135026394833,0.5657894736842105,0.6666666666666666,0.2,0.3333333333333333,1.0,0.0],[0.3437432798962243,0.5263157894736842,0.3333333333333333,0.2,0.3333333333333333,1.0,0.0],[0.019229035010440005,0.11842105263157898,0.1111111111111111,0.2,1.0,1.0,0.0],[0.07799829352719605,0.7763157894736842,0.2222222222222222,0.0,0.3333333333333333,1.0,0.0],[0.09959280506669811,0.8421052631578947,0.7777777777777777,0.0,0.3333333333333333,1.0,0.0],[0.1319325457660745,0.75,0.0,0.0,1.0,1.0,0.0],[0.05301164702373107,0.6973684210526315,0.6666666666666666,0.0,0.3333333333333333,1.0,0.0],[0.12608475481592984,0.7236842105263157,0.8888888888888888,0.0,1.0,1.0,0.0],[0.6837406438813238,0.39473684210526316,0.3333333333333333,0.2,0.6666666666666667,1.0,0.0],[0.19170071519246376,0.35526315789473684,0.0,0.4,1.0,1.0,0.0],[0.14833827008053718,0.5921052631578947,0.7777777777777777,0.2,0.3333333333333333,1.0,0.0],[0.45330438341530416,0.5921052631578947,0.8888888888888888,0.4,0.3333333333333333,1.0,0.0],[0.7095458423801827,0.5657894736842105,0.6666666666666666,0.4,0.6666666666666667,1.0,0.0],[0.179158833771513,0.8157894736842105,0.5555555555555556,0.0,0.3333333333333333,1.0,0.0],[0.04320289684163794,0.9342105263157894,0.4444444444444444,0.0,0.3333333333333333,1.0,0.0],[0.2184840139570052,0.15789473684210525,0.4444444444444444,0.2,0.6666666666666667,1.0,0.0],[0.010856219260944664,0.9078947368421053,0.2222222222222222,0.0,0.3333333333333333,1.0,0.0],[0.12328919164522015,0.3157894736842105,0.7777777777777777,0.6000000000000001,0.3333333333333333,1.0,0.0],[0.40495432063652825,0.4736842105263158,0.2222222222222222,0.8,1.0,1.0,0.0],[0.1527848110046685,0.4078947368421053,0.3333333333333333,0.2,0.3333333333333333,1.0,0.0],[0.30232316155302896,0.381578947368421,0.2222222222222222,1.0,0.3333333333333333,1.0,0.0],[0.04792691301844517,0.5394736842105263,0.2222222222222222,0.4,0.6666666666666667,1.0,0.0],[0.20488772657588603,0.39473684210526316,0.3333333333333333,0.0,0.3333333333333333,1.0,0.0],[0.022912518989712603,0.631578947368421,0.1111111111111111,0.0,0.6666666666666667,1.0,0.0],[0.1024508001692599,0.2368421052631579,0.1111111111111111,0.6000000000000001,0.3333333333333333,1.0,0.0],[0.24360246120549123,0.5789473684210527,0.7777777777777777,0.2,0.3333333333333333,1.0,0.0],[0.3065824066816041,0.22368421052631582,0.0,0.2,0.3333333333333333,1.0,0.0],[0.08286798421165813,0.618421052631579,0.0,0.0,1.0,1.0,0.0],[0.06277877591792282,0.6842105263157895,0.5555555555555556,0.0,0.3333333333333333,1.0,0.0],[0.2699626102097019,0.5,0.1111111111111111,0.0,0.3333333333333333,1.0,0.0],[0.04494405405217922,0.6842105263157895,0.5555555555555556,0.0,0.3333333333333333,1.0,0.0],[0.09719264413105157,0.21052631578947367,0.8888888888888888,0.4,0.6666666666666667,1.0,0.0],[0.0574512510665455,0.7894736842105263,0.3333333333333333,0.0,0.3333333333333333,1.0,0.0],[0.05226246384150614,0.631578947368421,0.1111111111111111,0.0,0.3333333333333333,1.0,0.0],[0.3011161442038888,0.35526315789473684,0.0,0.8,0.3333333333333333,1.0,0.0],[0.025846819786760268,0.763157894736842,0.1111111111111111,0.0,0.3333333333333333,1.0,0.0],[0.0302864238295747,0.631578947368421,0.1111111111111111,0.0,0.3333333333333333,1.0,0.0],[0.08055800273313124,0.3421052631578947,0.5555555555555556,0.4,0.3333333333333333,1.0,0.0],[0.3429386016634641,0.4473684210526315,0.7777777777777777,0.4,0.3333333333333333,1.0,0.0],[0.4038444196258246,0.5526315789473684,0.3333333333333333,0.4,0.3333333333333333,1.0,0.0],[0.07659010661986584,0.9210526315789473,0.3333333333333333,0.0,0.3333333333333333,1.0,0.0],[0.07967008192456836,0.75,0.0,0.0,0.3333333333333333,1.0,0.0],[0.0563274762932081,0.6842105263157895,0.5555555555555556,0.0,1.0,1.0,0.0],[0.09642958718619284,0.8289473684210527,0.6666666666666666,0.0,0.3333333333333333,1.0,0.0],[0.1794501827868227,0.5394736842105263,0.4444444444444444,0.2,1.0,1.0,0.0],[0.15761288040122923,0.5263157894736842,0.2222222222222222,0.4,0.3333333333333333,1.0,0.0],[0.1862413895960654,0.7105263157894737,0.1111111111111111,0.0,0.3333333333333333,1.0,0.0],[0.048613664268818024,0.35526315789473684,0.0,0.2,1.0,1.0,0.0],[0.30571529651699186,0.3421052631578947,1.0,0.6000000000000001,0.3333333333333333,1.0,0.0],[0.04008823713035094,0.868421052631579,1.0,0.0,0.3333333333333333,1.0,0.0],[0.14477271308365186,0.4605263157894737,0.8888888888888888,1.0,0.3333333333333333,1.0,0.0],[0.01873651643694028,0.75,0.0,0.0,0.3333333333333333,1.0,0.0],[0.09559716142816513,0.48684210526315785,0.0,0.0,0.3333333333333333,1.0,0.0],[0.18416032520099612,0.4342105263157895,0.5555555555555556,0.8,1.0,1.0,0.0],[0.32403560007491833,0.4473684210526315,0.7777777777777777,0.6000000000000001,0.6666666666666667,1.0,0.0],[0.11026172853208654,0.4342105263157895,0.6666666666666666,0.2,0.3333333333333333,1.0,0.0],[0.40753484048641414,0.48684210526315785,0.0,0.4,0.3333333333333333,1.0,0.0],[0.10921425945323501,0.48684210526315785,0.0,0.4,0.3333333333333333,1.0,0.0],[0.18131620386106814,0.6842105263157895,0.5555555555555556,0.0,0.3333333333333333,1.0,0.0],[0.2176723988429282,0.368421052631579,0.1111111111111111,0.4,0.3333333333333333,1.0,0.0],[0.284856094397081,0.5526315789473684,0.5555555555555556,0.2,0.3333333333333333,1.0,0.0],[0.3032110823615919,0.2368421052631579,0.1111111111111111,0.4,0.6666666666666667,1.0,0.0],[0.24134103789618264,0.513157894736842,0.2222222222222222,0.4,0.3333333333333333,1.0,0.0],[0.12747906796062627,0.3026315789473684,0.6666666666666666,0.4,0.3333333333333333,1.0,0.0],[0.28299007332283554,0.6973684210526315,0.6666666666666666,0.0,0.3333333333333333,1.0,0.0],[0.1508494211172541,0.22368421052631582,0.0,0.6000000000000001,1.0,1.0,0.0],[0.11290468031382452,0.35526315789473684,0.0,0.6000000000000001,1.0,1.0,0.0],[0.03370630631880519,0.21052631578947367,0.8888888888888888,0.2,1.0,1.0,0.0],[0.1488654730606214,0.5263157894736842,0.2222222222222222,0.0,0.3333333333333333,1.0,0.0],[0.3032457667681764,0.2631578947368421,0.3333333333333333,0.4,0.3333333333333333,1.0,0.0],[0.04859285362486733,0.8421052631578947,0.7777777777777777,0.0,0.6666666666666667,1.0,0.0],[0.0905817962360482,0.1842105263157895,0.6666666666666666,0.4,0.3333333333333333,1.0,0.0],[0.05552973494176488,0.2631578947368421,0.3333333333333333,0.4,0.6666666666666667,1.0,0.0],[0.06831440720880706,0.381578947368421,0.2222222222222222,0.4,0.3333333333333333,1.0,0.0],[0.16158771339581152,0.5,0.1111111111111111,0.2,0.3333333333333333,1.0,0.0],[0.31036994388063016,0.2368421052631579,0.1111111111111111,0.4,0.3333333333333333,1.0,0.0],[0.45106377074994625,0.39473684210526316,0.3333333333333333,0.0,0.3333333333333333,1.0,0.0],[0.21948986174795534,0.4473684210526315,0.7777777777777777,0.4,0.3333333333333333,1.0,0.0],[0.02946093495286389,0.5526315789473684,0.5555555555555556,0.2,0.3333333333333333,1.0,0.0],[0.10029343007970476,0.4736842105263158,1.0,0.0,0.3333333333333333,1.0,0.0],[0.07491831822249354,1.0,1.0,0.0,0.3333333333333333,1.0,0.0],[0.08374203125758721,0.7368421052631579,1.0,0.0,0.3333333333333333,1.0,0.0],[0.08784866499719056,0.5526315789473684,0.5555555555555556,0.2,1.0,1.0,0.0],[0.14024986646503465,0.2763157894736842,0.4444444444444444,0.4,0.3333333333333333,1.0,0.0],[0.04106633739603349,0.6973684210526315,0.6666666666666666,0.0,0.6666666666666667,1.0,0.0],[0.43170987187580206,0.22368421052631582,0.0,0.6000000000000001,0.3333333333333333,1.0,0.0],[0.36698183230783105,0.35526315789473684,0.0,0.0,0.6666666666666667,1.0,0.0],[0.3876884230387702,0.2894736842105263,0.5555555555555556,0.4,0.6666666666666667,1.0,0.0],[0.0843386030508404,0.2894736842105263,0.5555555555555556,0.6000000000000001,1.0,1.0,0.0],[0.16903792393015948,0.2631578947368421,0.3333333333333333,0.6000000000000001,0.3333333333333333,1.0,0.0],[0.1672828929569844,0.4605263157894737,0.8888888888888888,0.2,0.3333333333333333,1.0,0.0],[0.22601053018583905,0.2631578947368421,0.3333333333333333,0.4,0.3333333333333333,1.0,0.0],[0.3795375874914156,0.5526315789473684,0.5555555555555556,0.2,0.3333333333333333,1.0,0.0],[0.1132029662104511,0.48684210526315785,0.0,0.2,0.3333333333333333,1.0,0.0],[0.01605194336730093,0.986842105263158,0.8888888888888888,0.0,0.3333333333333333,1.0,0.0],[0.06799531066822978,0.6973684210526315,0.6666666666666666,0.0,0.6666666666666667,1.0,0.0],[0.2539245406050348,0.35526315789473684,0.0,0.2,1.0,1.0,0.0],[0.10263115908349923,0.3026315789473684,0.6666666666666666,0.2,1.0,1.0,0.0]],\"theta\":[\"income\",\"age\",\"years_with_bank\",\"nbr_children\",\"marital_status\",\"gender_F\",\"gender_M\"],\"type\":\"scatterpolar\"}],                        {\"template\":{\"data\":{\"histogram2dcontour\":[{\"type\":\"histogram2dcontour\",\"colorbar\":{\"outlinewidth\":0,\"ticks\":\"\"},\"colorscale\":[[0.0,\"#0d0887\"],[0.1111111111111111,\"#46039f\"],[0.2222222222222222,\"#7201a8\"],[0.3333333333333333,\"#9c179e\"],[0.4444444444444444,\"#bd3786\"],[0.5555555555555556,\"#d8576b\"],[0.6666666666666666,\"#ed7953\"],[0.7777777777777778,\"#fb9f3a\"],[0.8888888888888888,\"#fdca26\"],[1.0,\"#f0f921\"]]}],\"choropleth\":[{\"type\":\"choropleth\",\"colorbar\":{\"outlinewidth\":0,\"ticks\":\"\"}}],\"histogram2d\":[{\"type\":\"histogram2d\",\"colorbar\":{\"outlinewidth\":0,\"ticks\":\"\"},\"colorscale\":[[0.0,\"#0d0887\"],[0.1111111111111111,\"#46039f\"],[0.2222222222222222,\"#7201a8\"],[0.3333333333333333,\"#9c179e\"],[0.4444444444444444,\"#bd3786\"],[0.5555555555555556,\"#d8576b\"],[0.6666666666666666,\"#ed7953\"],[0.7777777777777778,\"#fb9f3a\"],[0.8888888888888888,\"#fdca26\"],[1.0,\"#f0f921\"]]}],\"heatmap\":[{\"type\":\"heatmap\",\"colorbar\":{\"outlinewidth\":0,\"ticks\":\"\"},\"colorscale\":[[0.0,\"#0d0887\"],[0.1111111111111111,\"#46039f\"],[0.2222222222222222,\"#7201a8\"],[0.3333333333333333,\"#9c179e\"],[0.4444444444444444,\"#bd3786\"],[0.5555555555555556,\"#d8576b\"],[0.6666666666666666,\"#ed7953\"],[0.7777777777777778,\"#fb9f3a\"],[0.8888888888888888,\"#fdca26\"],[1.0,\"#f0f921\"]]}],\"heatmapgl\":[{\"type\":\"heatmapgl\",\"colorbar\":{\"outlinewidth\":0,\"ticks\":\"\"},\"colorscale\":[[0.0,\"#0d0887\"],[0.1111111111111111,\"#46039f\"],[0.2222222222222222,\"#7201a8\"],[0.3333333333333333,\"#9c179e\"],[0.4444444444444444,\"#bd3786\"],[0.5555555555555556,\"#d8576b\"],[0.6666666666666666,\"#ed7953\"],[0.7777777777777778,\"#fb9f3a\"],[0.8888888888888888,\"#fdca26\"],[1.0,\"#f0f921\"]]}],\"contourcarpet\":[{\"type\":\"contourcarpet\",\"colorbar\":{\"outlinewidth\":0,\"ticks\":\"\"}}],\"contour\":[{\"type\":\"contour\",\"colorbar\":{\"outlinewidth\":0,\"ticks\":\"\"},\"colorscale\":[[0.0,\"#0d0887\"],[0.1111111111111111,\"#46039f\"],[0.2222222222222222,\"#7201a8\"],[0.3333333333333333,\"#9c179e\"],[0.4444444444444444,\"#bd3786\"],[0.5555555555555556,\"#d8576b\"],[0.6666666666666666,\"#ed7953\"],[0.7777777777777778,\"#fb9f3a\"],[0.8888888888888888,\"#fdca26\"],[1.0,\"#f0f921\"]]}],\"surface\":[{\"type\":\"surface\",\"colorbar\":{\"outlinewidth\":0,\"ticks\":\"\"},\"colorscale\":[[0.0,\"#0d0887\"],[0.1111111111111111,\"#46039f\"],[0.2222222222222222,\"#7201a8\"],[0.3333333333333333,\"#9c179e\"],[0.4444444444444444,\"#bd3786\"],[0.5555555555555556,\"#d8576b\"],[0.6666666666666666,\"#ed7953\"],[0.7777777777777778,\"#fb9f3a\"],[0.8888888888888888,\"#fdca26\"],[1.0,\"#f0f921\"]]}],\"mesh3d\":[{\"type\":\"mesh3d\",\"colorbar\":{\"outlinewidth\":0,\"ticks\":\"\"}}],\"scatter\":[{\"fillpattern\":{\"fillmode\":\"overlay\",\"size\":10,\"solidity\":0.2},\"type\":\"scatter\"}],\"parcoords\":[{\"type\":\"parcoords\",\"line\":{\"colorbar\":{\"outlinewidth\":0,\"ticks\":\"\"}}}],\"scatterpolargl\":[{\"type\":\"scatterpolargl\",\"marker\":{\"colorbar\":{\"outlinewidth\":0,\"ticks\":\"\"}}}],\"bar\":[{\"error_x\":{\"color\":\"#2a3f5f\"},\"error_y\":{\"color\":\"#2a3f5f\"},\"marker\":{\"line\":{\"color\":\"#E5ECF6\",\"width\":0.5},\"pattern\":{\"fillmode\":\"overlay\",\"size\":10,\"solidity\":0.2}},\"type\":\"bar\"}],\"scattergeo\":[{\"type\":\"scattergeo\",\"marker\":{\"colorbar\":{\"outlinewidth\":0,\"ticks\":\"\"}}}],\"scatterpolar\":[{\"type\":\"scatterpolar\",\"marker\":{\"colorbar\":{\"outlinewidth\":0,\"ticks\":\"\"}}}],\"histogram\":[{\"marker\":{\"pattern\":{\"fillmode\":\"overlay\",\"size\":10,\"solidity\":0.2}},\"type\":\"histogram\"}],\"scattergl\":[{\"type\":\"scattergl\",\"marker\":{\"colorbar\":{\"outlinewidth\":0,\"ticks\":\"\"}}}],\"scatter3d\":[{\"type\":\"scatter3d\",\"line\":{\"colorbar\":{\"outlinewidth\":0,\"ticks\":\"\"}},\"marker\":{\"colorbar\":{\"outlinewidth\":0,\"ticks\":\"\"}}}],\"scattermapbox\":[{\"type\":\"scattermapbox\",\"marker\":{\"colorbar\":{\"outlinewidth\":0,\"ticks\":\"\"}}}],\"scatterternary\":[{\"type\":\"scatterternary\",\"marker\":{\"colorbar\":{\"outlinewidth\":0,\"ticks\":\"\"}}}],\"scattercarpet\":[{\"type\":\"scattercarpet\",\"marker\":{\"colorbar\":{\"outlinewidth\":0,\"ticks\":\"\"}}}],\"carpet\":[{\"aaxis\":{\"endlinecolor\":\"#2a3f5f\",\"gridcolor\":\"white\",\"linecolor\":\"white\",\"minorgridcolor\":\"white\",\"startlinecolor\":\"#2a3f5f\"},\"baxis\":{\"endlinecolor\":\"#2a3f5f\",\"gridcolor\":\"white\",\"linecolor\":\"white\",\"minorgridcolor\":\"white\",\"startlinecolor\":\"#2a3f5f\"},\"type\":\"carpet\"}],\"table\":[{\"cells\":{\"fill\":{\"color\":\"#EBF0F8\"},\"line\":{\"color\":\"white\"}},\"header\":{\"fill\":{\"color\":\"#C8D4E3\"},\"line\":{\"color\":\"white\"}},\"type\":\"table\"}],\"barpolar\":[{\"marker\":{\"line\":{\"color\":\"#E5ECF6\",\"width\":0.5},\"pattern\":{\"fillmode\":\"overlay\",\"size\":10,\"solidity\":0.2}},\"type\":\"barpolar\"}],\"pie\":[{\"automargin\":true,\"type\":\"pie\"}]},\"layout\":{\"autotypenumbers\":\"strict\",\"colorway\":[\"#636efa\",\"#EF553B\",\"#00cc96\",\"#ab63fa\",\"#FFA15A\",\"#19d3f3\",\"#FF6692\",\"#B6E880\",\"#FF97FF\",\"#FECB52\"],\"font\":{\"color\":\"#2a3f5f\"},\"hovermode\":\"closest\",\"hoverlabel\":{\"align\":\"left\"},\"paper_bgcolor\":\"white\",\"plot_bgcolor\":\"#E5ECF6\",\"polar\":{\"bgcolor\":\"#E5ECF6\",\"angularaxis\":{\"gridcolor\":\"white\",\"linecolor\":\"white\",\"ticks\":\"\"},\"radialaxis\":{\"gridcolor\":\"white\",\"linecolor\":\"white\",\"ticks\":\"\"}},\"ternary\":{\"bgcolor\":\"#E5ECF6\",\"aaxis\":{\"gridcolor\":\"white\",\"linecolor\":\"white\",\"ticks\":\"\"},\"baxis\":{\"gridcolor\":\"white\",\"linecolor\":\"white\",\"ticks\":\"\"},\"caxis\":{\"gridcolor\":\"white\",\"linecolor\":\"white\",\"ticks\":\"\"}},\"coloraxis\":{\"colorbar\":{\"outlinewidth\":0,\"ticks\":\"\"}},\"colorscale\":{\"sequential\":[[0.0,\"#0d0887\"],[0.1111111111111111,\"#46039f\"],[0.2222222222222222,\"#7201a8\"],[0.3333333333333333,\"#9c179e\"],[0.4444444444444444,\"#bd3786\"],[0.5555555555555556,\"#d8576b\"],[0.6666666666666666,\"#ed7953\"],[0.7777777777777778,\"#fb9f3a\"],[0.8888888888888888,\"#fdca26\"],[1.0,\"#f0f921\"]],\"sequentialminus\":[[0.0,\"#0d0887\"],[0.1111111111111111,\"#46039f\"],[0.2222222222222222,\"#7201a8\"],[0.3333333333333333,\"#9c179e\"],[0.4444444444444444,\"#bd3786\"],[0.5555555555555556,\"#d8576b\"],[0.6666666666666666,\"#ed7953\"],[0.7777777777777778,\"#fb9f3a\"],[0.8888888888888888,\"#fdca26\"],[1.0,\"#f0f921\"]],\"diverging\":[[0,\"#8e0152\"],[0.1,\"#c51b7d\"],[0.2,\"#de77ae\"],[0.3,\"#f1b6da\"],[0.4,\"#fde0ef\"],[0.5,\"#f7f7f7\"],[0.6,\"#e6f5d0\"],[0.7,\"#b8e186\"],[0.8,\"#7fbc41\"],[0.9,\"#4d9221\"],[1,\"#276419\"]]},\"xaxis\":{\"gridcolor\":\"white\",\"linecolor\":\"white\",\"ticks\":\"\",\"title\":{\"standoff\":15},\"zerolinecolor\":\"white\",\"automargin\":true,\"zerolinewidth\":2},\"yaxis\":{\"gridcolor\":\"white\",\"linecolor\":\"white\",\"ticks\":\"\",\"title\":{\"standoff\":15},\"zerolinecolor\":\"white\",\"automargin\":true,\"zerolinewidth\":2},\"scene\":{\"xaxis\":{\"backgroundcolor\":\"#E5ECF6\",\"gridcolor\":\"white\",\"linecolor\":\"white\",\"showbackground\":true,\"ticks\":\"\",\"zerolinecolor\":\"white\",\"gridwidth\":2},\"yaxis\":{\"backgroundcolor\":\"#E5ECF6\",\"gridcolor\":\"white\",\"linecolor\":\"white\",\"showbackground\":true,\"ticks\":\"\",\"zerolinecolor\":\"white\",\"gridwidth\":2},\"zaxis\":{\"backgroundcolor\":\"#E5ECF6\",\"gridcolor\":\"white\",\"linecolor\":\"white\",\"showbackground\":true,\"ticks\":\"\",\"zerolinecolor\":\"white\",\"gridwidth\":2}},\"shapedefaults\":{\"line\":{\"color\":\"#2a3f5f\"}},\"annotationdefaults\":{\"arrowcolor\":\"#2a3f5f\",\"arrowhead\":0,\"arrowwidth\":1},\"geo\":{\"bgcolor\":\"white\",\"landcolor\":\"#E5ECF6\",\"subunitcolor\":\"white\",\"showland\":true,\"showlakes\":true,\"lakecolor\":\"white\"},\"title\":{\"x\":0.05},\"mapbox\":{\"style\":\"light\"}}},\"polar\":{\"radialaxis\":{\"visible\":true,\"range\":[0,1]}},\"showlegend\":false},                        {\"responsive\": true}                    ).then(function(){\n",
       "                            \n",
       "var gd = document.getElementById('20e17b8f-f2d0-4d70-8f72-bb2bd327d7f6');\n",
       "var x = new MutationObserver(function (mutations, observer) {{\n",
       "        var display = window.getComputedStyle(gd).display;\n",
       "        if (!display || display === 'none') {{\n",
       "            console.log([gd, 'removed!']);\n",
       "            Plotly.purge(gd);\n",
       "            observer.disconnect();\n",
       "        }}\n",
       "}});\n",
       "\n",
       "// Listen for the removal of the full notebook cells\n",
       "var notebookContainer = gd.closest('#notebook-container');\n",
       "if (notebookContainer) {{\n",
       "    x.observe(notebookContainer, {childList: true});\n",
       "}}\n",
       "\n",
       "// Listen for the clearing of the current output cell\n",
       "var outputEl = gd.closest('.output');\n",
       "if (outputEl) {{\n",
       "    x.observe(outputEl, {childList: true});\n",
       "}}\n",
       "\n",
       "                        })                };                });            </script>        </div>"
      ]
     },
     "metadata": {},
     "output_type": "display_data"
    }
   ],
   "source": [
    "import plotly.graph_objects as go\n",
    "import plotly.express as px\n",
    "categories = ['income','age','years_with_bank',\n",
    "              'nbr_children', 'marital_status', 'gender_F', 'gender_M']\n",
    "\n",
    "fig = go.Figure()\n",
    "\n",
    "fig.add_trace(go.Scatterpolar(\n",
    "r=clusterzero.loc[:].values,\n",
    "theta=categories,\n",
    "fill='toself',\n",
    "name='Product A'\n",
    "))\n",
    "fig.add_trace(go.Scatterpolar(\n",
    "r=clusterone.loc[:].values,\n",
    "theta=categories,\n",
    "fill='toself',\n",
    "name='Product B'\n",
    "))\n",
    "fig.update_layout(\n",
    "polar=dict(\n",
    "radialaxis=dict(\n",
    "visible=True,\n",
    "range=[0, 1]\n",
    ")),\n",
    "showlegend=False\n",
    ")\n",
    "    \n",
    "fig.show()"
   ]
  },
  {
   "cell_type": "code",
   "execution_count": null,
   "metadata": {},
   "outputs": [],
   "source": [
    "#r = should be any column per time"
   ]
  },
  {
   "cell_type": "code",
   "execution_count": 71,
   "metadata": {},
   "outputs": [
    {
     "data": {
      "application/vnd.plotly.v1+json": {
       "config": {
        "plotlyServerURL": "https://plot.ly"
       },
       "data": [],
       "layout": {
        "autosize": true,
        "legend": {
         "tracegroupgap": 0
        },
        "margin": {
         "t": 60
        },
        "polar": {
         "angularaxis": {
          "direction": "clockwise",
          "rotation": 90
         },
         "domain": {
          "x": [
           0,
           1
          ],
          "y": [
           0,
           1
          ]
         }
        },
        "template": {
         "data": {
          "bar": [
           {
            "error_x": {
             "color": "#2a3f5f"
            },
            "error_y": {
             "color": "#2a3f5f"
            },
            "marker": {
             "line": {
              "color": "#E5ECF6",
              "width": 0.5
             },
             "pattern": {
              "fillmode": "overlay",
              "size": 10,
              "solidity": 0.2
             }
            },
            "type": "bar"
           }
          ],
          "barpolar": [
           {
            "marker": {
             "line": {
              "color": "#E5ECF6",
              "width": 0.5
             },
             "pattern": {
              "fillmode": "overlay",
              "size": 10,
              "solidity": 0.2
             }
            },
            "type": "barpolar"
           }
          ],
          "carpet": [
           {
            "aaxis": {
             "endlinecolor": "#2a3f5f",
             "gridcolor": "white",
             "linecolor": "white",
             "minorgridcolor": "white",
             "startlinecolor": "#2a3f5f"
            },
            "baxis": {
             "endlinecolor": "#2a3f5f",
             "gridcolor": "white",
             "linecolor": "white",
             "minorgridcolor": "white",
             "startlinecolor": "#2a3f5f"
            },
            "type": "carpet"
           }
          ],
          "choropleth": [
           {
            "colorbar": {
             "outlinewidth": 0,
             "ticks": ""
            },
            "type": "choropleth"
           }
          ],
          "contour": [
           {
            "colorbar": {
             "outlinewidth": 0,
             "ticks": ""
            },
            "colorscale": [
             [
              0,
              "#0d0887"
             ],
             [
              0.1111111111111111,
              "#46039f"
             ],
             [
              0.2222222222222222,
              "#7201a8"
             ],
             [
              0.3333333333333333,
              "#9c179e"
             ],
             [
              0.4444444444444444,
              "#bd3786"
             ],
             [
              0.5555555555555556,
              "#d8576b"
             ],
             [
              0.6666666666666666,
              "#ed7953"
             ],
             [
              0.7777777777777778,
              "#fb9f3a"
             ],
             [
              0.8888888888888888,
              "#fdca26"
             ],
             [
              1,
              "#f0f921"
             ]
            ],
            "type": "contour"
           }
          ],
          "contourcarpet": [
           {
            "colorbar": {
             "outlinewidth": 0,
             "ticks": ""
            },
            "type": "contourcarpet"
           }
          ],
          "heatmap": [
           {
            "colorbar": {
             "outlinewidth": 0,
             "ticks": ""
            },
            "colorscale": [
             [
              0,
              "#0d0887"
             ],
             [
              0.1111111111111111,
              "#46039f"
             ],
             [
              0.2222222222222222,
              "#7201a8"
             ],
             [
              0.3333333333333333,
              "#9c179e"
             ],
             [
              0.4444444444444444,
              "#bd3786"
             ],
             [
              0.5555555555555556,
              "#d8576b"
             ],
             [
              0.6666666666666666,
              "#ed7953"
             ],
             [
              0.7777777777777778,
              "#fb9f3a"
             ],
             [
              0.8888888888888888,
              "#fdca26"
             ],
             [
              1,
              "#f0f921"
             ]
            ],
            "type": "heatmap"
           }
          ],
          "heatmapgl": [
           {
            "colorbar": {
             "outlinewidth": 0,
             "ticks": ""
            },
            "colorscale": [
             [
              0,
              "#0d0887"
             ],
             [
              0.1111111111111111,
              "#46039f"
             ],
             [
              0.2222222222222222,
              "#7201a8"
             ],
             [
              0.3333333333333333,
              "#9c179e"
             ],
             [
              0.4444444444444444,
              "#bd3786"
             ],
             [
              0.5555555555555556,
              "#d8576b"
             ],
             [
              0.6666666666666666,
              "#ed7953"
             ],
             [
              0.7777777777777778,
              "#fb9f3a"
             ],
             [
              0.8888888888888888,
              "#fdca26"
             ],
             [
              1,
              "#f0f921"
             ]
            ],
            "type": "heatmapgl"
           }
          ],
          "histogram": [
           {
            "marker": {
             "pattern": {
              "fillmode": "overlay",
              "size": 10,
              "solidity": 0.2
             }
            },
            "type": "histogram"
           }
          ],
          "histogram2d": [
           {
            "colorbar": {
             "outlinewidth": 0,
             "ticks": ""
            },
            "colorscale": [
             [
              0,
              "#0d0887"
             ],
             [
              0.1111111111111111,
              "#46039f"
             ],
             [
              0.2222222222222222,
              "#7201a8"
             ],
             [
              0.3333333333333333,
              "#9c179e"
             ],
             [
              0.4444444444444444,
              "#bd3786"
             ],
             [
              0.5555555555555556,
              "#d8576b"
             ],
             [
              0.6666666666666666,
              "#ed7953"
             ],
             [
              0.7777777777777778,
              "#fb9f3a"
             ],
             [
              0.8888888888888888,
              "#fdca26"
             ],
             [
              1,
              "#f0f921"
             ]
            ],
            "type": "histogram2d"
           }
          ],
          "histogram2dcontour": [
           {
            "colorbar": {
             "outlinewidth": 0,
             "ticks": ""
            },
            "colorscale": [
             [
              0,
              "#0d0887"
             ],
             [
              0.1111111111111111,
              "#46039f"
             ],
             [
              0.2222222222222222,
              "#7201a8"
             ],
             [
              0.3333333333333333,
              "#9c179e"
             ],
             [
              0.4444444444444444,
              "#bd3786"
             ],
             [
              0.5555555555555556,
              "#d8576b"
             ],
             [
              0.6666666666666666,
              "#ed7953"
             ],
             [
              0.7777777777777778,
              "#fb9f3a"
             ],
             [
              0.8888888888888888,
              "#fdca26"
             ],
             [
              1,
              "#f0f921"
             ]
            ],
            "type": "histogram2dcontour"
           }
          ],
          "mesh3d": [
           {
            "colorbar": {
             "outlinewidth": 0,
             "ticks": ""
            },
            "type": "mesh3d"
           }
          ],
          "parcoords": [
           {
            "line": {
             "colorbar": {
              "outlinewidth": 0,
              "ticks": ""
             }
            },
            "type": "parcoords"
           }
          ],
          "pie": [
           {
            "automargin": true,
            "type": "pie"
           }
          ],
          "scatter": [
           {
            "fillpattern": {
             "fillmode": "overlay",
             "size": 10,
             "solidity": 0.2
            },
            "type": "scatter"
           }
          ],
          "scatter3d": [
           {
            "line": {
             "colorbar": {
              "outlinewidth": 0,
              "ticks": ""
             }
            },
            "marker": {
             "colorbar": {
              "outlinewidth": 0,
              "ticks": ""
             }
            },
            "type": "scatter3d"
           }
          ],
          "scattercarpet": [
           {
            "marker": {
             "colorbar": {
              "outlinewidth": 0,
              "ticks": ""
             }
            },
            "type": "scattercarpet"
           }
          ],
          "scattergeo": [
           {
            "marker": {
             "colorbar": {
              "outlinewidth": 0,
              "ticks": ""
             }
            },
            "type": "scattergeo"
           }
          ],
          "scattergl": [
           {
            "marker": {
             "colorbar": {
              "outlinewidth": 0,
              "ticks": ""
             }
            },
            "type": "scattergl"
           }
          ],
          "scattermapbox": [
           {
            "marker": {
             "colorbar": {
              "outlinewidth": 0,
              "ticks": ""
             }
            },
            "type": "scattermapbox"
           }
          ],
          "scatterpolar": [
           {
            "marker": {
             "colorbar": {
              "outlinewidth": 0,
              "ticks": ""
             }
            },
            "type": "scatterpolar"
           }
          ],
          "scatterpolargl": [
           {
            "marker": {
             "colorbar": {
              "outlinewidth": 0,
              "ticks": ""
             }
            },
            "type": "scatterpolargl"
           }
          ],
          "scatterternary": [
           {
            "marker": {
             "colorbar": {
              "outlinewidth": 0,
              "ticks": ""
             }
            },
            "type": "scatterternary"
           }
          ],
          "surface": [
           {
            "colorbar": {
             "outlinewidth": 0,
             "ticks": ""
            },
            "colorscale": [
             [
              0,
              "#0d0887"
             ],
             [
              0.1111111111111111,
              "#46039f"
             ],
             [
              0.2222222222222222,
              "#7201a8"
             ],
             [
              0.3333333333333333,
              "#9c179e"
             ],
             [
              0.4444444444444444,
              "#bd3786"
             ],
             [
              0.5555555555555556,
              "#d8576b"
             ],
             [
              0.6666666666666666,
              "#ed7953"
             ],
             [
              0.7777777777777778,
              "#fb9f3a"
             ],
             [
              0.8888888888888888,
              "#fdca26"
             ],
             [
              1,
              "#f0f921"
             ]
            ],
            "type": "surface"
           }
          ],
          "table": [
           {
            "cells": {
             "fill": {
              "color": "#EBF0F8"
             },
             "line": {
              "color": "white"
             }
            },
            "header": {
             "fill": {
              "color": "#C8D4E3"
             },
             "line": {
              "color": "white"
             }
            },
            "type": "table"
           }
          ]
         },
         "layout": {
          "annotationdefaults": {
           "arrowcolor": "#2a3f5f",
           "arrowhead": 0,
           "arrowwidth": 1
          },
          "autotypenumbers": "strict",
          "coloraxis": {
           "colorbar": {
            "outlinewidth": 0,
            "ticks": ""
           }
          },
          "colorscale": {
           "diverging": [
            [
             0,
             "#8e0152"
            ],
            [
             0.1,
             "#c51b7d"
            ],
            [
             0.2,
             "#de77ae"
            ],
            [
             0.3,
             "#f1b6da"
            ],
            [
             0.4,
             "#fde0ef"
            ],
            [
             0.5,
             "#f7f7f7"
            ],
            [
             0.6,
             "#e6f5d0"
            ],
            [
             0.7,
             "#b8e186"
            ],
            [
             0.8,
             "#7fbc41"
            ],
            [
             0.9,
             "#4d9221"
            ],
            [
             1,
             "#276419"
            ]
           ],
           "sequential": [
            [
             0,
             "#0d0887"
            ],
            [
             0.1111111111111111,
             "#46039f"
            ],
            [
             0.2222222222222222,
             "#7201a8"
            ],
            [
             0.3333333333333333,
             "#9c179e"
            ],
            [
             0.4444444444444444,
             "#bd3786"
            ],
            [
             0.5555555555555556,
             "#d8576b"
            ],
            [
             0.6666666666666666,
             "#ed7953"
            ],
            [
             0.7777777777777778,
             "#fb9f3a"
            ],
            [
             0.8888888888888888,
             "#fdca26"
            ],
            [
             1,
             "#f0f921"
            ]
           ],
           "sequentialminus": [
            [
             0,
             "#0d0887"
            ],
            [
             0.1111111111111111,
             "#46039f"
            ],
            [
             0.2222222222222222,
             "#7201a8"
            ],
            [
             0.3333333333333333,
             "#9c179e"
            ],
            [
             0.4444444444444444,
             "#bd3786"
            ],
            [
             0.5555555555555556,
             "#d8576b"
            ],
            [
             0.6666666666666666,
             "#ed7953"
            ],
            [
             0.7777777777777778,
             "#fb9f3a"
            ],
            [
             0.8888888888888888,
             "#fdca26"
            ],
            [
             1,
             "#f0f921"
            ]
           ]
          },
          "colorway": [
           "#636efa",
           "#EF553B",
           "#00cc96",
           "#ab63fa",
           "#FFA15A",
           "#19d3f3",
           "#FF6692",
           "#B6E880",
           "#FF97FF",
           "#FECB52"
          ],
          "font": {
           "color": "#2a3f5f"
          },
          "geo": {
           "bgcolor": "white",
           "lakecolor": "white",
           "landcolor": "#E5ECF6",
           "showlakes": true,
           "showland": true,
           "subunitcolor": "white"
          },
          "hoverlabel": {
           "align": "left"
          },
          "hovermode": "closest",
          "mapbox": {
           "style": "light"
          },
          "paper_bgcolor": "white",
          "plot_bgcolor": "#E5ECF6",
          "polar": {
           "angularaxis": {
            "gridcolor": "white",
            "linecolor": "white",
            "ticks": ""
           },
           "bgcolor": "#E5ECF6",
           "radialaxis": {
            "gridcolor": "white",
            "linecolor": "white",
            "ticks": ""
           }
          },
          "scene": {
           "xaxis": {
            "backgroundcolor": "#E5ECF6",
            "gridcolor": "white",
            "gridwidth": 2,
            "linecolor": "white",
            "showbackground": true,
            "ticks": "",
            "zerolinecolor": "white"
           },
           "yaxis": {
            "backgroundcolor": "#E5ECF6",
            "gridcolor": "white",
            "gridwidth": 2,
            "linecolor": "white",
            "showbackground": true,
            "ticks": "",
            "zerolinecolor": "white"
           },
           "zaxis": {
            "backgroundcolor": "#E5ECF6",
            "gridcolor": "white",
            "gridwidth": 2,
            "linecolor": "white",
            "showbackground": true,
            "ticks": "",
            "zerolinecolor": "white"
           }
          },
          "shapedefaults": {
           "line": {
            "color": "#2a3f5f"
           }
          },
          "ternary": {
           "aaxis": {
            "gridcolor": "white",
            "linecolor": "white",
            "ticks": ""
           },
           "baxis": {
            "gridcolor": "white",
            "linecolor": "white",
            "ticks": ""
           },
           "bgcolor": "#E5ECF6",
           "caxis": {
            "gridcolor": "white",
            "linecolor": "white",
            "ticks": ""
           }
          },
          "title": {
           "x": 0.05
          },
          "xaxis": {
           "automargin": true,
           "gridcolor": "white",
           "linecolor": "white",
           "ticks": "",
           "title": {
            "standoff": 15
           },
           "zerolinecolor": "white",
           "zerolinewidth": 2
          },
          "yaxis": {
           "automargin": true,
           "gridcolor": "white",
           "linecolor": "white",
           "ticks": "",
           "title": {
            "standoff": 15
           },
           "zerolinecolor": "white",
           "zerolinewidth": 2
          }
         }
        },
        "xaxis": {
         "autorange": true,
         "range": [
          -1,
          6
         ]
        },
        "yaxis": {
         "autorange": true,
         "range": [
          -1,
          4
         ]
        }
       }
      },
      "image/png": "[encoded data removed]",
      "text/html": [
       "<div>                            <div id=\"0651e971-0c2e-4b3f-93ce-b5d881c6b9e3\" class=\"plotly-graph-div\" style=\"height:525px; width:100%;\"></div>            <script type=\"text/javascript\">                require([\"plotly\"], function(Plotly) {                    window.PLOTLYENV=window.PLOTLYENV || {};                                    if (document.getElementById(\"0651e971-0c2e-4b3f-93ce-b5d881c6b9e3\")) {                    Plotly.newPlot(                        \"0651e971-0c2e-4b3f-93ce-b5d881c6b9e3\",                        [],                        {\"template\":{\"data\":{\"histogram2dcontour\":[{\"type\":\"histogram2dcontour\",\"colorbar\":{\"outlinewidth\":0,\"ticks\":\"\"},\"colorscale\":[[0.0,\"#0d0887\"],[0.1111111111111111,\"#46039f\"],[0.2222222222222222,\"#7201a8\"],[0.3333333333333333,\"#9c179e\"],[0.4444444444444444,\"#bd3786\"],[0.5555555555555556,\"#d8576b\"],[0.6666666666666666,\"#ed7953\"],[0.7777777777777778,\"#fb9f3a\"],[0.8888888888888888,\"#fdca26\"],[1.0,\"#f0f921\"]]}],\"choropleth\":[{\"type\":\"choropleth\",\"colorbar\":{\"outlinewidth\":0,\"ticks\":\"\"}}],\"histogram2d\":[{\"type\":\"histogram2d\",\"colorbar\":{\"outlinewidth\":0,\"ticks\":\"\"},\"colorscale\":[[0.0,\"#0d0887\"],[0.1111111111111111,\"#46039f\"],[0.2222222222222222,\"#7201a8\"],[0.3333333333333333,\"#9c179e\"],[0.4444444444444444,\"#bd3786\"],[0.5555555555555556,\"#d8576b\"],[0.6666666666666666,\"#ed7953\"],[0.7777777777777778,\"#fb9f3a\"],[0.8888888888888888,\"#fdca26\"],[1.0,\"#f0f921\"]]}],\"heatmap\":[{\"type\":\"heatmap\",\"colorbar\":{\"outlinewidth\":0,\"ticks\":\"\"},\"colorscale\":[[0.0,\"#0d0887\"],[0.1111111111111111,\"#46039f\"],[0.2222222222222222,\"#7201a8\"],[0.3333333333333333,\"#9c179e\"],[0.4444444444444444,\"#bd3786\"],[0.5555555555555556,\"#d8576b\"],[0.6666666666666666,\"#ed7953\"],[0.7777777777777778,\"#fb9f3a\"],[0.8888888888888888,\"#fdca26\"],[1.0,\"#f0f921\"]]}],\"heatmapgl\":[{\"type\":\"heatmapgl\",\"colorbar\":{\"outlinewidth\":0,\"ticks\":\"\"},\"colorscale\":[[0.0,\"#0d0887\"],[0.1111111111111111,\"#46039f\"],[0.2222222222222222,\"#7201a8\"],[0.3333333333333333,\"#9c179e\"],[0.4444444444444444,\"#bd3786\"],[0.5555555555555556,\"#d8576b\"],[0.6666666666666666,\"#ed7953\"],[0.7777777777777778,\"#fb9f3a\"],[0.8888888888888888,\"#fdca26\"],[1.0,\"#f0f921\"]]}],\"contourcarpet\":[{\"type\":\"contourcarpet\",\"colorbar\":{\"outlinewidth\":0,\"ticks\":\"\"}}],\"contour\":[{\"type\":\"contour\",\"colorbar\":{\"outlinewidth\":0,\"ticks\":\"\"},\"colorscale\":[[0.0,\"#0d0887\"],[0.1111111111111111,\"#46039f\"],[0.2222222222222222,\"#7201a8\"],[0.3333333333333333,\"#9c179e\"],[0.4444444444444444,\"#bd3786\"],[0.5555555555555556,\"#d8576b\"],[0.6666666666666666,\"#ed7953\"],[0.7777777777777778,\"#fb9f3a\"],[0.8888888888888888,\"#fdca26\"],[1.0,\"#f0f921\"]]}],\"surface\":[{\"type\":\"surface\",\"colorbar\":{\"outlinewidth\":0,\"ticks\":\"\"},\"colorscale\":[[0.0,\"#0d0887\"],[0.1111111111111111,\"#46039f\"],[0.2222222222222222,\"#7201a8\"],[0.3333333333333333,\"#9c179e\"],[0.4444444444444444,\"#bd3786\"],[0.5555555555555556,\"#d8576b\"],[0.6666666666666666,\"#ed7953\"],[0.7777777777777778,\"#fb9f3a\"],[0.8888888888888888,\"#fdca26\"],[1.0,\"#f0f921\"]]}],\"mesh3d\":[{\"type\":\"mesh3d\",\"colorbar\":{\"outlinewidth\":0,\"ticks\":\"\"}}],\"scatter\":[{\"fillpattern\":{\"fillmode\":\"overlay\",\"size\":10,\"solidity\":0.2},\"type\":\"scatter\"}],\"parcoords\":[{\"type\":\"parcoords\",\"line\":{\"colorbar\":{\"outlinewidth\":0,\"ticks\":\"\"}}}],\"scatterpolargl\":[{\"type\":\"scatterpolargl\",\"marker\":{\"colorbar\":{\"outlinewidth\":0,\"ticks\":\"\"}}}],\"bar\":[{\"error_x\":{\"color\":\"#2a3f5f\"},\"error_y\":{\"color\":\"#2a3f5f\"},\"marker\":{\"line\":{\"color\":\"#E5ECF6\",\"width\":0.5},\"pattern\":{\"fillmode\":\"overlay\",\"size\":10,\"solidity\":0.2}},\"type\":\"bar\"}],\"scattergeo\":[{\"type\":\"scattergeo\",\"marker\":{\"colorbar\":{\"outlinewidth\":0,\"ticks\":\"\"}}}],\"scatterpolar\":[{\"type\":\"scatterpolar\",\"marker\":{\"colorbar\":{\"outlinewidth\":0,\"ticks\":\"\"}}}],\"histogram\":[{\"marker\":{\"pattern\":{\"fillmode\":\"overlay\",\"size\":10,\"solidity\":0.2}},\"type\":\"histogram\"}],\"scattergl\":[{\"type\":\"scattergl\",\"marker\":{\"colorbar\":{\"outlinewidth\":0,\"ticks\":\"\"}}}],\"scatter3d\":[{\"type\":\"scatter3d\",\"line\":{\"colorbar\":{\"outlinewidth\":0,\"ticks\":\"\"}},\"marker\":{\"colorbar\":{\"outlinewidth\":0,\"ticks\":\"\"}}}],\"scattermapbox\":[{\"type\":\"scattermapbox\",\"marker\":{\"colorbar\":{\"outlinewidth\":0,\"ticks\":\"\"}}}],\"scatterternary\":[{\"type\":\"scatterternary\",\"marker\":{\"colorbar\":{\"outlinewidth\":0,\"ticks\":\"\"}}}],\"scattercarpet\":[{\"type\":\"scattercarpet\",\"marker\":{\"colorbar\":{\"outlinewidth\":0,\"ticks\":\"\"}}}],\"carpet\":[{\"aaxis\":{\"endlinecolor\":\"#2a3f5f\",\"gridcolor\":\"white\",\"linecolor\":\"white\",\"minorgridcolor\":\"white\",\"startlinecolor\":\"#2a3f5f\"},\"baxis\":{\"endlinecolor\":\"#2a3f5f\",\"gridcolor\":\"white\",\"linecolor\":\"white\",\"minorgridcolor\":\"white\",\"startlinecolor\":\"#2a3f5f\"},\"type\":\"carpet\"}],\"table\":[{\"cells\":{\"fill\":{\"color\":\"#EBF0F8\"},\"line\":{\"color\":\"white\"}},\"header\":{\"fill\":{\"color\":\"#C8D4E3\"},\"line\":{\"color\":\"white\"}},\"type\":\"table\"}],\"barpolar\":[{\"marker\":{\"line\":{\"color\":\"#E5ECF6\",\"width\":0.5},\"pattern\":{\"fillmode\":\"overlay\",\"size\":10,\"solidity\":0.2}},\"type\":\"barpolar\"}],\"pie\":[{\"automargin\":true,\"type\":\"pie\"}]},\"layout\":{\"autotypenumbers\":\"strict\",\"colorway\":[\"#636efa\",\"#EF553B\",\"#00cc96\",\"#ab63fa\",\"#FFA15A\",\"#19d3f3\",\"#FF6692\",\"#B6E880\",\"#FF97FF\",\"#FECB52\"],\"font\":{\"color\":\"#2a3f5f\"},\"hovermode\":\"closest\",\"hoverlabel\":{\"align\":\"left\"},\"paper_bgcolor\":\"white\",\"plot_bgcolor\":\"#E5ECF6\",\"polar\":{\"bgcolor\":\"#E5ECF6\",\"angularaxis\":{\"gridcolor\":\"white\",\"linecolor\":\"white\",\"ticks\":\"\"},\"radialaxis\":{\"gridcolor\":\"white\",\"linecolor\":\"white\",\"ticks\":\"\"}},\"ternary\":{\"bgcolor\":\"#E5ECF6\",\"aaxis\":{\"gridcolor\":\"white\",\"linecolor\":\"white\",\"ticks\":\"\"},\"baxis\":{\"gridcolor\":\"white\",\"linecolor\":\"white\",\"ticks\":\"\"},\"caxis\":{\"gridcolor\":\"white\",\"linecolor\":\"white\",\"ticks\":\"\"}},\"coloraxis\":{\"colorbar\":{\"outlinewidth\":0,\"ticks\":\"\"}},\"colorscale\":{\"sequential\":[[0.0,\"#0d0887\"],[0.1111111111111111,\"#46039f\"],[0.2222222222222222,\"#7201a8\"],[0.3333333333333333,\"#9c179e\"],[0.4444444444444444,\"#bd3786\"],[0.5555555555555556,\"#d8576b\"],[0.6666666666666666,\"#ed7953\"],[0.7777777777777778,\"#fb9f3a\"],[0.8888888888888888,\"#fdca26\"],[1.0,\"#f0f921\"]],\"sequentialminus\":[[0.0,\"#0d0887\"],[0.1111111111111111,\"#46039f\"],[0.2222222222222222,\"#7201a8\"],[0.3333333333333333,\"#9c179e\"],[0.4444444444444444,\"#bd3786\"],[0.5555555555555556,\"#d8576b\"],[0.6666666666666666,\"#ed7953\"],[0.7777777777777778,\"#fb9f3a\"],[0.8888888888888888,\"#fdca26\"],[1.0,\"#f0f921\"]],\"diverging\":[[0,\"#8e0152\"],[0.1,\"#c51b7d\"],[0.2,\"#de77ae\"],[0.3,\"#f1b6da\"],[0.4,\"#fde0ef\"],[0.5,\"#f7f7f7\"],[0.6,\"#e6f5d0\"],[0.7,\"#b8e186\"],[0.8,\"#7fbc41\"],[0.9,\"#4d9221\"],[1,\"#276419\"]]},\"xaxis\":{\"gridcolor\":\"white\",\"linecolor\":\"white\",\"ticks\":\"\",\"title\":{\"standoff\":15},\"zerolinecolor\":\"white\",\"automargin\":true,\"zerolinewidth\":2},\"yaxis\":{\"gridcolor\":\"white\",\"linecolor\":\"white\",\"ticks\":\"\",\"title\":{\"standoff\":15},\"zerolinecolor\":\"white\",\"automargin\":true,\"zerolinewidth\":2},\"scene\":{\"xaxis\":{\"backgroundcolor\":\"#E5ECF6\",\"gridcolor\":\"white\",\"linecolor\":\"white\",\"showbackground\":true,\"ticks\":\"\",\"zerolinecolor\":\"white\",\"gridwidth\":2},\"yaxis\":{\"backgroundcolor\":\"#E5ECF6\",\"gridcolor\":\"white\",\"linecolor\":\"white\",\"showbackground\":true,\"ticks\":\"\",\"zerolinecolor\":\"white\",\"gridwidth\":2},\"zaxis\":{\"backgroundcolor\":\"#E5ECF6\",\"gridcolor\":\"white\",\"linecolor\":\"white\",\"showbackground\":true,\"ticks\":\"\",\"zerolinecolor\":\"white\",\"gridwidth\":2}},\"shapedefaults\":{\"line\":{\"color\":\"#2a3f5f\"}},\"annotationdefaults\":{\"arrowcolor\":\"#2a3f5f\",\"arrowhead\":0,\"arrowwidth\":1},\"geo\":{\"bgcolor\":\"white\",\"landcolor\":\"#E5ECF6\",\"subunitcolor\":\"white\",\"showland\":true,\"showlakes\":true,\"lakecolor\":\"white\"},\"title\":{\"x\":0.05},\"mapbox\":{\"style\":\"light\"}}},\"polar\":{\"domain\":{\"x\":[0.0,1.0],\"y\":[0.0,1.0]},\"angularaxis\":{\"direction\":\"clockwise\",\"rotation\":90}},\"legend\":{\"tracegroupgap\":0},\"margin\":{\"t\":60}},                        {\"responsive\": true}                    ).then(function(){\n",
       "                            \n",
       "var gd = document.getElementById('0651e971-0c2e-4b3f-93ce-b5d881c6b9e3');\n",
       "var x = new MutationObserver(function (mutations, observer) {{\n",
       "        var display = window.getComputedStyle(gd).display;\n",
       "        if (!display || display === 'none') {{\n",
       "            console.log([gd, 'removed!']);\n",
       "            Plotly.purge(gd);\n",
       "            observer.disconnect();\n",
       "        }}\n",
       "}});\n",
       "\n",
       "// Listen for the removal of the full notebook cells\n",
       "var notebookContainer = gd.closest('#notebook-container');\n",
       "if (notebookContainer) {{\n",
       "    x.observe(notebookContainer, {childList: true});\n",
       "}}\n",
       "\n",
       "// Listen for the clearing of the current output cell\n",
       "var outputEl = gd.closest('.output');\n",
       "if (outputEl) {{\n",
       "    x.observe(outputEl, {childList: true});\n",
       "}}\n",
       "\n",
       "                        })                };                });            </script>        </div>"
      ]
     },
     "metadata": {},
     "output_type": "display_data"
    }
   ],
   "source": [
    "import plotly.express as px\n",
    "fig = px.line_polar(clusterzero, line_close=True) \n",
    "fig.show()"
   ]
  },
  {
   "cell_type": "code",
   "execution_count": null,
   "metadata": {},
   "outputs": [],
   "source": []
  },
  {
   "cell_type": "code",
   "execution_count": 58,
   "metadata": {},
   "outputs": [],
   "source": [
    "km = KMeans(n_clusters=3, # how many clusters we expected \n",
    "            n_init=10, # how many initial runs\n",
    "            random_state=0)"
   ]
  },
  {
   "cell_type": "code",
   "execution_count": 59,
   "metadata": {},
   "outputs": [
    {
     "data": {
      "application/vnd.plotly.v1+json": {
       "config": {
        "plotlyServerURL": "https://plot.ly"
       },
       "data": [
        {
         "fill": "toself",
         "r": [
          0.18139944643687092,
          0.4342105263157895,
          0.5555555555555556,
          0.2,
          0.3333333333333333,
          0,
          1,
          0
         ],
         "showlegend": true,
         "theta": [
          "income",
          "age",
          "years_with_bank",
          "nbr_children",
          "marital_status",
          "gender_F ",
          "gender_M ",
          "cluster"
         ],
         "type": "scatterpolar"
        },
        {
         "fill": "toself",
         "r": [
          0.04581810109810831,
          0.763157894736842,
          0.1111111111111111,
          0,
          0.3333333333333333,
          0,
          1,
          0
         ],
         "showlegend": true,
         "theta": [
          "income",
          "age",
          "years_with_bank",
          "nbr_children",
          "marital_status",
          "gender_F ",
          "gender_M ",
          "cluster"
         ],
         "type": "scatterpolar"
        },
        {
         "fill": "toself",
         "r": [
          0.12866527466581573,
          0.32894736842105265,
          0.8888888888888888,
          0,
          0,
          1,
          0,
          2
         ],
         "showlegend": true,
         "theta": [
          "income",
          "age",
          "years_with_bank",
          "nbr_children",
          "marital_status",
          "gender_F ",
          "gender_M ",
          "cluster"
         ],
         "type": "scatterpolar"
        }
       ],
       "layout": {
        "autosize": true,
        "polar": {
         "angularaxis": {
          "type": "category"
         },
         "radialaxis": {
          "autorange": false,
          "range": [
           0,
           2
          ],
          "type": "linear",
          "visible": true
         }
        },
        "template": {
         "data": {
          "bar": [
           {
            "error_x": {
             "color": "#2a3f5f"
            },
            "error_y": {
             "color": "#2a3f5f"
            },
            "marker": {
             "line": {
              "color": "#E5ECF6",
              "width": 0.5
             },
             "pattern": {
              "fillmode": "overlay",
              "size": 10,
              "solidity": 0.2
             }
            },
            "type": "bar"
           }
          ],
          "barpolar": [
           {
            "marker": {
             "line": {
              "color": "#E5ECF6",
              "width": 0.5
             },
             "pattern": {
              "fillmode": "overlay",
              "size": 10,
              "solidity": 0.2
             }
            },
            "type": "barpolar"
           }
          ],
          "carpet": [
           {
            "aaxis": {
             "endlinecolor": "#2a3f5f",
             "gridcolor": "white",
             "linecolor": "white",
             "minorgridcolor": "white",
             "startlinecolor": "#2a3f5f"
            },
            "baxis": {
             "endlinecolor": "#2a3f5f",
             "gridcolor": "white",
             "linecolor": "white",
             "minorgridcolor": "white",
             "startlinecolor": "#2a3f5f"
            },
            "type": "carpet"
           }
          ],
          "choropleth": [
           {
            "colorbar": {
             "outlinewidth": 0,
             "ticks": ""
            },
            "type": "choropleth"
           }
          ],
          "contour": [
           {
            "colorbar": {
             "outlinewidth": 0,
             "ticks": ""
            },
            "colorscale": [
             [
              0,
              "#0d0887"
             ],
             [
              0.1111111111111111,
              "#46039f"
             ],
             [
              0.2222222222222222,
              "#7201a8"
             ],
             [
              0.3333333333333333,
              "#9c179e"
             ],
             [
              0.4444444444444444,
              "#bd3786"
             ],
             [
              0.5555555555555556,
              "#d8576b"
             ],
             [
              0.6666666666666666,
              "#ed7953"
             ],
             [
              0.7777777777777778,
              "#fb9f3a"
             ],
             [
              0.8888888888888888,
              "#fdca26"
             ],
             [
              1,
              "#f0f921"
             ]
            ],
            "type": "contour"
           }
          ],
          "contourcarpet": [
           {
            "colorbar": {
             "outlinewidth": 0,
             "ticks": ""
            },
            "type": "contourcarpet"
           }
          ],
          "heatmap": [
           {
            "colorbar": {
             "outlinewidth": 0,
             "ticks": ""
            },
            "colorscale": [
             [
              0,
              "#0d0887"
             ],
             [
              0.1111111111111111,
              "#46039f"
             ],
             [
              0.2222222222222222,
              "#7201a8"
             ],
             [
              0.3333333333333333,
              "#9c179e"
             ],
             [
              0.4444444444444444,
              "#bd3786"
             ],
             [
              0.5555555555555556,
              "#d8576b"
             ],
             [
              0.6666666666666666,
              "#ed7953"
             ],
             [
              0.7777777777777778,
              "#fb9f3a"
             ],
             [
              0.8888888888888888,
              "#fdca26"
             ],
             [
              1,
              "#f0f921"
             ]
            ],
            "type": "heatmap"
           }
          ],
          "heatmapgl": [
           {
            "colorbar": {
             "outlinewidth": 0,
             "ticks": ""
            },
            "colorscale": [
             [
              0,
              "#0d0887"
             ],
             [
              0.1111111111111111,
              "#46039f"
             ],
             [
              0.2222222222222222,
              "#7201a8"
             ],
             [
              0.3333333333333333,
              "#9c179e"
             ],
             [
              0.4444444444444444,
              "#bd3786"
             ],
             [
              0.5555555555555556,
              "#d8576b"
             ],
             [
              0.6666666666666666,
              "#ed7953"
             ],
             [
              0.7777777777777778,
              "#fb9f3a"
             ],
             [
              0.8888888888888888,
              "#fdca26"
             ],
             [
              1,
              "#f0f921"
             ]
            ],
            "type": "heatmapgl"
           }
          ],
          "histogram": [
           {
            "marker": {
             "pattern": {
              "fillmode": "overlay",
              "size": 10,
              "solidity": 0.2
             }
            },
            "type": "histogram"
           }
          ],
          "histogram2d": [
           {
            "colorbar": {
             "outlinewidth": 0,
             "ticks": ""
            },
            "colorscale": [
             [
              0,
              "#0d0887"
             ],
             [
              0.1111111111111111,
              "#46039f"
             ],
             [
              0.2222222222222222,
              "#7201a8"
             ],
             [
              0.3333333333333333,
              "#9c179e"
             ],
             [
              0.4444444444444444,
              "#bd3786"
             ],
             [
              0.5555555555555556,
              "#d8576b"
             ],
             [
              0.6666666666666666,
              "#ed7953"
             ],
             [
              0.7777777777777778,
              "#fb9f3a"
             ],
             [
              0.8888888888888888,
              "#fdca26"
             ],
             [
              1,
              "#f0f921"
             ]
            ],
            "type": "histogram2d"
           }
          ],
          "histogram2dcontour": [
           {
            "colorbar": {
             "outlinewidth": 0,
             "ticks": ""
            },
            "colorscale": [
             [
              0,
              "#0d0887"
             ],
             [
              0.1111111111111111,
              "#46039f"
             ],
             [
              0.2222222222222222,
              "#7201a8"
             ],
             [
              0.3333333333333333,
              "#9c179e"
             ],
             [
              0.4444444444444444,
              "#bd3786"
             ],
             [
              0.5555555555555556,
              "#d8576b"
             ],
             [
              0.6666666666666666,
              "#ed7953"
             ],
             [
              0.7777777777777778,
              "#fb9f3a"
             ],
             [
              0.8888888888888888,
              "#fdca26"
             ],
             [
              1,
              "#f0f921"
             ]
            ],
            "type": "histogram2dcontour"
           }
          ],
          "mesh3d": [
           {
            "colorbar": {
             "outlinewidth": 0,
             "ticks": ""
            },
            "type": "mesh3d"
           }
          ],
          "parcoords": [
           {
            "line": {
             "colorbar": {
              "outlinewidth": 0,
              "ticks": ""
             }
            },
            "type": "parcoords"
           }
          ],
          "pie": [
           {
            "automargin": true,
            "type": "pie"
           }
          ],
          "scatter": [
           {
            "fillpattern": {
             "fillmode": "overlay",
             "size": 10,
             "solidity": 0.2
            },
            "type": "scatter"
           }
          ],
          "scatter3d": [
           {
            "line": {
             "colorbar": {
              "outlinewidth": 0,
              "ticks": ""
             }
            },
            "marker": {
             "colorbar": {
              "outlinewidth": 0,
              "ticks": ""
             }
            },
            "type": "scatter3d"
           }
          ],
          "scattercarpet": [
           {
            "marker": {
             "colorbar": {
              "outlinewidth": 0,
              "ticks": ""
             }
            },
            "type": "scattercarpet"
           }
          ],
          "scattergeo": [
           {
            "marker": {
             "colorbar": {
              "outlinewidth": 0,
              "ticks": ""
             }
            },
            "type": "scattergeo"
           }
          ],
          "scattergl": [
           {
            "marker": {
             "colorbar": {
              "outlinewidth": 0,
              "ticks": ""
             }
            },
            "type": "scattergl"
           }
          ],
          "scattermapbox": [
           {
            "marker": {
             "colorbar": {
              "outlinewidth": 0,
              "ticks": ""
             }
            },
            "type": "scattermapbox"
           }
          ],
          "scatterpolar": [
           {
            "marker": {
             "colorbar": {
              "outlinewidth": 0,
              "ticks": ""
             }
            },
            "type": "scatterpolar"
           }
          ],
          "scatterpolargl": [
           {
            "marker": {
             "colorbar": {
              "outlinewidth": 0,
              "ticks": ""
             }
            },
            "type": "scatterpolargl"
           }
          ],
          "scatterternary": [
           {
            "marker": {
             "colorbar": {
              "outlinewidth": 0,
              "ticks": ""
             }
            },
            "type": "scatterternary"
           }
          ],
          "surface": [
           {
            "colorbar": {
             "outlinewidth": 0,
             "ticks": ""
            },
            "colorscale": [
             [
              0,
              "#0d0887"
             ],
             [
              0.1111111111111111,
              "#46039f"
             ],
             [
              0.2222222222222222,
              "#7201a8"
             ],
             [
              0.3333333333333333,
              "#9c179e"
             ],
             [
              0.4444444444444444,
              "#bd3786"
             ],
             [
              0.5555555555555556,
              "#d8576b"
             ],
             [
              0.6666666666666666,
              "#ed7953"
             ],
             [
              0.7777777777777778,
              "#fb9f3a"
             ],
             [
              0.8888888888888888,
              "#fdca26"
             ],
             [
              1,
              "#f0f921"
             ]
            ],
            "type": "surface"
           }
          ],
          "table": [
           {
            "cells": {
             "fill": {
              "color": "#EBF0F8"
             },
             "line": {
              "color": "white"
             }
            },
            "header": {
             "fill": {
              "color": "#C8D4E3"
             },
             "line": {
              "color": "white"
             }
            },
            "type": "table"
           }
          ]
         },
         "layout": {
          "annotationdefaults": {
           "arrowcolor": "#2a3f5f",
           "arrowhead": 0,
           "arrowwidth": 1
          },
          "autotypenumbers": "strict",
          "coloraxis": {
           "colorbar": {
            "outlinewidth": 0,
            "ticks": ""
           }
          },
          "colorscale": {
           "diverging": [
            [
             0,
             "#8e0152"
            ],
            [
             0.1,
             "#c51b7d"
            ],
            [
             0.2,
             "#de77ae"
            ],
            [
             0.3,
             "#f1b6da"
            ],
            [
             0.4,
             "#fde0ef"
            ],
            [
             0.5,
             "#f7f7f7"
            ],
            [
             0.6,
             "#e6f5d0"
            ],
            [
             0.7,
             "#b8e186"
            ],
            [
             0.8,
             "#7fbc41"
            ],
            [
             0.9,
             "#4d9221"
            ],
            [
             1,
             "#276419"
            ]
           ],
           "sequential": [
            [
             0,
             "#0d0887"
            ],
            [
             0.1111111111111111,
             "#46039f"
            ],
            [
             0.2222222222222222,
             "#7201a8"
            ],
            [
             0.3333333333333333,
             "#9c179e"
            ],
            [
             0.4444444444444444,
             "#bd3786"
            ],
            [
             0.5555555555555556,
             "#d8576b"
            ],
            [
             0.6666666666666666,
             "#ed7953"
            ],
            [
             0.7777777777777778,
             "#fb9f3a"
            ],
            [
             0.8888888888888888,
             "#fdca26"
            ],
            [
             1,
             "#f0f921"
            ]
           ],
           "sequentialminus": [
            [
             0,
             "#0d0887"
            ],
            [
             0.1111111111111111,
             "#46039f"
            ],
            [
             0.2222222222222222,
             "#7201a8"
            ],
            [
             0.3333333333333333,
             "#9c179e"
            ],
            [
             0.4444444444444444,
             "#bd3786"
            ],
            [
             0.5555555555555556,
             "#d8576b"
            ],
            [
             0.6666666666666666,
             "#ed7953"
            ],
            [
             0.7777777777777778,
             "#fb9f3a"
            ],
            [
             0.8888888888888888,
             "#fdca26"
            ],
            [
             1,
             "#f0f921"
            ]
           ]
          },
          "colorway": [
           "#636efa",
           "#EF553B",
           "#00cc96",
           "#ab63fa",
           "#FFA15A",
           "#19d3f3",
           "#FF6692",
           "#B6E880",
           "#FF97FF",
           "#FECB52"
          ],
          "font": {
           "color": "#2a3f5f"
          },
          "geo": {
           "bgcolor": "white",
           "lakecolor": "white",
           "landcolor": "#E5ECF6",
           "showlakes": true,
           "showland": true,
           "subunitcolor": "white"
          },
          "hoverlabel": {
           "align": "left"
          },
          "hovermode": "closest",
          "mapbox": {
           "style": "light"
          },
          "paper_bgcolor": "white",
          "plot_bgcolor": "#E5ECF6",
          "polar": {
           "angularaxis": {
            "gridcolor": "white",
            "linecolor": "white",
            "ticks": ""
           },
           "bgcolor": "#E5ECF6",
           "radialaxis": {
            "gridcolor": "white",
            "linecolor": "white",
            "ticks": ""
           }
          },
          "scene": {
           "xaxis": {
            "backgroundcolor": "#E5ECF6",
            "gridcolor": "white",
            "gridwidth": 2,
            "linecolor": "white",
            "showbackground": true,
            "ticks": "",
            "zerolinecolor": "white"
           },
           "yaxis": {
            "backgroundcolor": "#E5ECF6",
            "gridcolor": "white",
            "gridwidth": 2,
            "linecolor": "white",
            "showbackground": true,
            "ticks": "",
            "zerolinecolor": "white"
           },
           "zaxis": {
            "backgroundcolor": "#E5ECF6",
            "gridcolor": "white",
            "gridwidth": 2,
            "linecolor": "white",
            "showbackground": true,
            "ticks": "",
            "zerolinecolor": "white"
           }
          },
          "shapedefaults": {
           "line": {
            "color": "#2a3f5f"
           }
          },
          "ternary": {
           "aaxis": {
            "gridcolor": "white",
            "linecolor": "white",
            "ticks": ""
           },
           "baxis": {
            "gridcolor": "white",
            "linecolor": "white",
            "ticks": ""
           },
           "bgcolor": "#E5ECF6",
           "caxis": {
            "gridcolor": "white",
            "linecolor": "white",
            "ticks": ""
           }
          },
          "title": {
           "x": 0.05
          },
          "xaxis": {
           "automargin": true,
           "gridcolor": "white",
           "linecolor": "white",
           "ticks": "",
           "title": {
            "standoff": 15
           },
           "zerolinecolor": "white",
           "zerolinewidth": 2
          },
          "yaxis": {
           "automargin": true,
           "gridcolor": "white",
           "linecolor": "white",
           "ticks": "",
           "title": {
            "standoff": 15
           },
           "zerolinecolor": "white",
           "zerolinewidth": 2
          }
         }
        },
        "title": {
         "text": "Wine Variables According to Wine Categories"
        }
       }
      },
      "image/png": "[encoded data removed]",
      "text/html": [
       "<div>                            <div id=\"6f3b9907-e531-4936-90e0-2fb4efea73b0\" class=\"plotly-graph-div\" style=\"height:525px; width:100%;\"></div>            <script type=\"text/javascript\">                require([\"plotly\"], function(Plotly) {                    window.PLOTLYENV=window.PLOTLYENV || {};                                    if (document.getElementById(\"6f3b9907-e531-4936-90e0-2fb4efea73b0\")) {                    Plotly.newPlot(                        \"6f3b9907-e531-4936-90e0-2fb4efea73b0\",                        [{\"fill\":\"toself\",\"r\":[0.18139944643687092,0.4342105263157895,0.5555555555555556,0.2,0.3333333333333333,0.0,1.0,0.0],\"showlegend\":true,\"theta\":[\"income\",\"age\",\"years_with_bank\",\"nbr_children\",\"marital_status\",\"gender_F \",\"gender_M \",\"cluster\"],\"type\":\"scatterpolar\"},{\"fill\":\"toself\",\"r\":[0.04581810109810831,0.763157894736842,0.1111111111111111,0.0,0.3333333333333333,0.0,1.0,0.0],\"showlegend\":true,\"theta\":[\"income\",\"age\",\"years_with_bank\",\"nbr_children\",\"marital_status\",\"gender_F \",\"gender_M \",\"cluster\"],\"type\":\"scatterpolar\"},{\"fill\":\"toself\",\"r\":[0.12866527466581573,0.32894736842105265,0.8888888888888888,0.0,0.0,1.0,0.0,2.0],\"showlegend\":true,\"theta\":[\"income\",\"age\",\"years_with_bank\",\"nbr_children\",\"marital_status\",\"gender_F \",\"gender_M \",\"cluster\"],\"type\":\"scatterpolar\"}],                        {\"template\":{\"data\":{\"histogram2dcontour\":[{\"type\":\"histogram2dcontour\",\"colorbar\":{\"outlinewidth\":0,\"ticks\":\"\"},\"colorscale\":[[0.0,\"#0d0887\"],[0.1111111111111111,\"#46039f\"],[0.2222222222222222,\"#7201a8\"],[0.3333333333333333,\"#9c179e\"],[0.4444444444444444,\"#bd3786\"],[0.5555555555555556,\"#d8576b\"],[0.6666666666666666,\"#ed7953\"],[0.7777777777777778,\"#fb9f3a\"],[0.8888888888888888,\"#fdca26\"],[1.0,\"#f0f921\"]]}],\"choropleth\":[{\"type\":\"choropleth\",\"colorbar\":{\"outlinewidth\":0,\"ticks\":\"\"}}],\"histogram2d\":[{\"type\":\"histogram2d\",\"colorbar\":{\"outlinewidth\":0,\"ticks\":\"\"},\"colorscale\":[[0.0,\"#0d0887\"],[0.1111111111111111,\"#46039f\"],[0.2222222222222222,\"#7201a8\"],[0.3333333333333333,\"#9c179e\"],[0.4444444444444444,\"#bd3786\"],[0.5555555555555556,\"#d8576b\"],[0.6666666666666666,\"#ed7953\"],[0.7777777777777778,\"#fb9f3a\"],[0.8888888888888888,\"#fdca26\"],[1.0,\"#f0f921\"]]}],\"heatmap\":[{\"type\":\"heatmap\",\"colorbar\":{\"outlinewidth\":0,\"ticks\":\"\"},\"colorscale\":[[0.0,\"#0d0887\"],[0.1111111111111111,\"#46039f\"],[0.2222222222222222,\"#7201a8\"],[0.3333333333333333,\"#9c179e\"],[0.4444444444444444,\"#bd3786\"],[0.5555555555555556,\"#d8576b\"],[0.6666666666666666,\"#ed7953\"],[0.7777777777777778,\"#fb9f3a\"],[0.8888888888888888,\"#fdca26\"],[1.0,\"#f0f921\"]]}],\"heatmapgl\":[{\"type\":\"heatmapgl\",\"colorbar\":{\"outlinewidth\":0,\"ticks\":\"\"},\"colorscale\":[[0.0,\"#0d0887\"],[0.1111111111111111,\"#46039f\"],[0.2222222222222222,\"#7201a8\"],[0.3333333333333333,\"#9c179e\"],[0.4444444444444444,\"#bd3786\"],[0.5555555555555556,\"#d8576b\"],[0.6666666666666666,\"#ed7953\"],[0.7777777777777778,\"#fb9f3a\"],[0.8888888888888888,\"#fdca26\"],[1.0,\"#f0f921\"]]}],\"contourcarpet\":[{\"type\":\"contourcarpet\",\"colorbar\":{\"outlinewidth\":0,\"ticks\":\"\"}}],\"contour\":[{\"type\":\"contour\",\"colorbar\":{\"outlinewidth\":0,\"ticks\":\"\"},\"colorscale\":[[0.0,\"#0d0887\"],[0.1111111111111111,\"#46039f\"],[0.2222222222222222,\"#7201a8\"],[0.3333333333333333,\"#9c179e\"],[0.4444444444444444,\"#bd3786\"],[0.5555555555555556,\"#d8576b\"],[0.6666666666666666,\"#ed7953\"],[0.7777777777777778,\"#fb9f3a\"],[0.8888888888888888,\"#fdca26\"],[1.0,\"#f0f921\"]]}],\"surface\":[{\"type\":\"surface\",\"colorbar\":{\"outlinewidth\":0,\"ticks\":\"\"},\"colorscale\":[[0.0,\"#0d0887\"],[0.1111111111111111,\"#46039f\"],[0.2222222222222222,\"#7201a8\"],[0.3333333333333333,\"#9c179e\"],[0.4444444444444444,\"#bd3786\"],[0.5555555555555556,\"#d8576b\"],[0.6666666666666666,\"#ed7953\"],[0.7777777777777778,\"#fb9f3a\"],[0.8888888888888888,\"#fdca26\"],[1.0,\"#f0f921\"]]}],\"mesh3d\":[{\"type\":\"mesh3d\",\"colorbar\":{\"outlinewidth\":0,\"ticks\":\"\"}}],\"scatter\":[{\"fillpattern\":{\"fillmode\":\"overlay\",\"size\":10,\"solidity\":0.2},\"type\":\"scatter\"}],\"parcoords\":[{\"type\":\"parcoords\",\"line\":{\"colorbar\":{\"outlinewidth\":0,\"ticks\":\"\"}}}],\"scatterpolargl\":[{\"type\":\"scatterpolargl\",\"marker\":{\"colorbar\":{\"outlinewidth\":0,\"ticks\":\"\"}}}],\"bar\":[{\"error_x\":{\"color\":\"#2a3f5f\"},\"error_y\":{\"color\":\"#2a3f5f\"},\"marker\":{\"line\":{\"color\":\"#E5ECF6\",\"width\":0.5},\"pattern\":{\"fillmode\":\"overlay\",\"size\":10,\"solidity\":0.2}},\"type\":\"bar\"}],\"scattergeo\":[{\"type\":\"scattergeo\",\"marker\":{\"colorbar\":{\"outlinewidth\":0,\"ticks\":\"\"}}}],\"scatterpolar\":[{\"type\":\"scatterpolar\",\"marker\":{\"colorbar\":{\"outlinewidth\":0,\"ticks\":\"\"}}}],\"histogram\":[{\"marker\":{\"pattern\":{\"fillmode\":\"overlay\",\"size\":10,\"solidity\":0.2}},\"type\":\"histogram\"}],\"scattergl\":[{\"type\":\"scattergl\",\"marker\":{\"colorbar\":{\"outlinewidth\":0,\"ticks\":\"\"}}}],\"scatter3d\":[{\"type\":\"scatter3d\",\"line\":{\"colorbar\":{\"outlinewidth\":0,\"ticks\":\"\"}},\"marker\":{\"colorbar\":{\"outlinewidth\":0,\"ticks\":\"\"}}}],\"scattermapbox\":[{\"type\":\"scattermapbox\",\"marker\":{\"colorbar\":{\"outlinewidth\":0,\"ticks\":\"\"}}}],\"scatterternary\":[{\"type\":\"scatterternary\",\"marker\":{\"colorbar\":{\"outlinewidth\":0,\"ticks\":\"\"}}}],\"scattercarpet\":[{\"type\":\"scattercarpet\",\"marker\":{\"colorbar\":{\"outlinewidth\":0,\"ticks\":\"\"}}}],\"carpet\":[{\"aaxis\":{\"endlinecolor\":\"#2a3f5f\",\"gridcolor\":\"white\",\"linecolor\":\"white\",\"minorgridcolor\":\"white\",\"startlinecolor\":\"#2a3f5f\"},\"baxis\":{\"endlinecolor\":\"#2a3f5f\",\"gridcolor\":\"white\",\"linecolor\":\"white\",\"minorgridcolor\":\"white\",\"startlinecolor\":\"#2a3f5f\"},\"type\":\"carpet\"}],\"table\":[{\"cells\":{\"fill\":{\"color\":\"#EBF0F8\"},\"line\":{\"color\":\"white\"}},\"header\":{\"fill\":{\"color\":\"#C8D4E3\"},\"line\":{\"color\":\"white\"}},\"type\":\"table\"}],\"barpolar\":[{\"marker\":{\"line\":{\"color\":\"#E5ECF6\",\"width\":0.5},\"pattern\":{\"fillmode\":\"overlay\",\"size\":10,\"solidity\":0.2}},\"type\":\"barpolar\"}],\"pie\":[{\"automargin\":true,\"type\":\"pie\"}]},\"layout\":{\"autotypenumbers\":\"strict\",\"colorway\":[\"#636efa\",\"#EF553B\",\"#00cc96\",\"#ab63fa\",\"#FFA15A\",\"#19d3f3\",\"#FF6692\",\"#B6E880\",\"#FF97FF\",\"#FECB52\"],\"font\":{\"color\":\"#2a3f5f\"},\"hovermode\":\"closest\",\"hoverlabel\":{\"align\":\"left\"},\"paper_bgcolor\":\"white\",\"plot_bgcolor\":\"#E5ECF6\",\"polar\":{\"bgcolor\":\"#E5ECF6\",\"angularaxis\":{\"gridcolor\":\"white\",\"linecolor\":\"white\",\"ticks\":\"\"},\"radialaxis\":{\"gridcolor\":\"white\",\"linecolor\":\"white\",\"ticks\":\"\"}},\"ternary\":{\"bgcolor\":\"#E5ECF6\",\"aaxis\":{\"gridcolor\":\"white\",\"linecolor\":\"white\",\"ticks\":\"\"},\"baxis\":{\"gridcolor\":\"white\",\"linecolor\":\"white\",\"ticks\":\"\"},\"caxis\":{\"gridcolor\":\"white\",\"linecolor\":\"white\",\"ticks\":\"\"}},\"coloraxis\":{\"colorbar\":{\"outlinewidth\":0,\"ticks\":\"\"}},\"colorscale\":{\"sequential\":[[0.0,\"#0d0887\"],[0.1111111111111111,\"#46039f\"],[0.2222222222222222,\"#7201a8\"],[0.3333333333333333,\"#9c179e\"],[0.4444444444444444,\"#bd3786\"],[0.5555555555555556,\"#d8576b\"],[0.6666666666666666,\"#ed7953\"],[0.7777777777777778,\"#fb9f3a\"],[0.8888888888888888,\"#fdca26\"],[1.0,\"#f0f921\"]],\"sequentialminus\":[[0.0,\"#0d0887\"],[0.1111111111111111,\"#46039f\"],[0.2222222222222222,\"#7201a8\"],[0.3333333333333333,\"#9c179e\"],[0.4444444444444444,\"#bd3786\"],[0.5555555555555556,\"#d8576b\"],[0.6666666666666666,\"#ed7953\"],[0.7777777777777778,\"#fb9f3a\"],[0.8888888888888888,\"#fdca26\"],[1.0,\"#f0f921\"]],\"diverging\":[[0,\"#8e0152\"],[0.1,\"#c51b7d\"],[0.2,\"#de77ae\"],[0.3,\"#f1b6da\"],[0.4,\"#fde0ef\"],[0.5,\"#f7f7f7\"],[0.6,\"#e6f5d0\"],[0.7,\"#b8e186\"],[0.8,\"#7fbc41\"],[0.9,\"#4d9221\"],[1,\"#276419\"]]},\"xaxis\":{\"gridcolor\":\"white\",\"linecolor\":\"white\",\"ticks\":\"\",\"title\":{\"standoff\":15},\"zerolinecolor\":\"white\",\"automargin\":true,\"zerolinewidth\":2},\"yaxis\":{\"gridcolor\":\"white\",\"linecolor\":\"white\",\"ticks\":\"\",\"title\":{\"standoff\":15},\"zerolinecolor\":\"white\",\"automargin\":true,\"zerolinewidth\":2},\"scene\":{\"xaxis\":{\"backgroundcolor\":\"#E5ECF6\",\"gridcolor\":\"white\",\"linecolor\":\"white\",\"showbackground\":true,\"ticks\":\"\",\"zerolinecolor\":\"white\",\"gridwidth\":2},\"yaxis\":{\"backgroundcolor\":\"#E5ECF6\",\"gridcolor\":\"white\",\"linecolor\":\"white\",\"showbackground\":true,\"ticks\":\"\",\"zerolinecolor\":\"white\",\"gridwidth\":2},\"zaxis\":{\"backgroundcolor\":\"#E5ECF6\",\"gridcolor\":\"white\",\"linecolor\":\"white\",\"showbackground\":true,\"ticks\":\"\",\"zerolinecolor\":\"white\",\"gridwidth\":2}},\"shapedefaults\":{\"line\":{\"color\":\"#2a3f5f\"}},\"annotationdefaults\":{\"arrowcolor\":\"#2a3f5f\",\"arrowhead\":0,\"arrowwidth\":1},\"geo\":{\"bgcolor\":\"white\",\"landcolor\":\"#E5ECF6\",\"subunitcolor\":\"white\",\"showland\":true,\"showlakes\":true,\"lakecolor\":\"white\"},\"title\":{\"x\":0.05},\"mapbox\":{\"style\":\"light\"}}},\"polar\":{\"radialaxis\":{\"visible\":true,\"range\":[0,2]}},\"title\":{\"text\":\"Wine Variables According to Wine Categories\"}},                        {\"responsive\": true}                    ).then(function(){\n",
       "                            \n",
       "var gd = document.getElementById('6f3b9907-e531-4936-90e0-2fb4efea73b0');\n",
       "var x = new MutationObserver(function (mutations, observer) {{\n",
       "        var display = window.getComputedStyle(gd).display;\n",
       "        if (!display || display === 'none') {{\n",
       "            console.log([gd, 'removed!']);\n",
       "            Plotly.purge(gd);\n",
       "            observer.disconnect();\n",
       "        }}\n",
       "}});\n",
       "\n",
       "// Listen for the removal of the full notebook cells\n",
       "var notebookContainer = gd.closest('#notebook-container');\n",
       "if (notebookContainer) {{\n",
       "    x.observe(notebookContainer, {childList: true});\n",
       "}}\n",
       "\n",
       "// Listen for the clearing of the current output cell\n",
       "var outputEl = gd.closest('.output');\n",
       "if (outputEl) {{\n",
       "    x.observe(outputEl, {childList: true});\n",
       "}}\n",
       "\n",
       "                        })                };                });            </script>        </div>"
      ]
     },
     "metadata": {},
     "output_type": "display_data"
    }
   ],
   "source": [
    "fig = go.Figure()\n",
    "\n",
    "for i in range(3):\n",
    "    fig.add_trace(\n",
    "                go.Scatterpolar(\n",
    "                                r=final_data2_radar.loc[i].values,\n",
    "                                theta=final_data2_radar.columns,\n",
    "                                fill='toself',\n",
    "                                \n",
    "                                showlegend=True,\n",
    "                                )\n",
    "                )\n",
    "\n",
    "fig.update_layout(\n",
    "    polar=dict(\n",
    "        radialaxis=dict(\n",
    "                        visible=True,\n",
    "                        range=[0, 2]\n",
    "                    )\n",
    "            ),\n",
    "    title=\"Wine Variables According to Wine Categories\"\n",
    ")\n",
    "\n",
    "fig.show()"
   ]
  },
  {
   "cell_type": "code",
   "execution_count": 76,
   "metadata": {},
   "outputs": [
    {
     "data": {
      "application/vnd.plotly.v1+json": {
       "config": {
        "plotlyServerURL": "https://plot.ly"
       },
       "data": [
        {
         "fill": "toself",
         "name": "age",
         "r": [
          0.4342105263157895,
          0.763157894736842,
          0.32894736842105265,
          0.5394736842105263,
          0.6052631578947368,
          0.5263157894736842,
          0.03947368421052633,
          0.868421052631579,
          0.368421052631579,
          0.4342105263157895,
          0.21052631578947367,
          0.026315789473684237,
          0.4078947368421053,
          0.17105263157894735,
          0.5,
          0.026315789473684237,
          0.368421052631579,
          0.05263157894736842,
          0.6973684210526315,
          0.06578947368421054,
          0.48684210526315785,
          0.881578947368421,
          0.5921052631578947,
          0.4342105263157895,
          0.381578947368421,
          0.8026315789473684,
          0.11842105263157898,
          0.19736842105263158,
          0.5657894736842105,
          0.6710526315789473,
          0.618421052631579,
          0.513157894736842,
          0.2368421052631579,
          0.4342105263157895,
          0.35526315789473684,
          0.25,
          0.026315789473684237,
          0.5394736842105263,
          0.4605263157894737,
          0.15789473684210525,
          0.2894736842105263,
          0.22368421052631582,
          0.513157894736842,
          0.3026315789473684,
          0.513157894736842,
          0.9078947368421053,
          0.4078947368421053,
          0.13157894736842107,
          0.4473684210526315,
          0.39473684210526316,
          0,
          0,
          0.5657894736842105,
          0.5526315789473684,
          0.4342105263157895,
          0.6578947368421052,
          0.513157894736842,
          0.8421052631578947,
          0.3421052631578947,
          0.19736842105263158,
          0.2894736842105263,
          0.026315789473684237,
          0.21052631578947367,
          0.618421052631579,
          0.5921052631578947,
          0.2763157894736842,
          0.4736842105263158,
          0.2894736842105263,
          0.026315789473684237,
          0.06578947368421054,
          0.368421052631579,
          0.22368421052631582,
          0.6842105263157895,
          0.618421052631579,
          0.6973684210526315,
          0.3157894736842105,
          0.2763157894736842,
          0.5263157894736842,
          0.013157894736842118,
          0.19736842105263158,
          0.368421052631579,
          0.5657894736842105,
          0.381578947368421,
          0.026315789473684237,
          0.7368421052631579,
          0.32894736842105265,
          0.631578947368421,
          0.5263157894736842,
          0.22368421052631582,
          0.4736842105263158,
          0.368421052631579,
          0,
          0.026315789473684237,
          0.35526315789473684,
          0.03947368421052633,
          0.4078947368421053,
          0.05263157894736842,
          0.4078947368421053,
          0.7894736842105263,
          0.2368421052631579,
          0.8421052631578947,
          0.5789473684210527,
          0.3026315789473684,
          0.618421052631579,
          0.2894736842105263,
          0.6710526315789473,
          0.5789473684210527,
          0.9736842105263157,
          0.5526315789473684,
          0.4342105263157895,
          0.11842105263157898,
          0.868421052631579,
          0.986842105263158,
          0.4736842105263158,
          0.2631578947368421,
          0.21052631578947367,
          0.39473684210526316,
          0.618421052631579,
          0.5921052631578947,
          0.3026315789473684,
          0.513157894736842,
          0.25,
          0.5526315789473684,
          0.4342105263157895,
          0.013157894736842118,
          0.6973684210526315,
          0.06578947368421054,
          0.48684210526315785,
          0.2631578947368421,
          0.03947368421052633,
          0.5921052631578947,
          0.35526315789473684,
          0.06578947368421054,
          0.5,
          0.868421052631579,
          0.19736842105263158,
          0.7368421052631579,
          0.32894736842105265,
          0.026315789473684237,
          0.35526315789473684,
          0.5789473684210527,
          0.5921052631578947,
          0.3421052631578947,
          0.13157894736842107,
          0.6052631578947368,
          0.026315789473684237,
          1,
          0.6973684210526315,
          0.618421052631579,
          0.2763157894736842,
          0.07894736842105265,
          0.6447368421052632,
          0.5394736842105263,
          0.5263157894736842,
          0.6578947368421052,
          0.8552631578947367,
          0.2763157894736842,
          0.6842105263157895,
          0.39473684210526316,
          0.3421052631578947,
          0.5921052631578947,
          0.5789473684210527,
          0.19736842105263158,
          0.3026315789473684,
          0.3026315789473684,
          0.39473684210526316,
          0.7763157894736842,
          0.17105263157894735,
          0.618421052631579,
          0.3421052631578947,
          0.48684210526315785,
          0.6052631578947368,
          0.6842105263157895,
          0.9342105263157894,
          0.2368421052631579,
          0.17105263157894735,
          0.5789473684210527,
          0.5921052631578947,
          0.6973684210526315,
          0.7894736842105263,
          0.19736842105263158,
          0.013157894736842118,
          0.4473684210526315,
          0.03947368421052633,
          0.5921052631578947,
          0.6710526315789473,
          0.8026315789473684,
          0.2631578947368421,
          0.4736842105263158,
          0.22368421052631582,
          0.39473684210526316,
          0.22368421052631582,
          0.07894736842105265,
          0.07894736842105265,
          0.39473684210526316,
          0.17105263157894735,
          0.013157894736842118,
          0.06578947368421054,
          0.14473684210526316,
          0.22368421052631582,
          0.7368421052631579,
          0.5526315789473684,
          0,
          0.05263157894736842,
          0.8026315789473684,
          0.6052631578947368,
          0.13157894736842107,
          0.48684210526315785,
          0.19736842105263158,
          0.8157894736842105,
          0.07894736842105265,
          0.07894736842105265,
          0.5789473684210527,
          0.5789473684210527,
          0.06578947368421054,
          0.35526315789473684,
          0.06578947368421054,
          0.4078947368421053,
          0.881578947368421,
          0.3026315789473684,
          0.6052631578947368,
          0.35526315789473684,
          0.14473684210526316,
          0.2368421052631579,
          0.03947368421052633,
          0.4473684210526315,
          0.6710526315789473,
          0.631578947368421,
          0.4078947368421053,
          0.11842105263157898,
          0.03947368421052633,
          0.09210526315789475,
          0.026315789473684237,
          0.07894736842105265,
          0.05263157894736842,
          0.026315789473684237,
          0.513157894736842,
          0.5526315789473684,
          0.42105263157894735,
          0.6052631578947368,
          0.1842105263157895,
          0.2894736842105263,
          0.7368421052631579,
          0.4605263157894737,
          0.368421052631579,
          0.5526315789473684,
          0.5526315789473684,
          0.32894736842105265,
          0.5789473684210527,
          0.7368421052631579,
          0.5657894736842105,
          0.5789473684210527,
          0.25,
          0.7368421052631579,
          0.32894736842105265,
          0.5526315789473684,
          0.5657894736842105,
          0.4078947368421053,
          0.6710526315789473,
          0.7894736842105263,
          0.48684210526315785,
          0.7236842105263157,
          0.25,
          0.5921052631578947,
          0.026315789473684237,
          0,
          0.6710526315789473,
          0.026315789473684237,
          0.2631578947368421,
          0.42105263157894735,
          0.35526315789473684,
          0.03947368421052633,
          0.06578947368421054,
          0.026315789473684237,
          0.3421052631578947,
          0.2368421052631579,
          0.6710526315789473,
          0.381578947368421,
          0.6578947368421052,
          0.11842105263157898,
          0.05263157894736842,
          0.7368421052631579,
          0.7368421052631579,
          0.368421052631579,
          0.25,
          0.013157894736842118,
          0.13157894736842107,
          0.1842105263157895,
          0.368421052631579,
          0.026315789473684237,
          0,
          0.42105263157894735,
          0.2894736842105263,
          0.381578947368421,
          0.5657894736842105,
          0.05263157894736842,
          0.9210526315789473,
          0.32894736842105265,
          0.06578947368421054,
          0.22368421052631582,
          0.2763157894736842,
          0.35526315789473684,
          0.48684210526315785,
          0.14473684210526316,
          0.4342105263157895,
          0.5657894736842105,
          0.2631578947368421,
          0.48684210526315785,
          0.3026315789473684,
          0.7236842105263157,
          0.5789473684210527,
          0.05263157894736842,
          0.9078947368421053,
          0.19736842105263158,
          0.1842105263157895,
          0.25,
          0.07894736842105265,
          0.3157894736842105,
          0.22368421052631582,
          0.381578947368421,
          0.5789473684210527,
          0.5526315789473684,
          0.3026315789473684,
          0.03947368421052633,
          0.5263157894736842,
          0.5526315789473684,
          0.03947368421052633,
          0.5657894736842105,
          0.013157894736842118,
          0.6710526315789473,
          0.35526315789473684,
          0.4342105263157895,
          0.9078947368421053,
          0.4342105263157895,
          0.368421052631579,
          0.5789473684210527,
          0.368421052631579,
          0.9473684210526316,
          0.48684210526315785,
          0.48684210526315785,
          0.19736842105263158,
          0.2894736842105263,
          0.986842105263158,
          0.026315789473684237,
          0,
          0.5394736842105263,
          0.2368421052631579,
          0.3157894736842105,
          0.3026315789473684,
          0.5263157894736842,
          0.05263157894736842,
          0.2763157894736842,
          0.3026315789473684,
          0.8421052631578947,
          0.03947368421052633,
          0.4605263157894737,
          0.10526315789473684,
          0.6578947368421052,
          0.7236842105263157,
          0,
          0.15789473684210525,
          0.868421052631579,
          0.4078947368421053,
          0.4342105263157895,
          0.3421052631578947,
          0.6973684210526315,
          0.05263157894736842,
          0.513157894736842,
          0.026315789473684237,
          0.13157894736842107,
          0.6710526315789473,
          0.881578947368421,
          0.026315789473684237,
          0.3026315789473684,
          0.3421052631578947,
          0.5394736842105263,
          0.17105263157894735,
          0.8421052631578947,
          0.026315789473684237,
          0.10526315789473684,
          0.4736842105263158,
          0.4605263157894737,
          0.21052631578947367,
          0.05263157894736842,
          0.03947368421052633,
          0.2368421052631579,
          0.21052631578947367,
          0.4342105263157895,
          0.5526315789473684,
          0.5,
          0.5789473684210527,
          0.8289473684210527,
          0.4473684210526315,
          0.22368421052631582,
          0.4342105263157895,
          0.026315789473684237,
          0.3157894736842105,
          0,
          0.5394736842105263,
          0.513157894736842,
          0.4605263157894737,
          0.513157894736842,
          0.5263157894736842,
          0.368421052631579,
          0.7763157894736842,
          0.894736842105263,
          0.3157894736842105,
          0.07894736842105265,
          0.03947368421052633,
          0.4605263157894737,
          0.6052631578947368,
          0.631578947368421,
          0.1842105263157895,
          0.5263157894736842,
          0.5657894736842105,
          0.21052631578947367,
          0.5526315789473684,
          0.381578947368421,
          0.8026315789473684,
          0.513157894736842,
          0.2763157894736842,
          0.7105263157894737,
          0.5394736842105263,
          0.2763157894736842,
          0.618421052631579,
          0.381578947368421,
          0.2763157894736842,
          0.3421052631578947,
          0.25,
          0.4736842105263158,
          0.2631578947368421,
          0.05263157894736842,
          0.618421052631579,
          0.4342105263157895,
          0.19736842105263158,
          0.06578947368421054,
          0.5,
          0.4078947368421053,
          0,
          0.026315789473684237,
          0.4605263157894737,
          0.22368421052631582,
          0.513157894736842,
          0.17105263157894735,
          0.15789473684210525,
          0.06578947368421054,
          0.7368421052631579,
          0.5526315789473684,
          0.5657894736842105,
          0.3421052631578947,
          0.9605263157894737,
          0.2894736842105263,
          0.6973684210526315,
          0.5263157894736842,
          0.11842105263157898,
          0.32894736842105265,
          0.03947368421052633,
          0.7763157894736842,
          0.8421052631578947,
          0.75,
          0.3157894736842105,
          0.7105263157894737,
          0.013157894736842118,
          0.25,
          0.06578947368421054,
          0.3026315789473684,
          0.2894736842105263,
          0.381578947368421,
          0.6973684210526315,
          0.013157894736842118,
          0.35526315789473684,
          0.3421052631578947,
          0.21052631578947367,
          0.15789473684210525,
          0,
          0.4736842105263158,
          0.05263157894736842,
          0.013157894736842118,
          0.06578947368421054,
          0.48684210526315785,
          0.05263157894736842,
          0.026315789473684237,
          0.7236842105263157,
          0.07894736842105265,
          0.39473684210526316,
          0.32894736842105265,
          0.2894736842105263,
          0.35526315789473684,
          0.5921052631578947,
          0.5921052631578947,
          0.5657894736842105,
          0.42105263157894735,
          0.8157894736842105,
          0.1842105263157895,
          0.2894736842105263,
          0.4342105263157895,
          0.7894736842105263,
          0.9342105263157894,
          0.4078947368421053,
          0.07894736842105265,
          0.32894736842105265,
          0.618421052631579,
          0.2631578947368421,
          0.026315789473684237,
          0.9078947368421053,
          0.03947368421052633,
          0.07894736842105265,
          0.6578947368421052,
          0.5263157894736842,
          0.06578947368421054,
          0.15789473684210525,
          0.14473684210526316,
          0.9078947368421053,
          0.3157894736842105,
          0.513157894736842,
          0.4078947368421053,
          0.4078947368421053,
          0.4736842105263158,
          0.42105263157894735,
          0.4078947368421053,
          0.381578947368421,
          0.07894736842105265,
          0.5394736842105263,
          0.2763157894736842,
          0.8157894736842105,
          0.48684210526315785,
          0.6842105263157895,
          0.7236842105263157,
          0.5789473684210527,
          0.06578947368421054,
          0.6447368421052632,
          0.39473684210526316,
          0.013157894736842118,
          0.25,
          0.631578947368421,
          0.2368421052631579,
          0.03947368421052633,
          0.5789473684210527,
          0.11842105263157898,
          0.2631578947368421,
          0.17105263157894735,
          0.22368421052631582,
          0.618421052631579,
          0.05263157894736842,
          0.6842105263157895,
          0.06578947368421054,
          0.4605263157894737,
          0.05263157894736842,
          0.06578947368421054,
          0.15789473684210525,
          0.05263157894736842,
          0.5,
          0.6973684210526315,
          0.05263157894736842,
          0.6842105263157895,
          0.21052631578947367,
          0.21052631578947367,
          0.026315789473684237,
          0.3026315789473684,
          0.4605263157894737,
          0.4736842105263158,
          0.7894736842105263,
          0.03947368421052633,
          0.631578947368421,
          0.35526315789473684,
          0,
          0.763157894736842,
          0.631578947368421,
          0.13157894736842107,
          0.25,
          0.3421052631578947,
          0.4473684210526315,
          0.10526315789473684,
          0.013157894736842118,
          0.013157894736842118,
          0.5526315789473684,
          0.9210526315789473,
          0.07894736842105265,
          0.25,
          0.07894736842105265,
          0.5394736842105263,
          0.75,
          0.5921052631578947,
          0.6842105263157895,
          0.8289473684210527,
          0.48684210526315785,
          0.5394736842105263,
          0.368421052631579,
          0.75,
          0.48684210526315785,
          0.368421052631579,
          0.4736842105263158,
          0.5263157894736842,
          0.07894736842105265,
          0.013157894736842118,
          0.5,
          0.8026315789473684,
          0.42105263157894735,
          0.03947368421052633,
          0.4342105263157895,
          0.2631578947368421,
          0.013157894736842118,
          0.2368421052631579,
          0.7105263157894737,
          0.5789473684210527,
          0.026315789473684237,
          0.35526315789473684,
          0.3421052631578947,
          0.368421052631579,
          0.026315789473684237,
          0.868421052631579,
          0.4605263157894737,
          0.7236842105263157,
          0.75,
          0.15789473684210525,
          0.14473684210526316,
          0.06578947368421054,
          0.026315789473684237,
          0.48684210526315785,
          0,
          0.03947368421052633,
          0.5,
          0.4342105263157895,
          0.4473684210526315,
          0.5263157894736842,
          0.75,
          0.3421052631578947,
          0.4342105263157895,
          0.48684210526315785,
          0.13157894736842107,
          0.48684210526315785,
          0.9210526315789473,
          0.026315789473684237,
          0.6842105263157895,
          0.6842105263157895,
          0.2631578947368421,
          0.7368421052631579,
          0.368421052631579,
          0.13157894736842107,
          0.5394736842105263,
          0.9210526315789473,
          0,
          0.10526315789473684,
          0.39473684210526316,
          0.5526315789473684,
          0.2368421052631579,
          0.513157894736842,
          0.25,
          0.6447368421052632,
          0.22368421052631582,
          0.368421052631579,
          0.5263157894736842,
          0.3026315789473684,
          0.39473684210526316,
          0.2368421052631579,
          0.2368421052631579,
          0.6973684210526315,
          0.881578947368421,
          0.3157894736842105,
          0.5526315789473684,
          0.06578947368421054,
          0.07894736842105265,
          0.6447368421052632,
          0.22368421052631582,
          0.35526315789473684,
          0.3026315789473684,
          0.21052631578947367,
          0.013157894736842118,
          0.5263157894736842,
          0.2631578947368421,
          0.17105263157894735,
          0.4473684210526315,
          0.2631578947368421,
          0.026315789473684237,
          0.6052631578947368,
          0.8421052631578947,
          0.1842105263157895,
          0.25,
          0.2631578947368421,
          0.381578947368421,
          0.21052631578947367,
          0.026315789473684237,
          0.32894736842105265,
          0.5394736842105263,
          0.03947368421052633,
          0.35526315789473684,
          0.6842105263157895,
          0.5,
          0.2368421052631579,
          0.05263157894736842,
          0.3421052631578947,
          0.39473684210526316,
          0.631578947368421,
          0.35526315789473684,
          0.9342105263157894,
          0.894736842105263,
          0.4473684210526315,
          0.5526315789473684,
          0.4736842105263158,
          0.6052631578947368,
          1,
          0.7368421052631579,
          0.5526315789473684,
          0.2763157894736842,
          0.5789473684210527,
          0.368421052631579,
          0.07894736842105265,
          0.5526315789473684,
          0.6973684210526315,
          0.05263157894736842,
          0.11842105263157898,
          0.22368421052631582,
          0.35526315789473684,
          0.2894736842105263,
          0.11842105263157898,
          0.2894736842105263,
          0.4342105263157895,
          0.2631578947368421,
          0.026315789473684237,
          0.4605263157894737,
          0.2631578947368421,
          0,
          0.05263157894736842,
          0.5526315789473684,
          0.32894736842105265,
          0.513157894736842,
          0.6578947368421052,
          0.6447368421052632,
          0.48684210526315785,
          0.22368421052631582,
          0.5,
          0.986842105263158,
          0.39473684210526316,
          0.6973684210526315,
          0.05263157894736842,
          0.6447368421052632,
          0.4605263157894737,
          0.35526315789473684,
          0.48684210526315785,
          0.6973684210526315,
          0.2763157894736842,
          0.026315789473684237,
          0.3026315789473684,
          0.5657894736842105,
          0.48684210526315785,
          0.3157894736842105,
          0.06578947368421054
         ],
         "theta": [
          "clusterzero",
          "clusterone",
          "clustertwo"
         ],
         "type": "scatterpolar"
        },
        {
         "fill": "toself",
         "name": "income",
         "r": [
          0.18139944643687092,
          0.04581810109810831,
          0.12866527466581573,
          0.33066725861387236,
          0.3090658101930534,
          0.10879804657422117,
          0,
          0.013381244060295372,
          0.2770729135595219,
          0.06674667203118821,
          0.1791727075341468,
          0,
          0.12224172256636862,
          0.061578695450099544,
          0.16198311563087467,
          0,
          0.07294824392849462,
          0,
          0.04407694388756703,
          0.145778560874602,
          0.18386203930436953,
          0.02190667119876246,
          0.46428546653995295,
          0.13522756439160083,
          0.13411766338089723,
          0.04504117039061579,
          0.021996850655882128,
          0.062265446700472404,
          0.21271252870134644,
          0.1508841055238386,
          0.1687465749148498,
          0.5278064887587838,
          0.3926066718924506,
          0.252016898242888,
          0.2774128207440499,
          0.16887143877855393,
          0,
          0.1502736599679516,
          0.09120611555456898,
          0.1573978370804054,
          0.06954223520189794,
          0.30048488800405115,
          0.17026575192325033,
          0.1251135914315642,
          0.07106141221029849,
          0.05557135622966627,
          0.16960674819814509,
          0.052519128450231344,
          0.1186137336376312,
          0.3266091830434873,
          0,
          0,
          0.41693431467081027,
          0.13750979834486013,
          0.1697871071123844,
          0.16903792393015948,
          0.23913510963740922,
          0.04370235229645456,
          0.3579985710024487,
          0.05088202445944352,
          0.20161351859431037,
          0,
          0.10575969255742003,
          0.11960570766594754,
          1,
          0.19343493552168817,
          0.19070874116414743,
          0.040150669062203014,
          0,
          0.0758409234376409,
          0.10907552182689706,
          0.1109415429011425,
          0.03076506864044063,
          0.08598958080426201,
          0.06332678954195772,
          0.05154796506586569,
          0.11762869649063173,
          0.05294921509187899,
          0,
          0.013748898770090943,
          0.5654182592590024,
          0.1746706715594803,
          0.24627316051249679,
          0,
          0.16029745347086857,
          0.12729177216507004,
          0.08938171576822491,
          0.2754219358061003,
          0.38195162218969597,
          0.3416968999077395,
          0.053767767087272905,
          0,
          0,
          0.17018944622876447,
          0,
          0.22135588282220078,
          0,
          0.15261832585306298,
          0.10204846105287985,
          0.3967479900386384,
          0.20024695297488154,
          0.10772976685141894,
          0.14466865986389837,
          0.21532079607649993,
          0.06111392440186741,
          0.16097726783992453,
          0.40041760025527723,
          0.02770590397968881,
          0.62603966508737,
          0.06486677719430899,
          0.0557586520252225,
          0.007207419688256554,
          0.05199192547014713,
          0.2364089152798685,
          0.10319998335148484,
          0.02029037785192533,
          0.5850218858605548,
          0.08279167851717224,
          0.5778075292909813,
          0.30452908981180243,
          0.47818003981769874,
          0.11391746498609155,
          0.168392793967688,
          0.21279577127714921,
          0,
          0.08895162912657727,
          0.04409081765020082,
          0.09580526786767204,
          0.03806960466713375,
          0,
          0.19179783153090033,
          0.08285411044902433,
          0.019208224366489314,
          0.12180469904340406,
          0.0846438258287839,
          0.12586277461378914,
          0.24138265918408403,
          0.09222583710815292,
          0,
          0.39337666571862623,
          0.5484090262699696,
          0.5211054614066608,
          0.08503229118253015,
          0.01834111420187712,
          0.20022614233093086,
          0,
          0.025097636604535335,
          0.03045984586249714,
          0.26367085885527586,
          0.3072205997627587,
          0.04028940668854097,
          0.34497804477063204,
          0.01947182585653142,
          0.6630618006756522,
          0.10956804040039679,
          0.03209001297196806,
          0.07041628224782702,
          0.031937401582996315,
          0.38623167796222174,
          0.28370457209847594,
          0.2725570038222216,
          0.601732832952961,
          0.02371719722247272,
          0.20368764610806273,
          0.2544101222972176,
          0.5118377879672856,
          0.07633344201114063,
          0.07890702497970963,
          0.06832134409012396,
          0.1372739443800856,
          0.14704801015559424,
          0.25578362479796335,
          0.06669117698065304,
          0.03483701797345949,
          0.20807175510034198,
          0.042349660439659535,
          0.21157488016537526,
          0.48164154359483063,
          0.08755037910056397,
          0.2096603009219115,
          0.13030931553792047,
          0,
          0.3084969859250678,
          0,
          0.3996476064291016,
          0.1556428061072303,
          0.10458735961486434,
          0.0687861151383561,
          0.08825100411357062,
          0.15786954500995443,
          0.2051860124725126,
          0.12217235375319964,
          0.1290051818503437,
          0.11699050340947717,
          0.1032970996899214,
          0.07235167213524143,
          0,
          0.05394812600151224,
          0.19294241694818842,
          0.2889211068487829,
          0.1310446249575116,
          0.25993187982546806,
          0,
          0,
          0.1970213031625242,
          0.18939767059525378,
          0.09375195099787037,
          0.2034934134311896,
          0.04120507502237144,
          0.04297397975818032,
          0.0953821181073413,
          0.09096332470847757,
          0.5835304563774218,
          0.2848907788036654,
          0.023585396477451667,
          0.13375694555241854,
          0.040039678961132655,
          0.34292472790083034,
          0.06344471652434498,
          0.13623341218255097,
          0.22710655743390887,
          0.24178499830046407,
          0.0866069632414659,
          0.0860381389734803,
          0,
          0.2258024237463321,
          0.02247549546674806,
          0.018833632775376846,
          0.3165229576087183,
          0.04262019881101854,
          0,
          0.023162246717120916,
          0,
          0.08397788522236173,
          0,
          0,
          0.4292889002962048,
          0.2154179124149365,
          0.16629785580998493,
          0.16539606123878828,
          0.0246328655563032,
          0.08829262540147201,
          0.03127146097657415,
          0.13013589350499802,
          0.25137176828041646,
          0.3442288615884071,
          0.8962173186178958,
          0.2754149989247834,
          0.1338818094161227,
          0.1890855109359934,
          0.17814604909924597,
          0.18450716926684102,
          0.08193844211519385,
          0.20857814743647551,
          0.11907156780454643,
          0.0880290239114299,
          0.24631478180039817,
          0.05813800231691836,
          0.12197812107632651,
          0.07574380709920434,
          0.0899921613241119,
          0.05527307033303967,
          0.19463501598951144,
          0.20284134658740124,
          0,
          0,
          0.13655944560444516,
          0,
          0.30047101424141737,
          0.1386474468808313,
          0.27922334676776017,
          0,
          0.03818753164952101,
          0,
          0.12797852341544289,
          0.18565175468412912,
          0.15732846826723643,
          0.14456460664414492,
          0.0735864370096492,
          0.18837101216035296,
          0,
          0.1061412210298494,
          0.06506100987118212,
          0.182883939038687,
          0.1242534181482689,
          0,
          0.1449045138286729,
          0.1251413389568318,
          0.41789160429254213,
          0,
          0,
          0.25152437966938823,
          0.3911291161719514,
          0.1412210298494003,
          0.5298112474593673,
          0,
          0.01746013027463113,
          0.12756924741774592,
          0.0568893636798768,
          0.08133493344062376,
          0.20994471305590431,
          0.08539300901100882,
          0.1548450647557871,
          0.02982858966265946,
          0.10804886339199622,
          0.1231296433749315,
          0.12613331298514813,
          0.13762772532724737,
          0.20698266473358906,
          0.18916181663047926,
          0.5391829741184958,
          0,
          0.05758305181156655,
          0.07504318208619769,
          0.1601379052005799,
          0.08635723551405759,
          0.082673751534785,
          0.2904888420264018,
          0.28212990003954025,
          0.06576163488418876,
          0.2722725916882288,
          0.24443488696351895,
          0.20396512136073863,
          0,
          0.2561304688638082,
          0.2289864522707881,
          0,
          0.5730696393515403,
          0,
          0.1868518351519524,
          0.2171035745749426,
          0.3362930693618763,
          0.021455773913164118,
          0.14390560291903964,
          0.22933329633663296,
          0.31537837219143017,
          0.11828770021573701,
          0.08347149288622821,
          0.1426361536380474,
          0.7018528409997433,
          0.0631186831024508,
          0.11500655535284447,
          0.10252710586374578,
          0,
          0,
          0.2385870960133743,
          0.08712722934023322,
          0.08739776771159222,
          0.25795486865015227,
          0.3104809339817005,
          0,
          0.28622266001650976,
          0.3252287436614247,
          0.04913393036758534,
          0,
          0.09262123934321607,
          0.15951358588205913,
          0.03784762446499303,
          0.06021906671198762,
          0,
          0.15804296704287688,
          0.06660793440485027,
          0.14348245315870892,
          0.17637714436343707,
          0.04590828055522798,
          0.09103963040296344,
          0,
          0.05948375729239649,
          0,
          0.18440311604708756,
          0.21278189751451543,
          0.0557586520252225,
          0,
          0.20200198394805663,
          0.40152056438466394,
          0.34428435663894225,
          0.09013783583176675,
          0.04408388076888393,
          0,
          0.12350423496604397,
          0.13997932809367564,
          0.3790797533245004,
          0.0410524636333997,
          0,
          0,
          0.08640579368327587,
          0.057277829033623065,
          0.20961174275269323,
          0.35172763029197335,
          0.15198013277190842,
          0.4130357873707139,
          0.07423156697212067,
          0.16739388305805475,
          0.10922813321586881,
          0.07650686404406307,
          0,
          0.21097137149080517,
          0,
          0.286611125370256,
          0.07681902370332346,
          0.137787273597536,
          0.25918963352456004,
          0.22683601906254985,
          0.3043348571349293,
          0.09112980986008311,
          0.0548984787419272,
          0.09009621454386536,
          0.016939864175863815,
          0,
          0.26870703469134344,
          0.31351235111718473,
          0.09362708713416622,
          0.06103761870738154,
          0.05365677698620254,
          0.23381452166734878,
          0.08626705605693792,
          0.22970095104642854,
          0.5333837413375695,
          0.04148948715636424,
          0.7700215737008955,
          0.21656943471354148,
          0.08374203125758721,
          0.8868664026027179,
          0.18041440928987146,
          0.05731251344020755,
          0.06973646787877107,
          0.16576371594858383,
          0.29503943617028655,
          0.5008012097921016,
          0.15015573298556434,
          0.12078497748982013,
          0,
          0.10682103539890536,
          0.08712722934023322,
          0.06431182668895717,
          0.12754843677379524,
          0.2537927398600137,
          0.0693618762876586,
          0,
          0,
          0.22243109942631992,
          0.14360731702241306,
          0.13241119057694042,
          0.06246661625866243,
          0.06586568810394224,
          0.04014373218088612,
          0.19487780683560285,
          0.4096020311188496,
          0.06755135026394833,
          0.04973050216083853,
          0.06216139348071894,
          0.39695609647814534,
          0.3033983781571481,
          0.3437432798962243,
          0.019229035010440005,
          0.39051867061606443,
          0,
          0.07799829352719605,
          0.09959280506669811,
          0.1319325457660745,
          0.20925102492421457,
          0.16710947092406195,
          0,
          0.15517109817768127,
          0.09185124551704045,
          0.5363735371851523,
          0.5403344964171009,
          0.21772789389346336,
          0.05301164702373107,
          0,
          0.19564780066177848,
          0.13627503347045236,
          0.08200087404704592,
          0.011036578175184001,
          0,
          0.15023203868005022,
          0,
          0,
          0.09809443870224824,
          0.6284259522603828,
          0,
          0,
          0.12608475481592984,
          0.023384226919261637,
          0.6837406438813238,
          0.2092371511615808,
          0.22012111794779304,
          0.19170071519246376,
          0.14833827008053718,
          0.45330438341530416,
          0.7095458423801827,
          0.2100210187503902,
          0.179158833771513,
          0.029023911429899345,
          0.364477618152431,
          0.44071394382513507,
          0.10789625200302448,
          0.04320289684163794,
          0.3903105641765575,
          0.050653107375985905,
          0.13208515715504623,
          0.04723322488675541,
          0.35301789021691626,
          0,
          0.07914981582580104,
          0,
          0.05788827458951005,
          0.15512254000846298,
          0.22703025173942298,
          0.030688762945954757,
          0.2184840139570052,
          0.27318826002205926,
          0.010856219260944664,
          0.12328919164522015,
          0.2351949610494114,
          0.20137766462953585,
          0.1435310113279272,
          0.40495432063652825,
          0.21496701512933816,
          0.1527848110046685,
          0.30232316155302896,
          0.09237844849712466,
          0.04792691301844517,
          0.18650499108610752,
          0.16567353649146416,
          0.645546175350486,
          0.25791324736225085,
          0.11869003933211707,
          0.18017161844378005,
          0.07099204339712951,
          0.25970296274201043,
          0.20488772657588603,
          0,
          0.20144703344270481,
          0.022912518989712603,
          0.1024508001692599,
          0,
          0.24360246120549123,
          0.09078296579423822,
          0.11264107882378241,
          0.05582802083839147,
          0.3065824066816041,
          0.08286798421165813,
          0,
          0.06277877591792282,
          0.12070867179533425,
          0.47197846792039233,
          0,
          0.08046782327601157,
          0.13623341218255097,
          0,
          0.2699626102097019,
          0.13630278099571994,
          0,
          0.04494405405217922,
          0.08537219836705814,
          0.09719264413105157,
          0,
          0.1811358449468288,
          0.30092884840833256,
          0.11215549713159957,
          0.0574512510665455,
          0,
          0.05226246384150614,
          0.3011161442038888,
          0,
          0.025846819786760268,
          0.0302864238295747,
          0.06241112120812725,
          0.1721387098788127,
          0.08055800273313124,
          0.3429386016634641,
          0.04253695623521577,
          0,
          0,
          0.4038444196258246,
          0.07659010661986584,
          0.02904472207385004,
          0.22303460810089,
          0.13045499004557531,
          0.2009961361571065,
          0.07967008192456836,
          0.2763098566146632,
          0.0563274762932081,
          0.09642958718619284,
          0.5969533217256185,
          0.1794501827868227,
          0.06456155441636549,
          0.13798150627440914,
          0.37968326199907043,
          0.051797692793274,
          0.20512358054066052,
          0.15761288040122923,
          0.16285022579548686,
          0,
          0.652920080190348,
          0.03332477784637582,
          0.04561693153991828,
          0,
          0.38907579930214975,
          0.2040622376991752,
          0,
          0.2151335002809437,
          0.1862413895960654,
          0.27576877987194515,
          0,
          0.048613664268818024,
          0.30571529651699186,
          0.14001401250026013,
          0,
          0.04008823713035094,
          0.14477271308365186,
          0.30307928161657083,
          0.01873651643694028,
          0.05342092302142803,
          0.13401361016114374,
          0.05428803318604022,
          0,
          0.09559716142816513,
          0,
          0,
          0.35364220953543707,
          0.18416032520099612,
          0.32403560007491833,
          0.30735240050777973,
          0.14516117843739812,
          0.19385808528201892,
          0.11026172853208654,
          0.40753484048641414,
          0.11597078185589323,
          0.10921425945323501,
          0.04056688194121687,
          0,
          0.18131620386106814,
          0.04962644894108507,
          0.08311771193906643,
          0.07110303349819988,
          0.2176723988429282,
          0.04647710482321358,
          0.9869378524802819,
          0.019825606803693194,
          0,
          0.10376880761947044,
          0.05283822499080863,
          0.284856094397081,
          0.3032110823615919,
          0.24134103789618264,
          0.2915640586305209,
          0.05015365192116928,
          0.20821049272667994,
          0.04432667161497534,
          0.4800668715358949,
          0.12747906796062627,
          0.3093294116830955,
          0.19782598139528432,
          0.12809645039783013,
          0.28299007332283554,
          0.04010211089298473,
          0.5839744167817033,
          0.25500669409047083,
          0.012583502708852154,
          0.051006888323147676,
          0.10704995248236297,
          0.1508494211172541,
          0.11290468031382452,
          0.2830108839667862,
          0.03370630631880519,
          0,
          0.1488654730606214,
          0.3032457667681764,
          0.01861858945455302,
          0.16856621600061045,
          0.30735240050777973,
          0,
          0.39985571286860855,
          0.04859285362486733,
          0.0905817962360482,
          0.2529464403393522,
          0.05552973494176488,
          0.06831440720880706,
          0.05729170279625686,
          0,
          0.058429351332228055,
          0.3278855692057965,
          0,
          0.11782986604882177,
          0.253910666842401,
          0.16158771339581152,
          0.31036994388063016,
          0,
          0.12946301601725896,
          0.45106377074994625,
          0.17233294255568582,
          0.5264399231393551,
          0.05610549609106738,
          0.11913399973639852,
          0.21948986174795534,
          0.02946093495286389,
          0.10029343007970476,
          0.3251316273229881,
          0.07491831822249354,
          0.08374203125758721,
          0.08784866499719056,
          0.14024986646503465,
          0.18895371019097235,
          0.2691718057395756,
          0.04237047108361023,
          0.3458937131044625,
          0.04106633739603349,
          0,
          0.16461913053129573,
          0.43170987187580206,
          0.36698183230783105,
          0.3876884230387702,
          0.01817462905027158,
          0.0843386030508404,
          0.5783000478644811,
          0.16903792393015948,
          0,
          0.1672828929569844,
          0.22601053018583905,
          0,
          0,
          0.3795375874914156,
          0.25398697253688685,
          0.32229444286437703,
          0.10501744625651199,
          0.017106349327469357,
          0.1132029662104511,
          0.17164619130531295,
          0.13124579451570162,
          0.01605194336730093,
          0.3040365712383027,
          0.06799531066822978,
          0,
          0.03073732111517304,
          0.20478367335613254,
          0.2539245406050348,
          0.09204547819391358,
          0.11004668521126272,
          0.01587852133437849,
          0,
          0.10263115908349923,
          0.18304348730897563,
          0.42523082472581974,
          0.10474690788515299,
          0.12399675353954369
         ],
         "theta": [
          "clusterzero",
          "clusterone",
          "clustertwo"
         ],
         "type": "scatterpolar"
        }
       ],
       "layout": {
        "autosize": true,
        "polar": {
         "angularaxis": {
          "type": "category"
         },
         "radialaxis": {
          "autorange": false,
          "range": [
           0,
           1
          ],
          "type": "linear",
          "visible": true
         }
        },
        "showlegend": false,
        "template": {
         "data": {
          "bar": [
           {
            "error_x": {
             "color": "#2a3f5f"
            },
            "error_y": {
             "color": "#2a3f5f"
            },
            "marker": {
             "line": {
              "color": "#E5ECF6",
              "width": 0.5
             },
             "pattern": {
              "fillmode": "overlay",
              "size": 10,
              "solidity": 0.2
             }
            },
            "type": "bar"
           }
          ],
          "barpolar": [
           {
            "marker": {
             "line": {
              "color": "#E5ECF6",
              "width": 0.5
             },
             "pattern": {
              "fillmode": "overlay",
              "size": 10,
              "solidity": 0.2
             }
            },
            "type": "barpolar"
           }
          ],
          "carpet": [
           {
            "aaxis": {
             "endlinecolor": "#2a3f5f",
             "gridcolor": "white",
             "linecolor": "white",
             "minorgridcolor": "white",
             "startlinecolor": "#2a3f5f"
            },
            "baxis": {
             "endlinecolor": "#2a3f5f",
             "gridcolor": "white",
             "linecolor": "white",
             "minorgridcolor": "white",
             "startlinecolor": "#2a3f5f"
            },
            "type": "carpet"
           }
          ],
          "choropleth": [
           {
            "colorbar": {
             "outlinewidth": 0,
             "ticks": ""
            },
            "type": "choropleth"
           }
          ],
          "contour": [
           {
            "colorbar": {
             "outlinewidth": 0,
             "ticks": ""
            },
            "colorscale": [
             [
              0,
              "#0d0887"
             ],
             [
              0.1111111111111111,
              "#46039f"
             ],
             [
              0.2222222222222222,
              "#7201a8"
             ],
             [
              0.3333333333333333,
              "#9c179e"
             ],
             [
              0.4444444444444444,
              "#bd3786"
             ],
             [
              0.5555555555555556,
              "#d8576b"
             ],
             [
              0.6666666666666666,
              "#ed7953"
             ],
             [
              0.7777777777777778,
              "#fb9f3a"
             ],
             [
              0.8888888888888888,
              "#fdca26"
             ],
             [
              1,
              "#f0f921"
             ]
            ],
            "type": "contour"
           }
          ],
          "contourcarpet": [
           {
            "colorbar": {
             "outlinewidth": 0,
             "ticks": ""
            },
            "type": "contourcarpet"
           }
          ],
          "heatmap": [
           {
            "colorbar": {
             "outlinewidth": 0,
             "ticks": ""
            },
            "colorscale": [
             [
              0,
              "#0d0887"
             ],
             [
              0.1111111111111111,
              "#46039f"
             ],
             [
              0.2222222222222222,
              "#7201a8"
             ],
             [
              0.3333333333333333,
              "#9c179e"
             ],
             [
              0.4444444444444444,
              "#bd3786"
             ],
             [
              0.5555555555555556,
              "#d8576b"
             ],
             [
              0.6666666666666666,
              "#ed7953"
             ],
             [
              0.7777777777777778,
              "#fb9f3a"
             ],
             [
              0.8888888888888888,
              "#fdca26"
             ],
             [
              1,
              "#f0f921"
             ]
            ],
            "type": "heatmap"
           }
          ],
          "heatmapgl": [
           {
            "colorbar": {
             "outlinewidth": 0,
             "ticks": ""
            },
            "colorscale": [
             [
              0,
              "#0d0887"
             ],
             [
              0.1111111111111111,
              "#46039f"
             ],
             [
              0.2222222222222222,
              "#7201a8"
             ],
             [
              0.3333333333333333,
              "#9c179e"
             ],
             [
              0.4444444444444444,
              "#bd3786"
             ],
             [
              0.5555555555555556,
              "#d8576b"
             ],
             [
              0.6666666666666666,
              "#ed7953"
             ],
             [
              0.7777777777777778,
              "#fb9f3a"
             ],
             [
              0.8888888888888888,
              "#fdca26"
             ],
             [
              1,
              "#f0f921"
             ]
            ],
            "type": "heatmapgl"
           }
          ],
          "histogram": [
           {
            "marker": {
             "pattern": {
              "fillmode": "overlay",
              "size": 10,
              "solidity": 0.2
             }
            },
            "type": "histogram"
           }
          ],
          "histogram2d": [
           {
            "colorbar": {
             "outlinewidth": 0,
             "ticks": ""
            },
            "colorscale": [
             [
              0,
              "#0d0887"
             ],
             [
              0.1111111111111111,
              "#46039f"
             ],
             [
              0.2222222222222222,
              "#7201a8"
             ],
             [
              0.3333333333333333,
              "#9c179e"
             ],
             [
              0.4444444444444444,
              "#bd3786"
             ],
             [
              0.5555555555555556,
              "#d8576b"
             ],
             [
              0.6666666666666666,
              "#ed7953"
             ],
             [
              0.7777777777777778,
              "#fb9f3a"
             ],
             [
              0.8888888888888888,
              "#fdca26"
             ],
             [
              1,
              "#f0f921"
             ]
            ],
            "type": "histogram2d"
           }
          ],
          "histogram2dcontour": [
           {
            "colorbar": {
             "outlinewidth": 0,
             "ticks": ""
            },
            "colorscale": [
             [
              0,
              "#0d0887"
             ],
             [
              0.1111111111111111,
              "#46039f"
             ],
             [
              0.2222222222222222,
              "#7201a8"
             ],
             [
              0.3333333333333333,
              "#9c179e"
             ],
             [
              0.4444444444444444,
              "#bd3786"
             ],
             [
              0.5555555555555556,
              "#d8576b"
             ],
             [
              0.6666666666666666,
              "#ed7953"
             ],
             [
              0.7777777777777778,
              "#fb9f3a"
             ],
             [
              0.8888888888888888,
              "#fdca26"
             ],
             [
              1,
              "#f0f921"
             ]
            ],
            "type": "histogram2dcontour"
           }
          ],
          "mesh3d": [
           {
            "colorbar": {
             "outlinewidth": 0,
             "ticks": ""
            },
            "type": "mesh3d"
           }
          ],
          "parcoords": [
           {
            "line": {
             "colorbar": {
              "outlinewidth": 0,
              "ticks": ""
             }
            },
            "type": "parcoords"
           }
          ],
          "pie": [
           {
            "automargin": true,
            "type": "pie"
           }
          ],
          "scatter": [
           {
            "fillpattern": {
             "fillmode": "overlay",
             "size": 10,
             "solidity": 0.2
            },
            "type": "scatter"
           }
          ],
          "scatter3d": [
           {
            "line": {
             "colorbar": {
              "outlinewidth": 0,
              "ticks": ""
             }
            },
            "marker": {
             "colorbar": {
              "outlinewidth": 0,
              "ticks": ""
             }
            },
            "type": "scatter3d"
           }
          ],
          "scattercarpet": [
           {
            "marker": {
             "colorbar": {
              "outlinewidth": 0,
              "ticks": ""
             }
            },
            "type": "scattercarpet"
           }
          ],
          "scattergeo": [
           {
            "marker": {
             "colorbar": {
              "outlinewidth": 0,
              "ticks": ""
             }
            },
            "type": "scattergeo"
           }
          ],
          "scattergl": [
           {
            "marker": {
             "colorbar": {
              "outlinewidth": 0,
              "ticks": ""
             }
            },
            "type": "scattergl"
           }
          ],
          "scattermapbox": [
           {
            "marker": {
             "colorbar": {
              "outlinewidth": 0,
              "ticks": ""
             }
            },
            "type": "scattermapbox"
           }
          ],
          "scatterpolar": [
           {
            "marker": {
             "colorbar": {
              "outlinewidth": 0,
              "ticks": ""
             }
            },
            "type": "scatterpolar"
           }
          ],
          "scatterpolargl": [
           {
            "marker": {
             "colorbar": {
              "outlinewidth": 0,
              "ticks": ""
             }
            },
            "type": "scatterpolargl"
           }
          ],
          "scatterternary": [
           {
            "marker": {
             "colorbar": {
              "outlinewidth": 0,
              "ticks": ""
             }
            },
            "type": "scatterternary"
           }
          ],
          "surface": [
           {
            "colorbar": {
             "outlinewidth": 0,
             "ticks": ""
            },
            "colorscale": [
             [
              0,
              "#0d0887"
             ],
             [
              0.1111111111111111,
              "#46039f"
             ],
             [
              0.2222222222222222,
              "#7201a8"
             ],
             [
              0.3333333333333333,
              "#9c179e"
             ],
             [
              0.4444444444444444,
              "#bd3786"
             ],
             [
              0.5555555555555556,
              "#d8576b"
             ],
             [
              0.6666666666666666,
              "#ed7953"
             ],
             [
              0.7777777777777778,
              "#fb9f3a"
             ],
             [
              0.8888888888888888,
              "#fdca26"
             ],
             [
              1,
              "#f0f921"
             ]
            ],
            "type": "surface"
           }
          ],
          "table": [
           {
            "cells": {
             "fill": {
              "color": "#EBF0F8"
             },
             "line": {
              "color": "white"
             }
            },
            "header": {
             "fill": {
              "color": "#C8D4E3"
             },
             "line": {
              "color": "white"
             }
            },
            "type": "table"
           }
          ]
         },
         "layout": {
          "annotationdefaults": {
           "arrowcolor": "#2a3f5f",
           "arrowhead": 0,
           "arrowwidth": 1
          },
          "autotypenumbers": "strict",
          "coloraxis": {
           "colorbar": {
            "outlinewidth": 0,
            "ticks": ""
           }
          },
          "colorscale": {
           "diverging": [
            [
             0,
             "#8e0152"
            ],
            [
             0.1,
             "#c51b7d"
            ],
            [
             0.2,
             "#de77ae"
            ],
            [
             0.3,
             "#f1b6da"
            ],
            [
             0.4,
             "#fde0ef"
            ],
            [
             0.5,
             "#f7f7f7"
            ],
            [
             0.6,
             "#e6f5d0"
            ],
            [
             0.7,
             "#b8e186"
            ],
            [
             0.8,
             "#7fbc41"
            ],
            [
             0.9,
             "#4d9221"
            ],
            [
             1,
             "#276419"
            ]
           ],
           "sequential": [
            [
             0,
             "#0d0887"
            ],
            [
             0.1111111111111111,
             "#46039f"
            ],
            [
             0.2222222222222222,
             "#7201a8"
            ],
            [
             0.3333333333333333,
             "#9c179e"
            ],
            [
             0.4444444444444444,
             "#bd3786"
            ],
            [
             0.5555555555555556,
             "#d8576b"
            ],
            [
             0.6666666666666666,
             "#ed7953"
            ],
            [
             0.7777777777777778,
             "#fb9f3a"
            ],
            [
             0.8888888888888888,
             "#fdca26"
            ],
            [
             1,
             "#f0f921"
            ]
           ],
           "sequentialminus": [
            [
             0,
             "#0d0887"
            ],
            [
             0.1111111111111111,
             "#46039f"
            ],
            [
             0.2222222222222222,
             "#7201a8"
            ],
            [
             0.3333333333333333,
             "#9c179e"
            ],
            [
             0.4444444444444444,
             "#bd3786"
            ],
            [
             0.5555555555555556,
             "#d8576b"
            ],
            [
             0.6666666666666666,
             "#ed7953"
            ],
            [
             0.7777777777777778,
             "#fb9f3a"
            ],
            [
             0.8888888888888888,
             "#fdca26"
            ],
            [
             1,
             "#f0f921"
            ]
           ]
          },
          "colorway": [
           "#636efa",
           "#EF553B",
           "#00cc96",
           "#ab63fa",
           "#FFA15A",
           "#19d3f3",
           "#FF6692",
           "#B6E880",
           "#FF97FF",
           "#FECB52"
          ],
          "font": {
           "color": "#2a3f5f"
          },
          "geo": {
           "bgcolor": "white",
           "lakecolor": "white",
           "landcolor": "#E5ECF6",
           "showlakes": true,
           "showland": true,
           "subunitcolor": "white"
          },
          "hoverlabel": {
           "align": "left"
          },
          "hovermode": "closest",
          "mapbox": {
           "style": "light"
          },
          "paper_bgcolor": "white",
          "plot_bgcolor": "#E5ECF6",
          "polar": {
           "angularaxis": {
            "gridcolor": "white",
            "linecolor": "white",
            "ticks": ""
           },
           "bgcolor": "#E5ECF6",
           "radialaxis": {
            "gridcolor": "white",
            "linecolor": "white",
            "ticks": ""
           }
          },
          "scene": {
           "xaxis": {
            "backgroundcolor": "#E5ECF6",
            "gridcolor": "white",
            "gridwidth": 2,
            "linecolor": "white",
            "showbackground": true,
            "ticks": "",
            "zerolinecolor": "white"
           },
           "yaxis": {
            "backgroundcolor": "#E5ECF6",
            "gridcolor": "white",
            "gridwidth": 2,
            "linecolor": "white",
            "showbackground": true,
            "ticks": "",
            "zerolinecolor": "white"
           },
           "zaxis": {
            "backgroundcolor": "#E5ECF6",
            "gridcolor": "white",
            "gridwidth": 2,
            "linecolor": "white",
            "showbackground": true,
            "ticks": "",
            "zerolinecolor": "white"
           }
          },
          "shapedefaults": {
           "line": {
            "color": "#2a3f5f"
           }
          },
          "ternary": {
           "aaxis": {
            "gridcolor": "white",
            "linecolor": "white",
            "ticks": ""
           },
           "baxis": {
            "gridcolor": "white",
            "linecolor": "white",
            "ticks": ""
           },
           "bgcolor": "#E5ECF6",
           "caxis": {
            "gridcolor": "white",
            "linecolor": "white",
            "ticks": ""
           }
          },
          "title": {
           "x": 0.05
          },
          "xaxis": {
           "automargin": true,
           "gridcolor": "white",
           "linecolor": "white",
           "ticks": "",
           "title": {
            "standoff": 15
           },
           "zerolinecolor": "white",
           "zerolinewidth": 2
          },
          "yaxis": {
           "automargin": true,
           "gridcolor": "white",
           "linecolor": "white",
           "ticks": "",
           "title": {
            "standoff": 15
           },
           "zerolinecolor": "white",
           "zerolinewidth": 2
          }
         }
        }
       }
      },
      "image/png": "[encoded data removed]",
      "text/html": [
       "<div>                            <div id=\"66d2ddb5-6fbd-4a9e-90dd-2af8abbd30b2\" class=\"plotly-graph-div\" style=\"height:525px; width:100%;\"></div>            <script type=\"text/javascript\">                require([\"plotly\"], function(Plotly) {                    window.PLOTLYENV=window.PLOTLYENV || {};                                    if (document.getElementById(\"66d2ddb5-6fbd-4a9e-90dd-2af8abbd30b2\")) {                    Plotly.newPlot(                        \"66d2ddb5-6fbd-4a9e-90dd-2af8abbd30b2\",                        [{\"fill\":\"toself\",\"name\":\"age\",\"r\":[0.4342105263157895,0.763157894736842,0.32894736842105265,0.5394736842105263,0.6052631578947368,0.5263157894736842,0.03947368421052633,0.868421052631579,0.368421052631579,0.4342105263157895,0.21052631578947367,0.026315789473684237,0.4078947368421053,0.17105263157894735,0.5,0.026315789473684237,0.368421052631579,0.05263157894736842,0.6973684210526315,0.06578947368421054,0.48684210526315785,0.881578947368421,0.5921052631578947,0.4342105263157895,0.381578947368421,0.8026315789473684,0.11842105263157898,0.19736842105263158,0.5657894736842105,0.6710526315789473,0.618421052631579,0.513157894736842,0.2368421052631579,0.4342105263157895,0.35526315789473684,0.25,0.026315789473684237,0.5394736842105263,0.4605263157894737,0.15789473684210525,0.2894736842105263,0.22368421052631582,0.513157894736842,0.3026315789473684,0.513157894736842,0.9078947368421053,0.4078947368421053,0.13157894736842107,0.4473684210526315,0.39473684210526316,0.0,0.0,0.5657894736842105,0.5526315789473684,0.4342105263157895,0.6578947368421052,0.513157894736842,0.8421052631578947,0.3421052631578947,0.19736842105263158,0.2894736842105263,0.026315789473684237,0.21052631578947367,0.618421052631579,0.5921052631578947,0.2763157894736842,0.4736842105263158,0.2894736842105263,0.026315789473684237,0.06578947368421054,0.368421052631579,0.22368421052631582,0.6842105263157895,0.618421052631579,0.6973684210526315,0.3157894736842105,0.2763157894736842,0.5263157894736842,0.013157894736842118,0.19736842105263158,0.368421052631579,0.5657894736842105,0.381578947368421,0.026315789473684237,0.7368421052631579,0.32894736842105265,0.631578947368421,0.5263157894736842,0.22368421052631582,0.4736842105263158,0.368421052631579,0.0,0.026315789473684237,0.35526315789473684,0.03947368421052633,0.4078947368421053,0.05263157894736842,0.4078947368421053,0.7894736842105263,0.2368421052631579,0.8421052631578947,0.5789473684210527,0.3026315789473684,0.618421052631579,0.2894736842105263,0.6710526315789473,0.5789473684210527,0.9736842105263157,0.5526315789473684,0.4342105263157895,0.11842105263157898,0.868421052631579,0.986842105263158,0.4736842105263158,0.2631578947368421,0.21052631578947367,0.39473684210526316,0.618421052631579,0.5921052631578947,0.3026315789473684,0.513157894736842,0.25,0.5526315789473684,0.4342105263157895,0.013157894736842118,0.6973684210526315,0.06578947368421054,0.48684210526315785,0.2631578947368421,0.03947368421052633,0.5921052631578947,0.35526315789473684,0.06578947368421054,0.5,0.868421052631579,0.19736842105263158,0.7368421052631579,0.32894736842105265,0.026315789473684237,0.35526315789473684,0.5789473684210527,0.5921052631578947,0.3421052631578947,0.13157894736842107,0.6052631578947368,0.026315789473684237,1.0,0.6973684210526315,0.618421052631579,0.2763157894736842,0.07894736842105265,0.6447368421052632,0.5394736842105263,0.5263157894736842,0.6578947368421052,0.8552631578947367,0.2763157894736842,0.6842105263157895,0.39473684210526316,0.3421052631578947,0.5921052631578947,0.5789473684210527,0.19736842105263158,0.3026315789473684,0.3026315789473684,0.39473684210526316,0.7763157894736842,0.17105263157894735,0.618421052631579,0.3421052631578947,0.48684210526315785,0.6052631578947368,0.6842105263157895,0.9342105263157894,0.2368421052631579,0.17105263157894735,0.5789473684210527,0.5921052631578947,0.6973684210526315,0.7894736842105263,0.19736842105263158,0.013157894736842118,0.4473684210526315,0.03947368421052633,0.5921052631578947,0.6710526315789473,0.8026315789473684,0.2631578947368421,0.4736842105263158,0.22368421052631582,0.39473684210526316,0.22368421052631582,0.07894736842105265,0.07894736842105265,0.39473684210526316,0.17105263157894735,0.013157894736842118,0.06578947368421054,0.14473684210526316,0.22368421052631582,0.7368421052631579,0.5526315789473684,0.0,0.05263157894736842,0.8026315789473684,0.6052631578947368,0.13157894736842107,0.48684210526315785,0.19736842105263158,0.8157894736842105,0.07894736842105265,0.07894736842105265,0.5789473684210527,0.5789473684210527,0.06578947368421054,0.35526315789473684,0.06578947368421054,0.4078947368421053,0.881578947368421,0.3026315789473684,0.6052631578947368,0.35526315789473684,0.14473684210526316,0.2368421052631579,0.03947368421052633,0.4473684210526315,0.6710526315789473,0.631578947368421,0.4078947368421053,0.11842105263157898,0.03947368421052633,0.09210526315789475,0.026315789473684237,0.07894736842105265,0.05263157894736842,0.026315789473684237,0.513157894736842,0.5526315789473684,0.42105263157894735,0.6052631578947368,0.1842105263157895,0.2894736842105263,0.7368421052631579,0.4605263157894737,0.368421052631579,0.5526315789473684,0.5526315789473684,0.32894736842105265,0.5789473684210527,0.7368421052631579,0.5657894736842105,0.5789473684210527,0.25,0.7368421052631579,0.32894736842105265,0.5526315789473684,0.5657894736842105,0.4078947368421053,0.6710526315789473,0.7894736842105263,0.48684210526315785,0.7236842105263157,0.25,0.5921052631578947,0.026315789473684237,0.0,0.6710526315789473,0.026315789473684237,0.2631578947368421,0.42105263157894735,0.35526315789473684,0.03947368421052633,0.06578947368421054,0.026315789473684237,0.3421052631578947,0.2368421052631579,0.6710526315789473,0.381578947368421,0.6578947368421052,0.11842105263157898,0.05263157894736842,0.7368421052631579,0.7368421052631579,0.368421052631579,0.25,0.013157894736842118,0.13157894736842107,0.1842105263157895,0.368421052631579,0.026315789473684237,0.0,0.42105263157894735,0.2894736842105263,0.381578947368421,0.5657894736842105,0.05263157894736842,0.9210526315789473,0.32894736842105265,0.06578947368421054,0.22368421052631582,0.2763157894736842,0.35526315789473684,0.48684210526315785,0.14473684210526316,0.4342105263157895,0.5657894736842105,0.2631578947368421,0.48684210526315785,0.3026315789473684,0.7236842105263157,0.5789473684210527,0.05263157894736842,0.9078947368421053,0.19736842105263158,0.1842105263157895,0.25,0.07894736842105265,0.3157894736842105,0.22368421052631582,0.381578947368421,0.5789473684210527,0.5526315789473684,0.3026315789473684,0.03947368421052633,0.5263157894736842,0.5526315789473684,0.03947368421052633,0.5657894736842105,0.013157894736842118,0.6710526315789473,0.35526315789473684,0.4342105263157895,0.9078947368421053,0.4342105263157895,0.368421052631579,0.5789473684210527,0.368421052631579,0.9473684210526316,0.48684210526315785,0.48684210526315785,0.19736842105263158,0.2894736842105263,0.986842105263158,0.026315789473684237,0.0,0.5394736842105263,0.2368421052631579,0.3157894736842105,0.3026315789473684,0.5263157894736842,0.05263157894736842,0.2763157894736842,0.3026315789473684,0.8421052631578947,0.03947368421052633,0.4605263157894737,0.10526315789473684,0.6578947368421052,0.7236842105263157,0.0,0.15789473684210525,0.868421052631579,0.4078947368421053,0.4342105263157895,0.3421052631578947,0.6973684210526315,0.05263157894736842,0.513157894736842,0.026315789473684237,0.13157894736842107,0.6710526315789473,0.881578947368421,0.026315789473684237,0.3026315789473684,0.3421052631578947,0.5394736842105263,0.17105263157894735,0.8421052631578947,0.026315789473684237,0.10526315789473684,0.4736842105263158,0.4605263157894737,0.21052631578947367,0.05263157894736842,0.03947368421052633,0.2368421052631579,0.21052631578947367,0.4342105263157895,0.5526315789473684,0.5,0.5789473684210527,0.8289473684210527,0.4473684210526315,0.22368421052631582,0.4342105263157895,0.026315789473684237,0.3157894736842105,0.0,0.5394736842105263,0.513157894736842,0.4605263157894737,0.513157894736842,0.5263157894736842,0.368421052631579,0.7763157894736842,0.894736842105263,0.3157894736842105,0.07894736842105265,0.03947368421052633,0.4605263157894737,0.6052631578947368,0.631578947368421,0.1842105263157895,0.5263157894736842,0.5657894736842105,0.21052631578947367,0.5526315789473684,0.381578947368421,0.8026315789473684,0.513157894736842,0.2763157894736842,0.7105263157894737,0.5394736842105263,0.2763157894736842,0.618421052631579,0.381578947368421,0.2763157894736842,0.3421052631578947,0.25,0.4736842105263158,0.2631578947368421,0.05263157894736842,0.618421052631579,0.4342105263157895,0.19736842105263158,0.06578947368421054,0.5,0.4078947368421053,0.0,0.026315789473684237,0.4605263157894737,0.22368421052631582,0.513157894736842,0.17105263157894735,0.15789473684210525,0.06578947368421054,0.7368421052631579,0.5526315789473684,0.5657894736842105,0.3421052631578947,0.9605263157894737,0.2894736842105263,0.6973684210526315,0.5263157894736842,0.11842105263157898,0.32894736842105265,0.03947368421052633,0.7763157894736842,0.8421052631578947,0.75,0.3157894736842105,0.7105263157894737,0.013157894736842118,0.25,0.06578947368421054,0.3026315789473684,0.2894736842105263,0.381578947368421,0.6973684210526315,0.013157894736842118,0.35526315789473684,0.3421052631578947,0.21052631578947367,0.15789473684210525,0.0,0.4736842105263158,0.05263157894736842,0.013157894736842118,0.06578947368421054,0.48684210526315785,0.05263157894736842,0.026315789473684237,0.7236842105263157,0.07894736842105265,0.39473684210526316,0.32894736842105265,0.2894736842105263,0.35526315789473684,0.5921052631578947,0.5921052631578947,0.5657894736842105,0.42105263157894735,0.8157894736842105,0.1842105263157895,0.2894736842105263,0.4342105263157895,0.7894736842105263,0.9342105263157894,0.4078947368421053,0.07894736842105265,0.32894736842105265,0.618421052631579,0.2631578947368421,0.026315789473684237,0.9078947368421053,0.03947368421052633,0.07894736842105265,0.6578947368421052,0.5263157894736842,0.06578947368421054,0.15789473684210525,0.14473684210526316,0.9078947368421053,0.3157894736842105,0.513157894736842,0.4078947368421053,0.4078947368421053,0.4736842105263158,0.42105263157894735,0.4078947368421053,0.381578947368421,0.07894736842105265,0.5394736842105263,0.2763157894736842,0.8157894736842105,0.48684210526315785,0.6842105263157895,0.7236842105263157,0.5789473684210527,0.06578947368421054,0.6447368421052632,0.39473684210526316,0.013157894736842118,0.25,0.631578947368421,0.2368421052631579,0.03947368421052633,0.5789473684210527,0.11842105263157898,0.2631578947368421,0.17105263157894735,0.22368421052631582,0.618421052631579,0.05263157894736842,0.6842105263157895,0.06578947368421054,0.4605263157894737,0.05263157894736842,0.06578947368421054,0.15789473684210525,0.05263157894736842,0.5,0.6973684210526315,0.05263157894736842,0.6842105263157895,0.21052631578947367,0.21052631578947367,0.026315789473684237,0.3026315789473684,0.4605263157894737,0.4736842105263158,0.7894736842105263,0.03947368421052633,0.631578947368421,0.35526315789473684,0.0,0.763157894736842,0.631578947368421,0.13157894736842107,0.25,0.3421052631578947,0.4473684210526315,0.10526315789473684,0.013157894736842118,0.013157894736842118,0.5526315789473684,0.9210526315789473,0.07894736842105265,0.25,0.07894736842105265,0.5394736842105263,0.75,0.5921052631578947,0.6842105263157895,0.8289473684210527,0.48684210526315785,0.5394736842105263,0.368421052631579,0.75,0.48684210526315785,0.368421052631579,0.4736842105263158,0.5263157894736842,0.07894736842105265,0.013157894736842118,0.5,0.8026315789473684,0.42105263157894735,0.03947368421052633,0.4342105263157895,0.2631578947368421,0.013157894736842118,0.2368421052631579,0.7105263157894737,0.5789473684210527,0.026315789473684237,0.35526315789473684,0.3421052631578947,0.368421052631579,0.026315789473684237,0.868421052631579,0.4605263157894737,0.7236842105263157,0.75,0.15789473684210525,0.14473684210526316,0.06578947368421054,0.026315789473684237,0.48684210526315785,0.0,0.03947368421052633,0.5,0.4342105263157895,0.4473684210526315,0.5263157894736842,0.75,0.3421052631578947,0.4342105263157895,0.48684210526315785,0.13157894736842107,0.48684210526315785,0.9210526315789473,0.026315789473684237,0.6842105263157895,0.6842105263157895,0.2631578947368421,0.7368421052631579,0.368421052631579,0.13157894736842107,0.5394736842105263,0.9210526315789473,0.0,0.10526315789473684,0.39473684210526316,0.5526315789473684,0.2368421052631579,0.513157894736842,0.25,0.6447368421052632,0.22368421052631582,0.368421052631579,0.5263157894736842,0.3026315789473684,0.39473684210526316,0.2368421052631579,0.2368421052631579,0.6973684210526315,0.881578947368421,0.3157894736842105,0.5526315789473684,0.06578947368421054,0.07894736842105265,0.6447368421052632,0.22368421052631582,0.35526315789473684,0.3026315789473684,0.21052631578947367,0.013157894736842118,0.5263157894736842,0.2631578947368421,0.17105263157894735,0.4473684210526315,0.2631578947368421,0.026315789473684237,0.6052631578947368,0.8421052631578947,0.1842105263157895,0.25,0.2631578947368421,0.381578947368421,0.21052631578947367,0.026315789473684237,0.32894736842105265,0.5394736842105263,0.03947368421052633,0.35526315789473684,0.6842105263157895,0.5,0.2368421052631579,0.05263157894736842,0.3421052631578947,0.39473684210526316,0.631578947368421,0.35526315789473684,0.9342105263157894,0.894736842105263,0.4473684210526315,0.5526315789473684,0.4736842105263158,0.6052631578947368,1.0,0.7368421052631579,0.5526315789473684,0.2763157894736842,0.5789473684210527,0.368421052631579,0.07894736842105265,0.5526315789473684,0.6973684210526315,0.05263157894736842,0.11842105263157898,0.22368421052631582,0.35526315789473684,0.2894736842105263,0.11842105263157898,0.2894736842105263,0.4342105263157895,0.2631578947368421,0.026315789473684237,0.4605263157894737,0.2631578947368421,0.0,0.05263157894736842,0.5526315789473684,0.32894736842105265,0.513157894736842,0.6578947368421052,0.6447368421052632,0.48684210526315785,0.22368421052631582,0.5,0.986842105263158,0.39473684210526316,0.6973684210526315,0.05263157894736842,0.6447368421052632,0.4605263157894737,0.35526315789473684,0.48684210526315785,0.6973684210526315,0.2763157894736842,0.026315789473684237,0.3026315789473684,0.5657894736842105,0.48684210526315785,0.3157894736842105,0.06578947368421054],\"theta\":[\"clusterzero\",\"clusterone\",\"clustertwo\"],\"type\":\"scatterpolar\"},{\"fill\":\"toself\",\"name\":\"income\",\"r\":[0.18139944643687092,0.04581810109810831,0.12866527466581573,0.33066725861387236,0.3090658101930534,0.10879804657422117,0.0,0.013381244060295372,0.2770729135595219,0.06674667203118821,0.1791727075341468,0.0,0.12224172256636862,0.061578695450099544,0.16198311563087467,0.0,0.07294824392849462,0.0,0.04407694388756703,0.145778560874602,0.18386203930436953,0.02190667119876246,0.46428546653995295,0.13522756439160083,0.13411766338089723,0.04504117039061579,0.021996850655882128,0.062265446700472404,0.21271252870134644,0.1508841055238386,0.1687465749148498,0.5278064887587838,0.3926066718924506,0.252016898242888,0.2774128207440499,0.16887143877855393,0.0,0.1502736599679516,0.09120611555456898,0.1573978370804054,0.06954223520189794,0.30048488800405115,0.17026575192325033,0.1251135914315642,0.07106141221029849,0.05557135622966627,0.16960674819814509,0.052519128450231344,0.1186137336376312,0.3266091830434873,0.0,0.0,0.41693431467081027,0.13750979834486013,0.1697871071123844,0.16903792393015948,0.23913510963740922,0.04370235229645456,0.3579985710024487,0.05088202445944352,0.20161351859431037,0.0,0.10575969255742003,0.11960570766594754,1.0,0.19343493552168817,0.19070874116414743,0.040150669062203014,0.0,0.0758409234376409,0.10907552182689706,0.1109415429011425,0.03076506864044063,0.08598958080426201,0.06332678954195772,0.05154796506586569,0.11762869649063173,0.05294921509187899,0.0,0.013748898770090943,0.5654182592590024,0.1746706715594803,0.24627316051249679,0.0,0.16029745347086857,0.12729177216507004,0.08938171576822491,0.2754219358061003,0.38195162218969597,0.3416968999077395,0.053767767087272905,0.0,0.0,0.17018944622876447,0.0,0.22135588282220078,0.0,0.15261832585306298,0.10204846105287985,0.3967479900386384,0.20024695297488154,0.10772976685141894,0.14466865986389837,0.21532079607649993,0.06111392440186741,0.16097726783992453,0.40041760025527723,0.02770590397968881,0.62603966508737,0.06486677719430899,0.0557586520252225,0.007207419688256554,0.05199192547014713,0.2364089152798685,0.10319998335148484,0.02029037785192533,0.5850218858605548,0.08279167851717224,0.5778075292909813,0.30452908981180243,0.47818003981769874,0.11391746498609155,0.168392793967688,0.21279577127714921,0.0,0.08895162912657727,0.04409081765020082,0.09580526786767204,0.03806960466713375,0.0,0.19179783153090033,0.08285411044902433,0.019208224366489314,0.12180469904340406,0.0846438258287839,0.12586277461378914,0.24138265918408403,0.09222583710815292,0.0,0.39337666571862623,0.5484090262699696,0.5211054614066608,0.08503229118253015,0.01834111420187712,0.20022614233093086,0.0,0.025097636604535335,0.03045984586249714,0.26367085885527586,0.3072205997627587,0.04028940668854097,0.34497804477063204,0.01947182585653142,0.6630618006756522,0.10956804040039679,0.03209001297196806,0.07041628224782702,0.031937401582996315,0.38623167796222174,0.28370457209847594,0.2725570038222216,0.601732832952961,0.02371719722247272,0.20368764610806273,0.2544101222972176,0.5118377879672856,0.07633344201114063,0.07890702497970963,0.06832134409012396,0.1372739443800856,0.14704801015559424,0.25578362479796335,0.06669117698065304,0.03483701797345949,0.20807175510034198,0.042349660439659535,0.21157488016537526,0.48164154359483063,0.08755037910056397,0.2096603009219115,0.13030931553792047,0.0,0.3084969859250678,0.0,0.3996476064291016,0.1556428061072303,0.10458735961486434,0.0687861151383561,0.08825100411357062,0.15786954500995443,0.2051860124725126,0.12217235375319964,0.1290051818503437,0.11699050340947717,0.1032970996899214,0.07235167213524143,0.0,0.05394812600151224,0.19294241694818842,0.2889211068487829,0.1310446249575116,0.25993187982546806,0.0,0.0,0.1970213031625242,0.18939767059525378,0.09375195099787037,0.2034934134311896,0.04120507502237144,0.04297397975818032,0.0953821181073413,0.09096332470847757,0.5835304563774218,0.2848907788036654,0.023585396477451667,0.13375694555241854,0.040039678961132655,0.34292472790083034,0.06344471652434498,0.13623341218255097,0.22710655743390887,0.24178499830046407,0.0866069632414659,0.0860381389734803,0.0,0.2258024237463321,0.02247549546674806,0.018833632775376846,0.3165229576087183,0.04262019881101854,0.0,0.023162246717120916,0.0,0.08397788522236173,0.0,0.0,0.4292889002962048,0.2154179124149365,0.16629785580998493,0.16539606123878828,0.0246328655563032,0.08829262540147201,0.03127146097657415,0.13013589350499802,0.25137176828041646,0.3442288615884071,0.8962173186178958,0.2754149989247834,0.1338818094161227,0.1890855109359934,0.17814604909924597,0.18450716926684102,0.08193844211519385,0.20857814743647551,0.11907156780454643,0.0880290239114299,0.24631478180039817,0.05813800231691836,0.12197812107632651,0.07574380709920434,0.0899921613241119,0.05527307033303967,0.19463501598951144,0.20284134658740124,0.0,0.0,0.13655944560444516,0.0,0.30047101424141737,0.1386474468808313,0.27922334676776017,0.0,0.03818753164952101,0.0,0.12797852341544289,0.18565175468412912,0.15732846826723643,0.14456460664414492,0.0735864370096492,0.18837101216035296,0.0,0.1061412210298494,0.06506100987118212,0.182883939038687,0.1242534181482689,0.0,0.1449045138286729,0.1251413389568318,0.41789160429254213,0.0,0.0,0.25152437966938823,0.3911291161719514,0.1412210298494003,0.5298112474593673,0.0,0.01746013027463113,0.12756924741774592,0.0568893636798768,0.08133493344062376,0.20994471305590431,0.08539300901100882,0.1548450647557871,0.02982858966265946,0.10804886339199622,0.1231296433749315,0.12613331298514813,0.13762772532724737,0.20698266473358906,0.18916181663047926,0.5391829741184958,0.0,0.05758305181156655,0.07504318208619769,0.1601379052005799,0.08635723551405759,0.082673751534785,0.2904888420264018,0.28212990003954025,0.06576163488418876,0.2722725916882288,0.24443488696351895,0.20396512136073863,0.0,0.2561304688638082,0.2289864522707881,0.0,0.5730696393515403,0.0,0.1868518351519524,0.2171035745749426,0.3362930693618763,0.021455773913164118,0.14390560291903964,0.22933329633663296,0.31537837219143017,0.11828770021573701,0.08347149288622821,0.1426361536380474,0.7018528409997433,0.0631186831024508,0.11500655535284447,0.10252710586374578,0.0,0.0,0.2385870960133743,0.08712722934023322,0.08739776771159222,0.25795486865015227,0.3104809339817005,0.0,0.28622266001650976,0.3252287436614247,0.04913393036758534,0.0,0.09262123934321607,0.15951358588205913,0.03784762446499303,0.06021906671198762,0.0,0.15804296704287688,0.06660793440485027,0.14348245315870892,0.17637714436343707,0.04590828055522798,0.09103963040296344,0.0,0.05948375729239649,0.0,0.18440311604708756,0.21278189751451543,0.0557586520252225,0.0,0.20200198394805663,0.40152056438466394,0.34428435663894225,0.09013783583176675,0.04408388076888393,0.0,0.12350423496604397,0.13997932809367564,0.3790797533245004,0.0410524636333997,0.0,0.0,0.08640579368327587,0.057277829033623065,0.20961174275269323,0.35172763029197335,0.15198013277190842,0.4130357873707139,0.07423156697212067,0.16739388305805475,0.10922813321586881,0.07650686404406307,0.0,0.21097137149080517,0.0,0.286611125370256,0.07681902370332346,0.137787273597536,0.25918963352456004,0.22683601906254985,0.3043348571349293,0.09112980986008311,0.0548984787419272,0.09009621454386536,0.016939864175863815,0.0,0.26870703469134344,0.31351235111718473,0.09362708713416622,0.06103761870738154,0.05365677698620254,0.23381452166734878,0.08626705605693792,0.22970095104642854,0.5333837413375695,0.04148948715636424,0.7700215737008955,0.21656943471354148,0.08374203125758721,0.8868664026027179,0.18041440928987146,0.05731251344020755,0.06973646787877107,0.16576371594858383,0.29503943617028655,0.5008012097921016,0.15015573298556434,0.12078497748982013,0.0,0.10682103539890536,0.08712722934023322,0.06431182668895717,0.12754843677379524,0.2537927398600137,0.0693618762876586,0.0,0.0,0.22243109942631992,0.14360731702241306,0.13241119057694042,0.06246661625866243,0.06586568810394224,0.04014373218088612,0.19487780683560285,0.4096020311188496,0.06755135026394833,0.04973050216083853,0.06216139348071894,0.39695609647814534,0.3033983781571481,0.3437432798962243,0.019229035010440005,0.39051867061606443,0.0,0.07799829352719605,0.09959280506669811,0.1319325457660745,0.20925102492421457,0.16710947092406195,0.0,0.15517109817768127,0.09185124551704045,0.5363735371851523,0.5403344964171009,0.21772789389346336,0.05301164702373107,0.0,0.19564780066177848,0.13627503347045236,0.08200087404704592,0.011036578175184001,0.0,0.15023203868005022,0.0,0.0,0.09809443870224824,0.6284259522603828,0.0,0.0,0.12608475481592984,0.023384226919261637,0.6837406438813238,0.2092371511615808,0.22012111794779304,0.19170071519246376,0.14833827008053718,0.45330438341530416,0.7095458423801827,0.2100210187503902,0.179158833771513,0.029023911429899345,0.364477618152431,0.44071394382513507,0.10789625200302448,0.04320289684163794,0.3903105641765575,0.050653107375985905,0.13208515715504623,0.04723322488675541,0.35301789021691626,0.0,0.07914981582580104,0.0,0.05788827458951005,0.15512254000846298,0.22703025173942298,0.030688762945954757,0.2184840139570052,0.27318826002205926,0.010856219260944664,0.12328919164522015,0.2351949610494114,0.20137766462953585,0.1435310113279272,0.40495432063652825,0.21496701512933816,0.1527848110046685,0.30232316155302896,0.09237844849712466,0.04792691301844517,0.18650499108610752,0.16567353649146416,0.645546175350486,0.25791324736225085,0.11869003933211707,0.18017161844378005,0.07099204339712951,0.25970296274201043,0.20488772657588603,0.0,0.20144703344270481,0.022912518989712603,0.1024508001692599,0.0,0.24360246120549123,0.09078296579423822,0.11264107882378241,0.05582802083839147,0.3065824066816041,0.08286798421165813,0.0,0.06277877591792282,0.12070867179533425,0.47197846792039233,0.0,0.08046782327601157,0.13623341218255097,0.0,0.2699626102097019,0.13630278099571994,0.0,0.04494405405217922,0.08537219836705814,0.09719264413105157,0.0,0.1811358449468288,0.30092884840833256,0.11215549713159957,0.0574512510665455,0.0,0.05226246384150614,0.3011161442038888,0.0,0.025846819786760268,0.0302864238295747,0.06241112120812725,0.1721387098788127,0.08055800273313124,0.3429386016634641,0.04253695623521577,0.0,0.0,0.4038444196258246,0.07659010661986584,0.02904472207385004,0.22303460810089,0.13045499004557531,0.2009961361571065,0.07967008192456836,0.2763098566146632,0.0563274762932081,0.09642958718619284,0.5969533217256185,0.1794501827868227,0.06456155441636549,0.13798150627440914,0.37968326199907043,0.051797692793274,0.20512358054066052,0.15761288040122923,0.16285022579548686,0.0,0.652920080190348,0.03332477784637582,0.04561693153991828,0.0,0.38907579930214975,0.2040622376991752,0.0,0.2151335002809437,0.1862413895960654,0.27576877987194515,0.0,0.048613664268818024,0.30571529651699186,0.14001401250026013,0.0,0.04008823713035094,0.14477271308365186,0.30307928161657083,0.01873651643694028,0.05342092302142803,0.13401361016114374,0.05428803318604022,0.0,0.09559716142816513,0.0,0.0,0.35364220953543707,0.18416032520099612,0.32403560007491833,0.30735240050777973,0.14516117843739812,0.19385808528201892,0.11026172853208654,0.40753484048641414,0.11597078185589323,0.10921425945323501,0.04056688194121687,0.0,0.18131620386106814,0.04962644894108507,0.08311771193906643,0.07110303349819988,0.2176723988429282,0.04647710482321358,0.9869378524802819,0.019825606803693194,0.0,0.10376880761947044,0.05283822499080863,0.284856094397081,0.3032110823615919,0.24134103789618264,0.2915640586305209,0.05015365192116928,0.20821049272667994,0.04432667161497534,0.4800668715358949,0.12747906796062627,0.3093294116830955,0.19782598139528432,0.12809645039783013,0.28299007332283554,0.04010211089298473,0.5839744167817033,0.25500669409047083,0.012583502708852154,0.051006888323147676,0.10704995248236297,0.1508494211172541,0.11290468031382452,0.2830108839667862,0.03370630631880519,0.0,0.1488654730606214,0.3032457667681764,0.01861858945455302,0.16856621600061045,0.30735240050777973,0.0,0.39985571286860855,0.04859285362486733,0.0905817962360482,0.2529464403393522,0.05552973494176488,0.06831440720880706,0.05729170279625686,0.0,0.058429351332228055,0.3278855692057965,0.0,0.11782986604882177,0.253910666842401,0.16158771339581152,0.31036994388063016,0.0,0.12946301601725896,0.45106377074994625,0.17233294255568582,0.5264399231393551,0.05610549609106738,0.11913399973639852,0.21948986174795534,0.02946093495286389,0.10029343007970476,0.3251316273229881,0.07491831822249354,0.08374203125758721,0.08784866499719056,0.14024986646503465,0.18895371019097235,0.2691718057395756,0.04237047108361023,0.3458937131044625,0.04106633739603349,0.0,0.16461913053129573,0.43170987187580206,0.36698183230783105,0.3876884230387702,0.01817462905027158,0.0843386030508404,0.5783000478644811,0.16903792393015948,0.0,0.1672828929569844,0.22601053018583905,0.0,0.0,0.3795375874914156,0.25398697253688685,0.32229444286437703,0.10501744625651199,0.017106349327469357,0.1132029662104511,0.17164619130531295,0.13124579451570162,0.01605194336730093,0.3040365712383027,0.06799531066822978,0.0,0.03073732111517304,0.20478367335613254,0.2539245406050348,0.09204547819391358,0.11004668521126272,0.01587852133437849,0.0,0.10263115908349923,0.18304348730897563,0.42523082472581974,0.10474690788515299,0.12399675353954369],\"theta\":[\"clusterzero\",\"clusterone\",\"clustertwo\"],\"type\":\"scatterpolar\"}],                        {\"template\":{\"data\":{\"histogram2dcontour\":[{\"type\":\"histogram2dcontour\",\"colorbar\":{\"outlinewidth\":0,\"ticks\":\"\"},\"colorscale\":[[0.0,\"#0d0887\"],[0.1111111111111111,\"#46039f\"],[0.2222222222222222,\"#7201a8\"],[0.3333333333333333,\"#9c179e\"],[0.4444444444444444,\"#bd3786\"],[0.5555555555555556,\"#d8576b\"],[0.6666666666666666,\"#ed7953\"],[0.7777777777777778,\"#fb9f3a\"],[0.8888888888888888,\"#fdca26\"],[1.0,\"#f0f921\"]]}],\"choropleth\":[{\"type\":\"choropleth\",\"colorbar\":{\"outlinewidth\":0,\"ticks\":\"\"}}],\"histogram2d\":[{\"type\":\"histogram2d\",\"colorbar\":{\"outlinewidth\":0,\"ticks\":\"\"},\"colorscale\":[[0.0,\"#0d0887\"],[0.1111111111111111,\"#46039f\"],[0.2222222222222222,\"#7201a8\"],[0.3333333333333333,\"#9c179e\"],[0.4444444444444444,\"#bd3786\"],[0.5555555555555556,\"#d8576b\"],[0.6666666666666666,\"#ed7953\"],[0.7777777777777778,\"#fb9f3a\"],[0.8888888888888888,\"#fdca26\"],[1.0,\"#f0f921\"]]}],\"heatmap\":[{\"type\":\"heatmap\",\"colorbar\":{\"outlinewidth\":0,\"ticks\":\"\"},\"colorscale\":[[0.0,\"#0d0887\"],[0.1111111111111111,\"#46039f\"],[0.2222222222222222,\"#7201a8\"],[0.3333333333333333,\"#9c179e\"],[0.4444444444444444,\"#bd3786\"],[0.5555555555555556,\"#d8576b\"],[0.6666666666666666,\"#ed7953\"],[0.7777777777777778,\"#fb9f3a\"],[0.8888888888888888,\"#fdca26\"],[1.0,\"#f0f921\"]]}],\"heatmapgl\":[{\"type\":\"heatmapgl\",\"colorbar\":{\"outlinewidth\":0,\"ticks\":\"\"},\"colorscale\":[[0.0,\"#0d0887\"],[0.1111111111111111,\"#46039f\"],[0.2222222222222222,\"#7201a8\"],[0.3333333333333333,\"#9c179e\"],[0.4444444444444444,\"#bd3786\"],[0.5555555555555556,\"#d8576b\"],[0.6666666666666666,\"#ed7953\"],[0.7777777777777778,\"#fb9f3a\"],[0.8888888888888888,\"#fdca26\"],[1.0,\"#f0f921\"]]}],\"contourcarpet\":[{\"type\":\"contourcarpet\",\"colorbar\":{\"outlinewidth\":0,\"ticks\":\"\"}}],\"contour\":[{\"type\":\"contour\",\"colorbar\":{\"outlinewidth\":0,\"ticks\":\"\"},\"colorscale\":[[0.0,\"#0d0887\"],[0.1111111111111111,\"#46039f\"],[0.2222222222222222,\"#7201a8\"],[0.3333333333333333,\"#9c179e\"],[0.4444444444444444,\"#bd3786\"],[0.5555555555555556,\"#d8576b\"],[0.6666666666666666,\"#ed7953\"],[0.7777777777777778,\"#fb9f3a\"],[0.8888888888888888,\"#fdca26\"],[1.0,\"#f0f921\"]]}],\"surface\":[{\"type\":\"surface\",\"colorbar\":{\"outlinewidth\":0,\"ticks\":\"\"},\"colorscale\":[[0.0,\"#0d0887\"],[0.1111111111111111,\"#46039f\"],[0.2222222222222222,\"#7201a8\"],[0.3333333333333333,\"#9c179e\"],[0.4444444444444444,\"#bd3786\"],[0.5555555555555556,\"#d8576b\"],[0.6666666666666666,\"#ed7953\"],[0.7777777777777778,\"#fb9f3a\"],[0.8888888888888888,\"#fdca26\"],[1.0,\"#f0f921\"]]}],\"mesh3d\":[{\"type\":\"mesh3d\",\"colorbar\":{\"outlinewidth\":0,\"ticks\":\"\"}}],\"scatter\":[{\"fillpattern\":{\"fillmode\":\"overlay\",\"size\":10,\"solidity\":0.2},\"type\":\"scatter\"}],\"parcoords\":[{\"type\":\"parcoords\",\"line\":{\"colorbar\":{\"outlinewidth\":0,\"ticks\":\"\"}}}],\"scatterpolargl\":[{\"type\":\"scatterpolargl\",\"marker\":{\"colorbar\":{\"outlinewidth\":0,\"ticks\":\"\"}}}],\"bar\":[{\"error_x\":{\"color\":\"#2a3f5f\"},\"error_y\":{\"color\":\"#2a3f5f\"},\"marker\":{\"line\":{\"color\":\"#E5ECF6\",\"width\":0.5},\"pattern\":{\"fillmode\":\"overlay\",\"size\":10,\"solidity\":0.2}},\"type\":\"bar\"}],\"scattergeo\":[{\"type\":\"scattergeo\",\"marker\":{\"colorbar\":{\"outlinewidth\":0,\"ticks\":\"\"}}}],\"scatterpolar\":[{\"type\":\"scatterpolar\",\"marker\":{\"colorbar\":{\"outlinewidth\":0,\"ticks\":\"\"}}}],\"histogram\":[{\"marker\":{\"pattern\":{\"fillmode\":\"overlay\",\"size\":10,\"solidity\":0.2}},\"type\":\"histogram\"}],\"scattergl\":[{\"type\":\"scattergl\",\"marker\":{\"colorbar\":{\"outlinewidth\":0,\"ticks\":\"\"}}}],\"scatter3d\":[{\"type\":\"scatter3d\",\"line\":{\"colorbar\":{\"outlinewidth\":0,\"ticks\":\"\"}},\"marker\":{\"colorbar\":{\"outlinewidth\":0,\"ticks\":\"\"}}}],\"scattermapbox\":[{\"type\":\"scattermapbox\",\"marker\":{\"colorbar\":{\"outlinewidth\":0,\"ticks\":\"\"}}}],\"scatterternary\":[{\"type\":\"scatterternary\",\"marker\":{\"colorbar\":{\"outlinewidth\":0,\"ticks\":\"\"}}}],\"scattercarpet\":[{\"type\":\"scattercarpet\",\"marker\":{\"colorbar\":{\"outlinewidth\":0,\"ticks\":\"\"}}}],\"carpet\":[{\"aaxis\":{\"endlinecolor\":\"#2a3f5f\",\"gridcolor\":\"white\",\"linecolor\":\"white\",\"minorgridcolor\":\"white\",\"startlinecolor\":\"#2a3f5f\"},\"baxis\":{\"endlinecolor\":\"#2a3f5f\",\"gridcolor\":\"white\",\"linecolor\":\"white\",\"minorgridcolor\":\"white\",\"startlinecolor\":\"#2a3f5f\"},\"type\":\"carpet\"}],\"table\":[{\"cells\":{\"fill\":{\"color\":\"#EBF0F8\"},\"line\":{\"color\":\"white\"}},\"header\":{\"fill\":{\"color\":\"#C8D4E3\"},\"line\":{\"color\":\"white\"}},\"type\":\"table\"}],\"barpolar\":[{\"marker\":{\"line\":{\"color\":\"#E5ECF6\",\"width\":0.5},\"pattern\":{\"fillmode\":\"overlay\",\"size\":10,\"solidity\":0.2}},\"type\":\"barpolar\"}],\"pie\":[{\"automargin\":true,\"type\":\"pie\"}]},\"layout\":{\"autotypenumbers\":\"strict\",\"colorway\":[\"#636efa\",\"#EF553B\",\"#00cc96\",\"#ab63fa\",\"#FFA15A\",\"#19d3f3\",\"#FF6692\",\"#B6E880\",\"#FF97FF\",\"#FECB52\"],\"font\":{\"color\":\"#2a3f5f\"},\"hovermode\":\"closest\",\"hoverlabel\":{\"align\":\"left\"},\"paper_bgcolor\":\"white\",\"plot_bgcolor\":\"#E5ECF6\",\"polar\":{\"bgcolor\":\"#E5ECF6\",\"angularaxis\":{\"gridcolor\":\"white\",\"linecolor\":\"white\",\"ticks\":\"\"},\"radialaxis\":{\"gridcolor\":\"white\",\"linecolor\":\"white\",\"ticks\":\"\"}},\"ternary\":{\"bgcolor\":\"#E5ECF6\",\"aaxis\":{\"gridcolor\":\"white\",\"linecolor\":\"white\",\"ticks\":\"\"},\"baxis\":{\"gridcolor\":\"white\",\"linecolor\":\"white\",\"ticks\":\"\"},\"caxis\":{\"gridcolor\":\"white\",\"linecolor\":\"white\",\"ticks\":\"\"}},\"coloraxis\":{\"colorbar\":{\"outlinewidth\":0,\"ticks\":\"\"}},\"colorscale\":{\"sequential\":[[0.0,\"#0d0887\"],[0.1111111111111111,\"#46039f\"],[0.2222222222222222,\"#7201a8\"],[0.3333333333333333,\"#9c179e\"],[0.4444444444444444,\"#bd3786\"],[0.5555555555555556,\"#d8576b\"],[0.6666666666666666,\"#ed7953\"],[0.7777777777777778,\"#fb9f3a\"],[0.8888888888888888,\"#fdca26\"],[1.0,\"#f0f921\"]],\"sequentialminus\":[[0.0,\"#0d0887\"],[0.1111111111111111,\"#46039f\"],[0.2222222222222222,\"#7201a8\"],[0.3333333333333333,\"#9c179e\"],[0.4444444444444444,\"#bd3786\"],[0.5555555555555556,\"#d8576b\"],[0.6666666666666666,\"#ed7953\"],[0.7777777777777778,\"#fb9f3a\"],[0.8888888888888888,\"#fdca26\"],[1.0,\"#f0f921\"]],\"diverging\":[[0,\"#8e0152\"],[0.1,\"#c51b7d\"],[0.2,\"#de77ae\"],[0.3,\"#f1b6da\"],[0.4,\"#fde0ef\"],[0.5,\"#f7f7f7\"],[0.6,\"#e6f5d0\"],[0.7,\"#b8e186\"],[0.8,\"#7fbc41\"],[0.9,\"#4d9221\"],[1,\"#276419\"]]},\"xaxis\":{\"gridcolor\":\"white\",\"linecolor\":\"white\",\"ticks\":\"\",\"title\":{\"standoff\":15},\"zerolinecolor\":\"white\",\"automargin\":true,\"zerolinewidth\":2},\"yaxis\":{\"gridcolor\":\"white\",\"linecolor\":\"white\",\"ticks\":\"\",\"title\":{\"standoff\":15},\"zerolinecolor\":\"white\",\"automargin\":true,\"zerolinewidth\":2},\"scene\":{\"xaxis\":{\"backgroundcolor\":\"#E5ECF6\",\"gridcolor\":\"white\",\"linecolor\":\"white\",\"showbackground\":true,\"ticks\":\"\",\"zerolinecolor\":\"white\",\"gridwidth\":2},\"yaxis\":{\"backgroundcolor\":\"#E5ECF6\",\"gridcolor\":\"white\",\"linecolor\":\"white\",\"showbackground\":true,\"ticks\":\"\",\"zerolinecolor\":\"white\",\"gridwidth\":2},\"zaxis\":{\"backgroundcolor\":\"#E5ECF6\",\"gridcolor\":\"white\",\"linecolor\":\"white\",\"showbackground\":true,\"ticks\":\"\",\"zerolinecolor\":\"white\",\"gridwidth\":2}},\"shapedefaults\":{\"line\":{\"color\":\"#2a3f5f\"}},\"annotationdefaults\":{\"arrowcolor\":\"#2a3f5f\",\"arrowhead\":0,\"arrowwidth\":1},\"geo\":{\"bgcolor\":\"white\",\"landcolor\":\"#E5ECF6\",\"subunitcolor\":\"white\",\"showland\":true,\"showlakes\":true,\"lakecolor\":\"white\"},\"title\":{\"x\":0.05},\"mapbox\":{\"style\":\"light\"}}},\"polar\":{\"radialaxis\":{\"visible\":true,\"range\":[0,1]}},\"showlegend\":false},                        {\"responsive\": true}                    ).then(function(){\n",
       "                            \n",
       "var gd = document.getElementById('66d2ddb5-6fbd-4a9e-90dd-2af8abbd30b2');\n",
       "var x = new MutationObserver(function (mutations, observer) {{\n",
       "        var display = window.getComputedStyle(gd).display;\n",
       "        if (!display || display === 'none') {{\n",
       "            console.log([gd, 'removed!']);\n",
       "            Plotly.purge(gd);\n",
       "            observer.disconnect();\n",
       "        }}\n",
       "}});\n",
       "\n",
       "// Listen for the removal of the full notebook cells\n",
       "var notebookContainer = gd.closest('#notebook-container');\n",
       "if (notebookContainer) {{\n",
       "    x.observe(notebookContainer, {childList: true});\n",
       "}}\n",
       "\n",
       "// Listen for the clearing of the current output cell\n",
       "var outputEl = gd.closest('.output');\n",
       "if (outputEl) {{\n",
       "    x.observe(outputEl, {childList: true});\n",
       "}}\n",
       "\n",
       "                        })                };                });            </script>        </div>"
      ]
     },
     "metadata": {},
     "output_type": "display_data"
    }
   ],
   "source": [
    "import plotly.graph_objects as go\n",
    "\n",
    "categories = ['clusterzero', 'clusterone', 'clustertwo']\n",
    "\n",
    "fig = go.Figure()\n",
    "\n",
    "fig.add_trace(go.Scatterpolar(\n",
    "      r=final_data2_radar.age.values,\n",
    "      theta=categories,\n",
    "      fill='toself',\n",
    "      name='age'\n",
    "))\n",
    "fig.add_trace(go.Scatterpolar(\n",
    "      r=final_data2_radar.income.values,\n",
    "      theta=categories,\n",
    "      fill='toself',\n",
    "      name='income'\n",
    "))\n",
    "\n",
    "fig.update_layout(\n",
    "  polar=dict(\n",
    "    radialaxis=dict(\n",
    "      visible=True,\n",
    "      range=[0, 1]\n",
    "    )),\n",
    "  showlegend=False\n",
    ")\n",
    "\n",
    "fig.show()\n"
   ]
  },
  {
   "cell_type": "code",
   "execution_count": 75,
   "metadata": {},
   "outputs": [
    {
     "data": {
      "text/plain": [
       "cluster\n",
       "0    0.390298\n",
       "1    0.499402\n",
       "2    0.230039\n",
       "Name: age, dtype: float64"
      ]
     },
     "execution_count": 75,
     "metadata": {},
     "output_type": "execute_result"
    }
   ],
   "source": [
    "final_data2_radar.groupby('cluster')['age'].mean()"
   ]
  },
  {
   "cell_type": "code",
   "execution_count": null,
   "metadata": {},
   "outputs": [],
   "source": [
    "#Gustavo Cárdenas\n",
    "#df_customers['marital_status'] = df_customers['marital_status'].astype('category')"
   ]
  }
 ],
 "metadata": {
  "kernelspec": {
   "display_name": "Python 3",
   "language": "python",
   "name": "python3"
  },
  "language_info": {
   "codemirror_mode": {
    "name": "ipython",
    "version": 3
   },
   "file_extension": ".py",
   "mimetype": "text/x-python",
   "name": "python",
   "nbconvert_exporter": "python",
   "pygments_lexer": "ipython3",
   "version": "3.8.8"
  }
 },
 "nbformat": 4,
 "nbformat_minor": 4
}
